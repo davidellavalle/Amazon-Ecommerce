{
 "metadata": {
  "language_info": {
   "codemirror_mode": {
    "name": "ipython",
    "version": 3
   },
   "file_extension": ".py",
   "mimetype": "text/x-python",
   "name": "python",
   "nbconvert_exporter": "python",
   "pygments_lexer": "ipython3",
   "version": "3.8.5-final"
  },
  "orig_nbformat": 2,
  "kernelspec": {
   "name": "python3",
   "display_name": "Python 3",
   "language": "python"
  }
 },
 "nbformat": 4,
 "nbformat_minor": 2,
 "cells": [
  {
   "cell_type": "code",
   "execution_count": 20,
   "metadata": {},
   "outputs": [],
   "source": [
    "# Import necessary libraries\n",
    "\n",
    "import numpy as np\n",
    "import pandas as pd\n",
    "import matplotlib.pyplot as plt\n"
   ]
  },
  {
   "cell_type": "code",
   "execution_count": 21,
   "metadata": {},
   "outputs": [],
   "source": [
    "# upload data\n",
    "\n",
    "processor= pd.read_json(r\"Scrape-Processors\\product_output_processor.json\")"
   ]
  },
  {
   "cell_type": "code",
   "execution_count": 22,
   "metadata": {},
   "outputs": [
    {
     "output_type": "execute_result",
     "data": {
      "text/plain": [
       "                                                name  \\\n",
       "0  AMD Ryzen 5 3600 6-Core, 12-Thread Unlocked De...   \n",
       "1  AMD Ryzen 5 2600 Processor with Wraith Stealth...   \n",
       "2  Intel Core i9-9900K Desktop Processor 8 Cores ...   \n",
       "3  Intel Core i7-9700K Desktop Processor 8 Cores ...   \n",
       "4  Industrial Rugged Fanless Silent Mini PC Compu...   \n",
       "\n",
       "                                   product_tech_spec  \\\n",
       "0  [{'info': 'Brand', 'value': 'AMD'}, {'info': '...   \n",
       "1    [{'info': 'Wireless Type', 'value': '802.11a'}]   \n",
       "2  [{'info': 'Brand', 'value': 'Intel'}, {'info':...   \n",
       "3  [{'info': 'Memory Speed', 'value': '3600 MHz'}...   \n",
       "4  [{'info': 'Max Screen Resolution', 'value': '3...   \n",
       "\n",
       "                                     other_tech_spec  \\\n",
       "0                                               None   \n",
       "1  [{'info': 'Brand', 'value': 'AMD'}, {'info': '...   \n",
       "2                                               None   \n",
       "3  [{'info': 'Brand', 'value': 'Intel'}, {'info':...   \n",
       "4  [{'info': 'Series', 'value': 'LITESHIELD 2.0'}...   \n",
       "\n",
       "                                   product_addl_info                 seller  \\\n",
       "0  [{'info': 'Customer Reviews', 'value': '/*\n",
       "* F...                   None   \n",
       "1  [{'info': 'Customer Reviews', 'value': '/*\n",
       "* F...                   None   \n",
       "2  [{'info': 'Customer Reviews', 'value': '/*\n",
       "* F...              DealsPro1   \n",
       "3  [{'info': 'Customer Reviews', 'value': '/*\n",
       "* F...                   None   \n",
       "4  [{'info': 'ASIN', 'value': 'B08BKRZB4Z'}, {'in...  Critical Products LLC   \n",
       "\n",
       "                                         seller_link  \\\n",
       "0                                               None   \n",
       "1                                               None   \n",
       "2  https://www.amazon.com/gp/help/seller/at-a-gla...   \n",
       "3                                               None   \n",
       "4  https://www.amazon.com/gp/help/seller/at-a-gla...   \n",
       "\n",
       "                                         freq_bought  \\\n",
       "0  Corsair Vengeance LPX 16GB (2x8GB) DDR4 DRAM 3...   \n",
       "1                                               None   \n",
       "2  ARCTIC MX-4 - Thermal Compound Paste For Coole...   \n",
       "3  Asus Prime Z390-A Motherboard LGA1151 (Intel 8...   \n",
       "4                                               None   \n",
       "\n",
       "                                    freq_bought_link  \\\n",
       "0  /Corsair-Vengeance-3200MHz-Desktop-Memory/dp/B...   \n",
       "1                                               None   \n",
       "2  https://www.amazon.com/ARCTIC-MX-4-Compound-Mi...   \n",
       "3  /Prime-Z390-Motherboard-LGA1151-Gigabit/dp/B07...   \n",
       "4                                               None   \n",
       "\n",
       "                                 link_to_all_reviews  \n",
       "0  /AMD-Ryzen-3600-12-Thread-Processor/product-re...  \n",
       "1  /AMD-Processor-Wraith-Stealth-Cooler/product-r...  \n",
       "2  /Intel-i9-9900K-Processor-Unlocked-BX806849900...  \n",
       "3  /Intel-i7-9700K-Desktop-Processor-Unlocked/pro...  \n",
       "4  /Industrial-Fanless-Computer-Threads-i5-8500T/...  "
      ],
      "text/html": "<div>\n<style scoped>\n    .dataframe tbody tr th:only-of-type {\n        vertical-align: middle;\n    }\n\n    .dataframe tbody tr th {\n        vertical-align: top;\n    }\n\n    .dataframe thead th {\n        text-align: right;\n    }\n</style>\n<table border=\"1\" class=\"dataframe\">\n  <thead>\n    <tr style=\"text-align: right;\">\n      <th></th>\n      <th>name</th>\n      <th>product_tech_spec</th>\n      <th>other_tech_spec</th>\n      <th>product_addl_info</th>\n      <th>seller</th>\n      <th>seller_link</th>\n      <th>freq_bought</th>\n      <th>freq_bought_link</th>\n      <th>link_to_all_reviews</th>\n    </tr>\n  </thead>\n  <tbody>\n    <tr>\n      <th>0</th>\n      <td>AMD Ryzen 5 3600 6-Core, 12-Thread Unlocked De...</td>\n      <td>[{'info': 'Brand', 'value': 'AMD'}, {'info': '...</td>\n      <td>None</td>\n      <td>[{'info': 'Customer Reviews', 'value': '/*\n* F...</td>\n      <td>None</td>\n      <td>None</td>\n      <td>Corsair Vengeance LPX 16GB (2x8GB) DDR4 DRAM 3...</td>\n      <td>/Corsair-Vengeance-3200MHz-Desktop-Memory/dp/B...</td>\n      <td>/AMD-Ryzen-3600-12-Thread-Processor/product-re...</td>\n    </tr>\n    <tr>\n      <th>1</th>\n      <td>AMD Ryzen 5 2600 Processor with Wraith Stealth...</td>\n      <td>[{'info': 'Wireless Type', 'value': '802.11a'}]</td>\n      <td>[{'info': 'Brand', 'value': 'AMD'}, {'info': '...</td>\n      <td>[{'info': 'Customer Reviews', 'value': '/*\n* F...</td>\n      <td>None</td>\n      <td>None</td>\n      <td>None</td>\n      <td>None</td>\n      <td>/AMD-Processor-Wraith-Stealth-Cooler/product-r...</td>\n    </tr>\n    <tr>\n      <th>2</th>\n      <td>Intel Core i9-9900K Desktop Processor 8 Cores ...</td>\n      <td>[{'info': 'Brand', 'value': 'Intel'}, {'info':...</td>\n      <td>None</td>\n      <td>[{'info': 'Customer Reviews', 'value': '/*\n* F...</td>\n      <td>DealsPro1</td>\n      <td>https://www.amazon.com/gp/help/seller/at-a-gla...</td>\n      <td>ARCTIC MX-4 - Thermal Compound Paste For Coole...</td>\n      <td>https://www.amazon.com/ARCTIC-MX-4-Compound-Mi...</td>\n      <td>/Intel-i9-9900K-Processor-Unlocked-BX806849900...</td>\n    </tr>\n    <tr>\n      <th>3</th>\n      <td>Intel Core i7-9700K Desktop Processor 8 Cores ...</td>\n      <td>[{'info': 'Memory Speed', 'value': '3600 MHz'}...</td>\n      <td>[{'info': 'Brand', 'value': 'Intel'}, {'info':...</td>\n      <td>[{'info': 'Customer Reviews', 'value': '/*\n* F...</td>\n      <td>None</td>\n      <td>None</td>\n      <td>Asus Prime Z390-A Motherboard LGA1151 (Intel 8...</td>\n      <td>/Prime-Z390-Motherboard-LGA1151-Gigabit/dp/B07...</td>\n      <td>/Intel-i7-9700K-Desktop-Processor-Unlocked/pro...</td>\n    </tr>\n    <tr>\n      <th>4</th>\n      <td>Industrial Rugged Fanless Silent Mini PC Compu...</td>\n      <td>[{'info': 'Max Screen Resolution', 'value': '3...</td>\n      <td>[{'info': 'Series', 'value': 'LITESHIELD 2.0'}...</td>\n      <td>[{'info': 'ASIN', 'value': 'B08BKRZB4Z'}, {'in...</td>\n      <td>Critical Products LLC</td>\n      <td>https://www.amazon.com/gp/help/seller/at-a-gla...</td>\n      <td>None</td>\n      <td>None</td>\n      <td>/Industrial-Fanless-Computer-Threads-i5-8500T/...</td>\n    </tr>\n  </tbody>\n</table>\n</div>"
     },
     "metadata": {},
     "execution_count": 22
    }
   ],
   "source": [
    "# First check on data structure - data is nested\n",
    "\n",
    "processor.head()"
   ]
  },
  {
   "cell_type": "code",
   "execution_count": 23,
   "metadata": {},
   "outputs": [
    {
     "output_type": "execute_result",
     "data": {
      "text/plain": [
       "'Brand'"
      ]
     },
     "metadata": {},
     "execution_count": 23
    }
   ],
   "source": [
    "processor.product_tech_spec[0][0][\"info\"]"
   ]
  },
  {
   "cell_type": "code",
   "execution_count": 24,
   "metadata": {},
   "outputs": [
    {
     "output_type": "execute_result",
     "data": {
      "text/plain": [
       "(5894, 9)"
      ]
     },
     "metadata": {},
     "execution_count": 24
    }
   ],
   "source": [
    "processor.shape"
   ]
  },
  {
   "cell_type": "code",
   "execution_count": 25,
   "metadata": {},
   "outputs": [
    {
     "output_type": "execute_result",
     "data": {
      "text/plain": [
       "name                      5\n",
       "product_tech_spec      2402\n",
       "other_tech_spec        3327\n",
       "product_addl_info       121\n",
       "seller                 1643\n",
       "seller_link            1643\n",
       "freq_bought            4064\n",
       "freq_bought_link       4064\n",
       "link_to_all_reviews    1048\n",
       "dtype: int64"
      ]
     },
     "metadata": {},
     "execution_count": 25
    }
   ],
   "source": [
    "processor.isnull().sum()"
   ]
  },
  {
   "cell_type": "code",
   "execution_count": 26,
   "metadata": {},
   "outputs": [],
   "source": [
    "# drop of values with no name\n",
    "\n",
    "processor.dropna(subset=[\"name\"],inplace=True)"
   ]
  },
  {
   "cell_type": "code",
   "execution_count": 35,
   "metadata": {},
   "outputs": [
    {
     "output_type": "execute_result",
     "data": {
      "text/plain": [
       "                                        Product_Name  Value\n",
       "0  GIM MB8 ATX Case, Mid-Tower PC Gaming Chassis,...    389\n",
       "1  Noctua NF-P12 redux-1700 PWM, High Performance...    227\n",
       "2  Omnihil 8 Feet AC Power Cord Compatible with A...    214\n",
       "3  Industrial Rugged Fanless Silent Mini PC Compu...    115\n",
       "4  Cooler Master MasterLiquid ML120L RGB V2, Clos...     83\n",
       "5  Industrial Rugged Fanless Silent Mini PC Compu...     76\n",
       "6  MSI GeForce GT 730 Kepler GDDR5 2GB OC Low Pro...      5\n",
       "7  Unlocked Smartphone DOOGEE N30 (2021) Mobile P...      4\n",
       "8  Rugged Phones Unlocked Ulefone Armor X8, Water...      4\n",
       "9  Esp-01 WiFi Module New Version ESP8266 NodeMCU...      4"
      ],
      "text/html": "<div>\n<style scoped>\n    .dataframe tbody tr th:only-of-type {\n        vertical-align: middle;\n    }\n\n    .dataframe tbody tr th {\n        vertical-align: top;\n    }\n\n    .dataframe thead th {\n        text-align: right;\n    }\n</style>\n<table border=\"1\" class=\"dataframe\">\n  <thead>\n    <tr style=\"text-align: right;\">\n      <th></th>\n      <th>Product_Name</th>\n      <th>Value</th>\n    </tr>\n  </thead>\n  <tbody>\n    <tr>\n      <th>0</th>\n      <td>GIM MB8 ATX Case, Mid-Tower PC Gaming Chassis,...</td>\n      <td>389</td>\n    </tr>\n    <tr>\n      <th>1</th>\n      <td>Noctua NF-P12 redux-1700 PWM, High Performance...</td>\n      <td>227</td>\n    </tr>\n    <tr>\n      <th>2</th>\n      <td>Omnihil 8 Feet AC Power Cord Compatible with A...</td>\n      <td>214</td>\n    </tr>\n    <tr>\n      <th>3</th>\n      <td>Industrial Rugged Fanless Silent Mini PC Compu...</td>\n      <td>115</td>\n    </tr>\n    <tr>\n      <th>4</th>\n      <td>Cooler Master MasterLiquid ML120L RGB V2, Clos...</td>\n      <td>83</td>\n    </tr>\n    <tr>\n      <th>5</th>\n      <td>Industrial Rugged Fanless Silent Mini PC Compu...</td>\n      <td>76</td>\n    </tr>\n    <tr>\n      <th>6</th>\n      <td>MSI GeForce GT 730 Kepler GDDR5 2GB OC Low Pro...</td>\n      <td>5</td>\n    </tr>\n    <tr>\n      <th>7</th>\n      <td>Unlocked Smartphone DOOGEE N30 (2021) Mobile P...</td>\n      <td>4</td>\n    </tr>\n    <tr>\n      <th>8</th>\n      <td>Rugged Phones Unlocked Ulefone Armor X8, Water...</td>\n      <td>4</td>\n    </tr>\n    <tr>\n      <th>9</th>\n      <td>Esp-01 WiFi Module New Version ESP8266 NodeMCU...</td>\n      <td>4</td>\n    </tr>\n  </tbody>\n</table>\n</div>"
     },
     "metadata": {},
     "execution_count": 35
    }
   ],
   "source": [
    "# some values are repeated over and over (sponsored items on amazon.com) - preparing a small df for visualization of this values\n",
    "\n",
    "repeat = processor.name\n",
    "repeat = repeat.value_counts().to_frame()\n",
    "repeat.reset_index(inplace=True)\n",
    "repeat.columns=[\"Product_Name\",\"Value\"]\n",
    "top_repeated= repeat.head(10)\n",
    "top_repeated"
   ]
  },
  {
   "cell_type": "code",
   "execution_count": 36,
   "metadata": {},
   "outputs": [
    {
     "output_type": "execute_result",
     "data": {
      "text/plain": [
       "Product_Name    object\n",
       "Value            int64\n",
       "dtype: object"
      ]
     },
     "metadata": {},
     "execution_count": 36
    }
   ],
   "source": [
    "top_repeated.dtypes"
   ]
  },
  {
   "cell_type": "code",
   "execution_count": 37,
   "metadata": {},
   "outputs": [
    {
     "output_type": "execute_result",
     "data": {
      "text/plain": [
       "<AxesSubplot:>"
      ]
     },
     "metadata": {},
     "execution_count": 37
    },
    {
     "output_type": "display_data",
     "data": {
      "text/plain": "<Figure size 432x288 with 1 Axes>",
      "image/svg+xml": "<?xml version=\"1.0\" encoding=\"utf-8\" standalone=\"no\"?>\r\n<!DOCTYPE svg PUBLIC \"-//W3C//DTD SVG 1.1//EN\"\r\n  \"http://www.w3.org/Graphics/SVG/1.1/DTD/svg11.dtd\">\r\n<!-- Created with matplotlib (https://matplotlib.org/) -->\r\n<svg height=\"248.518125pt\" version=\"1.1\" viewBox=\"0 0 365.179919 248.518125\" width=\"365.179919pt\" xmlns=\"http://www.w3.org/2000/svg\" xmlns:xlink=\"http://www.w3.org/1999/xlink\">\r\n <metadata>\r\n  <rdf:RDF xmlns:cc=\"http://creativecommons.org/ns#\" xmlns:dc=\"http://purl.org/dc/elements/1.1/\" xmlns:rdf=\"http://www.w3.org/1999/02/22-rdf-syntax-ns#\">\r\n   <cc:Work>\r\n    <dc:type rdf:resource=\"http://purl.org/dc/dcmitype/StillImage\"/>\r\n    <dc:date>2021-03-09T13:33:34.476999</dc:date>\r\n    <dc:format>image/svg+xml</dc:format>\r\n    <dc:creator>\r\n     <cc:Agent>\r\n      <dc:title>Matplotlib v3.3.2, https://matplotlib.org/</dc:title>\r\n     </cc:Agent>\r\n    </dc:creator>\r\n   </cc:Work>\r\n  </rdf:RDF>\r\n </metadata>\r\n <defs>\r\n  <style type=\"text/css\">*{stroke-linecap:butt;stroke-linejoin:round;}</style>\r\n </defs>\r\n <g id=\"figure_1\">\r\n  <g id=\"patch_1\">\r\n   <path d=\"M 0 248.518125 \r\nL 365.179919 248.518125 \r\nL 365.179919 0 \r\nL 0 0 \r\nz\r\n\" style=\"fill:none;\"/>\r\n  </g>\r\n  <g id=\"axes_1\">\r\n   <g id=\"patch_2\">\r\n    <path d=\"M 20.5625 224.64 \r\nL 355.3625 224.64 \r\nL 355.3625 7.2 \r\nL 20.5625 7.2 \r\nz\r\n\" style=\"fill:#ffffff;\"/>\r\n   </g>\r\n   <g id=\"patch_3\">\r\n    <path clip-path=\"url(#pbfbae975f4)\" d=\"M 20.5625 219.204 \r\nL 339.419643 219.204 \r\nL 339.419643 208.332 \r\nL 20.5625 208.332 \r\nz\r\n\" style=\"fill:#1f77b4;\"/>\r\n   </g>\r\n   <g id=\"patch_4\">\r\n    <path clip-path=\"url(#pbfbae975f4)\" d=\"M 20.5625 197.46 \r\nL 206.630807 197.46 \r\nL 206.630807 186.588 \r\nL 20.5625 186.588 \r\nz\r\n\" style=\"fill:#1f77b4;\"/>\r\n   </g>\r\n   <g id=\"patch_5\">\r\n    <path clip-path=\"url(#pbfbae975f4)\" d=\"M 20.5625 175.716 \r\nL 195.974913 175.716 \r\nL 195.974913 164.844 \r\nL 20.5625 164.844 \r\nz\r\n\" style=\"fill:#1f77b4;\"/>\r\n   </g>\r\n   <g id=\"patch_6\">\r\n    <path clip-path=\"url(#pbfbae975f4)\" d=\"M 20.5625 153.972 \r\nL 114.82618 153.972 \r\nL 114.82618 143.1 \r\nL 20.5625 143.1 \r\nz\r\n\" style=\"fill:#1f77b4;\"/>\r\n   </g>\r\n   <g id=\"patch_7\">\r\n    <path clip-path=\"url(#pbfbae975f4)\" d=\"M 20.5625 132.228 \r\nL 88.596286 132.228 \r\nL 88.596286 121.356 \r\nL 20.5625 121.356 \r\nz\r\n\" style=\"fill:#1f77b4;\"/>\r\n   </g>\r\n   <g id=\"patch_8\">\r\n    <path clip-path=\"url(#pbfbae975f4)\" d=\"M 20.5625 110.484 \r\nL 82.858497 110.484 \r\nL 82.858497 99.612 \r\nL 20.5625 99.612 \r\nz\r\n\" style=\"fill:#1f77b4;\"/>\r\n   </g>\r\n   <g id=\"patch_9\">\r\n    <path clip-path=\"url(#pbfbae975f4)\" d=\"M 20.5625 88.74 \r\nL 24.660921 88.74 \r\nL 24.660921 77.868 \r\nL 20.5625 77.868 \r\nz\r\n\" style=\"fill:#1f77b4;\"/>\r\n   </g>\r\n   <g id=\"patch_10\">\r\n    <path clip-path=\"url(#pbfbae975f4)\" d=\"M 20.5625 66.996 \r\nL 23.841237 66.996 \r\nL 23.841237 56.124 \r\nL 20.5625 56.124 \r\nz\r\n\" style=\"fill:#1f77b4;\"/>\r\n   </g>\r\n   <g id=\"patch_11\">\r\n    <path clip-path=\"url(#pbfbae975f4)\" d=\"M 20.5625 45.252 \r\nL 23.841237 45.252 \r\nL 23.841237 34.38 \r\nL 20.5625 34.38 \r\nz\r\n\" style=\"fill:#1f77b4;\"/>\r\n   </g>\r\n   <g id=\"patch_12\">\r\n    <path clip-path=\"url(#pbfbae975f4)\" d=\"M 20.5625 23.508 \r\nL 23.841237 23.508 \r\nL 23.841237 12.636 \r\nL 20.5625 12.636 \r\nz\r\n\" style=\"fill:#1f77b4;\"/>\r\n   </g>\r\n   <g id=\"matplotlib.axis_1\">\r\n    <g id=\"xtick_1\">\r\n     <g id=\"line2d_1\">\r\n      <defs>\r\n       <path d=\"M 0 0 \r\nL 0 3.5 \r\n\" id=\"me8198345c4\" style=\"stroke:#000000;stroke-width:0.8;\"/>\r\n      </defs>\r\n      <g>\r\n       <use style=\"stroke:#000000;stroke-width:0.8;\" x=\"20.5625\" xlink:href=\"#me8198345c4\" y=\"224.64\"/>\r\n      </g>\r\n     </g>\r\n     <g id=\"text_1\">\r\n      <!-- 0 -->\r\n      <g transform=\"translate(17.38125 239.238437)scale(0.1 -0.1)\">\r\n       <defs>\r\n        <path d=\"M 31.78125 66.40625 \r\nQ 24.171875 66.40625 20.328125 58.90625 \r\nQ 16.5 51.421875 16.5 36.375 \r\nQ 16.5 21.390625 20.328125 13.890625 \r\nQ 24.171875 6.390625 31.78125 6.390625 \r\nQ 39.453125 6.390625 43.28125 13.890625 \r\nQ 47.125 21.390625 47.125 36.375 \r\nQ 47.125 51.421875 43.28125 58.90625 \r\nQ 39.453125 66.40625 31.78125 66.40625 \r\nz\r\nM 31.78125 74.21875 \r\nQ 44.046875 74.21875 50.515625 64.515625 \r\nQ 56.984375 54.828125 56.984375 36.375 \r\nQ 56.984375 17.96875 50.515625 8.265625 \r\nQ 44.046875 -1.421875 31.78125 -1.421875 \r\nQ 19.53125 -1.421875 13.0625 8.265625 \r\nQ 6.59375 17.96875 6.59375 36.375 \r\nQ 6.59375 54.828125 13.0625 64.515625 \r\nQ 19.53125 74.21875 31.78125 74.21875 \r\nz\r\n\" id=\"DejaVuSans-48\"/>\r\n       </defs>\r\n       <use xlink:href=\"#DejaVuSans-48\"/>\r\n      </g>\r\n     </g>\r\n    </g>\r\n    <g id=\"xtick_2\">\r\n     <g id=\"line2d_2\">\r\n      <g>\r\n       <use style=\"stroke:#000000;stroke-width:0.8;\" x=\"61.546709\" xlink:href=\"#me8198345c4\" y=\"224.64\"/>\r\n      </g>\r\n     </g>\r\n     <g id=\"text_2\">\r\n      <!-- 50 -->\r\n      <g transform=\"translate(55.184209 239.238437)scale(0.1 -0.1)\">\r\n       <defs>\r\n        <path d=\"M 10.796875 72.90625 \r\nL 49.515625 72.90625 \r\nL 49.515625 64.59375 \r\nL 19.828125 64.59375 \r\nL 19.828125 46.734375 \r\nQ 21.96875 47.46875 24.109375 47.828125 \r\nQ 26.265625 48.1875 28.421875 48.1875 \r\nQ 40.625 48.1875 47.75 41.5 \r\nQ 54.890625 34.8125 54.890625 23.390625 \r\nQ 54.890625 11.625 47.5625 5.09375 \r\nQ 40.234375 -1.421875 26.90625 -1.421875 \r\nQ 22.3125 -1.421875 17.546875 -0.640625 \r\nQ 12.796875 0.140625 7.71875 1.703125 \r\nL 7.71875 11.625 \r\nQ 12.109375 9.234375 16.796875 8.0625 \r\nQ 21.484375 6.890625 26.703125 6.890625 \r\nQ 35.15625 6.890625 40.078125 11.328125 \r\nQ 45.015625 15.765625 45.015625 23.390625 \r\nQ 45.015625 31 40.078125 35.4375 \r\nQ 35.15625 39.890625 26.703125 39.890625 \r\nQ 22.75 39.890625 18.8125 39.015625 \r\nQ 14.890625 38.140625 10.796875 36.28125 \r\nz\r\n\" id=\"DejaVuSans-53\"/>\r\n       </defs>\r\n       <use xlink:href=\"#DejaVuSans-53\"/>\r\n       <use x=\"63.623047\" xlink:href=\"#DejaVuSans-48\"/>\r\n      </g>\r\n     </g>\r\n    </g>\r\n    <g id=\"xtick_3\">\r\n     <g id=\"line2d_3\">\r\n      <g>\r\n       <use style=\"stroke:#000000;stroke-width:0.8;\" x=\"102.530917\" xlink:href=\"#me8198345c4\" y=\"224.64\"/>\r\n      </g>\r\n     </g>\r\n     <g id=\"text_3\">\r\n      <!-- 100 -->\r\n      <g transform=\"translate(92.987167 239.238437)scale(0.1 -0.1)\">\r\n       <defs>\r\n        <path d=\"M 12.40625 8.296875 \r\nL 28.515625 8.296875 \r\nL 28.515625 63.921875 \r\nL 10.984375 60.40625 \r\nL 10.984375 69.390625 \r\nL 28.421875 72.90625 \r\nL 38.28125 72.90625 \r\nL 38.28125 8.296875 \r\nL 54.390625 8.296875 \r\nL 54.390625 0 \r\nL 12.40625 0 \r\nz\r\n\" id=\"DejaVuSans-49\"/>\r\n       </defs>\r\n       <use xlink:href=\"#DejaVuSans-49\"/>\r\n       <use x=\"63.623047\" xlink:href=\"#DejaVuSans-48\"/>\r\n       <use x=\"127.246094\" xlink:href=\"#DejaVuSans-48\"/>\r\n      </g>\r\n     </g>\r\n    </g>\r\n    <g id=\"xtick_4\">\r\n     <g id=\"line2d_4\">\r\n      <g>\r\n       <use style=\"stroke:#000000;stroke-width:0.8;\" x=\"143.515126\" xlink:href=\"#me8198345c4\" y=\"224.64\"/>\r\n      </g>\r\n     </g>\r\n     <g id=\"text_4\">\r\n      <!-- 150 -->\r\n      <g transform=\"translate(133.971376 239.238437)scale(0.1 -0.1)\">\r\n       <use xlink:href=\"#DejaVuSans-49\"/>\r\n       <use x=\"63.623047\" xlink:href=\"#DejaVuSans-53\"/>\r\n       <use x=\"127.246094\" xlink:href=\"#DejaVuSans-48\"/>\r\n      </g>\r\n     </g>\r\n    </g>\r\n    <g id=\"xtick_5\">\r\n     <g id=\"line2d_5\">\r\n      <g>\r\n       <use style=\"stroke:#000000;stroke-width:0.8;\" x=\"184.499334\" xlink:href=\"#me8198345c4\" y=\"224.64\"/>\r\n      </g>\r\n     </g>\r\n     <g id=\"text_5\">\r\n      <!-- 200 -->\r\n      <g transform=\"translate(174.955584 239.238437)scale(0.1 -0.1)\">\r\n       <defs>\r\n        <path d=\"M 19.1875 8.296875 \r\nL 53.609375 8.296875 \r\nL 53.609375 0 \r\nL 7.328125 0 \r\nL 7.328125 8.296875 \r\nQ 12.9375 14.109375 22.625 23.890625 \r\nQ 32.328125 33.6875 34.8125 36.53125 \r\nQ 39.546875 41.84375 41.421875 45.53125 \r\nQ 43.3125 49.21875 43.3125 52.78125 \r\nQ 43.3125 58.59375 39.234375 62.25 \r\nQ 35.15625 65.921875 28.609375 65.921875 \r\nQ 23.96875 65.921875 18.8125 64.3125 \r\nQ 13.671875 62.703125 7.8125 59.421875 \r\nL 7.8125 69.390625 \r\nQ 13.765625 71.78125 18.9375 73 \r\nQ 24.125 74.21875 28.421875 74.21875 \r\nQ 39.75 74.21875 46.484375 68.546875 \r\nQ 53.21875 62.890625 53.21875 53.421875 \r\nQ 53.21875 48.921875 51.53125 44.890625 \r\nQ 49.859375 40.875 45.40625 35.40625 \r\nQ 44.1875 33.984375 37.640625 27.21875 \r\nQ 31.109375 20.453125 19.1875 8.296875 \r\nz\r\n\" id=\"DejaVuSans-50\"/>\r\n       </defs>\r\n       <use xlink:href=\"#DejaVuSans-50\"/>\r\n       <use x=\"63.623047\" xlink:href=\"#DejaVuSans-48\"/>\r\n       <use x=\"127.246094\" xlink:href=\"#DejaVuSans-48\"/>\r\n      </g>\r\n     </g>\r\n    </g>\r\n    <g id=\"xtick_6\">\r\n     <g id=\"line2d_6\">\r\n      <g>\r\n       <use style=\"stroke:#000000;stroke-width:0.8;\" x=\"225.483543\" xlink:href=\"#me8198345c4\" y=\"224.64\"/>\r\n      </g>\r\n     </g>\r\n     <g id=\"text_6\">\r\n      <!-- 250 -->\r\n      <g transform=\"translate(215.939793 239.238437)scale(0.1 -0.1)\">\r\n       <use xlink:href=\"#DejaVuSans-50\"/>\r\n       <use x=\"63.623047\" xlink:href=\"#DejaVuSans-53\"/>\r\n       <use x=\"127.246094\" xlink:href=\"#DejaVuSans-48\"/>\r\n      </g>\r\n     </g>\r\n    </g>\r\n    <g id=\"xtick_7\">\r\n     <g id=\"line2d_7\">\r\n      <g>\r\n       <use style=\"stroke:#000000;stroke-width:0.8;\" x=\"266.467752\" xlink:href=\"#me8198345c4\" y=\"224.64\"/>\r\n      </g>\r\n     </g>\r\n     <g id=\"text_7\">\r\n      <!-- 300 -->\r\n      <g transform=\"translate(256.924002 239.238437)scale(0.1 -0.1)\">\r\n       <defs>\r\n        <path d=\"M 40.578125 39.3125 \r\nQ 47.65625 37.796875 51.625 33 \r\nQ 55.609375 28.21875 55.609375 21.1875 \r\nQ 55.609375 10.40625 48.1875 4.484375 \r\nQ 40.765625 -1.421875 27.09375 -1.421875 \r\nQ 22.515625 -1.421875 17.65625 -0.515625 \r\nQ 12.796875 0.390625 7.625 2.203125 \r\nL 7.625 11.71875 \r\nQ 11.71875 9.328125 16.59375 8.109375 \r\nQ 21.484375 6.890625 26.8125 6.890625 \r\nQ 36.078125 6.890625 40.9375 10.546875 \r\nQ 45.796875 14.203125 45.796875 21.1875 \r\nQ 45.796875 27.640625 41.28125 31.265625 \r\nQ 36.765625 34.90625 28.71875 34.90625 \r\nL 20.21875 34.90625 \r\nL 20.21875 43.015625 \r\nL 29.109375 43.015625 \r\nQ 36.375 43.015625 40.234375 45.921875 \r\nQ 44.09375 48.828125 44.09375 54.296875 \r\nQ 44.09375 59.90625 40.109375 62.90625 \r\nQ 36.140625 65.921875 28.71875 65.921875 \r\nQ 24.65625 65.921875 20.015625 65.03125 \r\nQ 15.375 64.15625 9.8125 62.3125 \r\nL 9.8125 71.09375 \r\nQ 15.4375 72.65625 20.34375 73.4375 \r\nQ 25.25 74.21875 29.59375 74.21875 \r\nQ 40.828125 74.21875 47.359375 69.109375 \r\nQ 53.90625 64.015625 53.90625 55.328125 \r\nQ 53.90625 49.265625 50.4375 45.09375 \r\nQ 46.96875 40.921875 40.578125 39.3125 \r\nz\r\n\" id=\"DejaVuSans-51\"/>\r\n       </defs>\r\n       <use xlink:href=\"#DejaVuSans-51\"/>\r\n       <use x=\"63.623047\" xlink:href=\"#DejaVuSans-48\"/>\r\n       <use x=\"127.246094\" xlink:href=\"#DejaVuSans-48\"/>\r\n      </g>\r\n     </g>\r\n    </g>\r\n    <g id=\"xtick_8\">\r\n     <g id=\"line2d_8\">\r\n      <g>\r\n       <use style=\"stroke:#000000;stroke-width:0.8;\" x=\"307.45196\" xlink:href=\"#me8198345c4\" y=\"224.64\"/>\r\n      </g>\r\n     </g>\r\n     <g id=\"text_8\">\r\n      <!-- 350 -->\r\n      <g transform=\"translate(297.90821 239.238437)scale(0.1 -0.1)\">\r\n       <use xlink:href=\"#DejaVuSans-51\"/>\r\n       <use x=\"63.623047\" xlink:href=\"#DejaVuSans-53\"/>\r\n       <use x=\"127.246094\" xlink:href=\"#DejaVuSans-48\"/>\r\n      </g>\r\n     </g>\r\n    </g>\r\n    <g id=\"xtick_9\">\r\n     <g id=\"line2d_9\">\r\n      <g>\r\n       <use style=\"stroke:#000000;stroke-width:0.8;\" x=\"348.436169\" xlink:href=\"#me8198345c4\" y=\"224.64\"/>\r\n      </g>\r\n     </g>\r\n     <g id=\"text_9\">\r\n      <!-- 400 -->\r\n      <g transform=\"translate(338.892419 239.238437)scale(0.1 -0.1)\">\r\n       <defs>\r\n        <path d=\"M 37.796875 64.3125 \r\nL 12.890625 25.390625 \r\nL 37.796875 25.390625 \r\nz\r\nM 35.203125 72.90625 \r\nL 47.609375 72.90625 \r\nL 47.609375 25.390625 \r\nL 58.015625 25.390625 \r\nL 58.015625 17.1875 \r\nL 47.609375 17.1875 \r\nL 47.609375 0 \r\nL 37.796875 0 \r\nL 37.796875 17.1875 \r\nL 4.890625 17.1875 \r\nL 4.890625 26.703125 \r\nz\r\n\" id=\"DejaVuSans-52\"/>\r\n       </defs>\r\n       <use xlink:href=\"#DejaVuSans-52\"/>\r\n       <use x=\"63.623047\" xlink:href=\"#DejaVuSans-48\"/>\r\n       <use x=\"127.246094\" xlink:href=\"#DejaVuSans-48\"/>\r\n      </g>\r\n     </g>\r\n    </g>\r\n   </g>\r\n   <g id=\"matplotlib.axis_2\">\r\n    <g id=\"ytick_1\">\r\n     <g id=\"line2d_10\">\r\n      <defs>\r\n       <path d=\"M 0 0 \r\nL -3.5 0 \r\n\" id=\"m95cff1300d\" style=\"stroke:#000000;stroke-width:0.8;\"/>\r\n      </defs>\r\n      <g>\r\n       <use style=\"stroke:#000000;stroke-width:0.8;\" x=\"20.5625\" xlink:href=\"#m95cff1300d\" y=\"213.768\"/>\r\n      </g>\r\n     </g>\r\n     <g id=\"text_10\">\r\n      <!-- 0 -->\r\n      <g transform=\"translate(7.2 217.567219)scale(0.1 -0.1)\">\r\n       <use xlink:href=\"#DejaVuSans-48\"/>\r\n      </g>\r\n     </g>\r\n    </g>\r\n    <g id=\"ytick_2\">\r\n     <g id=\"line2d_11\">\r\n      <g>\r\n       <use style=\"stroke:#000000;stroke-width:0.8;\" x=\"20.5625\" xlink:href=\"#m95cff1300d\" y=\"192.024\"/>\r\n      </g>\r\n     </g>\r\n     <g id=\"text_11\">\r\n      <!-- 1 -->\r\n      <g transform=\"translate(7.2 195.823219)scale(0.1 -0.1)\">\r\n       <use xlink:href=\"#DejaVuSans-49\"/>\r\n      </g>\r\n     </g>\r\n    </g>\r\n    <g id=\"ytick_3\">\r\n     <g id=\"line2d_12\">\r\n      <g>\r\n       <use style=\"stroke:#000000;stroke-width:0.8;\" x=\"20.5625\" xlink:href=\"#m95cff1300d\" y=\"170.28\"/>\r\n      </g>\r\n     </g>\r\n     <g id=\"text_12\">\r\n      <!-- 2 -->\r\n      <g transform=\"translate(7.2 174.079219)scale(0.1 -0.1)\">\r\n       <use xlink:href=\"#DejaVuSans-50\"/>\r\n      </g>\r\n     </g>\r\n    </g>\r\n    <g id=\"ytick_4\">\r\n     <g id=\"line2d_13\">\r\n      <g>\r\n       <use style=\"stroke:#000000;stroke-width:0.8;\" x=\"20.5625\" xlink:href=\"#m95cff1300d\" y=\"148.536\"/>\r\n      </g>\r\n     </g>\r\n     <g id=\"text_13\">\r\n      <!-- 3 -->\r\n      <g transform=\"translate(7.2 152.335219)scale(0.1 -0.1)\">\r\n       <use xlink:href=\"#DejaVuSans-51\"/>\r\n      </g>\r\n     </g>\r\n    </g>\r\n    <g id=\"ytick_5\">\r\n     <g id=\"line2d_14\">\r\n      <g>\r\n       <use style=\"stroke:#000000;stroke-width:0.8;\" x=\"20.5625\" xlink:href=\"#m95cff1300d\" y=\"126.792\"/>\r\n      </g>\r\n     </g>\r\n     <g id=\"text_14\">\r\n      <!-- 4 -->\r\n      <g transform=\"translate(7.2 130.591219)scale(0.1 -0.1)\">\r\n       <use xlink:href=\"#DejaVuSans-52\"/>\r\n      </g>\r\n     </g>\r\n    </g>\r\n    <g id=\"ytick_6\">\r\n     <g id=\"line2d_15\">\r\n      <g>\r\n       <use style=\"stroke:#000000;stroke-width:0.8;\" x=\"20.5625\" xlink:href=\"#m95cff1300d\" y=\"105.048\"/>\r\n      </g>\r\n     </g>\r\n     <g id=\"text_15\">\r\n      <!-- 5 -->\r\n      <g transform=\"translate(7.2 108.847219)scale(0.1 -0.1)\">\r\n       <use xlink:href=\"#DejaVuSans-53\"/>\r\n      </g>\r\n     </g>\r\n    </g>\r\n    <g id=\"ytick_7\">\r\n     <g id=\"line2d_16\">\r\n      <g>\r\n       <use style=\"stroke:#000000;stroke-width:0.8;\" x=\"20.5625\" xlink:href=\"#m95cff1300d\" y=\"83.304\"/>\r\n      </g>\r\n     </g>\r\n     <g id=\"text_16\">\r\n      <!-- 6 -->\r\n      <g transform=\"translate(7.2 87.103219)scale(0.1 -0.1)\">\r\n       <defs>\r\n        <path d=\"M 33.015625 40.375 \r\nQ 26.375 40.375 22.484375 35.828125 \r\nQ 18.609375 31.296875 18.609375 23.390625 \r\nQ 18.609375 15.53125 22.484375 10.953125 \r\nQ 26.375 6.390625 33.015625 6.390625 \r\nQ 39.65625 6.390625 43.53125 10.953125 \r\nQ 47.40625 15.53125 47.40625 23.390625 \r\nQ 47.40625 31.296875 43.53125 35.828125 \r\nQ 39.65625 40.375 33.015625 40.375 \r\nz\r\nM 52.59375 71.296875 \r\nL 52.59375 62.3125 \r\nQ 48.875 64.0625 45.09375 64.984375 \r\nQ 41.3125 65.921875 37.59375 65.921875 \r\nQ 27.828125 65.921875 22.671875 59.328125 \r\nQ 17.53125 52.734375 16.796875 39.40625 \r\nQ 19.671875 43.65625 24.015625 45.921875 \r\nQ 28.375 48.1875 33.59375 48.1875 \r\nQ 44.578125 48.1875 50.953125 41.515625 \r\nQ 57.328125 34.859375 57.328125 23.390625 \r\nQ 57.328125 12.15625 50.6875 5.359375 \r\nQ 44.046875 -1.421875 33.015625 -1.421875 \r\nQ 20.359375 -1.421875 13.671875 8.265625 \r\nQ 6.984375 17.96875 6.984375 36.375 \r\nQ 6.984375 53.65625 15.1875 63.9375 \r\nQ 23.390625 74.21875 37.203125 74.21875 \r\nQ 40.921875 74.21875 44.703125 73.484375 \r\nQ 48.484375 72.75 52.59375 71.296875 \r\nz\r\n\" id=\"DejaVuSans-54\"/>\r\n       </defs>\r\n       <use xlink:href=\"#DejaVuSans-54\"/>\r\n      </g>\r\n     </g>\r\n    </g>\r\n    <g id=\"ytick_8\">\r\n     <g id=\"line2d_17\">\r\n      <g>\r\n       <use style=\"stroke:#000000;stroke-width:0.8;\" x=\"20.5625\" xlink:href=\"#m95cff1300d\" y=\"61.56\"/>\r\n      </g>\r\n     </g>\r\n     <g id=\"text_17\">\r\n      <!-- 7 -->\r\n      <g transform=\"translate(7.2 65.359219)scale(0.1 -0.1)\">\r\n       <defs>\r\n        <path d=\"M 8.203125 72.90625 \r\nL 55.078125 72.90625 \r\nL 55.078125 68.703125 \r\nL 28.609375 0 \r\nL 18.3125 0 \r\nL 43.21875 64.59375 \r\nL 8.203125 64.59375 \r\nz\r\n\" id=\"DejaVuSans-55\"/>\r\n       </defs>\r\n       <use xlink:href=\"#DejaVuSans-55\"/>\r\n      </g>\r\n     </g>\r\n    </g>\r\n    <g id=\"ytick_9\">\r\n     <g id=\"line2d_18\">\r\n      <g>\r\n       <use style=\"stroke:#000000;stroke-width:0.8;\" x=\"20.5625\" xlink:href=\"#m95cff1300d\" y=\"39.816\"/>\r\n      </g>\r\n     </g>\r\n     <g id=\"text_18\">\r\n      <!-- 8 -->\r\n      <g transform=\"translate(7.2 43.615219)scale(0.1 -0.1)\">\r\n       <defs>\r\n        <path d=\"M 31.78125 34.625 \r\nQ 24.75 34.625 20.71875 30.859375 \r\nQ 16.703125 27.09375 16.703125 20.515625 \r\nQ 16.703125 13.921875 20.71875 10.15625 \r\nQ 24.75 6.390625 31.78125 6.390625 \r\nQ 38.8125 6.390625 42.859375 10.171875 \r\nQ 46.921875 13.96875 46.921875 20.515625 \r\nQ 46.921875 27.09375 42.890625 30.859375 \r\nQ 38.875 34.625 31.78125 34.625 \r\nz\r\nM 21.921875 38.8125 \r\nQ 15.578125 40.375 12.03125 44.71875 \r\nQ 8.5 49.078125 8.5 55.328125 \r\nQ 8.5 64.0625 14.71875 69.140625 \r\nQ 20.953125 74.21875 31.78125 74.21875 \r\nQ 42.671875 74.21875 48.875 69.140625 \r\nQ 55.078125 64.0625 55.078125 55.328125 \r\nQ 55.078125 49.078125 51.53125 44.71875 \r\nQ 48 40.375 41.703125 38.8125 \r\nQ 48.828125 37.15625 52.796875 32.3125 \r\nQ 56.78125 27.484375 56.78125 20.515625 \r\nQ 56.78125 9.90625 50.3125 4.234375 \r\nQ 43.84375 -1.421875 31.78125 -1.421875 \r\nQ 19.734375 -1.421875 13.25 4.234375 \r\nQ 6.78125 9.90625 6.78125 20.515625 \r\nQ 6.78125 27.484375 10.78125 32.3125 \r\nQ 14.796875 37.15625 21.921875 38.8125 \r\nz\r\nM 18.3125 54.390625 \r\nQ 18.3125 48.734375 21.84375 45.5625 \r\nQ 25.390625 42.390625 31.78125 42.390625 \r\nQ 38.140625 42.390625 41.71875 45.5625 \r\nQ 45.3125 48.734375 45.3125 54.390625 \r\nQ 45.3125 60.0625 41.71875 63.234375 \r\nQ 38.140625 66.40625 31.78125 66.40625 \r\nQ 25.390625 66.40625 21.84375 63.234375 \r\nQ 18.3125 60.0625 18.3125 54.390625 \r\nz\r\n\" id=\"DejaVuSans-56\"/>\r\n       </defs>\r\n       <use xlink:href=\"#DejaVuSans-56\"/>\r\n      </g>\r\n     </g>\r\n    </g>\r\n    <g id=\"ytick_10\">\r\n     <g id=\"line2d_19\">\r\n      <g>\r\n       <use style=\"stroke:#000000;stroke-width:0.8;\" x=\"20.5625\" xlink:href=\"#m95cff1300d\" y=\"18.072\"/>\r\n      </g>\r\n     </g>\r\n     <g id=\"text_19\">\r\n      <!-- 9 -->\r\n      <g transform=\"translate(7.2 21.871219)scale(0.1 -0.1)\">\r\n       <defs>\r\n        <path d=\"M 10.984375 1.515625 \r\nL 10.984375 10.5 \r\nQ 14.703125 8.734375 18.5 7.8125 \r\nQ 22.3125 6.890625 25.984375 6.890625 \r\nQ 35.75 6.890625 40.890625 13.453125 \r\nQ 46.046875 20.015625 46.78125 33.40625 \r\nQ 43.953125 29.203125 39.59375 26.953125 \r\nQ 35.25 24.703125 29.984375 24.703125 \r\nQ 19.046875 24.703125 12.671875 31.3125 \r\nQ 6.296875 37.9375 6.296875 49.421875 \r\nQ 6.296875 60.640625 12.9375 67.421875 \r\nQ 19.578125 74.21875 30.609375 74.21875 \r\nQ 43.265625 74.21875 49.921875 64.515625 \r\nQ 56.59375 54.828125 56.59375 36.375 \r\nQ 56.59375 19.140625 48.40625 8.859375 \r\nQ 40.234375 -1.421875 26.421875 -1.421875 \r\nQ 22.703125 -1.421875 18.890625 -0.6875 \r\nQ 15.09375 0.046875 10.984375 1.515625 \r\nz\r\nM 30.609375 32.421875 \r\nQ 37.25 32.421875 41.125 36.953125 \r\nQ 45.015625 41.5 45.015625 49.421875 \r\nQ 45.015625 57.28125 41.125 61.84375 \r\nQ 37.25 66.40625 30.609375 66.40625 \r\nQ 23.96875 66.40625 20.09375 61.84375 \r\nQ 16.21875 57.28125 16.21875 49.421875 \r\nQ 16.21875 41.5 20.09375 36.953125 \r\nQ 23.96875 32.421875 30.609375 32.421875 \r\nz\r\n\" id=\"DejaVuSans-57\"/>\r\n       </defs>\r\n       <use xlink:href=\"#DejaVuSans-57\"/>\r\n      </g>\r\n     </g>\r\n    </g>\r\n   </g>\r\n   <g id=\"patch_13\">\r\n    <path d=\"M 20.5625 224.64 \r\nL 20.5625 7.2 \r\n\" style=\"fill:none;stroke:#000000;stroke-linecap:square;stroke-linejoin:miter;stroke-width:0.8;\"/>\r\n   </g>\r\n   <g id=\"patch_14\">\r\n    <path d=\"M 355.3625 224.64 \r\nL 355.3625 7.2 \r\n\" style=\"fill:none;stroke:#000000;stroke-linecap:square;stroke-linejoin:miter;stroke-width:0.8;\"/>\r\n   </g>\r\n   <g id=\"patch_15\">\r\n    <path d=\"M 20.5625 224.64 \r\nL 355.3625 224.64 \r\n\" style=\"fill:none;stroke:#000000;stroke-linecap:square;stroke-linejoin:miter;stroke-width:0.8;\"/>\r\n   </g>\r\n   <g id=\"patch_16\">\r\n    <path d=\"M 20.5625 7.2 \r\nL 355.3625 7.2 \r\n\" style=\"fill:none;stroke:#000000;stroke-linecap:square;stroke-linejoin:miter;stroke-width:0.8;\"/>\r\n   </g>\r\n   <g id=\"legend_1\">\r\n    <g id=\"patch_17\">\r\n     <path d=\"M 288.9 29.878125 \r\nL 348.3625 29.878125 \r\nQ 350.3625 29.878125 350.3625 27.878125 \r\nL 350.3625 14.2 \r\nQ 350.3625 12.2 348.3625 12.2 \r\nL 288.9 12.2 \r\nQ 286.9 12.2 286.9 14.2 \r\nL 286.9 27.878125 \r\nQ 286.9 29.878125 288.9 29.878125 \r\nz\r\n\" style=\"fill:#ffffff;opacity:0.8;stroke:#cccccc;stroke-linejoin:miter;\"/>\r\n    </g>\r\n    <g id=\"patch_18\">\r\n     <path d=\"M 290.9 23.798437 \r\nL 310.9 23.798437 \r\nL 310.9 16.798437 \r\nL 290.9 16.798437 \r\nz\r\n\" style=\"fill:#1f77b4;\"/>\r\n    </g>\r\n    <g id=\"text_20\">\r\n     <!-- Value -->\r\n     <g transform=\"translate(318.9 23.798437)scale(0.1 -0.1)\">\r\n      <defs>\r\n       <path d=\"M 28.609375 0 \r\nL 0.78125 72.90625 \r\nL 11.078125 72.90625 \r\nL 34.1875 11.53125 \r\nL 57.328125 72.90625 \r\nL 67.578125 72.90625 \r\nL 39.796875 0 \r\nz\r\n\" id=\"DejaVuSans-86\"/>\r\n       <path d=\"M 34.28125 27.484375 \r\nQ 23.390625 27.484375 19.1875 25 \r\nQ 14.984375 22.515625 14.984375 16.5 \r\nQ 14.984375 11.71875 18.140625 8.90625 \r\nQ 21.296875 6.109375 26.703125 6.109375 \r\nQ 34.1875 6.109375 38.703125 11.40625 \r\nQ 43.21875 16.703125 43.21875 25.484375 \r\nL 43.21875 27.484375 \r\nz\r\nM 52.203125 31.203125 \r\nL 52.203125 0 \r\nL 43.21875 0 \r\nL 43.21875 8.296875 \r\nQ 40.140625 3.328125 35.546875 0.953125 \r\nQ 30.953125 -1.421875 24.3125 -1.421875 \r\nQ 15.921875 -1.421875 10.953125 3.296875 \r\nQ 6 8.015625 6 15.921875 \r\nQ 6 25.140625 12.171875 29.828125 \r\nQ 18.359375 34.515625 30.609375 34.515625 \r\nL 43.21875 34.515625 \r\nL 43.21875 35.40625 \r\nQ 43.21875 41.609375 39.140625 45 \r\nQ 35.0625 48.390625 27.6875 48.390625 \r\nQ 23 48.390625 18.546875 47.265625 \r\nQ 14.109375 46.140625 10.015625 43.890625 \r\nL 10.015625 52.203125 \r\nQ 14.9375 54.109375 19.578125 55.046875 \r\nQ 24.21875 56 28.609375 56 \r\nQ 40.484375 56 46.34375 49.84375 \r\nQ 52.203125 43.703125 52.203125 31.203125 \r\nz\r\n\" id=\"DejaVuSans-97\"/>\r\n       <path d=\"M 9.421875 75.984375 \r\nL 18.40625 75.984375 \r\nL 18.40625 0 \r\nL 9.421875 0 \r\nz\r\n\" id=\"DejaVuSans-108\"/>\r\n       <path d=\"M 8.5 21.578125 \r\nL 8.5 54.6875 \r\nL 17.484375 54.6875 \r\nL 17.484375 21.921875 \r\nQ 17.484375 14.15625 20.5 10.265625 \r\nQ 23.53125 6.390625 29.59375 6.390625 \r\nQ 36.859375 6.390625 41.078125 11.03125 \r\nQ 45.3125 15.671875 45.3125 23.6875 \r\nL 45.3125 54.6875 \r\nL 54.296875 54.6875 \r\nL 54.296875 0 \r\nL 45.3125 0 \r\nL 45.3125 8.40625 \r\nQ 42.046875 3.421875 37.71875 1 \r\nQ 33.40625 -1.421875 27.6875 -1.421875 \r\nQ 18.265625 -1.421875 13.375 4.4375 \r\nQ 8.5 10.296875 8.5 21.578125 \r\nz\r\nM 31.109375 56 \r\nz\r\n\" id=\"DejaVuSans-117\"/>\r\n       <path d=\"M 56.203125 29.59375 \r\nL 56.203125 25.203125 \r\nL 14.890625 25.203125 \r\nQ 15.484375 15.921875 20.484375 11.0625 \r\nQ 25.484375 6.203125 34.421875 6.203125 \r\nQ 39.59375 6.203125 44.453125 7.46875 \r\nQ 49.3125 8.734375 54.109375 11.28125 \r\nL 54.109375 2.78125 \r\nQ 49.265625 0.734375 44.1875 -0.34375 \r\nQ 39.109375 -1.421875 33.890625 -1.421875 \r\nQ 20.796875 -1.421875 13.15625 6.1875 \r\nQ 5.515625 13.8125 5.515625 26.8125 \r\nQ 5.515625 40.234375 12.765625 48.109375 \r\nQ 20.015625 56 32.328125 56 \r\nQ 43.359375 56 49.78125 48.890625 \r\nQ 56.203125 41.796875 56.203125 29.59375 \r\nz\r\nM 47.21875 32.234375 \r\nQ 47.125 39.59375 43.09375 43.984375 \r\nQ 39.0625 48.390625 32.421875 48.390625 \r\nQ 24.90625 48.390625 20.390625 44.140625 \r\nQ 15.875 39.890625 15.1875 32.171875 \r\nz\r\n\" id=\"DejaVuSans-101\"/>\r\n      </defs>\r\n      <use xlink:href=\"#DejaVuSans-86\"/>\r\n      <use x=\"60.658203\" xlink:href=\"#DejaVuSans-97\"/>\r\n      <use x=\"121.9375\" xlink:href=\"#DejaVuSans-108\"/>\r\n      <use x=\"149.720703\" xlink:href=\"#DejaVuSans-117\"/>\r\n      <use x=\"213.099609\" xlink:href=\"#DejaVuSans-101\"/>\r\n     </g>\r\n    </g>\r\n   </g>\r\n  </g>\r\n </g>\r\n <defs>\r\n  <clipPath id=\"pbfbae975f4\">\r\n   <rect height=\"217.44\" width=\"334.8\" x=\"20.5625\" y=\"7.2\"/>\r\n  </clipPath>\r\n </defs>\r\n</svg>\r\n",
      "image/png": "[encoded data removed]"
     },
     "metadata": {
      "needs_background": "light"
     }
    }
   ],
   "source": [
    "top_repeated.plot(kind=\"barh\")"
   ]
  },
  {
   "cell_type": "code",
   "execution_count": 32,
   "metadata": {},
   "outputs": [
    {
     "output_type": "execute_result",
     "data": {
      "text/plain": [
       "['GIM MB8 ATX Case, Mid-Tower PC Gaming Chassis, Compact Computer Case with Tempered Glass Panel, 4 RGB Fans Pre-Installed, Water-Cooling Ready, Cable Management System - Black',\n",
       " 'Noctua NF-P12 redux-1700 PWM, High Performance Cooling Fan, 4-Pin, 1700 RPM (120mm, Grey)',\n",
       " 'Omnihil 8 Feet AC Power Cord Compatible with ASUS G11DF-DBR5-GTX1060 Desktop PC, AMD Ryzen 5 Processor, GTX 1060 - White',\n",
       " 'Industrial Rugged Fanless Silent Mini PC Computer, Intel i5, Intel i7, Intel i9, Up to 8 Cores/16 Threads, Up to 1TB SSD, 32GB RAM, Wi-Fi, 4K, Windows 10 (Intel i5-8500T CPU + 240GB SSD + 8GB RAM)',\n",
       " 'Cooler Master MasterLiquid ML120L RGB V2, Close-Loop AIO CPU Liquid Cooler, 120 Radiator, SickleFlow 120mm, RGB Lighting, 3rd Gen Dual Chamber Pump for AMD Ryzen/Intel LGA1200/1151',\n",
       " 'Industrial Rugged Fanless Silent Mini PC Computer, Intel i5, Intel i7, Intel i9, Up to 8 Cores/16 Threads, Up to 1TB SSD, 32GB RAM, Wi-Fi, 4K, Windows 10 (Intel i7-8700T CPU + 500GB SSD + 16GB RAM)',\n",
       " 'MSI GeForce GT 730 Kepler GDDR5 2GB OC Low Profile Ready DirectX 12 (N730K-2GD5LP/OC)',\n",
       " 'Unlocked Smartphone DOOGEE N30 (2021) Mobile Phone 4GB+128GB Triple Rear Camera 6.55\" Infinity Display Android 10.0 4500mAh 4G Dual SIM Phones Black',\n",
       " \"Rugged Phones Unlocked Ulefone Armor X8, Waterproof Rugged Cell Phones Unlocked 5.5'' HD Android 10 Quad Camera 13MP+8MP, 4GB+64GB, Dual Sim Rugged Smartphone, 5080 mAh,Face Unlock, NFC, (Orange)\",\n",
       " 'Esp-01 WiFi Module New Version ESP8266 NodeMCU LUA CP2102 ESP-12E Internet WiFi Development Board Open Source Serial Wireless Module Works Great with IDE/Micropython']"
      ]
     },
     "metadata": {},
     "execution_count": 32
    }
   ],
   "source": [
    "list(top_repeated.Product_Name)"
   ]
  },
  {
   "cell_type": "code",
   "execution_count": 33,
   "metadata": {},
   "outputs": [
    {
     "output_type": "execute_result",
     "data": {
      "text/plain": [
       "<Figure size 720x14400 with 0 Axes>"
      ]
     },
     "metadata": {},
     "execution_count": 33
    },
    {
     "output_type": "display_data",
     "data": {
      "text/plain": "<Figure size 432x288 with 1 Axes>",
      "image/svg+xml": "<?xml version=\"1.0\" encoding=\"utf-8\" standalone=\"no\"?>\r\n<!DOCTYPE svg PUBLIC \"-//W3C//DTD SVG 1.1//EN\"\r\n  \"http://www.w3.org/Graphics/SVG/1.1/DTD/svg11.dtd\">\r\n<!-- Created with matplotlib (https://matplotlib.org/) -->\r\n<svg height=\"277.314375pt\" version=\"1.1\" viewBox=\"0 0 493.65558 277.314375\" width=\"493.65558pt\" xmlns=\"http://www.w3.org/2000/svg\" xmlns:xlink=\"http://www.w3.org/1999/xlink\">\r\n <metadata>\r\n  <rdf:RDF xmlns:cc=\"http://creativecommons.org/ns#\" xmlns:dc=\"http://purl.org/dc/elements/1.1/\" xmlns:rdf=\"http://www.w3.org/1999/02/22-rdf-syntax-ns#\">\r\n   <cc:Work>\r\n    <dc:type rdf:resource=\"http://purl.org/dc/dcmitype/StillImage\"/>\r\n    <dc:date>2021-03-09T13:31:48.874762</dc:date>\r\n    <dc:format>image/svg+xml</dc:format>\r\n    <dc:creator>\r\n     <cc:Agent>\r\n      <dc:title>Matplotlib v3.3.2, https://matplotlib.org/</dc:title>\r\n     </cc:Agent>\r\n    </dc:creator>\r\n   </cc:Work>\r\n  </rdf:RDF>\r\n </metadata>\r\n <defs>\r\n  <style type=\"text/css\">*{stroke-linecap:butt;stroke-linejoin:round;}</style>\r\n </defs>\r\n <g id=\"figure_1\">\r\n  <g id=\"patch_1\">\r\n   <path d=\"M 0 277.314375 \r\nL 493.65558 277.314375 \r\nL 493.65558 0 \r\nL 0 0 \r\nz\r\n\" style=\"fill:none;\"/>\r\n  </g>\r\n  <g id=\"axes_1\">\r\n   <g id=\"patch_2\">\r\n    <path d=\"M 148.510938 239.758125 \r\nL 483.310937 239.758125 \r\nL 483.310937 22.318125 \r\nL 148.510938 22.318125 \r\nz\r\n\" style=\"fill:#ffffff;\"/>\r\n   </g>\r\n   <g id=\"patch_3\">\r\n    <path clip-path=\"url(#paa9a7c8ecd)\" d=\"M 148.510938 229.874489 \r\nL 467.36808 229.874489 \r\nL 467.36808 213.737939 \r\nL 148.510938 213.737939 \r\nz\r\n\" style=\"fill:#1f77b4;\"/>\r\n   </g>\r\n   <g id=\"patch_4\">\r\n    <path clip-path=\"url(#paa9a7c8ecd)\" d=\"M 148.510938 209.703802 \r\nL 334.579245 209.703802 \r\nL 334.579245 193.567253 \r\nL 148.510938 193.567253 \r\nz\r\n\" style=\"fill:#1f77b4;\"/>\r\n   </g>\r\n   <g id=\"patch_5\">\r\n    <path clip-path=\"url(#paa9a7c8ecd)\" d=\"M 148.510938 189.533116 \r\nL 323.92335 189.533116 \r\nL 323.92335 173.396567 \r\nL 148.510938 173.396567 \r\nz\r\n\" style=\"fill:#1f77b4;\"/>\r\n   </g>\r\n   <g id=\"patch_6\">\r\n    <path clip-path=\"url(#paa9a7c8ecd)\" d=\"M 148.510938 169.362429 \r\nL 242.774617 169.362429 \r\nL 242.774617 153.22588 \r\nL 148.510938 153.22588 \r\nz\r\n\" style=\"fill:#1f77b4;\"/>\r\n   </g>\r\n   <g id=\"patch_7\">\r\n    <path clip-path=\"url(#paa9a7c8ecd)\" d=\"M 148.510938 149.191743 \r\nL 216.544724 149.191743 \r\nL 216.544724 133.055194 \r\nL 148.510938 133.055194 \r\nz\r\n\" style=\"fill:#1f77b4;\"/>\r\n   </g>\r\n   <g id=\"patch_8\">\r\n    <path clip-path=\"url(#paa9a7c8ecd)\" d=\"M 148.510938 129.021056 \r\nL 211.626619 129.021056 \r\nL 211.626619 112.884507 \r\nL 148.510938 112.884507 \r\nz\r\n\" style=\"fill:#1f77b4;\"/>\r\n   </g>\r\n   <g id=\"patch_9\">\r\n    <path clip-path=\"url(#paa9a7c8ecd)\" d=\"M 148.510938 108.85037 \r\nL 152.609358 108.85037 \r\nL 152.609358 92.713821 \r\nL 148.510938 92.713821 \r\nz\r\n\" style=\"fill:#1f77b4;\"/>\r\n   </g>\r\n   <g id=\"patch_10\">\r\n    <path clip-path=\"url(#paa9a7c8ecd)\" d=\"M 148.510938 88.679683 \r\nL 151.789674 88.679683 \r\nL 151.789674 72.543134 \r\nL 148.510938 72.543134 \r\nz\r\n\" style=\"fill:#1f77b4;\"/>\r\n   </g>\r\n   <g id=\"patch_11\">\r\n    <path clip-path=\"url(#paa9a7c8ecd)\" d=\"M 148.510938 68.508997 \r\nL 151.789674 68.508997 \r\nL 151.789674 52.372448 \r\nL 148.510938 52.372448 \r\nz\r\n\" style=\"fill:#1f77b4;\"/>\r\n   </g>\r\n   <g id=\"patch_12\">\r\n    <path clip-path=\"url(#paa9a7c8ecd)\" d=\"M 148.510938 48.338311 \r\nL 151.789674 48.338311 \r\nL 151.789674 32.201761 \r\nL 148.510938 32.201761 \r\nz\r\n\" style=\"fill:#1f77b4;\"/>\r\n   </g>\r\n   <g id=\"matplotlib.axis_1\">\r\n    <g id=\"xtick_1\">\r\n     <g id=\"line2d_1\">\r\n      <defs>\r\n       <path d=\"M 0 0 \r\nL 0 3.5 \r\n\" id=\"mc5d6c40de9\" style=\"stroke:#000000;stroke-width:0.8;\"/>\r\n      </defs>\r\n      <g>\r\n       <use style=\"stroke:#000000;stroke-width:0.8;\" x=\"148.510938\" xlink:href=\"#mc5d6c40de9\" y=\"239.758125\"/>\r\n      </g>\r\n     </g>\r\n     <g id=\"text_1\">\r\n      <!-- 0 -->\r\n      <g transform=\"translate(145.329688 254.356562)scale(0.1 -0.1)\">\r\n       <defs>\r\n        <path d=\"M 31.78125 66.40625 \r\nQ 24.171875 66.40625 20.328125 58.90625 \r\nQ 16.5 51.421875 16.5 36.375 \r\nQ 16.5 21.390625 20.328125 13.890625 \r\nQ 24.171875 6.390625 31.78125 6.390625 \r\nQ 39.453125 6.390625 43.28125 13.890625 \r\nQ 47.125 21.390625 47.125 36.375 \r\nQ 47.125 51.421875 43.28125 58.90625 \r\nQ 39.453125 66.40625 31.78125 66.40625 \r\nz\r\nM 31.78125 74.21875 \r\nQ 44.046875 74.21875 50.515625 64.515625 \r\nQ 56.984375 54.828125 56.984375 36.375 \r\nQ 56.984375 17.96875 50.515625 8.265625 \r\nQ 44.046875 -1.421875 31.78125 -1.421875 \r\nQ 19.53125 -1.421875 13.0625 8.265625 \r\nQ 6.59375 17.96875 6.59375 36.375 \r\nQ 6.59375 54.828125 13.0625 64.515625 \r\nQ 19.53125 74.21875 31.78125 74.21875 \r\nz\r\n\" id=\"DejaVuSans-48\"/>\r\n       </defs>\r\n       <use xlink:href=\"#DejaVuSans-48\"/>\r\n      </g>\r\n     </g>\r\n    </g>\r\n    <g id=\"xtick_2\">\r\n     <g id=\"line2d_2\">\r\n      <g>\r\n       <use style=\"stroke:#000000;stroke-width:0.8;\" x=\"189.495146\" xlink:href=\"#mc5d6c40de9\" y=\"239.758125\"/>\r\n      </g>\r\n     </g>\r\n     <g id=\"text_2\">\r\n      <!-- 50 -->\r\n      <g transform=\"translate(183.132646 254.356562)scale(0.1 -0.1)\">\r\n       <defs>\r\n        <path d=\"M 10.796875 72.90625 \r\nL 49.515625 72.90625 \r\nL 49.515625 64.59375 \r\nL 19.828125 64.59375 \r\nL 19.828125 46.734375 \r\nQ 21.96875 47.46875 24.109375 47.828125 \r\nQ 26.265625 48.1875 28.421875 48.1875 \r\nQ 40.625 48.1875 47.75 41.5 \r\nQ 54.890625 34.8125 54.890625 23.390625 \r\nQ 54.890625 11.625 47.5625 5.09375 \r\nQ 40.234375 -1.421875 26.90625 -1.421875 \r\nQ 22.3125 -1.421875 17.546875 -0.640625 \r\nQ 12.796875 0.140625 7.71875 1.703125 \r\nL 7.71875 11.625 \r\nQ 12.109375 9.234375 16.796875 8.0625 \r\nQ 21.484375 6.890625 26.703125 6.890625 \r\nQ 35.15625 6.890625 40.078125 11.328125 \r\nQ 45.015625 15.765625 45.015625 23.390625 \r\nQ 45.015625 31 40.078125 35.4375 \r\nQ 35.15625 39.890625 26.703125 39.890625 \r\nQ 22.75 39.890625 18.8125 39.015625 \r\nQ 14.890625 38.140625 10.796875 36.28125 \r\nz\r\n\" id=\"DejaVuSans-53\"/>\r\n       </defs>\r\n       <use xlink:href=\"#DejaVuSans-53\"/>\r\n       <use x=\"63.623047\" xlink:href=\"#DejaVuSans-48\"/>\r\n      </g>\r\n     </g>\r\n    </g>\r\n    <g id=\"xtick_3\">\r\n     <g id=\"line2d_3\">\r\n      <g>\r\n       <use style=\"stroke:#000000;stroke-width:0.8;\" x=\"230.479355\" xlink:href=\"#mc5d6c40de9\" y=\"239.758125\"/>\r\n      </g>\r\n     </g>\r\n     <g id=\"text_3\">\r\n      <!-- 100 -->\r\n      <g transform=\"translate(220.935605 254.356562)scale(0.1 -0.1)\">\r\n       <defs>\r\n        <path d=\"M 12.40625 8.296875 \r\nL 28.515625 8.296875 \r\nL 28.515625 63.921875 \r\nL 10.984375 60.40625 \r\nL 10.984375 69.390625 \r\nL 28.421875 72.90625 \r\nL 38.28125 72.90625 \r\nL 38.28125 8.296875 \r\nL 54.390625 8.296875 \r\nL 54.390625 0 \r\nL 12.40625 0 \r\nz\r\n\" id=\"DejaVuSans-49\"/>\r\n       </defs>\r\n       <use xlink:href=\"#DejaVuSans-49\"/>\r\n       <use x=\"63.623047\" xlink:href=\"#DejaVuSans-48\"/>\r\n       <use x=\"127.246094\" xlink:href=\"#DejaVuSans-48\"/>\r\n      </g>\r\n     </g>\r\n    </g>\r\n    <g id=\"xtick_4\">\r\n     <g id=\"line2d_4\">\r\n      <g>\r\n       <use style=\"stroke:#000000;stroke-width:0.8;\" x=\"271.463563\" xlink:href=\"#mc5d6c40de9\" y=\"239.758125\"/>\r\n      </g>\r\n     </g>\r\n     <g id=\"text_4\">\r\n      <!-- 150 -->\r\n      <g transform=\"translate(261.919813 254.356562)scale(0.1 -0.1)\">\r\n       <use xlink:href=\"#DejaVuSans-49\"/>\r\n       <use x=\"63.623047\" xlink:href=\"#DejaVuSans-53\"/>\r\n       <use x=\"127.246094\" xlink:href=\"#DejaVuSans-48\"/>\r\n      </g>\r\n     </g>\r\n    </g>\r\n    <g id=\"xtick_5\">\r\n     <g id=\"line2d_5\">\r\n      <g>\r\n       <use style=\"stroke:#000000;stroke-width:0.8;\" x=\"312.447772\" xlink:href=\"#mc5d6c40de9\" y=\"239.758125\"/>\r\n      </g>\r\n     </g>\r\n     <g id=\"text_5\">\r\n      <!-- 200 -->\r\n      <g transform=\"translate(302.904022 254.356562)scale(0.1 -0.1)\">\r\n       <defs>\r\n        <path d=\"M 19.1875 8.296875 \r\nL 53.609375 8.296875 \r\nL 53.609375 0 \r\nL 7.328125 0 \r\nL 7.328125 8.296875 \r\nQ 12.9375 14.109375 22.625 23.890625 \r\nQ 32.328125 33.6875 34.8125 36.53125 \r\nQ 39.546875 41.84375 41.421875 45.53125 \r\nQ 43.3125 49.21875 43.3125 52.78125 \r\nQ 43.3125 58.59375 39.234375 62.25 \r\nQ 35.15625 65.921875 28.609375 65.921875 \r\nQ 23.96875 65.921875 18.8125 64.3125 \r\nQ 13.671875 62.703125 7.8125 59.421875 \r\nL 7.8125 69.390625 \r\nQ 13.765625 71.78125 18.9375 73 \r\nQ 24.125 74.21875 28.421875 74.21875 \r\nQ 39.75 74.21875 46.484375 68.546875 \r\nQ 53.21875 62.890625 53.21875 53.421875 \r\nQ 53.21875 48.921875 51.53125 44.890625 \r\nQ 49.859375 40.875 45.40625 35.40625 \r\nQ 44.1875 33.984375 37.640625 27.21875 \r\nQ 31.109375 20.453125 19.1875 8.296875 \r\nz\r\n\" id=\"DejaVuSans-50\"/>\r\n       </defs>\r\n       <use xlink:href=\"#DejaVuSans-50\"/>\r\n       <use x=\"63.623047\" xlink:href=\"#DejaVuSans-48\"/>\r\n       <use x=\"127.246094\" xlink:href=\"#DejaVuSans-48\"/>\r\n      </g>\r\n     </g>\r\n    </g>\r\n    <g id=\"xtick_6\">\r\n     <g id=\"line2d_6\">\r\n      <g>\r\n       <use style=\"stroke:#000000;stroke-width:0.8;\" x=\"353.43198\" xlink:href=\"#mc5d6c40de9\" y=\"239.758125\"/>\r\n      </g>\r\n     </g>\r\n     <g id=\"text_6\">\r\n      <!-- 250 -->\r\n      <g transform=\"translate(343.88823 254.356562)scale(0.1 -0.1)\">\r\n       <use xlink:href=\"#DejaVuSans-50\"/>\r\n       <use x=\"63.623047\" xlink:href=\"#DejaVuSans-53\"/>\r\n       <use x=\"127.246094\" xlink:href=\"#DejaVuSans-48\"/>\r\n      </g>\r\n     </g>\r\n    </g>\r\n    <g id=\"xtick_7\">\r\n     <g id=\"line2d_7\">\r\n      <g>\r\n       <use style=\"stroke:#000000;stroke-width:0.8;\" x=\"394.416189\" xlink:href=\"#mc5d6c40de9\" y=\"239.758125\"/>\r\n      </g>\r\n     </g>\r\n     <g id=\"text_7\">\r\n      <!-- 300 -->\r\n      <g transform=\"translate(384.872439 254.356562)scale(0.1 -0.1)\">\r\n       <defs>\r\n        <path d=\"M 40.578125 39.3125 \r\nQ 47.65625 37.796875 51.625 33 \r\nQ 55.609375 28.21875 55.609375 21.1875 \r\nQ 55.609375 10.40625 48.1875 4.484375 \r\nQ 40.765625 -1.421875 27.09375 -1.421875 \r\nQ 22.515625 -1.421875 17.65625 -0.515625 \r\nQ 12.796875 0.390625 7.625 2.203125 \r\nL 7.625 11.71875 \r\nQ 11.71875 9.328125 16.59375 8.109375 \r\nQ 21.484375 6.890625 26.8125 6.890625 \r\nQ 36.078125 6.890625 40.9375 10.546875 \r\nQ 45.796875 14.203125 45.796875 21.1875 \r\nQ 45.796875 27.640625 41.28125 31.265625 \r\nQ 36.765625 34.90625 28.71875 34.90625 \r\nL 20.21875 34.90625 \r\nL 20.21875 43.015625 \r\nL 29.109375 43.015625 \r\nQ 36.375 43.015625 40.234375 45.921875 \r\nQ 44.09375 48.828125 44.09375 54.296875 \r\nQ 44.09375 59.90625 40.109375 62.90625 \r\nQ 36.140625 65.921875 28.71875 65.921875 \r\nQ 24.65625 65.921875 20.015625 65.03125 \r\nQ 15.375 64.15625 9.8125 62.3125 \r\nL 9.8125 71.09375 \r\nQ 15.4375 72.65625 20.34375 73.4375 \r\nQ 25.25 74.21875 29.59375 74.21875 \r\nQ 40.828125 74.21875 47.359375 69.109375 \r\nQ 53.90625 64.015625 53.90625 55.328125 \r\nQ 53.90625 49.265625 50.4375 45.09375 \r\nQ 46.96875 40.921875 40.578125 39.3125 \r\nz\r\n\" id=\"DejaVuSans-51\"/>\r\n       </defs>\r\n       <use xlink:href=\"#DejaVuSans-51\"/>\r\n       <use x=\"63.623047\" xlink:href=\"#DejaVuSans-48\"/>\r\n       <use x=\"127.246094\" xlink:href=\"#DejaVuSans-48\"/>\r\n      </g>\r\n     </g>\r\n    </g>\r\n    <g id=\"xtick_8\">\r\n     <g id=\"line2d_8\">\r\n      <g>\r\n       <use style=\"stroke:#000000;stroke-width:0.8;\" x=\"435.400398\" xlink:href=\"#mc5d6c40de9\" y=\"239.758125\"/>\r\n      </g>\r\n     </g>\r\n     <g id=\"text_8\">\r\n      <!-- 350 -->\r\n      <g transform=\"translate(425.856648 254.356562)scale(0.1 -0.1)\">\r\n       <use xlink:href=\"#DejaVuSans-51\"/>\r\n       <use x=\"63.623047\" xlink:href=\"#DejaVuSans-53\"/>\r\n       <use x=\"127.246094\" xlink:href=\"#DejaVuSans-48\"/>\r\n      </g>\r\n     </g>\r\n    </g>\r\n    <g id=\"xtick_9\">\r\n     <g id=\"line2d_9\">\r\n      <g>\r\n       <use style=\"stroke:#000000;stroke-width:0.8;\" x=\"476.384606\" xlink:href=\"#mc5d6c40de9\" y=\"239.758125\"/>\r\n      </g>\r\n     </g>\r\n     <g id=\"text_9\">\r\n      <!-- 400 -->\r\n      <g transform=\"translate(466.840856 254.356562)scale(0.1 -0.1)\">\r\n       <defs>\r\n        <path d=\"M 37.796875 64.3125 \r\nL 12.890625 25.390625 \r\nL 37.796875 25.390625 \r\nz\r\nM 35.203125 72.90625 \r\nL 47.609375 72.90625 \r\nL 47.609375 25.390625 \r\nL 58.015625 25.390625 \r\nL 58.015625 17.1875 \r\nL 47.609375 17.1875 \r\nL 47.609375 0 \r\nL 37.796875 0 \r\nL 37.796875 17.1875 \r\nL 4.890625 17.1875 \r\nL 4.890625 26.703125 \r\nz\r\n\" id=\"DejaVuSans-52\"/>\r\n       </defs>\r\n       <use xlink:href=\"#DejaVuSans-52\"/>\r\n       <use x=\"63.623047\" xlink:href=\"#DejaVuSans-48\"/>\r\n       <use x=\"127.246094\" xlink:href=\"#DejaVuSans-48\"/>\r\n      </g>\r\n     </g>\r\n    </g>\r\n    <g id=\"text_10\">\r\n     <!-- Count -->\r\n     <g transform=\"translate(301.0625 268.034687)scale(0.1 -0.1)\">\r\n      <defs>\r\n       <path d=\"M 64.40625 67.28125 \r\nL 64.40625 56.890625 \r\nQ 59.421875 61.53125 53.78125 63.8125 \r\nQ 48.140625 66.109375 41.796875 66.109375 \r\nQ 29.296875 66.109375 22.65625 58.46875 \r\nQ 16.015625 50.828125 16.015625 36.375 \r\nQ 16.015625 21.96875 22.65625 14.328125 \r\nQ 29.296875 6.6875 41.796875 6.6875 \r\nQ 48.140625 6.6875 53.78125 8.984375 \r\nQ 59.421875 11.28125 64.40625 15.921875 \r\nL 64.40625 5.609375 \r\nQ 59.234375 2.09375 53.4375 0.328125 \r\nQ 47.65625 -1.421875 41.21875 -1.421875 \r\nQ 24.65625 -1.421875 15.125 8.703125 \r\nQ 5.609375 18.84375 5.609375 36.375 \r\nQ 5.609375 53.953125 15.125 64.078125 \r\nQ 24.65625 74.21875 41.21875 74.21875 \r\nQ 47.75 74.21875 53.53125 72.484375 \r\nQ 59.328125 70.75 64.40625 67.28125 \r\nz\r\n\" id=\"DejaVuSans-67\"/>\r\n       <path d=\"M 30.609375 48.390625 \r\nQ 23.390625 48.390625 19.1875 42.75 \r\nQ 14.984375 37.109375 14.984375 27.296875 \r\nQ 14.984375 17.484375 19.15625 11.84375 \r\nQ 23.34375 6.203125 30.609375 6.203125 \r\nQ 37.796875 6.203125 41.984375 11.859375 \r\nQ 46.1875 17.53125 46.1875 27.296875 \r\nQ 46.1875 37.015625 41.984375 42.703125 \r\nQ 37.796875 48.390625 30.609375 48.390625 \r\nz\r\nM 30.609375 56 \r\nQ 42.328125 56 49.015625 48.375 \r\nQ 55.71875 40.765625 55.71875 27.296875 \r\nQ 55.71875 13.875 49.015625 6.21875 \r\nQ 42.328125 -1.421875 30.609375 -1.421875 \r\nQ 18.84375 -1.421875 12.171875 6.21875 \r\nQ 5.515625 13.875 5.515625 27.296875 \r\nQ 5.515625 40.765625 12.171875 48.375 \r\nQ 18.84375 56 30.609375 56 \r\nz\r\n\" id=\"DejaVuSans-111\"/>\r\n       <path d=\"M 8.5 21.578125 \r\nL 8.5 54.6875 \r\nL 17.484375 54.6875 \r\nL 17.484375 21.921875 \r\nQ 17.484375 14.15625 20.5 10.265625 \r\nQ 23.53125 6.390625 29.59375 6.390625 \r\nQ 36.859375 6.390625 41.078125 11.03125 \r\nQ 45.3125 15.671875 45.3125 23.6875 \r\nL 45.3125 54.6875 \r\nL 54.296875 54.6875 \r\nL 54.296875 0 \r\nL 45.3125 0 \r\nL 45.3125 8.40625 \r\nQ 42.046875 3.421875 37.71875 1 \r\nQ 33.40625 -1.421875 27.6875 -1.421875 \r\nQ 18.265625 -1.421875 13.375 4.4375 \r\nQ 8.5 10.296875 8.5 21.578125 \r\nz\r\nM 31.109375 56 \r\nz\r\n\" id=\"DejaVuSans-117\"/>\r\n       <path d=\"M 54.890625 33.015625 \r\nL 54.890625 0 \r\nL 45.90625 0 \r\nL 45.90625 32.71875 \r\nQ 45.90625 40.484375 42.875 44.328125 \r\nQ 39.84375 48.1875 33.796875 48.1875 \r\nQ 26.515625 48.1875 22.3125 43.546875 \r\nQ 18.109375 38.921875 18.109375 30.90625 \r\nL 18.109375 0 \r\nL 9.078125 0 \r\nL 9.078125 54.6875 \r\nL 18.109375 54.6875 \r\nL 18.109375 46.1875 \r\nQ 21.34375 51.125 25.703125 53.5625 \r\nQ 30.078125 56 35.796875 56 \r\nQ 45.21875 56 50.046875 50.171875 \r\nQ 54.890625 44.34375 54.890625 33.015625 \r\nz\r\n\" id=\"DejaVuSans-110\"/>\r\n       <path d=\"M 18.3125 70.21875 \r\nL 18.3125 54.6875 \r\nL 36.8125 54.6875 \r\nL 36.8125 47.703125 \r\nL 18.3125 47.703125 \r\nL 18.3125 18.015625 \r\nQ 18.3125 11.328125 20.140625 9.421875 \r\nQ 21.96875 7.515625 27.59375 7.515625 \r\nL 36.8125 7.515625 \r\nL 36.8125 0 \r\nL 27.59375 0 \r\nQ 17.1875 0 13.234375 3.875 \r\nQ 9.28125 7.765625 9.28125 18.015625 \r\nL 9.28125 47.703125 \r\nL 2.6875 47.703125 \r\nL 2.6875 54.6875 \r\nL 9.28125 54.6875 \r\nL 9.28125 70.21875 \r\nz\r\n\" id=\"DejaVuSans-116\"/>\r\n      </defs>\r\n      <use xlink:href=\"#DejaVuSans-67\"/>\r\n      <use x=\"69.824219\" xlink:href=\"#DejaVuSans-111\"/>\r\n      <use x=\"131.005859\" xlink:href=\"#DejaVuSans-117\"/>\r\n      <use x=\"194.384766\" xlink:href=\"#DejaVuSans-110\"/>\r\n      <use x=\"257.763672\" xlink:href=\"#DejaVuSans-116\"/>\r\n     </g>\r\n    </g>\r\n   </g>\r\n   <g id=\"matplotlib.axis_2\">\r\n    <g id=\"ytick_1\">\r\n     <g id=\"line2d_10\">\r\n      <defs>\r\n       <path d=\"M 0 0 \r\nL -3.5 0 \r\n\" id=\"mef4bbc5b5c\" style=\"stroke:#000000;stroke-width:0.8;\"/>\r\n      </defs>\r\n      <g>\r\n       <use style=\"stroke:#000000;stroke-width:0.8;\" x=\"148.510938\" xlink:href=\"#mef4bbc5b5c\" y=\"221.806214\"/>\r\n      </g>\r\n     </g>\r\n     <g id=\"text_11\">\r\n      <!-- GIM MB8 ATX ... -->\r\n      <g transform=\"translate(62.240625 225.605433)scale(0.1 -0.1)\">\r\n       <defs>\r\n        <path d=\"M 59.515625 10.40625 \r\nL 59.515625 29.984375 \r\nL 43.40625 29.984375 \r\nL 43.40625 38.09375 \r\nL 69.28125 38.09375 \r\nL 69.28125 6.78125 \r\nQ 63.578125 2.734375 56.6875 0.65625 \r\nQ 49.8125 -1.421875 42 -1.421875 \r\nQ 24.90625 -1.421875 15.25 8.5625 \r\nQ 5.609375 18.5625 5.609375 36.375 \r\nQ 5.609375 54.25 15.25 64.234375 \r\nQ 24.90625 74.21875 42 74.21875 \r\nQ 49.125 74.21875 55.546875 72.453125 \r\nQ 61.96875 70.703125 67.390625 67.28125 \r\nL 67.390625 56.78125 \r\nQ 61.921875 61.421875 55.765625 63.765625 \r\nQ 49.609375 66.109375 42.828125 66.109375 \r\nQ 29.4375 66.109375 22.71875 58.640625 \r\nQ 16.015625 51.171875 16.015625 36.375 \r\nQ 16.015625 21.625 22.71875 14.15625 \r\nQ 29.4375 6.6875 42.828125 6.6875 \r\nQ 48.046875 6.6875 52.140625 7.59375 \r\nQ 56.25 8.5 59.515625 10.40625 \r\nz\r\n\" id=\"DejaVuSans-71\"/>\r\n        <path d=\"M 9.8125 72.90625 \r\nL 19.671875 72.90625 \r\nL 19.671875 0 \r\nL 9.8125 0 \r\nz\r\n\" id=\"DejaVuSans-73\"/>\r\n        <path d=\"M 9.8125 72.90625 \r\nL 24.515625 72.90625 \r\nL 43.109375 23.296875 \r\nL 61.8125 72.90625 \r\nL 76.515625 72.90625 \r\nL 76.515625 0 \r\nL 66.890625 0 \r\nL 66.890625 64.015625 \r\nL 48.09375 14.015625 \r\nL 38.1875 14.015625 \r\nL 19.390625 64.015625 \r\nL 19.390625 0 \r\nL 9.8125 0 \r\nz\r\n\" id=\"DejaVuSans-77\"/>\r\n        <path id=\"DejaVuSans-32\"/>\r\n        <path d=\"M 19.671875 34.8125 \r\nL 19.671875 8.109375 \r\nL 35.5 8.109375 \r\nQ 43.453125 8.109375 47.28125 11.40625 \r\nQ 51.125 14.703125 51.125 21.484375 \r\nQ 51.125 28.328125 47.28125 31.5625 \r\nQ 43.453125 34.8125 35.5 34.8125 \r\nz\r\nM 19.671875 64.796875 \r\nL 19.671875 42.828125 \r\nL 34.28125 42.828125 \r\nQ 41.5 42.828125 45.03125 45.53125 \r\nQ 48.578125 48.25 48.578125 53.8125 \r\nQ 48.578125 59.328125 45.03125 62.0625 \r\nQ 41.5 64.796875 34.28125 64.796875 \r\nz\r\nM 9.8125 72.90625 \r\nL 35.015625 72.90625 \r\nQ 46.296875 72.90625 52.390625 68.21875 \r\nQ 58.5 63.53125 58.5 54.890625 \r\nQ 58.5 48.1875 55.375 44.234375 \r\nQ 52.25 40.28125 46.1875 39.3125 \r\nQ 53.46875 37.75 57.5 32.78125 \r\nQ 61.53125 27.828125 61.53125 20.40625 \r\nQ 61.53125 10.640625 54.890625 5.3125 \r\nQ 48.25 0 35.984375 0 \r\nL 9.8125 0 \r\nz\r\n\" id=\"DejaVuSans-66\"/>\r\n        <path d=\"M 31.78125 34.625 \r\nQ 24.75 34.625 20.71875 30.859375 \r\nQ 16.703125 27.09375 16.703125 20.515625 \r\nQ 16.703125 13.921875 20.71875 10.15625 \r\nQ 24.75 6.390625 31.78125 6.390625 \r\nQ 38.8125 6.390625 42.859375 10.171875 \r\nQ 46.921875 13.96875 46.921875 20.515625 \r\nQ 46.921875 27.09375 42.890625 30.859375 \r\nQ 38.875 34.625 31.78125 34.625 \r\nz\r\nM 21.921875 38.8125 \r\nQ 15.578125 40.375 12.03125 44.71875 \r\nQ 8.5 49.078125 8.5 55.328125 \r\nQ 8.5 64.0625 14.71875 69.140625 \r\nQ 20.953125 74.21875 31.78125 74.21875 \r\nQ 42.671875 74.21875 48.875 69.140625 \r\nQ 55.078125 64.0625 55.078125 55.328125 \r\nQ 55.078125 49.078125 51.53125 44.71875 \r\nQ 48 40.375 41.703125 38.8125 \r\nQ 48.828125 37.15625 52.796875 32.3125 \r\nQ 56.78125 27.484375 56.78125 20.515625 \r\nQ 56.78125 9.90625 50.3125 4.234375 \r\nQ 43.84375 -1.421875 31.78125 -1.421875 \r\nQ 19.734375 -1.421875 13.25 4.234375 \r\nQ 6.78125 9.90625 6.78125 20.515625 \r\nQ 6.78125 27.484375 10.78125 32.3125 \r\nQ 14.796875 37.15625 21.921875 38.8125 \r\nz\r\nM 18.3125 54.390625 \r\nQ 18.3125 48.734375 21.84375 45.5625 \r\nQ 25.390625 42.390625 31.78125 42.390625 \r\nQ 38.140625 42.390625 41.71875 45.5625 \r\nQ 45.3125 48.734375 45.3125 54.390625 \r\nQ 45.3125 60.0625 41.71875 63.234375 \r\nQ 38.140625 66.40625 31.78125 66.40625 \r\nQ 25.390625 66.40625 21.84375 63.234375 \r\nQ 18.3125 60.0625 18.3125 54.390625 \r\nz\r\n\" id=\"DejaVuSans-56\"/>\r\n        <path d=\"M 34.1875 63.1875 \r\nL 20.796875 26.90625 \r\nL 47.609375 26.90625 \r\nz\r\nM 28.609375 72.90625 \r\nL 39.796875 72.90625 \r\nL 67.578125 0 \r\nL 57.328125 0 \r\nL 50.6875 18.703125 \r\nL 17.828125 18.703125 \r\nL 11.1875 0 \r\nL 0.78125 0 \r\nz\r\n\" id=\"DejaVuSans-65\"/>\r\n        <path d=\"M -0.296875 72.90625 \r\nL 61.375 72.90625 \r\nL 61.375 64.59375 \r\nL 35.5 64.59375 \r\nL 35.5 0 \r\nL 25.59375 0 \r\nL 25.59375 64.59375 \r\nL -0.296875 64.59375 \r\nz\r\n\" id=\"DejaVuSans-84\"/>\r\n        <path d=\"M 6.296875 72.90625 \r\nL 16.890625 72.90625 \r\nL 35.015625 45.796875 \r\nL 53.21875 72.90625 \r\nL 63.8125 72.90625 \r\nL 40.375 37.890625 \r\nL 65.375 0 \r\nL 54.78125 0 \r\nL 34.28125 31 \r\nL 13.625 0 \r\nL 2.984375 0 \r\nL 29 38.921875 \r\nz\r\n\" id=\"DejaVuSans-88\"/>\r\n        <path d=\"M 10.6875 12.40625 \r\nL 21 12.40625 \r\nL 21 0 \r\nL 10.6875 0 \r\nz\r\n\" id=\"DejaVuSans-46\"/>\r\n       </defs>\r\n       <use xlink:href=\"#DejaVuSans-71\"/>\r\n       <use x=\"77.490234\" xlink:href=\"#DejaVuSans-73\"/>\r\n       <use x=\"106.982422\" xlink:href=\"#DejaVuSans-77\"/>\r\n       <use x=\"193.261719\" xlink:href=\"#DejaVuSans-32\"/>\r\n       <use x=\"225.048828\" xlink:href=\"#DejaVuSans-77\"/>\r\n       <use x=\"311.328125\" xlink:href=\"#DejaVuSans-66\"/>\r\n       <use x=\"379.931641\" xlink:href=\"#DejaVuSans-56\"/>\r\n       <use x=\"443.554688\" xlink:href=\"#DejaVuSans-32\"/>\r\n       <use x=\"475.341797\" xlink:href=\"#DejaVuSans-65\"/>\r\n       <use x=\"536\" xlink:href=\"#DejaVuSans-84\"/>\r\n       <use x=\"597.083984\" xlink:href=\"#DejaVuSans-88\"/>\r\n       <use x=\"665.589844\" xlink:href=\"#DejaVuSans-32\"/>\r\n       <use x=\"697.376953\" xlink:href=\"#DejaVuSans-46\"/>\r\n       <use x=\"729.164062\" xlink:href=\"#DejaVuSans-46\"/>\r\n       <use x=\"760.951172\" xlink:href=\"#DejaVuSans-46\"/>\r\n      </g>\r\n     </g>\r\n    </g>\r\n    <g id=\"ytick_2\">\r\n     <g id=\"line2d_11\">\r\n      <g>\r\n       <use style=\"stroke:#000000;stroke-width:0.8;\" x=\"148.510938\" xlink:href=\"#mef4bbc5b5c\" y=\"201.635528\"/>\r\n      </g>\r\n     </g>\r\n     <g id=\"text_12\">\r\n      <!-- Noctua NF-P12 ... -->\r\n      <g transform=\"translate(54.540625 205.434746)scale(0.1 -0.1)\">\r\n       <defs>\r\n        <path d=\"M 9.8125 72.90625 \r\nL 23.09375 72.90625 \r\nL 55.421875 11.921875 \r\nL 55.421875 72.90625 \r\nL 64.984375 72.90625 \r\nL 64.984375 0 \r\nL 51.703125 0 \r\nL 19.390625 60.984375 \r\nL 19.390625 0 \r\nL 9.8125 0 \r\nz\r\n\" id=\"DejaVuSans-78\"/>\r\n        <path d=\"M 48.78125 52.59375 \r\nL 48.78125 44.1875 \r\nQ 44.96875 46.296875 41.140625 47.34375 \r\nQ 37.3125 48.390625 33.40625 48.390625 \r\nQ 24.65625 48.390625 19.8125 42.84375 \r\nQ 14.984375 37.3125 14.984375 27.296875 \r\nQ 14.984375 17.28125 19.8125 11.734375 \r\nQ 24.65625 6.203125 33.40625 6.203125 \r\nQ 37.3125 6.203125 41.140625 7.25 \r\nQ 44.96875 8.296875 48.78125 10.40625 \r\nL 48.78125 2.09375 \r\nQ 45.015625 0.34375 40.984375 -0.53125 \r\nQ 36.96875 -1.421875 32.421875 -1.421875 \r\nQ 20.0625 -1.421875 12.78125 6.34375 \r\nQ 5.515625 14.109375 5.515625 27.296875 \r\nQ 5.515625 40.671875 12.859375 48.328125 \r\nQ 20.21875 56 33.015625 56 \r\nQ 37.15625 56 41.109375 55.140625 \r\nQ 45.0625 54.296875 48.78125 52.59375 \r\nz\r\n\" id=\"DejaVuSans-99\"/>\r\n        <path d=\"M 34.28125 27.484375 \r\nQ 23.390625 27.484375 19.1875 25 \r\nQ 14.984375 22.515625 14.984375 16.5 \r\nQ 14.984375 11.71875 18.140625 8.90625 \r\nQ 21.296875 6.109375 26.703125 6.109375 \r\nQ 34.1875 6.109375 38.703125 11.40625 \r\nQ 43.21875 16.703125 43.21875 25.484375 \r\nL 43.21875 27.484375 \r\nz\r\nM 52.203125 31.203125 \r\nL 52.203125 0 \r\nL 43.21875 0 \r\nL 43.21875 8.296875 \r\nQ 40.140625 3.328125 35.546875 0.953125 \r\nQ 30.953125 -1.421875 24.3125 -1.421875 \r\nQ 15.921875 -1.421875 10.953125 3.296875 \r\nQ 6 8.015625 6 15.921875 \r\nQ 6 25.140625 12.171875 29.828125 \r\nQ 18.359375 34.515625 30.609375 34.515625 \r\nL 43.21875 34.515625 \r\nL 43.21875 35.40625 \r\nQ 43.21875 41.609375 39.140625 45 \r\nQ 35.0625 48.390625 27.6875 48.390625 \r\nQ 23 48.390625 18.546875 47.265625 \r\nQ 14.109375 46.140625 10.015625 43.890625 \r\nL 10.015625 52.203125 \r\nQ 14.9375 54.109375 19.578125 55.046875 \r\nQ 24.21875 56 28.609375 56 \r\nQ 40.484375 56 46.34375 49.84375 \r\nQ 52.203125 43.703125 52.203125 31.203125 \r\nz\r\n\" id=\"DejaVuSans-97\"/>\r\n        <path d=\"M 9.8125 72.90625 \r\nL 51.703125 72.90625 \r\nL 51.703125 64.59375 \r\nL 19.671875 64.59375 \r\nL 19.671875 43.109375 \r\nL 48.578125 43.109375 \r\nL 48.578125 34.8125 \r\nL 19.671875 34.8125 \r\nL 19.671875 0 \r\nL 9.8125 0 \r\nz\r\n\" id=\"DejaVuSans-70\"/>\r\n        <path d=\"M 4.890625 31.390625 \r\nL 31.203125 31.390625 \r\nL 31.203125 23.390625 \r\nL 4.890625 23.390625 \r\nz\r\n\" id=\"DejaVuSans-45\"/>\r\n        <path d=\"M 19.671875 64.796875 \r\nL 19.671875 37.40625 \r\nL 32.078125 37.40625 \r\nQ 38.96875 37.40625 42.71875 40.96875 \r\nQ 46.484375 44.53125 46.484375 51.125 \r\nQ 46.484375 57.671875 42.71875 61.234375 \r\nQ 38.96875 64.796875 32.078125 64.796875 \r\nz\r\nM 9.8125 72.90625 \r\nL 32.078125 72.90625 \r\nQ 44.34375 72.90625 50.609375 67.359375 \r\nQ 56.890625 61.8125 56.890625 51.125 \r\nQ 56.890625 40.328125 50.609375 34.8125 \r\nQ 44.34375 29.296875 32.078125 29.296875 \r\nL 19.671875 29.296875 \r\nL 19.671875 0 \r\nL 9.8125 0 \r\nz\r\n\" id=\"DejaVuSans-80\"/>\r\n       </defs>\r\n       <use xlink:href=\"#DejaVuSans-78\"/>\r\n       <use x=\"74.804688\" xlink:href=\"#DejaVuSans-111\"/>\r\n       <use x=\"135.986328\" xlink:href=\"#DejaVuSans-99\"/>\r\n       <use x=\"190.966797\" xlink:href=\"#DejaVuSans-116\"/>\r\n       <use x=\"230.175781\" xlink:href=\"#DejaVuSans-117\"/>\r\n       <use x=\"293.554688\" xlink:href=\"#DejaVuSans-97\"/>\r\n       <use x=\"354.833984\" xlink:href=\"#DejaVuSans-32\"/>\r\n       <use x=\"386.621094\" xlink:href=\"#DejaVuSans-78\"/>\r\n       <use x=\"461.425781\" xlink:href=\"#DejaVuSans-70\"/>\r\n       <use x=\"518.945312\" xlink:href=\"#DejaVuSans-45\"/>\r\n       <use x=\"555.029297\" xlink:href=\"#DejaVuSans-80\"/>\r\n       <use x=\"615.332031\" xlink:href=\"#DejaVuSans-49\"/>\r\n       <use x=\"678.955078\" xlink:href=\"#DejaVuSans-50\"/>\r\n       <use x=\"742.578125\" xlink:href=\"#DejaVuSans-32\"/>\r\n       <use x=\"774.365234\" xlink:href=\"#DejaVuSans-46\"/>\r\n       <use x=\"806.152344\" xlink:href=\"#DejaVuSans-46\"/>\r\n       <use x=\"837.939453\" xlink:href=\"#DejaVuSans-46\"/>\r\n      </g>\r\n     </g>\r\n    </g>\r\n    <g id=\"ytick_3\">\r\n     <g id=\"line2d_12\">\r\n      <g>\r\n       <use style=\"stroke:#000000;stroke-width:0.8;\" x=\"148.510938\" xlink:href=\"#mef4bbc5b5c\" y=\"181.464841\"/>\r\n      </g>\r\n     </g>\r\n     <g id=\"text_13\">\r\n      <!-- Omnihil 8 Feet ... -->\r\n      <g transform=\"translate(56.029688 185.26406)scale(0.1 -0.1)\">\r\n       <defs>\r\n        <path d=\"M 39.40625 66.21875 \r\nQ 28.65625 66.21875 22.328125 58.203125 \r\nQ 16.015625 50.203125 16.015625 36.375 \r\nQ 16.015625 22.609375 22.328125 14.59375 \r\nQ 28.65625 6.59375 39.40625 6.59375 \r\nQ 50.140625 6.59375 56.421875 14.59375 \r\nQ 62.703125 22.609375 62.703125 36.375 \r\nQ 62.703125 50.203125 56.421875 58.203125 \r\nQ 50.140625 66.21875 39.40625 66.21875 \r\nz\r\nM 39.40625 74.21875 \r\nQ 54.734375 74.21875 63.90625 63.9375 \r\nQ 73.09375 53.65625 73.09375 36.375 \r\nQ 73.09375 19.140625 63.90625 8.859375 \r\nQ 54.734375 -1.421875 39.40625 -1.421875 \r\nQ 24.03125 -1.421875 14.8125 8.828125 \r\nQ 5.609375 19.09375 5.609375 36.375 \r\nQ 5.609375 53.65625 14.8125 63.9375 \r\nQ 24.03125 74.21875 39.40625 74.21875 \r\nz\r\n\" id=\"DejaVuSans-79\"/>\r\n        <path d=\"M 52 44.1875 \r\nQ 55.375 50.25 60.0625 53.125 \r\nQ 64.75 56 71.09375 56 \r\nQ 79.640625 56 84.28125 50.015625 \r\nQ 88.921875 44.046875 88.921875 33.015625 \r\nL 88.921875 0 \r\nL 79.890625 0 \r\nL 79.890625 32.71875 \r\nQ 79.890625 40.578125 77.09375 44.375 \r\nQ 74.3125 48.1875 68.609375 48.1875 \r\nQ 61.625 48.1875 57.5625 43.546875 \r\nQ 53.515625 38.921875 53.515625 30.90625 \r\nL 53.515625 0 \r\nL 44.484375 0 \r\nL 44.484375 32.71875 \r\nQ 44.484375 40.625 41.703125 44.40625 \r\nQ 38.921875 48.1875 33.109375 48.1875 \r\nQ 26.21875 48.1875 22.15625 43.53125 \r\nQ 18.109375 38.875 18.109375 30.90625 \r\nL 18.109375 0 \r\nL 9.078125 0 \r\nL 9.078125 54.6875 \r\nL 18.109375 54.6875 \r\nL 18.109375 46.1875 \r\nQ 21.1875 51.21875 25.484375 53.609375 \r\nQ 29.78125 56 35.6875 56 \r\nQ 41.65625 56 45.828125 52.96875 \r\nQ 50 49.953125 52 44.1875 \r\nz\r\n\" id=\"DejaVuSans-109\"/>\r\n        <path d=\"M 9.421875 54.6875 \r\nL 18.40625 54.6875 \r\nL 18.40625 0 \r\nL 9.421875 0 \r\nz\r\nM 9.421875 75.984375 \r\nL 18.40625 75.984375 \r\nL 18.40625 64.59375 \r\nL 9.421875 64.59375 \r\nz\r\n\" id=\"DejaVuSans-105\"/>\r\n        <path d=\"M 54.890625 33.015625 \r\nL 54.890625 0 \r\nL 45.90625 0 \r\nL 45.90625 32.71875 \r\nQ 45.90625 40.484375 42.875 44.328125 \r\nQ 39.84375 48.1875 33.796875 48.1875 \r\nQ 26.515625 48.1875 22.3125 43.546875 \r\nQ 18.109375 38.921875 18.109375 30.90625 \r\nL 18.109375 0 \r\nL 9.078125 0 \r\nL 9.078125 75.984375 \r\nL 18.109375 75.984375 \r\nL 18.109375 46.1875 \r\nQ 21.34375 51.125 25.703125 53.5625 \r\nQ 30.078125 56 35.796875 56 \r\nQ 45.21875 56 50.046875 50.171875 \r\nQ 54.890625 44.34375 54.890625 33.015625 \r\nz\r\n\" id=\"DejaVuSans-104\"/>\r\n        <path d=\"M 9.421875 75.984375 \r\nL 18.40625 75.984375 \r\nL 18.40625 0 \r\nL 9.421875 0 \r\nz\r\n\" id=\"DejaVuSans-108\"/>\r\n        <path d=\"M 56.203125 29.59375 \r\nL 56.203125 25.203125 \r\nL 14.890625 25.203125 \r\nQ 15.484375 15.921875 20.484375 11.0625 \r\nQ 25.484375 6.203125 34.421875 6.203125 \r\nQ 39.59375 6.203125 44.453125 7.46875 \r\nQ 49.3125 8.734375 54.109375 11.28125 \r\nL 54.109375 2.78125 \r\nQ 49.265625 0.734375 44.1875 -0.34375 \r\nQ 39.109375 -1.421875 33.890625 -1.421875 \r\nQ 20.796875 -1.421875 13.15625 6.1875 \r\nQ 5.515625 13.8125 5.515625 26.8125 \r\nQ 5.515625 40.234375 12.765625 48.109375 \r\nQ 20.015625 56 32.328125 56 \r\nQ 43.359375 56 49.78125 48.890625 \r\nQ 56.203125 41.796875 56.203125 29.59375 \r\nz\r\nM 47.21875 32.234375 \r\nQ 47.125 39.59375 43.09375 43.984375 \r\nQ 39.0625 48.390625 32.421875 48.390625 \r\nQ 24.90625 48.390625 20.390625 44.140625 \r\nQ 15.875 39.890625 15.1875 32.171875 \r\nz\r\n\" id=\"DejaVuSans-101\"/>\r\n       </defs>\r\n       <use xlink:href=\"#DejaVuSans-79\"/>\r\n       <use x=\"78.710938\" xlink:href=\"#DejaVuSans-109\"/>\r\n       <use x=\"176.123047\" xlink:href=\"#DejaVuSans-110\"/>\r\n       <use x=\"239.501953\" xlink:href=\"#DejaVuSans-105\"/>\r\n       <use x=\"267.285156\" xlink:href=\"#DejaVuSans-104\"/>\r\n       <use x=\"330.664062\" xlink:href=\"#DejaVuSans-105\"/>\r\n       <use x=\"358.447266\" xlink:href=\"#DejaVuSans-108\"/>\r\n       <use x=\"386.230469\" xlink:href=\"#DejaVuSans-32\"/>\r\n       <use x=\"418.017578\" xlink:href=\"#DejaVuSans-56\"/>\r\n       <use x=\"481.640625\" xlink:href=\"#DejaVuSans-32\"/>\r\n       <use x=\"513.427734\" xlink:href=\"#DejaVuSans-70\"/>\r\n       <use x=\"565.447266\" xlink:href=\"#DejaVuSans-101\"/>\r\n       <use x=\"626.970703\" xlink:href=\"#DejaVuSans-101\"/>\r\n       <use x=\"688.494141\" xlink:href=\"#DejaVuSans-116\"/>\r\n       <use x=\"727.703125\" xlink:href=\"#DejaVuSans-32\"/>\r\n       <use x=\"759.490234\" xlink:href=\"#DejaVuSans-46\"/>\r\n       <use x=\"791.277344\" xlink:href=\"#DejaVuSans-46\"/>\r\n       <use x=\"823.064453\" xlink:href=\"#DejaVuSans-46\"/>\r\n      </g>\r\n     </g>\r\n    </g>\r\n    <g id=\"ytick_4\">\r\n     <g id=\"line2d_13\">\r\n      <g>\r\n       <use style=\"stroke:#000000;stroke-width:0.8;\" x=\"148.510938\" xlink:href=\"#mef4bbc5b5c\" y=\"161.294155\"/>\r\n      </g>\r\n     </g>\r\n     <g id=\"text_14\">\r\n      <!-- Industrial Rugged ... -->\r\n      <g transform=\"translate(40.6875 165.093373)scale(0.1 -0.1)\">\r\n       <defs>\r\n        <path d=\"M 45.40625 46.390625 \r\nL 45.40625 75.984375 \r\nL 54.390625 75.984375 \r\nL 54.390625 0 \r\nL 45.40625 0 \r\nL 45.40625 8.203125 \r\nQ 42.578125 3.328125 38.25 0.953125 \r\nQ 33.9375 -1.421875 27.875 -1.421875 \r\nQ 17.96875 -1.421875 11.734375 6.484375 \r\nQ 5.515625 14.40625 5.515625 27.296875 \r\nQ 5.515625 40.1875 11.734375 48.09375 \r\nQ 17.96875 56 27.875 56 \r\nQ 33.9375 56 38.25 53.625 \r\nQ 42.578125 51.265625 45.40625 46.390625 \r\nz\r\nM 14.796875 27.296875 \r\nQ 14.796875 17.390625 18.875 11.75 \r\nQ 22.953125 6.109375 30.078125 6.109375 \r\nQ 37.203125 6.109375 41.296875 11.75 \r\nQ 45.40625 17.390625 45.40625 27.296875 \r\nQ 45.40625 37.203125 41.296875 42.84375 \r\nQ 37.203125 48.484375 30.078125 48.484375 \r\nQ 22.953125 48.484375 18.875 42.84375 \r\nQ 14.796875 37.203125 14.796875 27.296875 \r\nz\r\n\" id=\"DejaVuSans-100\"/>\r\n        <path d=\"M 44.28125 53.078125 \r\nL 44.28125 44.578125 \r\nQ 40.484375 46.53125 36.375 47.5 \r\nQ 32.28125 48.484375 27.875 48.484375 \r\nQ 21.1875 48.484375 17.84375 46.4375 \r\nQ 14.5 44.390625 14.5 40.28125 \r\nQ 14.5 37.15625 16.890625 35.375 \r\nQ 19.28125 33.59375 26.515625 31.984375 \r\nL 29.59375 31.296875 \r\nQ 39.15625 29.25 43.1875 25.515625 \r\nQ 47.21875 21.78125 47.21875 15.09375 \r\nQ 47.21875 7.46875 41.1875 3.015625 \r\nQ 35.15625 -1.421875 24.609375 -1.421875 \r\nQ 20.21875 -1.421875 15.453125 -0.5625 \r\nQ 10.6875 0.296875 5.421875 2 \r\nL 5.421875 11.28125 \r\nQ 10.40625 8.6875 15.234375 7.390625 \r\nQ 20.0625 6.109375 24.8125 6.109375 \r\nQ 31.15625 6.109375 34.5625 8.28125 \r\nQ 37.984375 10.453125 37.984375 14.40625 \r\nQ 37.984375 18.0625 35.515625 20.015625 \r\nQ 33.0625 21.96875 24.703125 23.78125 \r\nL 21.578125 24.515625 \r\nQ 13.234375 26.265625 9.515625 29.90625 \r\nQ 5.8125 33.546875 5.8125 39.890625 \r\nQ 5.8125 47.609375 11.28125 51.796875 \r\nQ 16.75 56 26.8125 56 \r\nQ 31.78125 56 36.171875 55.265625 \r\nQ 40.578125 54.546875 44.28125 53.078125 \r\nz\r\n\" id=\"DejaVuSans-115\"/>\r\n        <path d=\"M 41.109375 46.296875 \r\nQ 39.59375 47.171875 37.8125 47.578125 \r\nQ 36.03125 48 33.890625 48 \r\nQ 26.265625 48 22.1875 43.046875 \r\nQ 18.109375 38.09375 18.109375 28.8125 \r\nL 18.109375 0 \r\nL 9.078125 0 \r\nL 9.078125 54.6875 \r\nL 18.109375 54.6875 \r\nL 18.109375 46.1875 \r\nQ 20.953125 51.171875 25.484375 53.578125 \r\nQ 30.03125 56 36.53125 56 \r\nQ 37.453125 56 38.578125 55.875 \r\nQ 39.703125 55.765625 41.0625 55.515625 \r\nz\r\n\" id=\"DejaVuSans-114\"/>\r\n        <path d=\"M 44.390625 34.1875 \r\nQ 47.5625 33.109375 50.5625 29.59375 \r\nQ 53.5625 26.078125 56.59375 19.921875 \r\nL 66.609375 0 \r\nL 56 0 \r\nL 46.6875 18.703125 \r\nQ 43.0625 26.03125 39.671875 28.421875 \r\nQ 36.28125 30.8125 30.421875 30.8125 \r\nL 19.671875 30.8125 \r\nL 19.671875 0 \r\nL 9.8125 0 \r\nL 9.8125 72.90625 \r\nL 32.078125 72.90625 \r\nQ 44.578125 72.90625 50.734375 67.671875 \r\nQ 56.890625 62.453125 56.890625 51.90625 \r\nQ 56.890625 45.015625 53.6875 40.46875 \r\nQ 50.484375 35.9375 44.390625 34.1875 \r\nz\r\nM 19.671875 64.796875 \r\nL 19.671875 38.921875 \r\nL 32.078125 38.921875 \r\nQ 39.203125 38.921875 42.84375 42.21875 \r\nQ 46.484375 45.515625 46.484375 51.90625 \r\nQ 46.484375 58.296875 42.84375 61.546875 \r\nQ 39.203125 64.796875 32.078125 64.796875 \r\nz\r\n\" id=\"DejaVuSans-82\"/>\r\n        <path d=\"M 45.40625 27.984375 \r\nQ 45.40625 37.75 41.375 43.109375 \r\nQ 37.359375 48.484375 30.078125 48.484375 \r\nQ 22.859375 48.484375 18.828125 43.109375 \r\nQ 14.796875 37.75 14.796875 27.984375 \r\nQ 14.796875 18.265625 18.828125 12.890625 \r\nQ 22.859375 7.515625 30.078125 7.515625 \r\nQ 37.359375 7.515625 41.375 12.890625 \r\nQ 45.40625 18.265625 45.40625 27.984375 \r\nz\r\nM 54.390625 6.78125 \r\nQ 54.390625 -7.171875 48.1875 -13.984375 \r\nQ 42 -20.796875 29.203125 -20.796875 \r\nQ 24.46875 -20.796875 20.265625 -20.09375 \r\nQ 16.0625 -19.390625 12.109375 -17.921875 \r\nL 12.109375 -9.1875 \r\nQ 16.0625 -11.328125 19.921875 -12.34375 \r\nQ 23.78125 -13.375 27.78125 -13.375 \r\nQ 36.625 -13.375 41.015625 -8.765625 \r\nQ 45.40625 -4.15625 45.40625 5.171875 \r\nL 45.40625 9.625 \r\nQ 42.625 4.78125 38.28125 2.390625 \r\nQ 33.9375 0 27.875 0 \r\nQ 17.828125 0 11.671875 7.65625 \r\nQ 5.515625 15.328125 5.515625 27.984375 \r\nQ 5.515625 40.671875 11.671875 48.328125 \r\nQ 17.828125 56 27.875 56 \r\nQ 33.9375 56 38.28125 53.609375 \r\nQ 42.625 51.21875 45.40625 46.390625 \r\nL 45.40625 54.6875 \r\nL 54.390625 54.6875 \r\nz\r\n\" id=\"DejaVuSans-103\"/>\r\n       </defs>\r\n       <use xlink:href=\"#DejaVuSans-73\"/>\r\n       <use x=\"29.492188\" xlink:href=\"#DejaVuSans-110\"/>\r\n       <use x=\"92.871094\" xlink:href=\"#DejaVuSans-100\"/>\r\n       <use x=\"156.347656\" xlink:href=\"#DejaVuSans-117\"/>\r\n       <use x=\"219.726562\" xlink:href=\"#DejaVuSans-115\"/>\r\n       <use x=\"271.826172\" xlink:href=\"#DejaVuSans-116\"/>\r\n       <use x=\"311.035156\" xlink:href=\"#DejaVuSans-114\"/>\r\n       <use x=\"352.148438\" xlink:href=\"#DejaVuSans-105\"/>\r\n       <use x=\"379.931641\" xlink:href=\"#DejaVuSans-97\"/>\r\n       <use x=\"441.210938\" xlink:href=\"#DejaVuSans-108\"/>\r\n       <use x=\"468.994141\" xlink:href=\"#DejaVuSans-32\"/>\r\n       <use x=\"500.78125\" xlink:href=\"#DejaVuSans-82\"/>\r\n       <use x=\"565.763672\" xlink:href=\"#DejaVuSans-117\"/>\r\n       <use x=\"629.142578\" xlink:href=\"#DejaVuSans-103\"/>\r\n       <use x=\"692.619141\" xlink:href=\"#DejaVuSans-103\"/>\r\n       <use x=\"756.095703\" xlink:href=\"#DejaVuSans-101\"/>\r\n       <use x=\"817.619141\" xlink:href=\"#DejaVuSans-100\"/>\r\n       <use x=\"881.095703\" xlink:href=\"#DejaVuSans-32\"/>\r\n       <use x=\"912.882812\" xlink:href=\"#DejaVuSans-46\"/>\r\n       <use x=\"944.669922\" xlink:href=\"#DejaVuSans-46\"/>\r\n       <use x=\"976.457031\" xlink:href=\"#DejaVuSans-46\"/>\r\n      </g>\r\n     </g>\r\n    </g>\r\n    <g id=\"ytick_5\">\r\n     <g id=\"line2d_14\">\r\n      <g>\r\n       <use style=\"stroke:#000000;stroke-width:0.8;\" x=\"148.510938\" xlink:href=\"#mef4bbc5b5c\" y=\"141.123468\"/>\r\n      </g>\r\n     </g>\r\n     <g id=\"text_15\">\r\n      <!-- Cooler Master ... -->\r\n      <g transform=\"translate(59.207813 144.922687)scale(0.1 -0.1)\">\r\n       <use xlink:href=\"#DejaVuSans-67\"/>\r\n       <use x=\"69.824219\" xlink:href=\"#DejaVuSans-111\"/>\r\n       <use x=\"131.005859\" xlink:href=\"#DejaVuSans-111\"/>\r\n       <use x=\"192.1875\" xlink:href=\"#DejaVuSans-108\"/>\r\n       <use x=\"219.970703\" xlink:href=\"#DejaVuSans-101\"/>\r\n       <use x=\"281.494141\" xlink:href=\"#DejaVuSans-114\"/>\r\n       <use x=\"322.607422\" xlink:href=\"#DejaVuSans-32\"/>\r\n       <use x=\"354.394531\" xlink:href=\"#DejaVuSans-77\"/>\r\n       <use x=\"440.673828\" xlink:href=\"#DejaVuSans-97\"/>\r\n       <use x=\"501.953125\" xlink:href=\"#DejaVuSans-115\"/>\r\n       <use x=\"554.052734\" xlink:href=\"#DejaVuSans-116\"/>\r\n       <use x=\"593.261719\" xlink:href=\"#DejaVuSans-101\"/>\r\n       <use x=\"654.785156\" xlink:href=\"#DejaVuSans-114\"/>\r\n       <use x=\"695.898438\" xlink:href=\"#DejaVuSans-32\"/>\r\n       <use x=\"727.685547\" xlink:href=\"#DejaVuSans-46\"/>\r\n       <use x=\"759.472656\" xlink:href=\"#DejaVuSans-46\"/>\r\n       <use x=\"791.259766\" xlink:href=\"#DejaVuSans-46\"/>\r\n      </g>\r\n     </g>\r\n    </g>\r\n    <g id=\"ytick_6\">\r\n     <g id=\"line2d_15\">\r\n      <g>\r\n       <use style=\"stroke:#000000;stroke-width:0.8;\" x=\"148.510938\" xlink:href=\"#mef4bbc5b5c\" y=\"120.952782\"/>\r\n      </g>\r\n     </g>\r\n     <g id=\"text_16\">\r\n      <!-- Industrial Rugged 2tp ... -->\r\n      <g transform=\"translate(20.878125 124.752001)scale(0.1 -0.1)\">\r\n       <defs>\r\n        <path d=\"M 18.109375 8.203125 \r\nL 18.109375 -20.796875 \r\nL 9.078125 -20.796875 \r\nL 9.078125 54.6875 \r\nL 18.109375 54.6875 \r\nL 18.109375 46.390625 \r\nQ 20.953125 51.265625 25.265625 53.625 \r\nQ 29.59375 56 35.59375 56 \r\nQ 45.5625 56 51.78125 48.09375 \r\nQ 58.015625 40.1875 58.015625 27.296875 \r\nQ 58.015625 14.40625 51.78125 6.484375 \r\nQ 45.5625 -1.421875 35.59375 -1.421875 \r\nQ 29.59375 -1.421875 25.265625 0.953125 \r\nQ 20.953125 3.328125 18.109375 8.203125 \r\nz\r\nM 48.6875 27.296875 \r\nQ 48.6875 37.203125 44.609375 42.84375 \r\nQ 40.53125 48.484375 33.40625 48.484375 \r\nQ 26.265625 48.484375 22.1875 42.84375 \r\nQ 18.109375 37.203125 18.109375 27.296875 \r\nQ 18.109375 17.390625 22.1875 11.75 \r\nQ 26.265625 6.109375 33.40625 6.109375 \r\nQ 40.53125 6.109375 44.609375 11.75 \r\nQ 48.6875 17.390625 48.6875 27.296875 \r\nz\r\n\" id=\"DejaVuSans-112\"/>\r\n       </defs>\r\n       <use xlink:href=\"#DejaVuSans-73\"/>\r\n       <use x=\"29.492188\" xlink:href=\"#DejaVuSans-110\"/>\r\n       <use x=\"92.871094\" xlink:href=\"#DejaVuSans-100\"/>\r\n       <use x=\"156.347656\" xlink:href=\"#DejaVuSans-117\"/>\r\n       <use x=\"219.726562\" xlink:href=\"#DejaVuSans-115\"/>\r\n       <use x=\"271.826172\" xlink:href=\"#DejaVuSans-116\"/>\r\n       <use x=\"311.035156\" xlink:href=\"#DejaVuSans-114\"/>\r\n       <use x=\"352.148438\" xlink:href=\"#DejaVuSans-105\"/>\r\n       <use x=\"379.931641\" xlink:href=\"#DejaVuSans-97\"/>\r\n       <use x=\"441.210938\" xlink:href=\"#DejaVuSans-108\"/>\r\n       <use x=\"468.994141\" xlink:href=\"#DejaVuSans-32\"/>\r\n       <use x=\"500.78125\" xlink:href=\"#DejaVuSans-82\"/>\r\n       <use x=\"565.763672\" xlink:href=\"#DejaVuSans-117\"/>\r\n       <use x=\"629.142578\" xlink:href=\"#DejaVuSans-103\"/>\r\n       <use x=\"692.619141\" xlink:href=\"#DejaVuSans-103\"/>\r\n       <use x=\"756.095703\" xlink:href=\"#DejaVuSans-101\"/>\r\n       <use x=\"817.619141\" xlink:href=\"#DejaVuSans-100\"/>\r\n       <use x=\"881.095703\" xlink:href=\"#DejaVuSans-32\"/>\r\n       <use x=\"912.882812\" xlink:href=\"#DejaVuSans-50\"/>\r\n       <use x=\"976.505859\" xlink:href=\"#DejaVuSans-116\"/>\r\n       <use x=\"1015.714844\" xlink:href=\"#DejaVuSans-112\"/>\r\n       <use x=\"1079.191406\" xlink:href=\"#DejaVuSans-32\"/>\r\n       <use x=\"1110.978516\" xlink:href=\"#DejaVuSans-46\"/>\r\n       <use x=\"1142.765625\" xlink:href=\"#DejaVuSans-46\"/>\r\n       <use x=\"1174.552734\" xlink:href=\"#DejaVuSans-46\"/>\r\n      </g>\r\n     </g>\r\n    </g>\r\n    <g id=\"ytick_7\">\r\n     <g id=\"line2d_16\">\r\n      <g>\r\n       <use style=\"stroke:#000000;stroke-width:0.8;\" x=\"148.510938\" xlink:href=\"#mef4bbc5b5c\" y=\"100.782095\"/>\r\n      </g>\r\n     </g>\r\n     <g id=\"text_17\">\r\n      <!-- MSI GeForce GT ... -->\r\n      <g transform=\"translate(50.075 104.581314)scale(0.1 -0.1)\">\r\n       <defs>\r\n        <path d=\"M 53.515625 70.515625 \r\nL 53.515625 60.890625 \r\nQ 47.90625 63.578125 42.921875 64.890625 \r\nQ 37.9375 66.21875 33.296875 66.21875 \r\nQ 25.25 66.21875 20.875 63.09375 \r\nQ 16.5 59.96875 16.5 54.203125 \r\nQ 16.5 49.359375 19.40625 46.890625 \r\nQ 22.3125 44.4375 30.421875 42.921875 \r\nL 36.375 41.703125 \r\nQ 47.40625 39.59375 52.65625 34.296875 \r\nQ 57.90625 29 57.90625 20.125 \r\nQ 57.90625 9.515625 50.796875 4.046875 \r\nQ 43.703125 -1.421875 29.984375 -1.421875 \r\nQ 24.8125 -1.421875 18.96875 -0.25 \r\nQ 13.140625 0.921875 6.890625 3.21875 \r\nL 6.890625 13.375 \r\nQ 12.890625 10.015625 18.65625 8.296875 \r\nQ 24.421875 6.59375 29.984375 6.59375 \r\nQ 38.421875 6.59375 43.015625 9.90625 \r\nQ 47.609375 13.234375 47.609375 19.390625 \r\nQ 47.609375 24.75 44.3125 27.78125 \r\nQ 41.015625 30.8125 33.5 32.328125 \r\nL 27.484375 33.5 \r\nQ 16.453125 35.6875 11.515625 40.375 \r\nQ 6.59375 45.0625 6.59375 53.421875 \r\nQ 6.59375 63.09375 13.40625 68.65625 \r\nQ 20.21875 74.21875 32.171875 74.21875 \r\nQ 37.3125 74.21875 42.625 73.28125 \r\nQ 47.953125 72.359375 53.515625 70.515625 \r\nz\r\n\" id=\"DejaVuSans-83\"/>\r\n       </defs>\r\n       <use xlink:href=\"#DejaVuSans-77\"/>\r\n       <use x=\"86.279297\" xlink:href=\"#DejaVuSans-83\"/>\r\n       <use x=\"149.755859\" xlink:href=\"#DejaVuSans-73\"/>\r\n       <use x=\"179.248047\" xlink:href=\"#DejaVuSans-32\"/>\r\n       <use x=\"211.035156\" xlink:href=\"#DejaVuSans-71\"/>\r\n       <use x=\"288.525391\" xlink:href=\"#DejaVuSans-101\"/>\r\n       <use x=\"350.048828\" xlink:href=\"#DejaVuSans-70\"/>\r\n       <use x=\"403.943359\" xlink:href=\"#DejaVuSans-111\"/>\r\n       <use x=\"465.125\" xlink:href=\"#DejaVuSans-114\"/>\r\n       <use x=\"503.988281\" xlink:href=\"#DejaVuSans-99\"/>\r\n       <use x=\"558.96875\" xlink:href=\"#DejaVuSans-101\"/>\r\n       <use x=\"620.492188\" xlink:href=\"#DejaVuSans-32\"/>\r\n       <use x=\"652.279297\" xlink:href=\"#DejaVuSans-71\"/>\r\n       <use x=\"726.144531\" xlink:href=\"#DejaVuSans-84\"/>\r\n       <use x=\"787.228516\" xlink:href=\"#DejaVuSans-32\"/>\r\n       <use x=\"819.015625\" xlink:href=\"#DejaVuSans-46\"/>\r\n       <use x=\"850.802734\" xlink:href=\"#DejaVuSans-46\"/>\r\n       <use x=\"882.589844\" xlink:href=\"#DejaVuSans-46\"/>\r\n      </g>\r\n     </g>\r\n    </g>\r\n    <g id=\"ytick_8\">\r\n     <g id=\"line2d_17\">\r\n      <g>\r\n       <use style=\"stroke:#000000;stroke-width:0.8;\" x=\"148.510938\" xlink:href=\"#mef4bbc5b5c\" y=\"80.611409\"/>\r\n      </g>\r\n     </g>\r\n     <g id=\"text_18\">\r\n      <!-- Panasonic 4K ... -->\r\n      <g transform=\"translate(62.584375 84.410628)scale(0.1 -0.1)\">\r\n       <defs>\r\n        <path d=\"M 9.8125 72.90625 \r\nL 19.671875 72.90625 \r\nL 19.671875 42.09375 \r\nL 52.390625 72.90625 \r\nL 65.09375 72.90625 \r\nL 28.90625 38.921875 \r\nL 67.671875 0 \r\nL 54.6875 0 \r\nL 19.671875 35.109375 \r\nL 19.671875 0 \r\nL 9.8125 0 \r\nz\r\n\" id=\"DejaVuSans-75\"/>\r\n       </defs>\r\n       <use xlink:href=\"#DejaVuSans-80\"/>\r\n       <use x=\"55.802734\" xlink:href=\"#DejaVuSans-97\"/>\r\n       <use x=\"117.082031\" xlink:href=\"#DejaVuSans-110\"/>\r\n       <use x=\"180.460938\" xlink:href=\"#DejaVuSans-97\"/>\r\n       <use x=\"241.740234\" xlink:href=\"#DejaVuSans-115\"/>\r\n       <use x=\"293.839844\" xlink:href=\"#DejaVuSans-111\"/>\r\n       <use x=\"355.021484\" xlink:href=\"#DejaVuSans-110\"/>\r\n       <use x=\"418.400391\" xlink:href=\"#DejaVuSans-105\"/>\r\n       <use x=\"446.183594\" xlink:href=\"#DejaVuSans-99\"/>\r\n       <use x=\"501.164062\" xlink:href=\"#DejaVuSans-32\"/>\r\n       <use x=\"532.951172\" xlink:href=\"#DejaVuSans-52\"/>\r\n       <use x=\"596.574219\" xlink:href=\"#DejaVuSans-75\"/>\r\n       <use x=\"662.150391\" xlink:href=\"#DejaVuSans-32\"/>\r\n       <use x=\"693.9375\" xlink:href=\"#DejaVuSans-46\"/>\r\n       <use x=\"725.724609\" xlink:href=\"#DejaVuSans-46\"/>\r\n       <use x=\"757.511719\" xlink:href=\"#DejaVuSans-46\"/>\r\n      </g>\r\n     </g>\r\n    </g>\r\n    <g id=\"ytick_9\">\r\n     <g id=\"line2d_18\">\r\n      <g>\r\n       <use style=\"stroke:#000000;stroke-width:0.8;\" x=\"148.510938\" xlink:href=\"#mef4bbc5b5c\" y=\"60.440722\"/>\r\n      </g>\r\n     </g>\r\n     <g id=\"text_19\">\r\n      <!-- D-Link WiFi Router... -->\r\n      <g transform=\"translate(41.3625 64.239941)scale(0.1 -0.1)\">\r\n       <defs>\r\n        <path d=\"M 19.671875 64.796875 \r\nL 19.671875 8.109375 \r\nL 31.59375 8.109375 \r\nQ 46.6875 8.109375 53.6875 14.9375 \r\nQ 60.6875 21.78125 60.6875 36.53125 \r\nQ 60.6875 51.171875 53.6875 57.984375 \r\nQ 46.6875 64.796875 31.59375 64.796875 \r\nz\r\nM 9.8125 72.90625 \r\nL 30.078125 72.90625 \r\nQ 51.265625 72.90625 61.171875 64.09375 \r\nQ 71.09375 55.28125 71.09375 36.53125 \r\nQ 71.09375 17.671875 61.125 8.828125 \r\nQ 51.171875 0 30.078125 0 \r\nL 9.8125 0 \r\nz\r\n\" id=\"DejaVuSans-68\"/>\r\n        <path d=\"M 9.8125 72.90625 \r\nL 19.671875 72.90625 \r\nL 19.671875 8.296875 \r\nL 55.171875 8.296875 \r\nL 55.171875 0 \r\nL 9.8125 0 \r\nz\r\n\" id=\"DejaVuSans-76\"/>\r\n        <path d=\"M 9.078125 75.984375 \r\nL 18.109375 75.984375 \r\nL 18.109375 31.109375 \r\nL 44.921875 54.6875 \r\nL 56.390625 54.6875 \r\nL 27.390625 29.109375 \r\nL 57.625 0 \r\nL 45.90625 0 \r\nL 18.109375 26.703125 \r\nL 18.109375 0 \r\nL 9.078125 0 \r\nz\r\n\" id=\"DejaVuSans-107\"/>\r\n        <path d=\"M 3.328125 72.90625 \r\nL 13.28125 72.90625 \r\nL 28.609375 11.28125 \r\nL 43.890625 72.90625 \r\nL 54.984375 72.90625 \r\nL 70.3125 11.28125 \r\nL 85.59375 72.90625 \r\nL 95.609375 72.90625 \r\nL 77.296875 0 \r\nL 64.890625 0 \r\nL 49.515625 63.28125 \r\nL 33.984375 0 \r\nL 21.578125 0 \r\nz\r\n\" id=\"DejaVuSans-87\"/>\r\n       </defs>\r\n       <use xlink:href=\"#DejaVuSans-68\"/>\r\n       <use x=\"77.001953\" xlink:href=\"#DejaVuSans-45\"/>\r\n       <use x=\"113.085938\" xlink:href=\"#DejaVuSans-76\"/>\r\n       <use x=\"168.798828\" xlink:href=\"#DejaVuSans-105\"/>\r\n       <use x=\"196.582031\" xlink:href=\"#DejaVuSans-110\"/>\r\n       <use x=\"259.960938\" xlink:href=\"#DejaVuSans-107\"/>\r\n       <use x=\"317.871094\" xlink:href=\"#DejaVuSans-32\"/>\r\n       <use x=\"349.658203\" xlink:href=\"#DejaVuSans-87\"/>\r\n       <use x=\"446.285156\" xlink:href=\"#DejaVuSans-105\"/>\r\n       <use x=\"474.068359\" xlink:href=\"#DejaVuSans-70\"/>\r\n       <use x=\"524.337891\" xlink:href=\"#DejaVuSans-105\"/>\r\n       <use x=\"552.121094\" xlink:href=\"#DejaVuSans-32\"/>\r\n       <use x=\"583.908203\" xlink:href=\"#DejaVuSans-82\"/>\r\n       <use x=\"648.890625\" xlink:href=\"#DejaVuSans-111\"/>\r\n       <use x=\"710.072266\" xlink:href=\"#DejaVuSans-117\"/>\r\n       <use x=\"773.451172\" xlink:href=\"#DejaVuSans-116\"/>\r\n       <use x=\"812.660156\" xlink:href=\"#DejaVuSans-101\"/>\r\n       <use x=\"874.183594\" xlink:href=\"#DejaVuSans-114\"/>\r\n       <use x=\"906.171875\" xlink:href=\"#DejaVuSans-46\"/>\r\n       <use x=\"937.958984\" xlink:href=\"#DejaVuSans-46\"/>\r\n       <use x=\"969.746094\" xlink:href=\"#DejaVuSans-46\"/>\r\n      </g>\r\n     </g>\r\n    </g>\r\n    <g id=\"ytick_10\">\r\n     <g id=\"line2d_19\">\r\n      <g>\r\n       <use style=\"stroke:#000000;stroke-width:0.8;\" x=\"148.510938\" xlink:href=\"#mef4bbc5b5c\" y=\"40.270036\"/>\r\n      </g>\r\n     </g>\r\n     <g id=\"text_20\">\r\n      <!-- Amazon Basics ... -->\r\n      <g transform=\"translate(53.521875 44.069255)scale(0.1 -0.1)\">\r\n       <defs>\r\n        <path d=\"M 5.515625 54.6875 \r\nL 48.1875 54.6875 \r\nL 48.1875 46.484375 \r\nL 14.40625 7.171875 \r\nL 48.1875 7.171875 \r\nL 48.1875 0 \r\nL 4.296875 0 \r\nL 4.296875 8.203125 \r\nL 38.09375 47.515625 \r\nL 5.515625 47.515625 \r\nz\r\n\" id=\"DejaVuSans-122\"/>\r\n       </defs>\r\n       <use xlink:href=\"#DejaVuSans-65\"/>\r\n       <use x=\"68.408203\" xlink:href=\"#DejaVuSans-109\"/>\r\n       <use x=\"165.820312\" xlink:href=\"#DejaVuSans-97\"/>\r\n       <use x=\"227.099609\" xlink:href=\"#DejaVuSans-122\"/>\r\n       <use x=\"279.589844\" xlink:href=\"#DejaVuSans-111\"/>\r\n       <use x=\"340.771484\" xlink:href=\"#DejaVuSans-110\"/>\r\n       <use x=\"404.150391\" xlink:href=\"#DejaVuSans-32\"/>\r\n       <use x=\"435.9375\" xlink:href=\"#DejaVuSans-66\"/>\r\n       <use x=\"504.541016\" xlink:href=\"#DejaVuSans-97\"/>\r\n       <use x=\"565.820312\" xlink:href=\"#DejaVuSans-115\"/>\r\n       <use x=\"617.919922\" xlink:href=\"#DejaVuSans-105\"/>\r\n       <use x=\"645.703125\" xlink:href=\"#DejaVuSans-99\"/>\r\n       <use x=\"700.683594\" xlink:href=\"#DejaVuSans-115\"/>\r\n       <use x=\"752.783203\" xlink:href=\"#DejaVuSans-32\"/>\r\n       <use x=\"784.570312\" xlink:href=\"#DejaVuSans-46\"/>\r\n       <use x=\"816.357422\" xlink:href=\"#DejaVuSans-46\"/>\r\n       <use x=\"848.144531\" xlink:href=\"#DejaVuSans-46\"/>\r\n      </g>\r\n     </g>\r\n    </g>\r\n    <g id=\"text_21\">\r\n     <!-- Product Name -->\r\n     <g transform=\"translate(14.798438 166.360781)rotate(-90)scale(0.1 -0.1)\">\r\n      <use xlink:href=\"#DejaVuSans-80\"/>\r\n      <use x=\"58.552734\" xlink:href=\"#DejaVuSans-114\"/>\r\n      <use x=\"97.416016\" xlink:href=\"#DejaVuSans-111\"/>\r\n      <use x=\"158.597656\" xlink:href=\"#DejaVuSans-100\"/>\r\n      <use x=\"222.074219\" xlink:href=\"#DejaVuSans-117\"/>\r\n      <use x=\"285.453125\" xlink:href=\"#DejaVuSans-99\"/>\r\n      <use x=\"340.433594\" xlink:href=\"#DejaVuSans-116\"/>\r\n      <use x=\"379.642578\" xlink:href=\"#DejaVuSans-32\"/>\r\n      <use x=\"411.429688\" xlink:href=\"#DejaVuSans-78\"/>\r\n      <use x=\"486.234375\" xlink:href=\"#DejaVuSans-97\"/>\r\n      <use x=\"547.513672\" xlink:href=\"#DejaVuSans-109\"/>\r\n      <use x=\"644.925781\" xlink:href=\"#DejaVuSans-101\"/>\r\n     </g>\r\n    </g>\r\n   </g>\r\n   <g id=\"patch_13\">\r\n    <path d=\"M 148.510938 239.758125 \r\nL 148.510938 22.318125 \r\n\" style=\"fill:none;stroke:#000000;stroke-linecap:square;stroke-linejoin:miter;stroke-width:0.8;\"/>\r\n   </g>\r\n   <g id=\"patch_14\">\r\n    <path d=\"M 483.310937 239.758125 \r\nL 483.310937 22.318125 \r\n\" style=\"fill:none;stroke:#000000;stroke-linecap:square;stroke-linejoin:miter;stroke-width:0.8;\"/>\r\n   </g>\r\n   <g id=\"patch_15\">\r\n    <path d=\"M 148.510938 239.758125 \r\nL 483.310937 239.758125 \r\n\" style=\"fill:none;stroke:#000000;stroke-linecap:square;stroke-linejoin:miter;stroke-width:0.8;\"/>\r\n   </g>\r\n   <g id=\"patch_16\">\r\n    <path d=\"M 148.510938 22.318125 \r\nL 483.310937 22.318125 \r\n\" style=\"fill:none;stroke:#000000;stroke-linecap:square;stroke-linejoin:miter;stroke-width:0.8;\"/>\r\n   </g>\r\n   <g id=\"text_22\">\r\n    <!-- 389 -->\r\n    <g transform=\"translate(467.36808 221.806214)scale(0.1 -0.1)\">\r\n     <defs>\r\n      <path d=\"M 10.984375 1.515625 \r\nL 10.984375 10.5 \r\nQ 14.703125 8.734375 18.5 7.8125 \r\nQ 22.3125 6.890625 25.984375 6.890625 \r\nQ 35.75 6.890625 40.890625 13.453125 \r\nQ 46.046875 20.015625 46.78125 33.40625 \r\nQ 43.953125 29.203125 39.59375 26.953125 \r\nQ 35.25 24.703125 29.984375 24.703125 \r\nQ 19.046875 24.703125 12.671875 31.3125 \r\nQ 6.296875 37.9375 6.296875 49.421875 \r\nQ 6.296875 60.640625 12.9375 67.421875 \r\nQ 19.578125 74.21875 30.609375 74.21875 \r\nQ 43.265625 74.21875 49.921875 64.515625 \r\nQ 56.59375 54.828125 56.59375 36.375 \r\nQ 56.59375 19.140625 48.40625 8.859375 \r\nQ 40.234375 -1.421875 26.421875 -1.421875 \r\nQ 22.703125 -1.421875 18.890625 -0.6875 \r\nQ 15.09375 0.046875 10.984375 1.515625 \r\nz\r\nM 30.609375 32.421875 \r\nQ 37.25 32.421875 41.125 36.953125 \r\nQ 45.015625 41.5 45.015625 49.421875 \r\nQ 45.015625 57.28125 41.125 61.84375 \r\nQ 37.25 66.40625 30.609375 66.40625 \r\nQ 23.96875 66.40625 20.09375 61.84375 \r\nQ 16.21875 57.28125 16.21875 49.421875 \r\nQ 16.21875 41.5 20.09375 36.953125 \r\nQ 23.96875 32.421875 30.609375 32.421875 \r\nz\r\n\" id=\"DejaVuSans-57\"/>\r\n     </defs>\r\n     <use xlink:href=\"#DejaVuSans-51\"/>\r\n     <use x=\"63.623047\" xlink:href=\"#DejaVuSans-56\"/>\r\n     <use x=\"127.246094\" xlink:href=\"#DejaVuSans-57\"/>\r\n    </g>\r\n   </g>\r\n   <g id=\"text_23\">\r\n    <!-- 227 -->\r\n    <g transform=\"translate(334.579245 201.635528)scale(0.1 -0.1)\">\r\n     <defs>\r\n      <path d=\"M 8.203125 72.90625 \r\nL 55.078125 72.90625 \r\nL 55.078125 68.703125 \r\nL 28.609375 0 \r\nL 18.3125 0 \r\nL 43.21875 64.59375 \r\nL 8.203125 64.59375 \r\nz\r\n\" id=\"DejaVuSans-55\"/>\r\n     </defs>\r\n     <use xlink:href=\"#DejaVuSans-50\"/>\r\n     <use x=\"63.623047\" xlink:href=\"#DejaVuSans-50\"/>\r\n     <use x=\"127.246094\" xlink:href=\"#DejaVuSans-55\"/>\r\n    </g>\r\n   </g>\r\n   <g id=\"text_24\">\r\n    <!-- 214 -->\r\n    <g transform=\"translate(323.92335 181.464841)scale(0.1 -0.1)\">\r\n     <use xlink:href=\"#DejaVuSans-50\"/>\r\n     <use x=\"63.623047\" xlink:href=\"#DejaVuSans-49\"/>\r\n     <use x=\"127.246094\" xlink:href=\"#DejaVuSans-52\"/>\r\n    </g>\r\n   </g>\r\n   <g id=\"text_25\">\r\n    <!-- 115 -->\r\n    <g transform=\"translate(242.774617 161.294155)scale(0.1 -0.1)\">\r\n     <use xlink:href=\"#DejaVuSans-49\"/>\r\n     <use x=\"63.623047\" xlink:href=\"#DejaVuSans-49\"/>\r\n     <use x=\"127.246094\" xlink:href=\"#DejaVuSans-53\"/>\r\n    </g>\r\n   </g>\r\n   <g id=\"text_26\">\r\n    <!-- 83 -->\r\n    <g transform=\"translate(216.544724 141.123468)scale(0.1 -0.1)\">\r\n     <use xlink:href=\"#DejaVuSans-56\"/>\r\n     <use x=\"63.623047\" xlink:href=\"#DejaVuSans-51\"/>\r\n    </g>\r\n   </g>\r\n   <g id=\"text_27\">\r\n    <!-- 77 -->\r\n    <g transform=\"translate(211.626619 120.952782)scale(0.1 -0.1)\">\r\n     <use xlink:href=\"#DejaVuSans-55\"/>\r\n     <use x=\"63.623047\" xlink:href=\"#DejaVuSans-55\"/>\r\n    </g>\r\n   </g>\r\n   <g id=\"text_28\">\r\n    <!-- 5 -->\r\n    <g transform=\"translate(152.609358 100.782095)scale(0.1 -0.1)\">\r\n     <use xlink:href=\"#DejaVuSans-53\"/>\r\n    </g>\r\n   </g>\r\n   <g id=\"text_29\">\r\n    <!-- 4 -->\r\n    <g transform=\"translate(151.789674 80.611409)scale(0.1 -0.1)\">\r\n     <use xlink:href=\"#DejaVuSans-52\"/>\r\n    </g>\r\n   </g>\r\n   <g id=\"text_30\">\r\n    <!-- 4 -->\r\n    <g transform=\"translate(151.789674 60.440722)scale(0.1 -0.1)\">\r\n     <use xlink:href=\"#DejaVuSans-52\"/>\r\n    </g>\r\n   </g>\r\n   <g id=\"text_31\">\r\n    <!-- 4 -->\r\n    <g transform=\"translate(151.789674 40.270036)scale(0.1 -0.1)\">\r\n     <use xlink:href=\"#DejaVuSans-52\"/>\r\n    </g>\r\n   </g>\r\n   <g id=\"text_32\">\r\n    <!-- Top 10 Sponsored Processors -->\r\n    <g transform=\"translate(228.687813 16.318125)scale(0.12 -0.12)\">\r\n     <use xlink:href=\"#DejaVuSans-84\"/>\r\n     <use x=\"44.083984\" xlink:href=\"#DejaVuSans-111\"/>\r\n     <use x=\"105.265625\" xlink:href=\"#DejaVuSans-112\"/>\r\n     <use x=\"168.742188\" xlink:href=\"#DejaVuSans-32\"/>\r\n     <use x=\"200.529297\" xlink:href=\"#DejaVuSans-49\"/>\r\n     <use x=\"264.152344\" xlink:href=\"#DejaVuSans-48\"/>\r\n     <use x=\"327.775391\" xlink:href=\"#DejaVuSans-32\"/>\r\n     <use x=\"359.5625\" xlink:href=\"#DejaVuSans-83\"/>\r\n     <use x=\"423.039062\" xlink:href=\"#DejaVuSans-112\"/>\r\n     <use x=\"486.515625\" xlink:href=\"#DejaVuSans-111\"/>\r\n     <use x=\"547.697266\" xlink:href=\"#DejaVuSans-110\"/>\r\n     <use x=\"611.076172\" xlink:href=\"#DejaVuSans-115\"/>\r\n     <use x=\"663.175781\" xlink:href=\"#DejaVuSans-111\"/>\r\n     <use x=\"724.357422\" xlink:href=\"#DejaVuSans-114\"/>\r\n     <use x=\"763.220703\" xlink:href=\"#DejaVuSans-101\"/>\r\n     <use x=\"824.744141\" xlink:href=\"#DejaVuSans-100\"/>\r\n     <use x=\"888.220703\" xlink:href=\"#DejaVuSans-32\"/>\r\n     <use x=\"920.007812\" xlink:href=\"#DejaVuSans-80\"/>\r\n     <use x=\"978.560547\" xlink:href=\"#DejaVuSans-114\"/>\r\n     <use x=\"1017.423828\" xlink:href=\"#DejaVuSans-111\"/>\r\n     <use x=\"1078.605469\" xlink:href=\"#DejaVuSans-99\"/>\r\n     <use x=\"1133.585938\" xlink:href=\"#DejaVuSans-101\"/>\r\n     <use x=\"1195.109375\" xlink:href=\"#DejaVuSans-115\"/>\r\n     <use x=\"1247.208984\" xlink:href=\"#DejaVuSans-115\"/>\r\n     <use x=\"1299.308594\" xlink:href=\"#DejaVuSans-111\"/>\r\n     <use x=\"1360.490234\" xlink:href=\"#DejaVuSans-114\"/>\r\n     <use x=\"1401.603516\" xlink:href=\"#DejaVuSans-115\"/>\r\n    </g>\r\n   </g>\r\n  </g>\r\n </g>\r\n <defs>\r\n  <clipPath id=\"paa9a7c8ecd\">\r\n   <rect height=\"217.44\" width=\"334.8\" x=\"148.510938\" y=\"22.318125\"/>\r\n  </clipPath>\r\n </defs>\r\n</svg>\r\n",
      "image/png": "[encoded data removed]"
     },
     "metadata": {
      "needs_background": "light"
     }
    },
    {
     "output_type": "display_data",
     "data": {
      "text/plain": "<Figure size 720x14400 with 0 Axes>"
     },
     "metadata": {}
    }
   ],
   "source": [
    "# Top 10 Sponsored Processors\n",
    "\n",
    "x=['GIM MB8 ATX ...', 'Noctua NF-P12 ...', 'Omnihil 8 Feet ...',\n",
    " 'Industrial Rugged ...',\n",
    " 'Cooler Master ...',\n",
    " 'Industrial Rugged 2tp ...',\n",
    " 'MSI GeForce GT ...',\n",
    " 'Panasonic 4K ...',\n",
    " 'D-Link WiFi Router...',\n",
    " 'Amazon Basics ...']\n",
    "y=[389, 227, 214, 115, 83, 77, 5, 4, 4, 4]\n",
    "fig = plt.barh(x, y)\n",
    "for index, value in enumerate(y):\n",
    "    plt.text(value, index, str(value))\n",
    "plt.ylabel('Product Name')\n",
    "plt.xlabel('Count')\n",
    "plt.title('Top 10 Sponsored Processors')\n",
    "plt.savefig(\"Top 10 Sponsored Processors.png\", dpi=80)\n",
    "plt.figure(figsize=(10,200))"
   ]
  },
  {
   "cell_type": "code",
   "execution_count": 34,
   "metadata": {},
   "outputs": [],
   "source": [
    "processor.drop(columns=[\"freq_bought\",\"freq_bought_link\"],inplace=True)"
   ]
  },
  {
   "cell_type": "code",
   "execution_count": 38,
   "metadata": {},
   "outputs": [],
   "source": [
    "# reset_index(drop=True) drops the current index of the DataFrame and replaces it with an index of increasing integers.\n",
    "\n",
    "processor=processor.reset_index(drop=True)"
   ]
  },
  {
   "cell_type": "code",
   "execution_count": 39,
   "metadata": {},
   "outputs": [
    {
     "output_type": "execute_result",
     "data": {
      "text/plain": [
       "[{'info': 'Brand', 'value': 'AMD'},\n",
       " {'info': 'Series', 'value': 'Ryzen 5'},\n",
       " {'info': 'Item model number', 'value': 'Ryzen 5 3600'},\n",
       " {'info': 'Item Weight', 'value': '1.6 ounces'},\n",
       " {'info': 'Product Dimensions', 'value': '1.57 x 1.57 x 0.24 inches'},\n",
       " {'info': 'Item Dimensions  LxWxH', 'value': '1.57 x 1.57 x 0.24 inches'},\n",
       " {'info': 'Processor Brand', 'value': 'AMD'},\n",
       " {'info': 'Processor Count', 'value': '6'},\n",
       " {'info': 'Manufacturer', 'value': 'AMD'},\n",
       " {'info': 'ASIN', 'value': 'B07STGGQ18'},\n",
       " {'info': 'Is Discontinued By Manufacturer', 'value': 'No'},\n",
       " {'info': 'Date First Available', 'value': 'July 1, 2019'}]"
      ]
     },
     "metadata": {},
     "execution_count": 39
    }
   ],
   "source": [
    "# check ---------------------------------------------\n",
    "# --------------------------\n",
    "\n",
    "processor.product_tech_spec[0]"
   ]
  },
  {
   "cell_type": "code",
   "execution_count": 11,
   "metadata": {},
   "outputs": [
    {
     "output_type": "execute_result",
     "data": {
      "text/plain": [
       "{'info': 'Brand', 'value': 'AMD'}"
      ]
     },
     "metadata": {},
     "execution_count": 11
    }
   ],
   "source": [
    "processor.product_tech_spec[0][0]"
   ]
  },
  {
   "cell_type": "code",
   "execution_count": 12,
   "metadata": {},
   "outputs": [
    {
     "output_type": "execute_result",
     "data": {
      "text/plain": [
       "'Brand'"
      ]
     },
     "metadata": {},
     "execution_count": 12
    }
   ],
   "source": [
    "processor.product_tech_spec[0][0][\"info\"]"
   ]
  },
  {
   "cell_type": "code",
   "execution_count": 13,
   "metadata": {},
   "outputs": [],
   "source": [
    "# shows no results cause the value is Nan\n",
    "processor.iloc[0][\"other_tech_spec\"]"
   ]
  },
  {
   "cell_type": "code",
   "execution_count": 14,
   "metadata": {},
   "outputs": [
    {
     "output_type": "execute_result",
     "data": {
      "text/plain": [
       "[{'info': 'Brand', 'value': 'AMD'},\n",
       " {'info': 'Item model number', 'value': 'YD2600BBAFBOX'},\n",
       " {'info': 'Item Weight', 'value': '1 pounds'},\n",
       " {'info': 'Product Dimensions', 'value': '1.6 x 1.6 x 0.3 inches'},\n",
       " {'info': 'Item Dimensions  LxWxH', 'value': '1.6 x 1.6 x 0.3 inches'},\n",
       " {'info': 'Processor Brand', 'value': 'AMD'},\n",
       " {'info': 'Processor Count', 'value': '6'},\n",
       " {'info': 'Computer Memory Type', 'value': 'DDR4 SDRAM'},\n",
       " {'info': 'Manufacturer', 'value': 'AMD'},\n",
       " {'info': 'ASIN', 'value': 'B07B41WS48'},\n",
       " {'info': 'Is Discontinued By Manufacturer', 'value': 'No'},\n",
       " {'info': 'Date First Available', 'value': 'April 13, 2018'}]"
      ]
     },
     "metadata": {},
     "execution_count": 14
    }
   ],
   "source": [
    "processor.iloc[1][\"other_tech_spec\"]"
   ]
  },
  {
   "cell_type": "code",
   "execution_count": 15,
   "metadata": {},
   "outputs": [
    {
     "output_type": "execute_result",
     "data": {
      "text/plain": [
       "[{'info': 'Customer Reviews',\n",
       "  'value': '/*\\n* Fix for UDP-1061. Average customer reviews has a small extra line on hover\\n* https://omni-grok.amazon.com/xref/src/appgroup/websiteTemplates/retail/SoftlinesDetailPageAssets/udp-intl-lock/src/legacy.css?indexName=WebsiteTemplates#40\\n*/\\n.noUnderline a:hover {\\ntext-decoration: none;\\n} 4.8 out of 5 stars 6,344 ratings P.when(\\'A\\', \\'ready\\').execute(function(A) {\\nA.declarative(\\'acrLink-click-metrics\\', \\'click\\', { \"allowLinkDefault\" : true }, function(event){\\nif(window.ue) {\\nue.count(\"acrLinkClickCount\", (ue.count(\"acrLinkClickCount\") || 0) + 1);\\n}\\n});\\n}); P.when(\\'A\\', \\'cf\\').execute(function(A) {\\nA.declarative(\\'acrStarsLink-click-metrics\\', \\'click\\', { \"allowLinkDefault\" : true },  function(event){\\nif(window.ue) {\\nue.count(\"acrStarsLinkWithPopoverClickCount\", (ue.count(\"acrStarsLinkWithPopoverClickCount\") || 0) + 1);\\n}\\n});\\n}); 4.8 out of 5 stars'},\n",
       " {'info': 'Best Sellers Rank', 'value': '#7 in Computer CPU Processors'}]"
      ]
     },
     "metadata": {},
     "execution_count": 15
    }
   ],
   "source": [
    "processor.iloc[3][\"product_addl_info\"]"
   ]
  },
  {
   "cell_type": "code",
   "execution_count": 16,
   "metadata": {},
   "outputs": [],
   "source": [
    "#processor.drop(columns=[\"product_addl_info\"],inplace=True)"
   ]
  },
  {
   "cell_type": "code",
   "execution_count": 17,
   "metadata": {},
   "outputs": [
    {
     "output_type": "execute_result",
     "data": {
      "text/plain": [
       "                                                name  \\\n",
       "0  AMD Ryzen 5 3600 6-Core, 12-Thread Unlocked De...   \n",
       "1  AMD Ryzen 5 2600 Processor with Wraith Stealth...   \n",
       "2  Intel Core i9-9900K Desktop Processor 8 Cores ...   \n",
       "3  Intel Core i7-9700K Desktop Processor 8 Cores ...   \n",
       "4  Industrial Rugged Fanless Silent Mini PC Compu...   \n",
       "\n",
       "                                   product_tech_spec  \\\n",
       "0  [{'info': 'Brand', 'value': 'AMD'}, {'info': '...   \n",
       "1    [{'info': 'Wireless Type', 'value': '802.11a'}]   \n",
       "2  [{'info': 'Brand', 'value': 'Intel'}, {'info':...   \n",
       "3  [{'info': 'Memory Speed', 'value': '3600 MHz'}...   \n",
       "4  [{'info': 'Max Screen Resolution', 'value': '3...   \n",
       "\n",
       "                                     other_tech_spec  \\\n",
       "0                                               None   \n",
       "1  [{'info': 'Brand', 'value': 'AMD'}, {'info': '...   \n",
       "2                                               None   \n",
       "3  [{'info': 'Brand', 'value': 'Intel'}, {'info':...   \n",
       "4  [{'info': 'Series', 'value': 'LITESHIELD 2.0'}...   \n",
       "\n",
       "                                   product_addl_info                 seller  \\\n",
       "0  [{'info': 'Customer Reviews', 'value': '/*\n",
       "* F...                   None   \n",
       "1  [{'info': 'Customer Reviews', 'value': '/*\n",
       "* F...                   None   \n",
       "2  [{'info': 'Customer Reviews', 'value': '/*\n",
       "* F...              DealsPro1   \n",
       "3  [{'info': 'Customer Reviews', 'value': '/*\n",
       "* F...                   None   \n",
       "4  [{'info': 'ASIN', 'value': 'B08BKRZB4Z'}, {'in...  Critical Products LLC   \n",
       "\n",
       "                                         seller_link  \\\n",
       "0                                               None   \n",
       "1                                               None   \n",
       "2  https://www.amazon.com/gp/help/seller/at-a-gla...   \n",
       "3                                               None   \n",
       "4  https://www.amazon.com/gp/help/seller/at-a-gla...   \n",
       "\n",
       "                                 link_to_all_reviews  \n",
       "0  /AMD-Ryzen-3600-12-Thread-Processor/product-re...  \n",
       "1  /AMD-Processor-Wraith-Stealth-Cooler/product-r...  \n",
       "2  /Intel-i9-9900K-Processor-Unlocked-BX806849900...  \n",
       "3  /Intel-i7-9700K-Desktop-Processor-Unlocked/pro...  \n",
       "4  /Industrial-Fanless-Computer-Threads-i5-8500T/...  "
      ],
      "text/html": "<div>\n<style scoped>\n    .dataframe tbody tr th:only-of-type {\n        vertical-align: middle;\n    }\n\n    .dataframe tbody tr th {\n        vertical-align: top;\n    }\n\n    .dataframe thead th {\n        text-align: right;\n    }\n</style>\n<table border=\"1\" class=\"dataframe\">\n  <thead>\n    <tr style=\"text-align: right;\">\n      <th></th>\n      <th>name</th>\n      <th>product_tech_spec</th>\n      <th>other_tech_spec</th>\n      <th>product_addl_info</th>\n      <th>seller</th>\n      <th>seller_link</th>\n      <th>link_to_all_reviews</th>\n    </tr>\n  </thead>\n  <tbody>\n    <tr>\n      <th>0</th>\n      <td>AMD Ryzen 5 3600 6-Core, 12-Thread Unlocked De...</td>\n      <td>[{'info': 'Brand', 'value': 'AMD'}, {'info': '...</td>\n      <td>None</td>\n      <td>[{'info': 'Customer Reviews', 'value': '/*\n* F...</td>\n      <td>None</td>\n      <td>None</td>\n      <td>/AMD-Ryzen-3600-12-Thread-Processor/product-re...</td>\n    </tr>\n    <tr>\n      <th>1</th>\n      <td>AMD Ryzen 5 2600 Processor with Wraith Stealth...</td>\n      <td>[{'info': 'Wireless Type', 'value': '802.11a'}]</td>\n      <td>[{'info': 'Brand', 'value': 'AMD'}, {'info': '...</td>\n      <td>[{'info': 'Customer Reviews', 'value': '/*\n* F...</td>\n      <td>None</td>\n      <td>None</td>\n      <td>/AMD-Processor-Wraith-Stealth-Cooler/product-r...</td>\n    </tr>\n    <tr>\n      <th>2</th>\n      <td>Intel Core i9-9900K Desktop Processor 8 Cores ...</td>\n      <td>[{'info': 'Brand', 'value': 'Intel'}, {'info':...</td>\n      <td>None</td>\n      <td>[{'info': 'Customer Reviews', 'value': '/*\n* F...</td>\n      <td>DealsPro1</td>\n      <td>https://www.amazon.com/gp/help/seller/at-a-gla...</td>\n      <td>/Intel-i9-9900K-Processor-Unlocked-BX806849900...</td>\n    </tr>\n    <tr>\n      <th>3</th>\n      <td>Intel Core i7-9700K Desktop Processor 8 Cores ...</td>\n      <td>[{'info': 'Memory Speed', 'value': '3600 MHz'}...</td>\n      <td>[{'info': 'Brand', 'value': 'Intel'}, {'info':...</td>\n      <td>[{'info': 'Customer Reviews', 'value': '/*\n* F...</td>\n      <td>None</td>\n      <td>None</td>\n      <td>/Intel-i7-9700K-Desktop-Processor-Unlocked/pro...</td>\n    </tr>\n    <tr>\n      <th>4</th>\n      <td>Industrial Rugged Fanless Silent Mini PC Compu...</td>\n      <td>[{'info': 'Max Screen Resolution', 'value': '3...</td>\n      <td>[{'info': 'Series', 'value': 'LITESHIELD 2.0'}...</td>\n      <td>[{'info': 'ASIN', 'value': 'B08BKRZB4Z'}, {'in...</td>\n      <td>Critical Products LLC</td>\n      <td>https://www.amazon.com/gp/help/seller/at-a-gla...</td>\n      <td>/Industrial-Fanless-Computer-Threads-i5-8500T/...</td>\n    </tr>\n  </tbody>\n</table>\n</div>"
     },
     "metadata": {},
     "execution_count": 17
    }
   ],
   "source": [
    "processor.head()"
   ]
  },
  {
   "cell_type": "code",
   "execution_count": 18,
   "metadata": {},
   "outputs": [
    {
     "output_type": "error",
     "ename": "TypeError",
     "evalue": "'NoneType' object is not iterable",
     "traceback": [
      "\u001b[1;31m---------------------------------------------------------------------------\u001b[0m",
      "\u001b[1;31mTypeError\u001b[0m                                 Traceback (most recent call last)",
      "\u001b[1;32m<ipython-input-18-3e360b92ff52>\u001b[0m in \u001b[0;36m<module>\u001b[1;34m\u001b[0m\n\u001b[0;32m     10\u001b[0m \u001b[0mcolumns\u001b[0m\u001b[1;33m=\u001b[0m\u001b[1;33m[\u001b[0m\u001b[1;33m]\u001b[0m\u001b[1;33m\u001b[0m\u001b[1;33m\u001b[0m\u001b[0m\n\u001b[0;32m     11\u001b[0m \u001b[1;32mfor\u001b[0m \u001b[0mi\u001b[0m \u001b[1;32min\u001b[0m \u001b[0mrange\u001b[0m\u001b[1;33m(\u001b[0m\u001b[0mlen\u001b[0m\u001b[1;33m(\u001b[0m\u001b[0mprocessor\u001b[0m\u001b[1;33m)\u001b[0m\u001b[1;33m)\u001b[0m\u001b[1;33m:\u001b[0m\u001b[1;33m\u001b[0m\u001b[1;33m\u001b[0m\u001b[0m\n\u001b[1;32m---> 12\u001b[1;33m     \u001b[1;32mfor\u001b[0m \u001b[0mj\u001b[0m \u001b[1;32min\u001b[0m \u001b[0mprocessor\u001b[0m\u001b[1;33m.\u001b[0m\u001b[0mproduct_tech_spec\u001b[0m\u001b[1;33m[\u001b[0m\u001b[0mi\u001b[0m\u001b[1;33m]\u001b[0m\u001b[1;33m:\u001b[0m\u001b[1;33m\u001b[0m\u001b[1;33m\u001b[0m\u001b[0m\n\u001b[0m\u001b[0;32m     13\u001b[0m         \u001b[0mcolumns\u001b[0m\u001b[1;33m.\u001b[0m\u001b[0mappend\u001b[0m\u001b[1;33m(\u001b[0m\u001b[0mj\u001b[0m\u001b[1;33m[\u001b[0m\u001b[1;34m\"info\"\u001b[0m\u001b[1;33m]\u001b[0m\u001b[1;33m)\u001b[0m\u001b[1;33m\u001b[0m\u001b[1;33m\u001b[0m\u001b[0m\n\u001b[0;32m     14\u001b[0m \u001b[1;33m\u001b[0m\u001b[0m\n",
      "\u001b[1;31mTypeError\u001b[0m: 'NoneType' object is not iterable"
     ]
    }
   ],
   "source": [
    "# objective: creation of dataframe with all info found in processor.product_tech_spec[n]\n",
    "\n",
    "# iteration through all rows\n",
    "# iteration through all cells\n",
    "# extract from all cells of all rows values corresponding to keyword \"info\" and append it in empty columns list\n",
    "# keep just unique values\n",
    "# print it\n",
    "\n",
    "# code is NOT working because there are cells with Nan values\n",
    "columns=[]\n",
    "for i in range(len(processor)):\n",
    "    for j in processor.product_tech_spec[i]:\n",
    "        columns.append(j[\"info\"])\n",
    "\n",
    "columns=list(set(columns))\n",
    "\n",
    "print(columns)"
   ]
  },
  {
   "cell_type": "code",
   "execution_count": 19,
   "metadata": {},
   "outputs": [
    {
     "output_type": "stream",
     "name": "stdout",
     "text": [
      "['Material Type', 'Output Wattage', 'Max Screen Resolution', 'Manufacturer Part Number', 'Is Discontinued By Manufacturer', 'Language:', 'Size', 'Folding', 'Graphics Card Ram Size', 'Voice command', 'Processor Count', 'Hard Drive Rotational Speed', 'Display Type', 'Standing screen display size', 'Model', 'Item Package Quantity', 'ASIN', 'Product Dimensions', 'Manufacturer', 'Depth (inches)', 'Style', 'Voltage', 'Preamp Outputs', 'Finish', 'Speaker Type', 'Assembled Width', 'Warranty', 'Included Components', 'Item model number', 'Flash Memory Size', 'Plug Profile', 'Package Dimensions', 'Special Features', 'Display Size', 'Memory Speed', 'Chipset Brand', 'Average Battery Life (in hours)', 'Warranty Description', 'Number Of Pieces', 'Assembled Height', 'Hardware Platform', 'Color Name', 'Department', 'National Stock Number', 'Batteries Required?', 'Number of Component Outputs', 'Power Source Type', 'Processor Brand', 'Item Weight', 'Part Number', 'Model number', 'Wireless Remote', 'Brand Name', 'Hard Drive Interface', 'Item Dimensions  LxWxH', 'Screen Resolution', 'Specification Met', 'Assembled Length', 'Card Description', 'Cover Included', 'Brand', 'Number of USB 3.0 Ports', 'Connectivity Technology', 'Number of USB 2.0 Ports', 'Wireless Type', 'Date First Available', 'Weight', 'Power Source', 'Material', 'Computer Memory Type', 'Certification', 'Operating System', 'Optical Drive Type', 'Graphics Coprocessor', 'Series', 'Batteries Included?', 'Batteries', 'Number of Items', 'Finish Types', 'Display resolution', 'Color']\n"
     ]
    }
   ],
   "source": [
    "# TECH SPECIFICATION\n",
    "# \n",
    "# \n",
    "#  to optimize previous code I will have to add a try / except in the iteration that makes sure the code is still running whenever a Nan value is encountered\n",
    "columns=[]\n",
    "for i in range(len(processor)):\n",
    "    try:\n",
    "        for j in processor.product_tech_spec[i]:\n",
    "            columns.append(j[\"info\"])\n",
    "    except:\n",
    "        continue\n",
    "\n",
    "columns=list(set(columns))\n",
    "print(columns)\n"
   ]
  },
  {
   "cell_type": "code",
   "execution_count": 20,
   "metadata": {},
   "outputs": [
    {
     "output_type": "execute_result",
     "data": {
      "text/plain": [
       "Empty DataFrame\n",
       "Columns: [Material Type, Output Wattage, Max Screen Resolution, Manufacturer Part Number, Is Discontinued By Manufacturer, Language:, Size, Folding, Graphics Card Ram Size, Voice command, Processor Count, Hard Drive Rotational Speed, Display Type, Standing screen display size, Model, Item Package Quantity, ASIN, Product Dimensions, Manufacturer, Depth (inches), Style, Voltage, Preamp Outputs, Finish, Speaker Type, Assembled Width, Warranty, Included Components, Item model number, Flash Memory Size, Plug Profile, Package Dimensions, Special Features, Display Size, Memory Speed, Chipset Brand, Average Battery Life (in hours), Warranty Description, Number Of Pieces, Assembled Height, Hardware Platform, Color Name, Department, National Stock Number, Batteries Required?, Number of Component Outputs, Power Source Type, Processor Brand, Item Weight, Part Number, Model number, Wireless Remote, Brand Name, Hard Drive Interface, Item Dimensions  LxWxH, Screen Resolution, Specification Met, Assembled Length, Card Description, Cover Included, Brand, Number of USB 3.0 Ports, Connectivity Technology, Number of USB 2.0 Ports, Wireless Type, Date First Available, Weight, Power Source, Material, Computer Memory Type, Certification, Operating System, Optical Drive Type, Graphics Coprocessor, Series, Batteries Included?, Batteries, Number of Items, Finish Types, Display resolution, Color]\n",
       "Index: []\n",
       "\n",
       "[0 rows x 81 columns]"
      ],
      "text/html": "<div>\n<style scoped>\n    .dataframe tbody tr th:only-of-type {\n        vertical-align: middle;\n    }\n\n    .dataframe tbody tr th {\n        vertical-align: top;\n    }\n\n    .dataframe thead th {\n        text-align: right;\n    }\n</style>\n<table border=\"1\" class=\"dataframe\">\n  <thead>\n    <tr style=\"text-align: right;\">\n      <th></th>\n      <th>Material Type</th>\n      <th>Output Wattage</th>\n      <th>Max Screen Resolution</th>\n      <th>Manufacturer Part Number</th>\n      <th>Is Discontinued By Manufacturer</th>\n      <th>Language:</th>\n      <th>Size</th>\n      <th>Folding</th>\n      <th>Graphics Card Ram Size</th>\n      <th>Voice command</th>\n      <th>...</th>\n      <th>Operating System</th>\n      <th>Optical Drive Type</th>\n      <th>Graphics Coprocessor</th>\n      <th>Series</th>\n      <th>Batteries Included?</th>\n      <th>Batteries</th>\n      <th>Number of Items</th>\n      <th>Finish Types</th>\n      <th>Display resolution</th>\n      <th>Color</th>\n    </tr>\n  </thead>\n  <tbody>\n  </tbody>\n</table>\n<p>0 rows × 81 columns</p>\n</div>"
     },
     "metadata": {},
     "execution_count": 20
    }
   ],
   "source": [
    "product_tech_spec = pd.DataFrame(columns=columns)\n",
    "product_tech_spec"
   ]
  },
  {
   "cell_type": "code",
   "execution_count": 21,
   "metadata": {},
   "outputs": [],
   "source": [
    "for i in range(len(processor)):\n",
    "    try:\n",
    "        for j in processor.product_tech_spec[i]:\n",
    "            product_tech_spec.loc[i,j[\"info\"]] = j[\"value\"]\n",
    "    except:\n",
    "        product_tech_spec.loc[i,j[\"info\"]] = \"\"\n",
    "        continue"
   ]
  },
  {
   "cell_type": "code",
   "execution_count": 22,
   "metadata": {},
   "outputs": [
    {
     "output_type": "execute_result",
     "data": {
      "text/plain": [
       "     Material Type Output Wattage Max Screen Resolution  \\\n",
       "0              NaN            NaN                   NaN   \n",
       "1              NaN            NaN                   NaN   \n",
       "2              NaN            NaN                   NaN   \n",
       "3              NaN            NaN                   NaN   \n",
       "4              NaN            NaN           3840 x 2160   \n",
       "...            ...            ...                   ...   \n",
       "5884           NaN            NaN                   NaN   \n",
       "5885           NaN            NaN                   NaN   \n",
       "5886           NaN            NaN       1366*768 Pixels   \n",
       "5887           NaN            NaN                   NaN   \n",
       "5888           NaN            NaN                   NaN   \n",
       "\n",
       "     Manufacturer Part Number Is Discontinued By Manufacturer Language: Size  \\\n",
       "0                         NaN                              No       NaN  NaN   \n",
       "1                         NaN                             NaN       NaN  NaN   \n",
       "2                         NaN                             NaN       NaN  NaN   \n",
       "3                         NaN                             NaN       NaN  NaN   \n",
       "4                         NaN                             NaN       NaN  NaN   \n",
       "...                       ...                             ...       ...  ...   \n",
       "5884                      NaN                             NaN       NaN  NaN   \n",
       "5885                      NaN                             NaN       NaN  NaN   \n",
       "5886                      NaN                             NaN       NaN  NaN   \n",
       "5887                      NaN                             NaN       NaN  NaN   \n",
       "5888                      NaN                             NaN       NaN  NaN   \n",
       "\n",
       "     Folding Graphics Card Ram Size Voice command  ... Operating System  \\\n",
       "0        NaN                    NaN           NaN  ...              NaN   \n",
       "1        NaN                    NaN           NaN  ...              NaN   \n",
       "2        NaN                    NaN           NaN  ...              NaN   \n",
       "3        NaN                    NaN           NaN  ...              NaN   \n",
       "4        NaN                    NaN           NaN  ...              NaN   \n",
       "...      ...                    ...           ...  ...              ...   \n",
       "5884     NaN                    NaN           NaN  ...              NaN   \n",
       "5885     NaN                    NaN           NaN  ...              NaN   \n",
       "5886     NaN                    NaN           NaN  ...              NaN   \n",
       "5887     NaN                   4 GB           NaN  ...              NaN   \n",
       "5888     NaN                    NaN           NaN  ...              NaN   \n",
       "\n",
       "     Optical Drive Type     Graphics Coprocessor   Series Batteries Included?  \\\n",
       "0                   NaN                      NaN  Ryzen 5                 NaN   \n",
       "1                   NaN                      NaN      NaN                 NaN   \n",
       "2                   NaN                      NaN      NaN                 NaN   \n",
       "3                   NaN                      NaN      NaN                 NaN   \n",
       "4                   NaN   Intel UHD Graphics 630      NaN                 NaN   \n",
       "...                 ...                      ...      ...                 ...   \n",
       "5884                NaN                      NaN      NaN                 NaN   \n",
       "5885                NaN                      NaN      NaN                 NaN   \n",
       "5886                NaN                    Intel      NaN                 NaN   \n",
       "5887                NaN  NVIDIA GeForce GTX 1650      NaN                 NaN   \n",
       "5888                NaN                      NaN      NaN                 NaN   \n",
       "\n",
       "     Batteries Number of Items Finish Types Display resolution Color  \n",
       "0          NaN             NaN          NaN                NaN   NaN  \n",
       "1          NaN             NaN          NaN                NaN   NaN  \n",
       "2          NaN             NaN          NaN                NaN   NaN  \n",
       "3          NaN             NaN          NaN                NaN   NaN  \n",
       "4          NaN             NaN          NaN                NaN   NaN  \n",
       "...        ...             ...          ...                ...   ...  \n",
       "5884       NaN             NaN          NaN                NaN   NaN  \n",
       "5885       NaN             NaN          NaN                NaN   NaN  \n",
       "5886       NaN             NaN          NaN                NaN   NaN  \n",
       "5887       NaN             NaN          NaN                NaN   NaN  \n",
       "5888       NaN             NaN          NaN                NaN   NaN  \n",
       "\n",
       "[5889 rows x 81 columns]"
      ],
      "text/html": "<div>\n<style scoped>\n    .dataframe tbody tr th:only-of-type {\n        vertical-align: middle;\n    }\n\n    .dataframe tbody tr th {\n        vertical-align: top;\n    }\n\n    .dataframe thead th {\n        text-align: right;\n    }\n</style>\n<table border=\"1\" class=\"dataframe\">\n  <thead>\n    <tr style=\"text-align: right;\">\n      <th></th>\n      <th>Material Type</th>\n      <th>Output Wattage</th>\n      <th>Max Screen Resolution</th>\n      <th>Manufacturer Part Number</th>\n      <th>Is Discontinued By Manufacturer</th>\n      <th>Language:</th>\n      <th>Size</th>\n      <th>Folding</th>\n      <th>Graphics Card Ram Size</th>\n      <th>Voice command</th>\n      <th>...</th>\n      <th>Operating System</th>\n      <th>Optical Drive Type</th>\n      <th>Graphics Coprocessor</th>\n      <th>Series</th>\n      <th>Batteries Included?</th>\n      <th>Batteries</th>\n      <th>Number of Items</th>\n      <th>Finish Types</th>\n      <th>Display resolution</th>\n      <th>Color</th>\n    </tr>\n  </thead>\n  <tbody>\n    <tr>\n      <th>0</th>\n      <td>NaN</td>\n      <td>NaN</td>\n      <td>NaN</td>\n      <td>NaN</td>\n      <td>No</td>\n      <td>NaN</td>\n      <td>NaN</td>\n      <td>NaN</td>\n      <td>NaN</td>\n      <td>NaN</td>\n      <td>...</td>\n      <td>NaN</td>\n      <td>NaN</td>\n      <td>NaN</td>\n      <td>Ryzen 5</td>\n      <td>NaN</td>\n      <td>NaN</td>\n      <td>NaN</td>\n      <td>NaN</td>\n      <td>NaN</td>\n      <td>NaN</td>\n    </tr>\n    <tr>\n      <th>1</th>\n      <td>NaN</td>\n      <td>NaN</td>\n      <td>NaN</td>\n      <td>NaN</td>\n      <td>NaN</td>\n      <td>NaN</td>\n      <td>NaN</td>\n      <td>NaN</td>\n      <td>NaN</td>\n      <td>NaN</td>\n      <td>...</td>\n      <td>NaN</td>\n      <td>NaN</td>\n      <td>NaN</td>\n      <td>NaN</td>\n      <td>NaN</td>\n      <td>NaN</td>\n      <td>NaN</td>\n      <td>NaN</td>\n      <td>NaN</td>\n      <td>NaN</td>\n    </tr>\n    <tr>\n      <th>2</th>\n      <td>NaN</td>\n      <td>NaN</td>\n      <td>NaN</td>\n      <td>NaN</td>\n      <td>NaN</td>\n      <td>NaN</td>\n      <td>NaN</td>\n      <td>NaN</td>\n      <td>NaN</td>\n      <td>NaN</td>\n      <td>...</td>\n      <td>NaN</td>\n      <td>NaN</td>\n      <td>NaN</td>\n      <td>NaN</td>\n      <td>NaN</td>\n      <td>NaN</td>\n      <td>NaN</td>\n      <td>NaN</td>\n      <td>NaN</td>\n      <td>NaN</td>\n    </tr>\n    <tr>\n      <th>3</th>\n      <td>NaN</td>\n      <td>NaN</td>\n      <td>NaN</td>\n      <td>NaN</td>\n      <td>NaN</td>\n      <td>NaN</td>\n      <td>NaN</td>\n      <td>NaN</td>\n      <td>NaN</td>\n      <td>NaN</td>\n      <td>...</td>\n      <td>NaN</td>\n      <td>NaN</td>\n      <td>NaN</td>\n      <td>NaN</td>\n      <td>NaN</td>\n      <td>NaN</td>\n      <td>NaN</td>\n      <td>NaN</td>\n      <td>NaN</td>\n      <td>NaN</td>\n    </tr>\n    <tr>\n      <th>4</th>\n      <td>NaN</td>\n      <td>NaN</td>\n      <td>3840 x 2160</td>\n      <td>NaN</td>\n      <td>NaN</td>\n      <td>NaN</td>\n      <td>NaN</td>\n      <td>NaN</td>\n      <td>NaN</td>\n      <td>NaN</td>\n      <td>...</td>\n      <td>NaN</td>\n      <td>NaN</td>\n      <td>Intel UHD Graphics 630</td>\n      <td>NaN</td>\n      <td>NaN</td>\n      <td>NaN</td>\n      <td>NaN</td>\n      <td>NaN</td>\n      <td>NaN</td>\n      <td>NaN</td>\n    </tr>\n    <tr>\n      <th>...</th>\n      <td>...</td>\n      <td>...</td>\n      <td>...</td>\n      <td>...</td>\n      <td>...</td>\n      <td>...</td>\n      <td>...</td>\n      <td>...</td>\n      <td>...</td>\n      <td>...</td>\n      <td>...</td>\n      <td>...</td>\n      <td>...</td>\n      <td>...</td>\n      <td>...</td>\n      <td>...</td>\n      <td>...</td>\n      <td>...</td>\n      <td>...</td>\n      <td>...</td>\n      <td>...</td>\n    </tr>\n    <tr>\n      <th>5884</th>\n      <td>NaN</td>\n      <td>NaN</td>\n      <td>NaN</td>\n      <td>NaN</td>\n      <td>NaN</td>\n      <td>NaN</td>\n      <td>NaN</td>\n      <td>NaN</td>\n      <td>NaN</td>\n      <td>NaN</td>\n      <td>...</td>\n      <td>NaN</td>\n      <td>NaN</td>\n      <td>NaN</td>\n      <td>NaN</td>\n      <td>NaN</td>\n      <td>NaN</td>\n      <td>NaN</td>\n      <td>NaN</td>\n      <td>NaN</td>\n      <td>NaN</td>\n    </tr>\n    <tr>\n      <th>5885</th>\n      <td>NaN</td>\n      <td>NaN</td>\n      <td>NaN</td>\n      <td>NaN</td>\n      <td>NaN</td>\n      <td>NaN</td>\n      <td>NaN</td>\n      <td>NaN</td>\n      <td>NaN</td>\n      <td>NaN</td>\n      <td>...</td>\n      <td>NaN</td>\n      <td>NaN</td>\n      <td>NaN</td>\n      <td>NaN</td>\n      <td>NaN</td>\n      <td>NaN</td>\n      <td>NaN</td>\n      <td>NaN</td>\n      <td>NaN</td>\n      <td>NaN</td>\n    </tr>\n    <tr>\n      <th>5886</th>\n      <td>NaN</td>\n      <td>NaN</td>\n      <td>1366*768 Pixels</td>\n      <td>NaN</td>\n      <td>NaN</td>\n      <td>NaN</td>\n      <td>NaN</td>\n      <td>NaN</td>\n      <td>NaN</td>\n      <td>NaN</td>\n      <td>...</td>\n      <td>NaN</td>\n      <td>NaN</td>\n      <td>Intel</td>\n      <td>NaN</td>\n      <td>NaN</td>\n      <td>NaN</td>\n      <td>NaN</td>\n      <td>NaN</td>\n      <td>NaN</td>\n      <td>NaN</td>\n    </tr>\n    <tr>\n      <th>5887</th>\n      <td>NaN</td>\n      <td>NaN</td>\n      <td>NaN</td>\n      <td>NaN</td>\n      <td>NaN</td>\n      <td>NaN</td>\n      <td>NaN</td>\n      <td>NaN</td>\n      <td>4 GB</td>\n      <td>NaN</td>\n      <td>...</td>\n      <td>NaN</td>\n      <td>NaN</td>\n      <td>NVIDIA GeForce GTX 1650</td>\n      <td>NaN</td>\n      <td>NaN</td>\n      <td>NaN</td>\n      <td>NaN</td>\n      <td>NaN</td>\n      <td>NaN</td>\n      <td>NaN</td>\n    </tr>\n    <tr>\n      <th>5888</th>\n      <td>NaN</td>\n      <td>NaN</td>\n      <td>NaN</td>\n      <td>NaN</td>\n      <td>NaN</td>\n      <td>NaN</td>\n      <td>NaN</td>\n      <td>NaN</td>\n      <td>NaN</td>\n      <td>NaN</td>\n      <td>...</td>\n      <td>NaN</td>\n      <td>NaN</td>\n      <td>NaN</td>\n      <td>NaN</td>\n      <td>NaN</td>\n      <td>NaN</td>\n      <td>NaN</td>\n      <td>NaN</td>\n      <td>NaN</td>\n      <td>NaN</td>\n    </tr>\n  </tbody>\n</table>\n<p>5889 rows × 81 columns</p>\n</div>"
     },
     "metadata": {},
     "execution_count": 22
    }
   ],
   "source": [
    "product_tech_spec"
   ]
  },
  {
   "cell_type": "code",
   "execution_count": 23,
   "metadata": {},
   "outputs": [
    {
     "output_type": "execute_result",
     "data": {
      "text/plain": [
       "Material Type                         3\n",
       "Output Wattage                        1\n",
       "Max Screen Resolution              1622\n",
       "Manufacturer Part Number             41\n",
       "Is Discontinued By Manufacturer     558\n",
       "                                   ... \n",
       "Batteries                            65\n",
       "Number of Items                       7\n",
       "Finish Types                          2\n",
       "Display resolution                   20\n",
       "Color                               385\n",
       "Length: 81, dtype: int64"
      ]
     },
     "metadata": {},
     "execution_count": 23
    }
   ],
   "source": [
    "product_tech_spec.notnull().sum()"
   ]
  },
  {
   "cell_type": "code",
   "execution_count": 24,
   "metadata": {},
   "outputs": [
    {
     "output_type": "stream",
     "name": "stdout",
     "text": [
      "['National Stock Number', 'Product Dimensions', 'Hard Drive Interface', 'Battery Description', 'Processor Count', 'Is Discontinued By Manufacturer', 'Series', 'Computer Memory Type', 'Package Dimensions', 'Hard Drive Rotational Speed', 'Optical Drive Type', 'Language:', 'Batteries', 'Date First Available', 'Color', 'Rear Webcam Resolution', 'Item model number', 'Voltage', 'Manufacturer', 'Operating System', 'Audio-out Ports (#)', 'Flash Memory Size', 'Department', 'Item Dimensions  LxWxH', 'Item Weight', 'Power Source', 'ASIN', 'Hardware Platform', 'Brand', 'Processor Brand']\n"
     ]
    }
   ],
   "source": [
    "# in this code I use the shape columns[0] (shape is shown with [columns, rows] and I only need the columns) instead of the lenght of the df\n",
    "\n",
    "columns=[]\n",
    "for i in range(processor.shape[0]):\n",
    "    try:\n",
    "        for j in processor.other_tech_spec[i]:\n",
    "            columns.append(j[\"info\"])\n",
    "    except:\n",
    "        continue\n",
    "\n",
    "columns= list(set(columns))\n",
    "print(columns)"
   ]
  },
  {
   "cell_type": "code",
   "execution_count": 25,
   "metadata": {},
   "outputs": [
    {
     "output_type": "execute_result",
     "data": {
      "text/plain": [
       "Empty DataFrame\n",
       "Columns: [National Stock Number, Product Dimensions, Hard Drive Interface, Battery Description, Processor Count, Is Discontinued By Manufacturer, Series, Computer Memory Type, Package Dimensions, Hard Drive Rotational Speed, Optical Drive Type, Language:, Batteries, Date First Available, Color, Rear Webcam Resolution, Item model number, Voltage, Manufacturer, Operating System, Audio-out Ports (#), Flash Memory Size, Department, Item Dimensions  LxWxH, Item Weight, Power Source, ASIN, Hardware Platform, Brand, Processor Brand]\n",
       "Index: []\n",
       "\n",
       "[0 rows x 30 columns]"
      ],
      "text/html": "<div>\n<style scoped>\n    .dataframe tbody tr th:only-of-type {\n        vertical-align: middle;\n    }\n\n    .dataframe tbody tr th {\n        vertical-align: top;\n    }\n\n    .dataframe thead th {\n        text-align: right;\n    }\n</style>\n<table border=\"1\" class=\"dataframe\">\n  <thead>\n    <tr style=\"text-align: right;\">\n      <th></th>\n      <th>National Stock Number</th>\n      <th>Product Dimensions</th>\n      <th>Hard Drive Interface</th>\n      <th>Battery Description</th>\n      <th>Processor Count</th>\n      <th>Is Discontinued By Manufacturer</th>\n      <th>Series</th>\n      <th>Computer Memory Type</th>\n      <th>Package Dimensions</th>\n      <th>Hard Drive Rotational Speed</th>\n      <th>...</th>\n      <th>Audio-out Ports (#)</th>\n      <th>Flash Memory Size</th>\n      <th>Department</th>\n      <th>Item Dimensions  LxWxH</th>\n      <th>Item Weight</th>\n      <th>Power Source</th>\n      <th>ASIN</th>\n      <th>Hardware Platform</th>\n      <th>Brand</th>\n      <th>Processor Brand</th>\n    </tr>\n  </thead>\n  <tbody>\n  </tbody>\n</table>\n<p>0 rows × 30 columns</p>\n</div>"
     },
     "metadata": {},
     "execution_count": 25
    }
   ],
   "source": [
    "other_tech_spec = pd.DataFrame(columns=columns)\n",
    "other_tech_spec"
   ]
  },
  {
   "cell_type": "code",
   "execution_count": 26,
   "metadata": {},
   "outputs": [],
   "source": [
    "for i in range(processor.shape[0]):\n",
    "    try:\n",
    "        for j in processor.other_tech_spec[i]:\n",
    "            other_tech_spec.loc[i,j[\"info\"]] = j[\"value\"]\n",
    "    except:\n",
    "        other_tech_spec.loc[i,j[\"info\"]] = \"\"\n",
    "        continue"
   ]
  },
  {
   "cell_type": "code",
   "execution_count": 27,
   "metadata": {},
   "outputs": [
    {
     "output_type": "execute_result",
     "data": {
      "text/plain": [
       "     National Stock Number         Product Dimensions Hard Drive Interface  \\\n",
       "0                      NaN                        NaN                  NaN   \n",
       "1                      NaN     1.6 x 1.6 x 0.3 inches                  NaN   \n",
       "2                      NaN                        NaN                  NaN   \n",
       "3                      NaN  4.57 x 3.98 x 2.76 inches                  NaN   \n",
       "4                      NaN         8 x 8 x 1.9 inches       Serial ATA-600   \n",
       "...                    ...                        ...                  ...   \n",
       "5884                   NaN                        NaN                  NaN   \n",
       "5885                   NaN         12 x 13 x 3 inches                  NaN   \n",
       "5886                   NaN                        NaN                ESATA   \n",
       "5887                   NaN  8.86 x 4.69 x 1.57 inches                  NaN   \n",
       "5888                   NaN     8.9 x 7.3 x 3.7 inches                  NaN   \n",
       "\n",
       "     Battery Description Processor Count Is Discontinued By Manufacturer  \\\n",
       "0                    NaN             NaN                             NaN   \n",
       "1                    NaN               6                              No   \n",
       "2                    NaN             NaN                             NaN   \n",
       "3                    NaN               8                              No   \n",
       "4                    NaN               6                             NaN   \n",
       "...                  ...             ...                             ...   \n",
       "5884                 NaN             NaN                             NaN   \n",
       "5885                 NaN               1                              No   \n",
       "5886                 NaN               2                             NaN   \n",
       "5887                 NaN             NaN                             NaN   \n",
       "5888                 NaN             NaN                              No   \n",
       "\n",
       "                       Series Computer Memory Type  Package Dimensions  \\\n",
       "0                         NaN                  NaN                 NaN   \n",
       "1                         NaN           DDR4 SDRAM                 NaN   \n",
       "2                         NaN                  NaN                 NaN   \n",
       "3                         NaN           DDR4 SDRAM                 NaN   \n",
       "4              LITESHIELD 2.0               SODIMM                 NaN   \n",
       "...                       ...                  ...                 ...   \n",
       "5884                      NaN                  NaN                 NaN   \n",
       "5885                      NaN           DDR4 SDRAM                 NaN   \n",
       "5886                     T460     DDR3L-1600 SDRAM  18 x 12 x 3 inches   \n",
       "5887                      NaN                  NaN                 NaN   \n",
       "5888  ROG Strix B450-I Gaming           DDR4 SDRAM                 NaN   \n",
       "\n",
       "     Hard Drive Rotational Speed  ... Audio-out Ports (#) Flash Memory Size  \\\n",
       "0                            NaN  ...                 NaN               NaN   \n",
       "1                            NaN  ...                 NaN               NaN   \n",
       "2                            NaN  ...                 NaN               NaN   \n",
       "3                            NaN  ...                 NaN               NaN   \n",
       "4                            NaN  ...                 NaN               NaN   \n",
       "...                          ...  ...                 ...               ...   \n",
       "5884                         NaN  ...                 NaN               NaN   \n",
       "5885                         NaN  ...                 NaN               NaN   \n",
       "5886                         NaN  ...                 NaN               NaN   \n",
       "5887                         NaN  ...                 NaN               NaN   \n",
       "5888                         NaN  ...                 NaN               NaN   \n",
       "\n",
       "     Department     Item Dimensions  LxWxH  Item Weight Power Source  \\\n",
       "0           NaN                        NaN          NaN          NaN   \n",
       "1           NaN     1.6 x 1.6 x 0.3 inches     1 pounds          NaN   \n",
       "2           NaN                        NaN          NaN          NaN   \n",
       "3           NaN  4.57 x 3.98 x 2.76 inches  1.59 ounces          NaN   \n",
       "4           NaN         8 x 8 x 1.9 inches     5 pounds           DC   \n",
       "...         ...                        ...          ...          ...   \n",
       "5884        NaN                        NaN          NaN          NaN   \n",
       "5885        NaN         12 x 13 x 3 inches   3.3 pounds          NaN   \n",
       "5886        NaN                        NaN     5 pounds          NaN   \n",
       "5887        NaN  8.86 x 4.69 x 1.57 inches   1.7 pounds          NaN   \n",
       "5888        NaN     8.9 x 7.3 x 3.7 inches     1 pounds          NaN   \n",
       "\n",
       "            ASIN Hardware Platform     Brand Processor Brand  \n",
       "0            NaN               NaN       NaN             NaN  \n",
       "1     B07B41WS48               NaN       AMD             AMD  \n",
       "2            NaN               NaN       NaN             NaN  \n",
       "3     B07HHN6KBZ               NaN     Intel           Intel  \n",
       "4            NaN                PC       NaN           Intel  \n",
       "...          ...               ...       ...             ...  \n",
       "5884         NaN               NaN       NaN             NaN  \n",
       "5885  B07BMV9WJ4               NaN    ASRock             NaN  \n",
       "5886         NaN                PC       N&n           Intel  \n",
       "5887  B081R359ZM               NaN  Gigabyte             NaN  \n",
       "5888  B07FKTSWNG               NaN      ASUS             NaN  \n",
       "\n",
       "[5889 rows x 30 columns]"
      ],
      "text/html": "<div>\n<style scoped>\n    .dataframe tbody tr th:only-of-type {\n        vertical-align: middle;\n    }\n\n    .dataframe tbody tr th {\n        vertical-align: top;\n    }\n\n    .dataframe thead th {\n        text-align: right;\n    }\n</style>\n<table border=\"1\" class=\"dataframe\">\n  <thead>\n    <tr style=\"text-align: right;\">\n      <th></th>\n      <th>National Stock Number</th>\n      <th>Product Dimensions</th>\n      <th>Hard Drive Interface</th>\n      <th>Battery Description</th>\n      <th>Processor Count</th>\n      <th>Is Discontinued By Manufacturer</th>\n      <th>Series</th>\n      <th>Computer Memory Type</th>\n      <th>Package Dimensions</th>\n      <th>Hard Drive Rotational Speed</th>\n      <th>...</th>\n      <th>Audio-out Ports (#)</th>\n      <th>Flash Memory Size</th>\n      <th>Department</th>\n      <th>Item Dimensions  LxWxH</th>\n      <th>Item Weight</th>\n      <th>Power Source</th>\n      <th>ASIN</th>\n      <th>Hardware Platform</th>\n      <th>Brand</th>\n      <th>Processor Brand</th>\n    </tr>\n  </thead>\n  <tbody>\n    <tr>\n      <th>0</th>\n      <td>NaN</td>\n      <td>NaN</td>\n      <td>NaN</td>\n      <td>NaN</td>\n      <td>NaN</td>\n      <td>NaN</td>\n      <td>NaN</td>\n      <td>NaN</td>\n      <td>NaN</td>\n      <td>NaN</td>\n      <td>...</td>\n      <td>NaN</td>\n      <td>NaN</td>\n      <td>NaN</td>\n      <td>NaN</td>\n      <td>NaN</td>\n      <td>NaN</td>\n      <td>NaN</td>\n      <td>NaN</td>\n      <td>NaN</td>\n      <td>NaN</td>\n    </tr>\n    <tr>\n      <th>1</th>\n      <td>NaN</td>\n      <td>1.6 x 1.6 x 0.3 inches</td>\n      <td>NaN</td>\n      <td>NaN</td>\n      <td>6</td>\n      <td>No</td>\n      <td>NaN</td>\n      <td>DDR4 SDRAM</td>\n      <td>NaN</td>\n      <td>NaN</td>\n      <td>...</td>\n      <td>NaN</td>\n      <td>NaN</td>\n      <td>NaN</td>\n      <td>1.6 x 1.6 x 0.3 inches</td>\n      <td>1 pounds</td>\n      <td>NaN</td>\n      <td>B07B41WS48</td>\n      <td>NaN</td>\n      <td>AMD</td>\n      <td>AMD</td>\n    </tr>\n    <tr>\n      <th>2</th>\n      <td>NaN</td>\n      <td>NaN</td>\n      <td>NaN</td>\n      <td>NaN</td>\n      <td>NaN</td>\n      <td>NaN</td>\n      <td>NaN</td>\n      <td>NaN</td>\n      <td>NaN</td>\n      <td>NaN</td>\n      <td>...</td>\n      <td>NaN</td>\n      <td>NaN</td>\n      <td>NaN</td>\n      <td>NaN</td>\n      <td>NaN</td>\n      <td>NaN</td>\n      <td>NaN</td>\n      <td>NaN</td>\n      <td>NaN</td>\n      <td>NaN</td>\n    </tr>\n    <tr>\n      <th>3</th>\n      <td>NaN</td>\n      <td>4.57 x 3.98 x 2.76 inches</td>\n      <td>NaN</td>\n      <td>NaN</td>\n      <td>8</td>\n      <td>No</td>\n      <td>NaN</td>\n      <td>DDR4 SDRAM</td>\n      <td>NaN</td>\n      <td>NaN</td>\n      <td>...</td>\n      <td>NaN</td>\n      <td>NaN</td>\n      <td>NaN</td>\n      <td>4.57 x 3.98 x 2.76 inches</td>\n      <td>1.59 ounces</td>\n      <td>NaN</td>\n      <td>B07HHN6KBZ</td>\n      <td>NaN</td>\n      <td>Intel</td>\n      <td>Intel</td>\n    </tr>\n    <tr>\n      <th>4</th>\n      <td>NaN</td>\n      <td>8 x 8 x 1.9 inches</td>\n      <td>Serial ATA-600</td>\n      <td>NaN</td>\n      <td>6</td>\n      <td>NaN</td>\n      <td>LITESHIELD 2.0</td>\n      <td>SODIMM</td>\n      <td>NaN</td>\n      <td>NaN</td>\n      <td>...</td>\n      <td>NaN</td>\n      <td>NaN</td>\n      <td>NaN</td>\n      <td>8 x 8 x 1.9 inches</td>\n      <td>5 pounds</td>\n      <td>DC</td>\n      <td>NaN</td>\n      <td>PC</td>\n      <td>NaN</td>\n      <td>Intel</td>\n    </tr>\n    <tr>\n      <th>...</th>\n      <td>...</td>\n      <td>...</td>\n      <td>...</td>\n      <td>...</td>\n      <td>...</td>\n      <td>...</td>\n      <td>...</td>\n      <td>...</td>\n      <td>...</td>\n      <td>...</td>\n      <td>...</td>\n      <td>...</td>\n      <td>...</td>\n      <td>...</td>\n      <td>...</td>\n      <td>...</td>\n      <td>...</td>\n      <td>...</td>\n      <td>...</td>\n      <td>...</td>\n      <td>...</td>\n    </tr>\n    <tr>\n      <th>5884</th>\n      <td>NaN</td>\n      <td>NaN</td>\n      <td>NaN</td>\n      <td>NaN</td>\n      <td>NaN</td>\n      <td>NaN</td>\n      <td>NaN</td>\n      <td>NaN</td>\n      <td>NaN</td>\n      <td>NaN</td>\n      <td>...</td>\n      <td>NaN</td>\n      <td>NaN</td>\n      <td>NaN</td>\n      <td>NaN</td>\n      <td>NaN</td>\n      <td>NaN</td>\n      <td>NaN</td>\n      <td>NaN</td>\n      <td>NaN</td>\n      <td>NaN</td>\n    </tr>\n    <tr>\n      <th>5885</th>\n      <td>NaN</td>\n      <td>12 x 13 x 3 inches</td>\n      <td>NaN</td>\n      <td>NaN</td>\n      <td>1</td>\n      <td>No</td>\n      <td>NaN</td>\n      <td>DDR4 SDRAM</td>\n      <td>NaN</td>\n      <td>NaN</td>\n      <td>...</td>\n      <td>NaN</td>\n      <td>NaN</td>\n      <td>NaN</td>\n      <td>12 x 13 x 3 inches</td>\n      <td>3.3 pounds</td>\n      <td>NaN</td>\n      <td>B07BMV9WJ4</td>\n      <td>NaN</td>\n      <td>ASRock</td>\n      <td>NaN</td>\n    </tr>\n    <tr>\n      <th>5886</th>\n      <td>NaN</td>\n      <td>NaN</td>\n      <td>ESATA</td>\n      <td>NaN</td>\n      <td>2</td>\n      <td>NaN</td>\n      <td>T460</td>\n      <td>DDR3L-1600 SDRAM</td>\n      <td>18 x 12 x 3 inches</td>\n      <td>NaN</td>\n      <td>...</td>\n      <td>NaN</td>\n      <td>NaN</td>\n      <td>NaN</td>\n      <td>NaN</td>\n      <td>5 pounds</td>\n      <td>NaN</td>\n      <td>NaN</td>\n      <td>PC</td>\n      <td>N&amp;n</td>\n      <td>Intel</td>\n    </tr>\n    <tr>\n      <th>5887</th>\n      <td>NaN</td>\n      <td>8.86 x 4.69 x 1.57 inches</td>\n      <td>NaN</td>\n      <td>NaN</td>\n      <td>NaN</td>\n      <td>NaN</td>\n      <td>NaN</td>\n      <td>NaN</td>\n      <td>NaN</td>\n      <td>NaN</td>\n      <td>...</td>\n      <td>NaN</td>\n      <td>NaN</td>\n      <td>NaN</td>\n      <td>8.86 x 4.69 x 1.57 inches</td>\n      <td>1.7 pounds</td>\n      <td>NaN</td>\n      <td>B081R359ZM</td>\n      <td>NaN</td>\n      <td>Gigabyte</td>\n      <td>NaN</td>\n    </tr>\n    <tr>\n      <th>5888</th>\n      <td>NaN</td>\n      <td>8.9 x 7.3 x 3.7 inches</td>\n      <td>NaN</td>\n      <td>NaN</td>\n      <td>NaN</td>\n      <td>No</td>\n      <td>ROG Strix B450-I Gaming</td>\n      <td>DDR4 SDRAM</td>\n      <td>NaN</td>\n      <td>NaN</td>\n      <td>...</td>\n      <td>NaN</td>\n      <td>NaN</td>\n      <td>NaN</td>\n      <td>8.9 x 7.3 x 3.7 inches</td>\n      <td>1 pounds</td>\n      <td>NaN</td>\n      <td>B07FKTSWNG</td>\n      <td>NaN</td>\n      <td>ASUS</td>\n      <td>NaN</td>\n    </tr>\n  </tbody>\n</table>\n<p>5889 rows × 30 columns</p>\n</div>"
     },
     "metadata": {},
     "execution_count": 27
    }
   ],
   "source": [
    "other_tech_spec"
   ]
  },
  {
   "cell_type": "code",
   "execution_count": 28,
   "metadata": {},
   "outputs": [
    {
     "output_type": "execute_result",
     "data": {
      "text/plain": [
       "['National Stock Number',\n",
       " 'Phone Talk Time',\n",
       " 'Import Designation',\n",
       " 'Supported Software',\n",
       " 'Device interface - primary',\n",
       " 'Back Material',\n",
       " 'Body Material',\n",
       " 'Language:',\n",
       " 'Mixer Channel Quantity',\n",
       " 'Manufacturer',\n",
       " 'Color Screen',\n",
       " 'Form Factor',\n",
       " 'GPS',\n",
       " 'Best Sellers Rank',\n",
       " 'Power Source',\n",
       " 'Hardware Platform',\n",
       " 'Color Name',\n",
       " 'Speaker Count',\n",
       " 'Product Dimensions',\n",
       " 'RAM',\n",
       " 'Connector Type',\n",
       " 'Scanner Resolution',\n",
       " 'Mfg Recommended age',\n",
       " 'Batteries',\n",
       " 'Hardware Interface',\n",
       " 'Item model number',\n",
       " 'Binding',\n",
       " 'OS',\n",
       " 'Number of Strings',\n",
       " 'International Shipping',\n",
       " 'Battery type',\n",
       " 'Material Type',\n",
       " 'Included Components',\n",
       " 'Other camera features',\n",
       " 'Item Weight',\n",
       " 'Processor Count',\n",
       " 'Pricing',\n",
       " 'Batteries Required',\n",
       " 'Speaker Amplification Type',\n",
       " 'Phone Standy Time (with data)',\n",
       " 'Compatible Devices',\n",
       " 'Rated',\n",
       " 'Connectivity technologies',\n",
       " 'Processor Speed',\n",
       " 'Percussion Diameter',\n",
       " 'Fretboard Material',\n",
       " 'Wireless communication technologies',\n",
       " 'Voltage',\n",
       " 'Audio Jack',\n",
       " 'Customer Reviews',\n",
       " 'Battery Power Rating',\n",
       " 'Size',\n",
       " 'Musical Style',\n",
       " 'Department',\n",
       " 'Neck Material Type',\n",
       " 'Digital Audio Protocol',\n",
       " 'Processor Brand',\n",
       " 'Domestic Shipping',\n",
       " 'Additional Features',\n",
       " 'Is Discontinued By Manufacturer',\n",
       " 'Package Dimensions',\n",
       " 'Display technology',\n",
       " 'Display resolution',\n",
       " 'Wireless Microphone Frequency',\n",
       " 'Output Wattage',\n",
       " 'Processor Type',\n",
       " 'Date First Available',\n",
       " 'Specific Uses For Product',\n",
       " 'Computer Platform',\n",
       " 'Other display features',\n",
       " 'Manufacturer recommended age',\n",
       " 'GPU',\n",
       " 'Top Material',\n",
       " 'Wattage',\n",
       " 'Colour',\n",
       " 'Release date',\n",
       " 'ASIN']"
      ]
     },
     "metadata": {},
     "execution_count": 28
    }
   ],
   "source": [
    "columns=[]\n",
    "for i in range(processor.shape[0]):\n",
    "    try:\n",
    "        for j in processor.product_addl_info[i]:\n",
    "            columns.append(j[\"info\"])\n",
    "    except:\n",
    "        continue\n",
    "\n",
    "columns=list(set(columns))\n",
    "columns"
   ]
  },
  {
   "cell_type": "code",
   "execution_count": 29,
   "metadata": {},
   "outputs": [
    {
     "output_type": "execute_result",
     "data": {
      "text/plain": [
       "Empty DataFrame\n",
       "Columns: [National Stock Number, Phone Talk Time, Import Designation, Supported Software, Device interface - primary, Back Material, Body Material, Language:, Mixer Channel Quantity, Manufacturer, Color Screen, Form Factor, GPS, Best Sellers Rank, Power Source, Hardware Platform, Color Name, Speaker Count, Product Dimensions, RAM, Connector Type, Scanner Resolution, Mfg Recommended age, Batteries, Hardware Interface, Item model number, Binding, OS, Number of Strings, International Shipping, Battery type, Material Type, Included Components, Other camera features, Item Weight, Processor Count, Pricing, Batteries Required, Speaker Amplification Type, Phone Standy Time (with data), Compatible Devices, Rated, Connectivity technologies, Processor Speed, Percussion Diameter, Fretboard Material, Wireless communication technologies, Voltage, Audio Jack, Customer Reviews, Battery Power Rating, Size, Musical Style, Department, Neck Material Type, Digital Audio Protocol, Processor Brand, Domestic Shipping, Additional Features, Is Discontinued By Manufacturer, Package Dimensions, Display technology, Display resolution, Wireless Microphone Frequency, Output Wattage, Processor Type, Date First Available, Specific Uses For Product, Computer Platform, Other display features, Manufacturer recommended age, GPU, Top Material, Wattage, Colour, Release date, ASIN]\n",
       "Index: []\n",
       "\n",
       "[0 rows x 77 columns]"
      ],
      "text/html": "<div>\n<style scoped>\n    .dataframe tbody tr th:only-of-type {\n        vertical-align: middle;\n    }\n\n    .dataframe tbody tr th {\n        vertical-align: top;\n    }\n\n    .dataframe thead th {\n        text-align: right;\n    }\n</style>\n<table border=\"1\" class=\"dataframe\">\n  <thead>\n    <tr style=\"text-align: right;\">\n      <th></th>\n      <th>National Stock Number</th>\n      <th>Phone Talk Time</th>\n      <th>Import Designation</th>\n      <th>Supported Software</th>\n      <th>Device interface - primary</th>\n      <th>Back Material</th>\n      <th>Body Material</th>\n      <th>Language:</th>\n      <th>Mixer Channel Quantity</th>\n      <th>Manufacturer</th>\n      <th>...</th>\n      <th>Specific Uses For Product</th>\n      <th>Computer Platform</th>\n      <th>Other display features</th>\n      <th>Manufacturer recommended age</th>\n      <th>GPU</th>\n      <th>Top Material</th>\n      <th>Wattage</th>\n      <th>Colour</th>\n      <th>Release date</th>\n      <th>ASIN</th>\n    </tr>\n  </thead>\n  <tbody>\n  </tbody>\n</table>\n<p>0 rows × 77 columns</p>\n</div>"
     },
     "metadata": {},
     "execution_count": 29
    }
   ],
   "source": [
    "product_addl_info = pd.DataFrame(columns=columns)\n",
    "product_addl_info"
   ]
  },
  {
   "cell_type": "code",
   "execution_count": 30,
   "metadata": {},
   "outputs": [],
   "source": [
    "for i in range(processor.shape[0]):\n",
    "    try:\n",
    "        for j in processor.product_addl_info[i]:\n",
    "            product_addl_info.loc[i,j[\"info\"]] = j[\"value\"]\n",
    "    except:\n",
    "        product_addl_info.loc[i,j[\"info\"]] = \"\"\n",
    "        continue"
   ]
  },
  {
   "cell_type": "code",
   "execution_count": 31,
   "metadata": {},
   "outputs": [
    {
     "output_type": "execute_result",
     "data": {
      "text/plain": [
       "     National Stock Number Phone Talk Time Import Designation  \\\n",
       "0                      NaN             NaN                NaN   \n",
       "1                      NaN             NaN                NaN   \n",
       "2                      NaN             NaN                NaN   \n",
       "3                      NaN             NaN                NaN   \n",
       "4                      NaN             NaN                NaN   \n",
       "...                    ...             ...                ...   \n",
       "5884                   NaN             NaN                NaN   \n",
       "5885                   NaN             NaN                NaN   \n",
       "5886                   NaN             NaN                NaN   \n",
       "5887                   NaN             NaN                NaN   \n",
       "5888                   NaN             NaN                NaN   \n",
       "\n",
       "     Supported Software Device interface - primary Back Material  \\\n",
       "0                   NaN                        NaN           NaN   \n",
       "1                   NaN                        NaN           NaN   \n",
       "2                   NaN                        NaN           NaN   \n",
       "3                   NaN                        NaN           NaN   \n",
       "4                   NaN                        NaN           NaN   \n",
       "...                 ...                        ...           ...   \n",
       "5884                NaN                        NaN           NaN   \n",
       "5885                NaN                        NaN           NaN   \n",
       "5886                NaN                        NaN           NaN   \n",
       "5887                NaN                        NaN           NaN   \n",
       "5888                NaN                        NaN           NaN   \n",
       "\n",
       "     Body Material Language: Mixer Channel Quantity Manufacturer  ...  \\\n",
       "0              NaN       NaN                    NaN          NaN  ...   \n",
       "1              NaN       NaN                    NaN          NaN  ...   \n",
       "2              NaN       NaN                    NaN          NaN  ...   \n",
       "3              NaN       NaN                    NaN          NaN  ...   \n",
       "4              NaN       NaN                    NaN          NaN  ...   \n",
       "...            ...       ...                    ...          ...  ...   \n",
       "5884           NaN       NaN                    NaN      YEELIYA  ...   \n",
       "5885           NaN       NaN                    NaN          NaN  ...   \n",
       "5886           NaN       NaN                    NaN          NaN  ...   \n",
       "5887           NaN       NaN                    NaN          NaN  ...   \n",
       "5888           NaN       NaN                    NaN          NaN  ...   \n",
       "\n",
       "     Specific Uses For Product Computer Platform Other display features  \\\n",
       "0                          NaN               NaN                    NaN   \n",
       "1                          NaN               NaN                    NaN   \n",
       "2                          NaN               NaN                    NaN   \n",
       "3                          NaN               NaN                    NaN   \n",
       "4                          NaN               NaN                    NaN   \n",
       "...                        ...               ...                    ...   \n",
       "5884                       NaN               NaN                    NaN   \n",
       "5885                       NaN               NaN                    NaN   \n",
       "5886                       NaN               NaN                    NaN   \n",
       "5887                       NaN               NaN                    NaN   \n",
       "5888                       NaN               NaN                    NaN   \n",
       "\n",
       "     Manufacturer recommended age  GPU Top Material Wattage Colour  \\\n",
       "0                             NaN  NaN          NaN     NaN    NaN   \n",
       "1                             NaN  NaN          NaN     NaN    NaN   \n",
       "2                             NaN  NaN          NaN     NaN    NaN   \n",
       "3                             NaN  NaN          NaN     NaN    NaN   \n",
       "4                             NaN  NaN          NaN     NaN    NaN   \n",
       "...                           ...  ...          ...     ...    ...   \n",
       "5884                          NaN  NaN          NaN     NaN    NaN   \n",
       "5885                          NaN  NaN          NaN     NaN    NaN   \n",
       "5886                          NaN  NaN          NaN     NaN    NaN   \n",
       "5887                          NaN  NaN          NaN     NaN    NaN   \n",
       "5888                          NaN  NaN          NaN     NaN    NaN   \n",
       "\n",
       "     Release date        ASIN  \n",
       "0             NaN         NaN  \n",
       "1             NaN         NaN  \n",
       "2             NaN         NaN  \n",
       "3             NaN         NaN  \n",
       "4             NaN  B08BKRZB4Z  \n",
       "...           ...         ...  \n",
       "5884          NaN  B08GC6VFF2  \n",
       "5885          NaN         NaN  \n",
       "5886          NaN  B08L6HXX2R  \n",
       "5887          NaN         NaN  \n",
       "5888          NaN         NaN  \n",
       "\n",
       "[5889 rows x 77 columns]"
      ],
      "text/html": "<div>\n<style scoped>\n    .dataframe tbody tr th:only-of-type {\n        vertical-align: middle;\n    }\n\n    .dataframe tbody tr th {\n        vertical-align: top;\n    }\n\n    .dataframe thead th {\n        text-align: right;\n    }\n</style>\n<table border=\"1\" class=\"dataframe\">\n  <thead>\n    <tr style=\"text-align: right;\">\n      <th></th>\n      <th>National Stock Number</th>\n      <th>Phone Talk Time</th>\n      <th>Import Designation</th>\n      <th>Supported Software</th>\n      <th>Device interface - primary</th>\n      <th>Back Material</th>\n      <th>Body Material</th>\n      <th>Language:</th>\n      <th>Mixer Channel Quantity</th>\n      <th>Manufacturer</th>\n      <th>...</th>\n      <th>Specific Uses For Product</th>\n      <th>Computer Platform</th>\n      <th>Other display features</th>\n      <th>Manufacturer recommended age</th>\n      <th>GPU</th>\n      <th>Top Material</th>\n      <th>Wattage</th>\n      <th>Colour</th>\n      <th>Release date</th>\n      <th>ASIN</th>\n    </tr>\n  </thead>\n  <tbody>\n    <tr>\n      <th>0</th>\n      <td>NaN</td>\n      <td>NaN</td>\n      <td>NaN</td>\n      <td>NaN</td>\n      <td>NaN</td>\n      <td>NaN</td>\n      <td>NaN</td>\n      <td>NaN</td>\n      <td>NaN</td>\n      <td>NaN</td>\n      <td>...</td>\n      <td>NaN</td>\n      <td>NaN</td>\n      <td>NaN</td>\n      <td>NaN</td>\n      <td>NaN</td>\n      <td>NaN</td>\n      <td>NaN</td>\n      <td>NaN</td>\n      <td>NaN</td>\n      <td>NaN</td>\n    </tr>\n    <tr>\n      <th>1</th>\n      <td>NaN</td>\n      <td>NaN</td>\n      <td>NaN</td>\n      <td>NaN</td>\n      <td>NaN</td>\n      <td>NaN</td>\n      <td>NaN</td>\n      <td>NaN</td>\n      <td>NaN</td>\n      <td>NaN</td>\n      <td>...</td>\n      <td>NaN</td>\n      <td>NaN</td>\n      <td>NaN</td>\n      <td>NaN</td>\n      <td>NaN</td>\n      <td>NaN</td>\n      <td>NaN</td>\n      <td>NaN</td>\n      <td>NaN</td>\n      <td>NaN</td>\n    </tr>\n    <tr>\n      <th>2</th>\n      <td>NaN</td>\n      <td>NaN</td>\n      <td>NaN</td>\n      <td>NaN</td>\n      <td>NaN</td>\n      <td>NaN</td>\n      <td>NaN</td>\n      <td>NaN</td>\n      <td>NaN</td>\n      <td>NaN</td>\n      <td>...</td>\n      <td>NaN</td>\n      <td>NaN</td>\n      <td>NaN</td>\n      <td>NaN</td>\n      <td>NaN</td>\n      <td>NaN</td>\n      <td>NaN</td>\n      <td>NaN</td>\n      <td>NaN</td>\n      <td>NaN</td>\n    </tr>\n    <tr>\n      <th>3</th>\n      <td>NaN</td>\n      <td>NaN</td>\n      <td>NaN</td>\n      <td>NaN</td>\n      <td>NaN</td>\n      <td>NaN</td>\n      <td>NaN</td>\n      <td>NaN</td>\n      <td>NaN</td>\n      <td>NaN</td>\n      <td>...</td>\n      <td>NaN</td>\n      <td>NaN</td>\n      <td>NaN</td>\n      <td>NaN</td>\n      <td>NaN</td>\n      <td>NaN</td>\n      <td>NaN</td>\n      <td>NaN</td>\n      <td>NaN</td>\n      <td>NaN</td>\n    </tr>\n    <tr>\n      <th>4</th>\n      <td>NaN</td>\n      <td>NaN</td>\n      <td>NaN</td>\n      <td>NaN</td>\n      <td>NaN</td>\n      <td>NaN</td>\n      <td>NaN</td>\n      <td>NaN</td>\n      <td>NaN</td>\n      <td>NaN</td>\n      <td>...</td>\n      <td>NaN</td>\n      <td>NaN</td>\n      <td>NaN</td>\n      <td>NaN</td>\n      <td>NaN</td>\n      <td>NaN</td>\n      <td>NaN</td>\n      <td>NaN</td>\n      <td>NaN</td>\n      <td>B08BKRZB4Z</td>\n    </tr>\n    <tr>\n      <th>...</th>\n      <td>...</td>\n      <td>...</td>\n      <td>...</td>\n      <td>...</td>\n      <td>...</td>\n      <td>...</td>\n      <td>...</td>\n      <td>...</td>\n      <td>...</td>\n      <td>...</td>\n      <td>...</td>\n      <td>...</td>\n      <td>...</td>\n      <td>...</td>\n      <td>...</td>\n      <td>...</td>\n      <td>...</td>\n      <td>...</td>\n      <td>...</td>\n      <td>...</td>\n      <td>...</td>\n    </tr>\n    <tr>\n      <th>5884</th>\n      <td>NaN</td>\n      <td>NaN</td>\n      <td>NaN</td>\n      <td>NaN</td>\n      <td>NaN</td>\n      <td>NaN</td>\n      <td>NaN</td>\n      <td>NaN</td>\n      <td>NaN</td>\n      <td>YEELIYA</td>\n      <td>...</td>\n      <td>NaN</td>\n      <td>NaN</td>\n      <td>NaN</td>\n      <td>NaN</td>\n      <td>NaN</td>\n      <td>NaN</td>\n      <td>NaN</td>\n      <td>NaN</td>\n      <td>NaN</td>\n      <td>B08GC6VFF2</td>\n    </tr>\n    <tr>\n      <th>5885</th>\n      <td>NaN</td>\n      <td>NaN</td>\n      <td>NaN</td>\n      <td>NaN</td>\n      <td>NaN</td>\n      <td>NaN</td>\n      <td>NaN</td>\n      <td>NaN</td>\n      <td>NaN</td>\n      <td>NaN</td>\n      <td>...</td>\n      <td>NaN</td>\n      <td>NaN</td>\n      <td>NaN</td>\n      <td>NaN</td>\n      <td>NaN</td>\n      <td>NaN</td>\n      <td>NaN</td>\n      <td>NaN</td>\n      <td>NaN</td>\n      <td>NaN</td>\n    </tr>\n    <tr>\n      <th>5886</th>\n      <td>NaN</td>\n      <td>NaN</td>\n      <td>NaN</td>\n      <td>NaN</td>\n      <td>NaN</td>\n      <td>NaN</td>\n      <td>NaN</td>\n      <td>NaN</td>\n      <td>NaN</td>\n      <td>NaN</td>\n      <td>...</td>\n      <td>NaN</td>\n      <td>NaN</td>\n      <td>NaN</td>\n      <td>NaN</td>\n      <td>NaN</td>\n      <td>NaN</td>\n      <td>NaN</td>\n      <td>NaN</td>\n      <td>NaN</td>\n      <td>B08L6HXX2R</td>\n    </tr>\n    <tr>\n      <th>5887</th>\n      <td>NaN</td>\n      <td>NaN</td>\n      <td>NaN</td>\n      <td>NaN</td>\n      <td>NaN</td>\n      <td>NaN</td>\n      <td>NaN</td>\n      <td>NaN</td>\n      <td>NaN</td>\n      <td>NaN</td>\n      <td>...</td>\n      <td>NaN</td>\n      <td>NaN</td>\n      <td>NaN</td>\n      <td>NaN</td>\n      <td>NaN</td>\n      <td>NaN</td>\n      <td>NaN</td>\n      <td>NaN</td>\n      <td>NaN</td>\n      <td>NaN</td>\n    </tr>\n    <tr>\n      <th>5888</th>\n      <td>NaN</td>\n      <td>NaN</td>\n      <td>NaN</td>\n      <td>NaN</td>\n      <td>NaN</td>\n      <td>NaN</td>\n      <td>NaN</td>\n      <td>NaN</td>\n      <td>NaN</td>\n      <td>NaN</td>\n      <td>...</td>\n      <td>NaN</td>\n      <td>NaN</td>\n      <td>NaN</td>\n      <td>NaN</td>\n      <td>NaN</td>\n      <td>NaN</td>\n      <td>NaN</td>\n      <td>NaN</td>\n      <td>NaN</td>\n      <td>NaN</td>\n    </tr>\n  </tbody>\n</table>\n<p>5889 rows × 77 columns</p>\n</div>"
     },
     "metadata": {},
     "execution_count": 31
    }
   ],
   "source": [
    "product_addl_info"
   ]
  },
  {
   "cell_type": "code",
   "execution_count": 32,
   "metadata": {},
   "outputs": [
    {
     "output_type": "execute_result",
     "data": {
      "text/plain": [
       "                                                   name National Stock Number  \\\n",
       "0     AMD Ryzen 5 3600 6-Core, 12-Thread Unlocked De...                   NaN   \n",
       "1     AMD Ryzen 5 2600 Processor with Wraith Stealth...                   NaN   \n",
       "2     Intel Core i9-9900K Desktop Processor 8 Cores ...                   NaN   \n",
       "3     Intel Core i7-9700K Desktop Processor 8 Cores ...                   NaN   \n",
       "4     Industrial Rugged Fanless Silent Mini PC Compu...                   NaN   \n",
       "...                                                 ...                   ...   \n",
       "5884  YEELIYA PCIe USB 3.0 Card Type C USB Card Supe...                   NaN   \n",
       "5885  ASRock B360 Gaming K4 LGA1151/Intel B360/DDR4/...                   NaN   \n",
       "5886  Used Like New Notebook Thinkpad T460 Ultrabook...                   NaN   \n",
       "5887  Gigabyte Gv-N165SWF2OC-4GD GeForce GTX 1650 Su...                   NaN   \n",
       "5888  ASUS ROG Strix B450-I Gaming AMD AM4 (3rd/2nd ...                   NaN   \n",
       "\n",
       "     Chipset Brand Hard Drive Interface Number Of Pieces Certification  \\\n",
       "0              NaN                  NaN              NaN           NaN   \n",
       "1              NaN                  NaN              NaN           NaN   \n",
       "2              NaN                  NaN              NaN           NaN   \n",
       "3              NaN                  NaN              NaN           NaN   \n",
       "4            Intel                  NaN              NaN           NaN   \n",
       "...            ...                  ...              ...           ...   \n",
       "5884           NaN                  NaN              NaN           NaN   \n",
       "5885           NaN                  NaN              NaN           NaN   \n",
       "5886         Intel                  NaN              NaN           NaN   \n",
       "5887        NVIDIA                  NaN              NaN           NaN   \n",
       "5888           NaN                  NaN              NaN           NaN   \n",
       "\n",
       "     Standing screen display size Computer Memory Type  \\\n",
       "0                             NaN                  NaN   \n",
       "1                             NaN                  NaN   \n",
       "2                             NaN                  NaN   \n",
       "3                             NaN                  NaN   \n",
       "4                             NaN                  NaN   \n",
       "...                           ...                  ...   \n",
       "5884                          NaN                  NaN   \n",
       "5885                          NaN                  NaN   \n",
       "5886                  14.1 Inches                  NaN   \n",
       "5887                          NaN                  NaN   \n",
       "5888                          NaN                  NaN   \n",
       "\n",
       "     Hard Drive Rotational Speed Folding  ... Manufacturer recommended age  \\\n",
       "0                            NaN     NaN  ...                          NaN   \n",
       "1                            NaN     NaN  ...                          NaN   \n",
       "2                            NaN     NaN  ...                          NaN   \n",
       "3                            NaN     NaN  ...                          NaN   \n",
       "4                            NaN     NaN  ...                          NaN   \n",
       "...                          ...     ...  ...                          ...   \n",
       "5884                         NaN     NaN  ...                          NaN   \n",
       "5885                         NaN     NaN  ...                          NaN   \n",
       "5886                         NaN     NaN  ...                          NaN   \n",
       "5887                         NaN     NaN  ...                          NaN   \n",
       "5888                         NaN     NaN  ...                          NaN   \n",
       "\n",
       "      GPU Top Material Wattage Colour Release date        ASIN  \\\n",
       "0     NaN          NaN     NaN    NaN          NaN         NaN   \n",
       "1     NaN          NaN     NaN    NaN          NaN         NaN   \n",
       "2     NaN          NaN     NaN    NaN          NaN         NaN   \n",
       "3     NaN          NaN     NaN    NaN          NaN         NaN   \n",
       "4     NaN          NaN     NaN    NaN          NaN  B08BKRZB4Z   \n",
       "...   ...          ...     ...    ...          ...         ...   \n",
       "5884  NaN          NaN     NaN    NaN          NaN  B08GC6VFF2   \n",
       "5885  NaN          NaN     NaN    NaN          NaN         NaN   \n",
       "5886  NaN          NaN     NaN    NaN          NaN  B08L6HXX2R   \n",
       "5887  NaN          NaN     NaN    NaN          NaN         NaN   \n",
       "5888  NaN          NaN     NaN    NaN          NaN         NaN   \n",
       "\n",
       "                                                   name  \\\n",
       "0     AMD Ryzen 5 3600 6-Core, 12-Thread Unlocked De...   \n",
       "1     AMD Ryzen 5 2600 Processor with Wraith Stealth...   \n",
       "2     Intel Core i9-9900K Desktop Processor 8 Cores ...   \n",
       "3     Intel Core i7-9700K Desktop Processor 8 Cores ...   \n",
       "4     Industrial Rugged Fanless Silent Mini PC Compu...   \n",
       "...                                                 ...   \n",
       "5884  YEELIYA PCIe USB 3.0 Card Type C USB Card Supe...   \n",
       "5885  ASRock B360 Gaming K4 LGA1151/Intel B360/DDR4/...   \n",
       "5886  Used Like New Notebook Thinkpad T460 Ultrabook...   \n",
       "5887  Gigabyte Gv-N165SWF2OC-4GD GeForce GTX 1650 Su...   \n",
       "5888  ASUS ROG Strix B450-I Gaming AMD AM4 (3rd/2nd ...   \n",
       "\n",
       "                     seller                                        seller_link  \n",
       "0                      None                                               None  \n",
       "1                      None                                               None  \n",
       "2                 DealsPro1  https://www.amazon.com/gp/help/seller/at-a-gla...  \n",
       "3                      None                                               None  \n",
       "4     Critical Products LLC  https://www.amazon.com/gp/help/seller/at-a-gla...  \n",
       "...                     ...                                                ...  \n",
       "5884                Yeeliya  https://www.amazon.com/gp/help/seller/at-a-gla...  \n",
       "5885                   None                                               None  \n",
       "5886                   None                                               None  \n",
       "5887                   None                                               None  \n",
       "5888              DIO Japan  https://www.amazon.com/gp/help/seller/at-a-gla...  \n",
       "\n",
       "[5889 rows x 192 columns]"
      ],
      "text/html": "<div>\n<style scoped>\n    .dataframe tbody tr th:only-of-type {\n        vertical-align: middle;\n    }\n\n    .dataframe tbody tr th {\n        vertical-align: top;\n    }\n\n    .dataframe thead th {\n        text-align: right;\n    }\n</style>\n<table border=\"1\" class=\"dataframe\">\n  <thead>\n    <tr style=\"text-align: right;\">\n      <th></th>\n      <th>name</th>\n      <th>National Stock Number</th>\n      <th>Chipset Brand</th>\n      <th>Hard Drive Interface</th>\n      <th>Number Of Pieces</th>\n      <th>Certification</th>\n      <th>Standing screen display size</th>\n      <th>Computer Memory Type</th>\n      <th>Hard Drive Rotational Speed</th>\n      <th>Folding</th>\n      <th>...</th>\n      <th>Manufacturer recommended age</th>\n      <th>GPU</th>\n      <th>Top Material</th>\n      <th>Wattage</th>\n      <th>Colour</th>\n      <th>Release date</th>\n      <th>ASIN</th>\n      <th>name</th>\n      <th>seller</th>\n      <th>seller_link</th>\n    </tr>\n  </thead>\n  <tbody>\n    <tr>\n      <th>0</th>\n      <td>AMD Ryzen 5 3600 6-Core, 12-Thread Unlocked De...</td>\n      <td>NaN</td>\n      <td>NaN</td>\n      <td>NaN</td>\n      <td>NaN</td>\n      <td>NaN</td>\n      <td>NaN</td>\n      <td>NaN</td>\n      <td>NaN</td>\n      <td>NaN</td>\n      <td>...</td>\n      <td>NaN</td>\n      <td>NaN</td>\n      <td>NaN</td>\n      <td>NaN</td>\n      <td>NaN</td>\n      <td>NaN</td>\n      <td>NaN</td>\n      <td>AMD Ryzen 5 3600 6-Core, 12-Thread Unlocked De...</td>\n      <td>None</td>\n      <td>None</td>\n    </tr>\n    <tr>\n      <th>1</th>\n      <td>AMD Ryzen 5 2600 Processor with Wraith Stealth...</td>\n      <td>NaN</td>\n      <td>NaN</td>\n      <td>NaN</td>\n      <td>NaN</td>\n      <td>NaN</td>\n      <td>NaN</td>\n      <td>NaN</td>\n      <td>NaN</td>\n      <td>NaN</td>\n      <td>...</td>\n      <td>NaN</td>\n      <td>NaN</td>\n      <td>NaN</td>\n      <td>NaN</td>\n      <td>NaN</td>\n      <td>NaN</td>\n      <td>NaN</td>\n      <td>AMD Ryzen 5 2600 Processor with Wraith Stealth...</td>\n      <td>None</td>\n      <td>None</td>\n    </tr>\n    <tr>\n      <th>2</th>\n      <td>Intel Core i9-9900K Desktop Processor 8 Cores ...</td>\n      <td>NaN</td>\n      <td>NaN</td>\n      <td>NaN</td>\n      <td>NaN</td>\n      <td>NaN</td>\n      <td>NaN</td>\n      <td>NaN</td>\n      <td>NaN</td>\n      <td>NaN</td>\n      <td>...</td>\n      <td>NaN</td>\n      <td>NaN</td>\n      <td>NaN</td>\n      <td>NaN</td>\n      <td>NaN</td>\n      <td>NaN</td>\n      <td>NaN</td>\n      <td>Intel Core i9-9900K Desktop Processor 8 Cores ...</td>\n      <td>DealsPro1</td>\n      <td>https://www.amazon.com/gp/help/seller/at-a-gla...</td>\n    </tr>\n    <tr>\n      <th>3</th>\n      <td>Intel Core i7-9700K Desktop Processor 8 Cores ...</td>\n      <td>NaN</td>\n      <td>NaN</td>\n      <td>NaN</td>\n      <td>NaN</td>\n      <td>NaN</td>\n      <td>NaN</td>\n      <td>NaN</td>\n      <td>NaN</td>\n      <td>NaN</td>\n      <td>...</td>\n      <td>NaN</td>\n      <td>NaN</td>\n      <td>NaN</td>\n      <td>NaN</td>\n      <td>NaN</td>\n      <td>NaN</td>\n      <td>NaN</td>\n      <td>Intel Core i7-9700K Desktop Processor 8 Cores ...</td>\n      <td>None</td>\n      <td>None</td>\n    </tr>\n    <tr>\n      <th>4</th>\n      <td>Industrial Rugged Fanless Silent Mini PC Compu...</td>\n      <td>NaN</td>\n      <td>Intel</td>\n      <td>NaN</td>\n      <td>NaN</td>\n      <td>NaN</td>\n      <td>NaN</td>\n      <td>NaN</td>\n      <td>NaN</td>\n      <td>NaN</td>\n      <td>...</td>\n      <td>NaN</td>\n      <td>NaN</td>\n      <td>NaN</td>\n      <td>NaN</td>\n      <td>NaN</td>\n      <td>NaN</td>\n      <td>B08BKRZB4Z</td>\n      <td>Industrial Rugged Fanless Silent Mini PC Compu...</td>\n      <td>Critical Products LLC</td>\n      <td>https://www.amazon.com/gp/help/seller/at-a-gla...</td>\n    </tr>\n    <tr>\n      <th>...</th>\n      <td>...</td>\n      <td>...</td>\n      <td>...</td>\n      <td>...</td>\n      <td>...</td>\n      <td>...</td>\n      <td>...</td>\n      <td>...</td>\n      <td>...</td>\n      <td>...</td>\n      <td>...</td>\n      <td>...</td>\n      <td>...</td>\n      <td>...</td>\n      <td>...</td>\n      <td>...</td>\n      <td>...</td>\n      <td>...</td>\n      <td>...</td>\n      <td>...</td>\n      <td>...</td>\n    </tr>\n    <tr>\n      <th>5884</th>\n      <td>YEELIYA PCIe USB 3.0 Card Type C USB Card Supe...</td>\n      <td>NaN</td>\n      <td>NaN</td>\n      <td>NaN</td>\n      <td>NaN</td>\n      <td>NaN</td>\n      <td>NaN</td>\n      <td>NaN</td>\n      <td>NaN</td>\n      <td>NaN</td>\n      <td>...</td>\n      <td>NaN</td>\n      <td>NaN</td>\n      <td>NaN</td>\n      <td>NaN</td>\n      <td>NaN</td>\n      <td>NaN</td>\n      <td>B08GC6VFF2</td>\n      <td>YEELIYA PCIe USB 3.0 Card Type C USB Card Supe...</td>\n      <td>Yeeliya</td>\n      <td>https://www.amazon.com/gp/help/seller/at-a-gla...</td>\n    </tr>\n    <tr>\n      <th>5885</th>\n      <td>ASRock B360 Gaming K4 LGA1151/Intel B360/DDR4/...</td>\n      <td>NaN</td>\n      <td>NaN</td>\n      <td>NaN</td>\n      <td>NaN</td>\n      <td>NaN</td>\n      <td>NaN</td>\n      <td>NaN</td>\n      <td>NaN</td>\n      <td>NaN</td>\n      <td>...</td>\n      <td>NaN</td>\n      <td>NaN</td>\n      <td>NaN</td>\n      <td>NaN</td>\n      <td>NaN</td>\n      <td>NaN</td>\n      <td>NaN</td>\n      <td>ASRock B360 Gaming K4 LGA1151/Intel B360/DDR4/...</td>\n      <td>None</td>\n      <td>None</td>\n    </tr>\n    <tr>\n      <th>5886</th>\n      <td>Used Like New Notebook Thinkpad T460 Ultrabook...</td>\n      <td>NaN</td>\n      <td>Intel</td>\n      <td>NaN</td>\n      <td>NaN</td>\n      <td>NaN</td>\n      <td>14.1 Inches</td>\n      <td>NaN</td>\n      <td>NaN</td>\n      <td>NaN</td>\n      <td>...</td>\n      <td>NaN</td>\n      <td>NaN</td>\n      <td>NaN</td>\n      <td>NaN</td>\n      <td>NaN</td>\n      <td>NaN</td>\n      <td>B08L6HXX2R</td>\n      <td>Used Like New Notebook Thinkpad T460 Ultrabook...</td>\n      <td>None</td>\n      <td>None</td>\n    </tr>\n    <tr>\n      <th>5887</th>\n      <td>Gigabyte Gv-N165SWF2OC-4GD GeForce GTX 1650 Su...</td>\n      <td>NaN</td>\n      <td>NVIDIA</td>\n      <td>NaN</td>\n      <td>NaN</td>\n      <td>NaN</td>\n      <td>NaN</td>\n      <td>NaN</td>\n      <td>NaN</td>\n      <td>NaN</td>\n      <td>...</td>\n      <td>NaN</td>\n      <td>NaN</td>\n      <td>NaN</td>\n      <td>NaN</td>\n      <td>NaN</td>\n      <td>NaN</td>\n      <td>NaN</td>\n      <td>Gigabyte Gv-N165SWF2OC-4GD GeForce GTX 1650 Su...</td>\n      <td>None</td>\n      <td>None</td>\n    </tr>\n    <tr>\n      <th>5888</th>\n      <td>ASUS ROG Strix B450-I Gaming AMD AM4 (3rd/2nd ...</td>\n      <td>NaN</td>\n      <td>NaN</td>\n      <td>NaN</td>\n      <td>NaN</td>\n      <td>NaN</td>\n      <td>NaN</td>\n      <td>NaN</td>\n      <td>NaN</td>\n      <td>NaN</td>\n      <td>...</td>\n      <td>NaN</td>\n      <td>NaN</td>\n      <td>NaN</td>\n      <td>NaN</td>\n      <td>NaN</td>\n      <td>NaN</td>\n      <td>NaN</td>\n      <td>ASUS ROG Strix B450-I Gaming AMD AM4 (3rd/2nd ...</td>\n      <td>DIO Japan</td>\n      <td>https://www.amazon.com/gp/help/seller/at-a-gla...</td>\n    </tr>\n  </tbody>\n</table>\n<p>5889 rows × 192 columns</p>\n</div>"
     },
     "metadata": {},
     "execution_count": 32
    }
   ],
   "source": [
    "new_processor= pd.concat([pd.DataFrame(processor.name),product_tech_spec,other_tech_spec,product_addl_info,pd.DataFrame(processor.name),pd.DataFrame(processor.seller),pd.DataFrame(processor.seller_link)], axis=1)\n",
    "new_processor"
   ]
  },
  {
   "cell_type": "code",
   "execution_count": 33,
   "metadata": {},
   "outputs": [
    {
     "output_type": "execute_result",
     "data": {
      "text/plain": [
       "            ASIN Additional Features Assembled Height Assembled Length  \\\n",
       "0     B07STGGQ18                 NaN              NaN              NaN   \n",
       "1     B07B41WS48                 NaN              NaN              NaN   \n",
       "2     B089J731BX                 NaN              NaN              NaN   \n",
       "3     B07HHN6KBZ                 NaN              NaN              NaN   \n",
       "4     B08BKRZB4Z                 NaN              NaN              NaN   \n",
       "...          ...                 ...              ...              ...   \n",
       "5884  B08GC6VFF2                 NaN              NaN              NaN   \n",
       "5885  B07BMV9WJ4                 NaN              NaN              NaN   \n",
       "5886  B08L6HXX2R                 NaN              NaN              NaN   \n",
       "5887  B081R359ZM                 NaN              NaN              NaN   \n",
       "5888  B07FKTSWNG                 NaN              NaN              NaN   \n",
       "\n",
       "     Assembled Width Audio Jack Audio-out Ports (#)  \\\n",
       "0                NaN        NaN                 NaN   \n",
       "1                NaN        NaN                 NaN   \n",
       "2                NaN        NaN                 NaN   \n",
       "3                NaN        NaN                 NaN   \n",
       "4                NaN        NaN                 NaN   \n",
       "...              ...        ...                 ...   \n",
       "5884             NaN        NaN                 NaN   \n",
       "5885             NaN        NaN                 NaN   \n",
       "5886             NaN        NaN                 NaN   \n",
       "5887             NaN        NaN                 NaN   \n",
       "5888             NaN        NaN                 NaN   \n",
       "\n",
       "     Average Battery Life (in hours) Back Material  \\\n",
       "0                                NaN           NaN   \n",
       "1                                NaN           NaN   \n",
       "2                                NaN           NaN   \n",
       "3                                NaN           NaN   \n",
       "4                                NaN           NaN   \n",
       "...                              ...           ...   \n",
       "5884                             NaN           NaN   \n",
       "5885                             NaN           NaN   \n",
       "5886                             NaN           NaN   \n",
       "5887                             NaN           NaN   \n",
       "5888                             NaN           NaN   \n",
       "\n",
       "                                         Batteries  ... Warranty Description  \\\n",
       "0                                              NaN  ...                  NaN   \n",
       "1                                              NaN  ...                  NaN   \n",
       "2                                              NaN  ...                  NaN   \n",
       "3                                              NaN  ...                  NaN   \n",
       "4                                              NaN  ...                  NaN   \n",
       "...                                            ...  ...                  ...   \n",
       "5884                                                ...                  NaN   \n",
       "5885                                           NaN  ...                  NaN   \n",
       "5886  1 Lithium ion batteries required. (included)  ...                  NaN   \n",
       "5887                                           NaN  ...                  NaN   \n",
       "5888                                           NaN  ...                  NaN   \n",
       "\n",
       "     Wattage Weight Wireless Microphone Frequency Wireless Remote  \\\n",
       "0        NaN    NaN                           NaN             NaN   \n",
       "1        NaN    NaN                           NaN             NaN   \n",
       "2        NaN    NaN                           NaN             NaN   \n",
       "3        NaN    NaN                           NaN             NaN   \n",
       "4        NaN    NaN                           NaN             NaN   \n",
       "...      ...    ...                           ...             ...   \n",
       "5884     NaN    NaN                           NaN             NaN   \n",
       "5885     NaN    NaN                           NaN             NaN   \n",
       "5886     NaN    NaN                           NaN             NaN   \n",
       "5887     NaN    NaN                           NaN             NaN   \n",
       "5888     NaN    NaN                           NaN             NaN   \n",
       "\n",
       "                    Wireless Type Wireless communication technologies  \\\n",
       "0                             NaN                                 NaN   \n",
       "1                         802.11a                                 NaN   \n",
       "2                             NaN                                 NaN   \n",
       "3                             NaN                                 NaN   \n",
       "4                             NaN                                 NaN   \n",
       "...                           ...                                 ...   \n",
       "5884                          NaN                                 NaN   \n",
       "5885                    Bluetooth                                 NaN   \n",
       "5886                     802.11ac                                 NaN   \n",
       "5887                          NaN                                 NaN   \n",
       "5888  802.11a/b/g/n/ac, Bluetooth                                 NaN   \n",
       "\n",
       "                                                   name  \\\n",
       "0     AMD Ryzen 5 3600 6-Core, 12-Thread Unlocked De...   \n",
       "1     AMD Ryzen 5 2600 Processor with Wraith Stealth...   \n",
       "2     Intel Core i9-9900K Desktop Processor 8 Cores ...   \n",
       "3     Intel Core i7-9700K Desktop Processor 8 Cores ...   \n",
       "4     Industrial Rugged Fanless Silent Mini PC Compu...   \n",
       "...                                                 ...   \n",
       "5884  YEELIYA PCIe USB 3.0 Card Type C USB Card Supe...   \n",
       "5885  ASRock B360 Gaming K4 LGA1151/Intel B360/DDR4/...   \n",
       "5886  Used Like New Notebook Thinkpad T460 Ultrabook...   \n",
       "5887  Gigabyte Gv-N165SWF2OC-4GD GeForce GTX 1650 Su...   \n",
       "5888  ASUS ROG Strix B450-I Gaming AMD AM4 (3rd/2nd ...   \n",
       "\n",
       "                     seller                                        seller_link  \n",
       "0                      None                                               None  \n",
       "1                      None                                               None  \n",
       "2                 DealsPro1  https://www.amazon.com/gp/help/seller/at-a-gla...  \n",
       "3                      None                                               None  \n",
       "4     Critical Products LLC  https://www.amazon.com/gp/help/seller/at-a-gla...  \n",
       "...                     ...                                                ...  \n",
       "5884                Yeeliya  https://www.amazon.com/gp/help/seller/at-a-gla...  \n",
       "5885                   None                                               None  \n",
       "5886                   None                                               None  \n",
       "5887                   None                                               None  \n",
       "5888              DIO Japan  https://www.amazon.com/gp/help/seller/at-a-gla...  \n",
       "\n",
       "[5889 rows x 141 columns]"
      ],
      "text/html": "<div>\n<style scoped>\n    .dataframe tbody tr th:only-of-type {\n        vertical-align: middle;\n    }\n\n    .dataframe tbody tr th {\n        vertical-align: top;\n    }\n\n    .dataframe thead th {\n        text-align: right;\n    }\n</style>\n<table border=\"1\" class=\"dataframe\">\n  <thead>\n    <tr style=\"text-align: right;\">\n      <th></th>\n      <th>ASIN</th>\n      <th>Additional Features</th>\n      <th>Assembled Height</th>\n      <th>Assembled Length</th>\n      <th>Assembled Width</th>\n      <th>Audio Jack</th>\n      <th>Audio-out Ports (#)</th>\n      <th>Average Battery Life (in hours)</th>\n      <th>Back Material</th>\n      <th>Batteries</th>\n      <th>...</th>\n      <th>Warranty Description</th>\n      <th>Wattage</th>\n      <th>Weight</th>\n      <th>Wireless Microphone Frequency</th>\n      <th>Wireless Remote</th>\n      <th>Wireless Type</th>\n      <th>Wireless communication technologies</th>\n      <th>name</th>\n      <th>seller</th>\n      <th>seller_link</th>\n    </tr>\n  </thead>\n  <tbody>\n    <tr>\n      <th>0</th>\n      <td>B07STGGQ18</td>\n      <td>NaN</td>\n      <td>NaN</td>\n      <td>NaN</td>\n      <td>NaN</td>\n      <td>NaN</td>\n      <td>NaN</td>\n      <td>NaN</td>\n      <td>NaN</td>\n      <td>NaN</td>\n      <td>...</td>\n      <td>NaN</td>\n      <td>NaN</td>\n      <td>NaN</td>\n      <td>NaN</td>\n      <td>NaN</td>\n      <td>NaN</td>\n      <td>NaN</td>\n      <td>AMD Ryzen 5 3600 6-Core, 12-Thread Unlocked De...</td>\n      <td>None</td>\n      <td>None</td>\n    </tr>\n    <tr>\n      <th>1</th>\n      <td>B07B41WS48</td>\n      <td>NaN</td>\n      <td>NaN</td>\n      <td>NaN</td>\n      <td>NaN</td>\n      <td>NaN</td>\n      <td>NaN</td>\n      <td>NaN</td>\n      <td>NaN</td>\n      <td>NaN</td>\n      <td>...</td>\n      <td>NaN</td>\n      <td>NaN</td>\n      <td>NaN</td>\n      <td>NaN</td>\n      <td>NaN</td>\n      <td>802.11a</td>\n      <td>NaN</td>\n      <td>AMD Ryzen 5 2600 Processor with Wraith Stealth...</td>\n      <td>None</td>\n      <td>None</td>\n    </tr>\n    <tr>\n      <th>2</th>\n      <td>B089J731BX</td>\n      <td>NaN</td>\n      <td>NaN</td>\n      <td>NaN</td>\n      <td>NaN</td>\n      <td>NaN</td>\n      <td>NaN</td>\n      <td>NaN</td>\n      <td>NaN</td>\n      <td>NaN</td>\n      <td>...</td>\n      <td>NaN</td>\n      <td>NaN</td>\n      <td>NaN</td>\n      <td>NaN</td>\n      <td>NaN</td>\n      <td>NaN</td>\n      <td>NaN</td>\n      <td>Intel Core i9-9900K Desktop Processor 8 Cores ...</td>\n      <td>DealsPro1</td>\n      <td>https://www.amazon.com/gp/help/seller/at-a-gla...</td>\n    </tr>\n    <tr>\n      <th>3</th>\n      <td>B07HHN6KBZ</td>\n      <td>NaN</td>\n      <td>NaN</td>\n      <td>NaN</td>\n      <td>NaN</td>\n      <td>NaN</td>\n      <td>NaN</td>\n      <td>NaN</td>\n      <td>NaN</td>\n      <td>NaN</td>\n      <td>...</td>\n      <td>NaN</td>\n      <td>NaN</td>\n      <td>NaN</td>\n      <td>NaN</td>\n      <td>NaN</td>\n      <td>NaN</td>\n      <td>NaN</td>\n      <td>Intel Core i7-9700K Desktop Processor 8 Cores ...</td>\n      <td>None</td>\n      <td>None</td>\n    </tr>\n    <tr>\n      <th>4</th>\n      <td>B08BKRZB4Z</td>\n      <td>NaN</td>\n      <td>NaN</td>\n      <td>NaN</td>\n      <td>NaN</td>\n      <td>NaN</td>\n      <td>NaN</td>\n      <td>NaN</td>\n      <td>NaN</td>\n      <td>NaN</td>\n      <td>...</td>\n      <td>NaN</td>\n      <td>NaN</td>\n      <td>NaN</td>\n      <td>NaN</td>\n      <td>NaN</td>\n      <td>NaN</td>\n      <td>NaN</td>\n      <td>Industrial Rugged Fanless Silent Mini PC Compu...</td>\n      <td>Critical Products LLC</td>\n      <td>https://www.amazon.com/gp/help/seller/at-a-gla...</td>\n    </tr>\n    <tr>\n      <th>...</th>\n      <td>...</td>\n      <td>...</td>\n      <td>...</td>\n      <td>...</td>\n      <td>...</td>\n      <td>...</td>\n      <td>...</td>\n      <td>...</td>\n      <td>...</td>\n      <td>...</td>\n      <td>...</td>\n      <td>...</td>\n      <td>...</td>\n      <td>...</td>\n      <td>...</td>\n      <td>...</td>\n      <td>...</td>\n      <td>...</td>\n      <td>...</td>\n      <td>...</td>\n      <td>...</td>\n    </tr>\n    <tr>\n      <th>5884</th>\n      <td>B08GC6VFF2</td>\n      <td>NaN</td>\n      <td>NaN</td>\n      <td>NaN</td>\n      <td>NaN</td>\n      <td>NaN</td>\n      <td>NaN</td>\n      <td>NaN</td>\n      <td>NaN</td>\n      <td></td>\n      <td>...</td>\n      <td>NaN</td>\n      <td>NaN</td>\n      <td>NaN</td>\n      <td>NaN</td>\n      <td>NaN</td>\n      <td>NaN</td>\n      <td>NaN</td>\n      <td>YEELIYA PCIe USB 3.0 Card Type C USB Card Supe...</td>\n      <td>Yeeliya</td>\n      <td>https://www.amazon.com/gp/help/seller/at-a-gla...</td>\n    </tr>\n    <tr>\n      <th>5885</th>\n      <td>B07BMV9WJ4</td>\n      <td>NaN</td>\n      <td>NaN</td>\n      <td>NaN</td>\n      <td>NaN</td>\n      <td>NaN</td>\n      <td>NaN</td>\n      <td>NaN</td>\n      <td>NaN</td>\n      <td>NaN</td>\n      <td>...</td>\n      <td>NaN</td>\n      <td>NaN</td>\n      <td>NaN</td>\n      <td>NaN</td>\n      <td>NaN</td>\n      <td>Bluetooth</td>\n      <td>NaN</td>\n      <td>ASRock B360 Gaming K4 LGA1151/Intel B360/DDR4/...</td>\n      <td>None</td>\n      <td>None</td>\n    </tr>\n    <tr>\n      <th>5886</th>\n      <td>B08L6HXX2R</td>\n      <td>NaN</td>\n      <td>NaN</td>\n      <td>NaN</td>\n      <td>NaN</td>\n      <td>NaN</td>\n      <td>NaN</td>\n      <td>NaN</td>\n      <td>NaN</td>\n      <td>1 Lithium ion batteries required. (included)</td>\n      <td>...</td>\n      <td>NaN</td>\n      <td>NaN</td>\n      <td>NaN</td>\n      <td>NaN</td>\n      <td>NaN</td>\n      <td>802.11ac</td>\n      <td>NaN</td>\n      <td>Used Like New Notebook Thinkpad T460 Ultrabook...</td>\n      <td>None</td>\n      <td>None</td>\n    </tr>\n    <tr>\n      <th>5887</th>\n      <td>B081R359ZM</td>\n      <td>NaN</td>\n      <td>NaN</td>\n      <td>NaN</td>\n      <td>NaN</td>\n      <td>NaN</td>\n      <td>NaN</td>\n      <td>NaN</td>\n      <td>NaN</td>\n      <td>NaN</td>\n      <td>...</td>\n      <td>NaN</td>\n      <td>NaN</td>\n      <td>NaN</td>\n      <td>NaN</td>\n      <td>NaN</td>\n      <td>NaN</td>\n      <td>NaN</td>\n      <td>Gigabyte Gv-N165SWF2OC-4GD GeForce GTX 1650 Su...</td>\n      <td>None</td>\n      <td>None</td>\n    </tr>\n    <tr>\n      <th>5888</th>\n      <td>B07FKTSWNG</td>\n      <td>NaN</td>\n      <td>NaN</td>\n      <td>NaN</td>\n      <td>NaN</td>\n      <td>NaN</td>\n      <td>NaN</td>\n      <td>NaN</td>\n      <td>NaN</td>\n      <td>NaN</td>\n      <td>...</td>\n      <td>NaN</td>\n      <td>NaN</td>\n      <td>NaN</td>\n      <td>NaN</td>\n      <td>NaN</td>\n      <td>802.11a/b/g/n/ac, Bluetooth</td>\n      <td>NaN</td>\n      <td>ASUS ROG Strix B450-I Gaming AMD AM4 (3rd/2nd ...</td>\n      <td>DIO Japan</td>\n      <td>https://www.amazon.com/gp/help/seller/at-a-gla...</td>\n    </tr>\n  </tbody>\n</table>\n<p>5889 rows × 141 columns</p>\n</div>"
     },
     "metadata": {},
     "execution_count": 33
    }
   ],
   "source": [
    "new_processor = new_processor.groupby(new_processor.columns,axis=1).first()\n",
    "new_processor"
   ]
  },
  {
   "cell_type": "code",
   "execution_count": 34,
   "metadata": {},
   "outputs": [],
   "source": [
    "new_processor= new_processor.rename(columns={\"Processor Brand\":\"Brand\", 'Brand Name':\"Brand\", 'Color Name':\"Color\",\"Colour\":\"Color\"})"
   ]
  },
  {
   "cell_type": "code",
   "execution_count": 35,
   "metadata": {},
   "outputs": [
    {
     "output_type": "execute_result",
     "data": {
      "text/plain": [
       "            ASIN Additional Features Assembled Height Assembled Length  \\\n",
       "0     B07STGGQ18                 NaN              NaN              NaN   \n",
       "1     B07B41WS48                 NaN              NaN              NaN   \n",
       "2     B089J731BX                 NaN              NaN              NaN   \n",
       "3     B07HHN6KBZ                 NaN              NaN              NaN   \n",
       "4     B08BKRZB4Z                 NaN              NaN              NaN   \n",
       "...          ...                 ...              ...              ...   \n",
       "5884  B08GC6VFF2                 NaN              NaN              NaN   \n",
       "5885  B07BMV9WJ4                 NaN              NaN              NaN   \n",
       "5886  B08L6HXX2R                 NaN              NaN              NaN   \n",
       "5887  B081R359ZM                 NaN              NaN              NaN   \n",
       "5888  B07FKTSWNG                 NaN              NaN              NaN   \n",
       "\n",
       "     Assembled Width Audio Jack Audio-out Ports (#)  \\\n",
       "0                NaN        NaN                 NaN   \n",
       "1                NaN        NaN                 NaN   \n",
       "2                NaN        NaN                 NaN   \n",
       "3                NaN        NaN                 NaN   \n",
       "4                NaN        NaN                 NaN   \n",
       "...              ...        ...                 ...   \n",
       "5884             NaN        NaN                 NaN   \n",
       "5885             NaN        NaN                 NaN   \n",
       "5886             NaN        NaN                 NaN   \n",
       "5887             NaN        NaN                 NaN   \n",
       "5888             NaN        NaN                 NaN   \n",
       "\n",
       "     Average Battery Life (in hours) Back Material  \\\n",
       "0                                NaN           NaN   \n",
       "1                                NaN           NaN   \n",
       "2                                NaN           NaN   \n",
       "3                                NaN           NaN   \n",
       "4                                NaN           NaN   \n",
       "...                              ...           ...   \n",
       "5884                             NaN           NaN   \n",
       "5885                             NaN           NaN   \n",
       "5886                             NaN           NaN   \n",
       "5887                             NaN           NaN   \n",
       "5888                             NaN           NaN   \n",
       "\n",
       "                                         Batteries  ... Warranty Description  \\\n",
       "0                                              NaN  ...                  NaN   \n",
       "1                                              NaN  ...                  NaN   \n",
       "2                                              NaN  ...                  NaN   \n",
       "3                                              NaN  ...                  NaN   \n",
       "4                                              NaN  ...                  NaN   \n",
       "...                                            ...  ...                  ...   \n",
       "5884                                                ...                  NaN   \n",
       "5885                                           NaN  ...                  NaN   \n",
       "5886  1 Lithium ion batteries required. (included)  ...                  NaN   \n",
       "5887                                           NaN  ...                  NaN   \n",
       "5888                                           NaN  ...                  NaN   \n",
       "\n",
       "     Wattage Weight Wireless Microphone Frequency Wireless Remote  \\\n",
       "0        NaN    NaN                           NaN             NaN   \n",
       "1        NaN    NaN                           NaN             NaN   \n",
       "2        NaN    NaN                           NaN             NaN   \n",
       "3        NaN    NaN                           NaN             NaN   \n",
       "4        NaN    NaN                           NaN             NaN   \n",
       "...      ...    ...                           ...             ...   \n",
       "5884     NaN    NaN                           NaN             NaN   \n",
       "5885     NaN    NaN                           NaN             NaN   \n",
       "5886     NaN    NaN                           NaN             NaN   \n",
       "5887     NaN    NaN                           NaN             NaN   \n",
       "5888     NaN    NaN                           NaN             NaN   \n",
       "\n",
       "                    Wireless Type Wireless communication technologies  \\\n",
       "0                             NaN                                 NaN   \n",
       "1                         802.11a                                 NaN   \n",
       "2                             NaN                                 NaN   \n",
       "3                             NaN                                 NaN   \n",
       "4                             NaN                                 NaN   \n",
       "...                           ...                                 ...   \n",
       "5884                          NaN                                 NaN   \n",
       "5885                    Bluetooth                                 NaN   \n",
       "5886                     802.11ac                                 NaN   \n",
       "5887                          NaN                                 NaN   \n",
       "5888  802.11a/b/g/n/ac, Bluetooth                                 NaN   \n",
       "\n",
       "                                                   name  \\\n",
       "0     AMD Ryzen 5 3600 6-Core, 12-Thread Unlocked De...   \n",
       "1     AMD Ryzen 5 2600 Processor with Wraith Stealth...   \n",
       "2     Intel Core i9-9900K Desktop Processor 8 Cores ...   \n",
       "3     Intel Core i7-9700K Desktop Processor 8 Cores ...   \n",
       "4     Industrial Rugged Fanless Silent Mini PC Compu...   \n",
       "...                                                 ...   \n",
       "5884  YEELIYA PCIe USB 3.0 Card Type C USB Card Supe...   \n",
       "5885  ASRock B360 Gaming K4 LGA1151/Intel B360/DDR4/...   \n",
       "5886  Used Like New Notebook Thinkpad T460 Ultrabook...   \n",
       "5887  Gigabyte Gv-N165SWF2OC-4GD GeForce GTX 1650 Su...   \n",
       "5888  ASUS ROG Strix B450-I Gaming AMD AM4 (3rd/2nd ...   \n",
       "\n",
       "                     seller                                        seller_link  \n",
       "0                      None                                               None  \n",
       "1                      None                                               None  \n",
       "2                 DealsPro1  https://www.amazon.com/gp/help/seller/at-a-gla...  \n",
       "3                      None                                               None  \n",
       "4     Critical Products LLC  https://www.amazon.com/gp/help/seller/at-a-gla...  \n",
       "...                     ...                                                ...  \n",
       "5884                Yeeliya  https://www.amazon.com/gp/help/seller/at-a-gla...  \n",
       "5885                   None                                               None  \n",
       "5886                   None                                               None  \n",
       "5887                   None                                               None  \n",
       "5888              DIO Japan  https://www.amazon.com/gp/help/seller/at-a-gla...  \n",
       "\n",
       "[5889 rows x 137 columns]"
      ],
      "text/html": "<div>\n<style scoped>\n    .dataframe tbody tr th:only-of-type {\n        vertical-align: middle;\n    }\n\n    .dataframe tbody tr th {\n        vertical-align: top;\n    }\n\n    .dataframe thead th {\n        text-align: right;\n    }\n</style>\n<table border=\"1\" class=\"dataframe\">\n  <thead>\n    <tr style=\"text-align: right;\">\n      <th></th>\n      <th>ASIN</th>\n      <th>Additional Features</th>\n      <th>Assembled Height</th>\n      <th>Assembled Length</th>\n      <th>Assembled Width</th>\n      <th>Audio Jack</th>\n      <th>Audio-out Ports (#)</th>\n      <th>Average Battery Life (in hours)</th>\n      <th>Back Material</th>\n      <th>Batteries</th>\n      <th>...</th>\n      <th>Warranty Description</th>\n      <th>Wattage</th>\n      <th>Weight</th>\n      <th>Wireless Microphone Frequency</th>\n      <th>Wireless Remote</th>\n      <th>Wireless Type</th>\n      <th>Wireless communication technologies</th>\n      <th>name</th>\n      <th>seller</th>\n      <th>seller_link</th>\n    </tr>\n  </thead>\n  <tbody>\n    <tr>\n      <th>0</th>\n      <td>B07STGGQ18</td>\n      <td>NaN</td>\n      <td>NaN</td>\n      <td>NaN</td>\n      <td>NaN</td>\n      <td>NaN</td>\n      <td>NaN</td>\n      <td>NaN</td>\n      <td>NaN</td>\n      <td>NaN</td>\n      <td>...</td>\n      <td>NaN</td>\n      <td>NaN</td>\n      <td>NaN</td>\n      <td>NaN</td>\n      <td>NaN</td>\n      <td>NaN</td>\n      <td>NaN</td>\n      <td>AMD Ryzen 5 3600 6-Core, 12-Thread Unlocked De...</td>\n      <td>None</td>\n      <td>None</td>\n    </tr>\n    <tr>\n      <th>1</th>\n      <td>B07B41WS48</td>\n      <td>NaN</td>\n      <td>NaN</td>\n      <td>NaN</td>\n      <td>NaN</td>\n      <td>NaN</td>\n      <td>NaN</td>\n      <td>NaN</td>\n      <td>NaN</td>\n      <td>NaN</td>\n      <td>...</td>\n      <td>NaN</td>\n      <td>NaN</td>\n      <td>NaN</td>\n      <td>NaN</td>\n      <td>NaN</td>\n      <td>802.11a</td>\n      <td>NaN</td>\n      <td>AMD Ryzen 5 2600 Processor with Wraith Stealth...</td>\n      <td>None</td>\n      <td>None</td>\n    </tr>\n    <tr>\n      <th>2</th>\n      <td>B089J731BX</td>\n      <td>NaN</td>\n      <td>NaN</td>\n      <td>NaN</td>\n      <td>NaN</td>\n      <td>NaN</td>\n      <td>NaN</td>\n      <td>NaN</td>\n      <td>NaN</td>\n      <td>NaN</td>\n      <td>...</td>\n      <td>NaN</td>\n      <td>NaN</td>\n      <td>NaN</td>\n      <td>NaN</td>\n      <td>NaN</td>\n      <td>NaN</td>\n      <td>NaN</td>\n      <td>Intel Core i9-9900K Desktop Processor 8 Cores ...</td>\n      <td>DealsPro1</td>\n      <td>https://www.amazon.com/gp/help/seller/at-a-gla...</td>\n    </tr>\n    <tr>\n      <th>3</th>\n      <td>B07HHN6KBZ</td>\n      <td>NaN</td>\n      <td>NaN</td>\n      <td>NaN</td>\n      <td>NaN</td>\n      <td>NaN</td>\n      <td>NaN</td>\n      <td>NaN</td>\n      <td>NaN</td>\n      <td>NaN</td>\n      <td>...</td>\n      <td>NaN</td>\n      <td>NaN</td>\n      <td>NaN</td>\n      <td>NaN</td>\n      <td>NaN</td>\n      <td>NaN</td>\n      <td>NaN</td>\n      <td>Intel Core i7-9700K Desktop Processor 8 Cores ...</td>\n      <td>None</td>\n      <td>None</td>\n    </tr>\n    <tr>\n      <th>4</th>\n      <td>B08BKRZB4Z</td>\n      <td>NaN</td>\n      <td>NaN</td>\n      <td>NaN</td>\n      <td>NaN</td>\n      <td>NaN</td>\n      <td>NaN</td>\n      <td>NaN</td>\n      <td>NaN</td>\n      <td>NaN</td>\n      <td>...</td>\n      <td>NaN</td>\n      <td>NaN</td>\n      <td>NaN</td>\n      <td>NaN</td>\n      <td>NaN</td>\n      <td>NaN</td>\n      <td>NaN</td>\n      <td>Industrial Rugged Fanless Silent Mini PC Compu...</td>\n      <td>Critical Products LLC</td>\n      <td>https://www.amazon.com/gp/help/seller/at-a-gla...</td>\n    </tr>\n    <tr>\n      <th>...</th>\n      <td>...</td>\n      <td>...</td>\n      <td>...</td>\n      <td>...</td>\n      <td>...</td>\n      <td>...</td>\n      <td>...</td>\n      <td>...</td>\n      <td>...</td>\n      <td>...</td>\n      <td>...</td>\n      <td>...</td>\n      <td>...</td>\n      <td>...</td>\n      <td>...</td>\n      <td>...</td>\n      <td>...</td>\n      <td>...</td>\n      <td>...</td>\n      <td>...</td>\n      <td>...</td>\n    </tr>\n    <tr>\n      <th>5884</th>\n      <td>B08GC6VFF2</td>\n      <td>NaN</td>\n      <td>NaN</td>\n      <td>NaN</td>\n      <td>NaN</td>\n      <td>NaN</td>\n      <td>NaN</td>\n      <td>NaN</td>\n      <td>NaN</td>\n      <td></td>\n      <td>...</td>\n      <td>NaN</td>\n      <td>NaN</td>\n      <td>NaN</td>\n      <td>NaN</td>\n      <td>NaN</td>\n      <td>NaN</td>\n      <td>NaN</td>\n      <td>YEELIYA PCIe USB 3.0 Card Type C USB Card Supe...</td>\n      <td>Yeeliya</td>\n      <td>https://www.amazon.com/gp/help/seller/at-a-gla...</td>\n    </tr>\n    <tr>\n      <th>5885</th>\n      <td>B07BMV9WJ4</td>\n      <td>NaN</td>\n      <td>NaN</td>\n      <td>NaN</td>\n      <td>NaN</td>\n      <td>NaN</td>\n      <td>NaN</td>\n      <td>NaN</td>\n      <td>NaN</td>\n      <td>NaN</td>\n      <td>...</td>\n      <td>NaN</td>\n      <td>NaN</td>\n      <td>NaN</td>\n      <td>NaN</td>\n      <td>NaN</td>\n      <td>Bluetooth</td>\n      <td>NaN</td>\n      <td>ASRock B360 Gaming K4 LGA1151/Intel B360/DDR4/...</td>\n      <td>None</td>\n      <td>None</td>\n    </tr>\n    <tr>\n      <th>5886</th>\n      <td>B08L6HXX2R</td>\n      <td>NaN</td>\n      <td>NaN</td>\n      <td>NaN</td>\n      <td>NaN</td>\n      <td>NaN</td>\n      <td>NaN</td>\n      <td>NaN</td>\n      <td>NaN</td>\n      <td>1 Lithium ion batteries required. (included)</td>\n      <td>...</td>\n      <td>NaN</td>\n      <td>NaN</td>\n      <td>NaN</td>\n      <td>NaN</td>\n      <td>NaN</td>\n      <td>802.11ac</td>\n      <td>NaN</td>\n      <td>Used Like New Notebook Thinkpad T460 Ultrabook...</td>\n      <td>None</td>\n      <td>None</td>\n    </tr>\n    <tr>\n      <th>5887</th>\n      <td>B081R359ZM</td>\n      <td>NaN</td>\n      <td>NaN</td>\n      <td>NaN</td>\n      <td>NaN</td>\n      <td>NaN</td>\n      <td>NaN</td>\n      <td>NaN</td>\n      <td>NaN</td>\n      <td>NaN</td>\n      <td>...</td>\n      <td>NaN</td>\n      <td>NaN</td>\n      <td>NaN</td>\n      <td>NaN</td>\n      <td>NaN</td>\n      <td>NaN</td>\n      <td>NaN</td>\n      <td>Gigabyte Gv-N165SWF2OC-4GD GeForce GTX 1650 Su...</td>\n      <td>None</td>\n      <td>None</td>\n    </tr>\n    <tr>\n      <th>5888</th>\n      <td>B07FKTSWNG</td>\n      <td>NaN</td>\n      <td>NaN</td>\n      <td>NaN</td>\n      <td>NaN</td>\n      <td>NaN</td>\n      <td>NaN</td>\n      <td>NaN</td>\n      <td>NaN</td>\n      <td>NaN</td>\n      <td>...</td>\n      <td>NaN</td>\n      <td>NaN</td>\n      <td>NaN</td>\n      <td>NaN</td>\n      <td>NaN</td>\n      <td>802.11a/b/g/n/ac, Bluetooth</td>\n      <td>NaN</td>\n      <td>ASUS ROG Strix B450-I Gaming AMD AM4 (3rd/2nd ...</td>\n      <td>DIO Japan</td>\n      <td>https://www.amazon.com/gp/help/seller/at-a-gla...</td>\n    </tr>\n  </tbody>\n</table>\n<p>5889 rows × 137 columns</p>\n</div>"
     },
     "metadata": {},
     "execution_count": 35
    }
   ],
   "source": [
    "new_processor = new_processor.groupby(new_processor.columns,axis=1).first()\n",
    "new_processor"
   ]
  },
  {
   "cell_type": "code",
   "execution_count": 246,
   "metadata": {},
   "outputs": [
    {
     "output_type": "execute_result",
     "data": {
      "text/plain": [
       "ASIN                                    112\n",
       "Additional Features                    5797\n",
       "Assembled Height                       5887\n",
       "Assembled Length                       5887\n",
       "Assembled Width                        5887\n",
       "                                       ... \n",
       "Wireless Type                          3548\n",
       "Wireless communication technologies    5618\n",
       "name                                      0\n",
       "seller                                 1640\n",
       "seller_link                            1640\n",
       "Length: 137, dtype: int64"
      ]
     },
     "metadata": {},
     "execution_count": 246
    }
   ],
   "source": [
    "new_processor.isnull().sum()"
   ]
  },
  {
   "cell_type": "code",
   "execution_count": 247,
   "metadata": {},
   "outputs": [],
   "source": [
    "new_processor.dropna(subset=[\"ASIN\"],inplace=True)"
   ]
  },
  {
   "cell_type": "code",
   "execution_count": 248,
   "metadata": {},
   "outputs": [],
   "source": [
    "new_pocessor=new_processor.reset_index(drop=True)"
   ]
  },
  {
   "cell_type": "code",
   "execution_count": 249,
   "metadata": {},
   "outputs": [],
   "source": [
    "new_processor = new_processor.loc[:, list(new_processor.columns[list(new_processor.isnull().sum() < 4600)])]"
   ]
  },
  {
   "cell_type": "code",
   "execution_count": 250,
   "metadata": {},
   "outputs": [
    {
     "output_type": "execute_result",
     "data": {
      "text/plain": [
       "(5777, 33)"
      ]
     },
     "metadata": {},
     "execution_count": 250
    }
   ],
   "source": [
    "new_processor.shape"
   ]
  },
  {
   "cell_type": "code",
   "execution_count": 251,
   "metadata": {},
   "outputs": [
    {
     "output_type": "execute_result",
     "data": {
      "text/plain": [
       "ASIN                               object\n",
       "Batteries                          object\n",
       "Best Sellers Rank                  object\n",
       "Brand                              object\n",
       "Card Description                   object\n",
       "Chipset Brand                      object\n",
       "Color                              object\n",
       "Computer Memory Type               object\n",
       "Customer Reviews                   object\n",
       "Date First Available               object\n",
       "Flash Memory Size                  object\n",
       "Graphics Coprocessor               object\n",
       "Hard Drive Interface               object\n",
       "Hardware Platform                  object\n",
       "Is Discontinued By Manufacturer    object\n",
       "Item Dimensions  LxWxH             object\n",
       "Item Weight                        object\n",
       "Item model number                  object\n",
       "Manufacturer                       object\n",
       "Max Screen Resolution              object\n",
       "Memory Speed                       object\n",
       "Number of USB 2.0 Ports            object\n",
       "Operating System                   object\n",
       "Package Dimensions                 object\n",
       "Power Source                       object\n",
       "Processor Count                    object\n",
       "Product Dimensions                 object\n",
       "Series                             object\n",
       "Standing screen display size       object\n",
       "Wireless Type                      object\n",
       "name                               object\n",
       "seller                             object\n",
       "seller_link                        object\n",
       "dtype: object"
      ]
     },
     "metadata": {},
     "execution_count": 251
    }
   ],
   "source": [
    "new_processor.dtypes"
   ]
  },
  {
   "cell_type": "code",
   "execution_count": 253,
   "metadata": {},
   "outputs": [
    {
     "output_type": "execute_result",
     "data": {
      "text/plain": [
       "str"
      ]
     },
     "metadata": {},
     "execution_count": 253
    }
   ],
   "source": [
    "type(new_processor[\"Processor Count\"][0])"
   ]
  },
  {
   "cell_type": "code",
   "execution_count": 254,
   "metadata": {},
   "outputs": [],
   "source": [
    "new_processor[\"Number of USB 2.0 Ports\"] =  pd.to_numeric(new_processor[\"Number of USB 2.0 Ports\"],errors='coerce').astype(\"Int64\")\n",
    "new_processor[\"Processor Count\"] =  pd.to_numeric(new_processor[\"Processor Count\"],errors='coerce').astype(\"Int64\")"
   ]
  },
  {
   "cell_type": "code",
   "execution_count": 255,
   "metadata": {},
   "outputs": [],
   "source": [
    "a = new_processor[\"Item Weight\"].str.split(expand=True)\n",
    "a.columns=[\"a\",\"b\"]\n",
    "a.a = a['a'].astype(float)\n",
    "a['a'] = np.where(a['b'] == 'ounces',a['a'] * 0.16 ,a['a'])\n",
    "new_processor[\"Item Weight\"] = a['a'].round(3)"
   ]
  },
  {
   "cell_type": "code",
   "execution_count": 256,
   "metadata": {},
   "outputs": [],
   "source": [
    "new_processor[\"Product Dimensions\"] = new_pocessor[\"Product Dimensions\"].fillna(new_pocessor[\"Package Dimensions\"])\n",
    "new_processor.drop(columns=\"Package Dimensions\", inplace=True)"
   ]
  },
  {
   "cell_type": "code",
   "execution_count": 257,
   "metadata": {},
   "outputs": [],
   "source": [
    "new_processor=new_processor.rename(columns={\"Product Dimensions\":\"Product_Dimensions_(inches)\"})"
   ]
  },
  {
   "cell_type": "code",
   "execution_count": 258,
   "metadata": {},
   "outputs": [],
   "source": [
    "new_processor[\"Product_Dimensions_(inches)\"]=new_processor[\"Product_Dimensions_(inches)\"].str.strip(\"inches\")"
   ]
  },
  {
   "cell_type": "code",
   "execution_count": 259,
   "metadata": {},
   "outputs": [],
   "source": [
    "# new_processor.loc[new_processor[\"Average Battery Life (in hours)\"]== \"365 days\", \"Average Battery Life (in hours)\"] = 8760\n",
    "# new_processor.loc[new_processor[\"Average Battery Life (in hours)\"]== \"\", \"Average Battery Life (in hours)\"] = \"nan\"\n",
    "# new_processor.loc[new_processor[\"Average Battery Life (in hours)\"]== \"8 \\tyears\", \"Average Battery Life (in hours)\"] = 70080\n",
    "# new_processor.loc[new_processor[\"Average Battery Life (in hours)\"]== \"5 \\tyears\", \"Average Battery Life (in hours)\"] = 43800\n",
    "# new_processor.loc[new_processor[\"Average Battery Life (in hours)\"]== \"6 \\tyears\", \"Average Battery Life (in hours)\"] = 52560\n",
    "# new_processor.loc[new_processor[\"Average Battery Life (in hours)\"]== \"2 \\tyears\", \"Average Battery Life (in hours)\"] = 17520\n",
    "# new_processor.loc[new_processor[\"Average Battery Life (in hours)\"]== \"1 \\tyears\", \"Average Battery Life (in hours)\"] = 8760\n",
    "# new_processor.loc[new_processor[\"Average Battery Life (in hours)\"]== \"3 \\tyears\", \"Average Battery Life (in hours)\"] = 26280\n",
    "# new_processor.loc[new_processor[\"Average Battery Life (in hours)\"]== \"10 \\tyears\", \"Average Battery Life (in hours)\"] = 87600\n",
    "# new_processor.loc[new_processor[\"Average Battery Life (in hours)\"]== \"12 \\tmonths\", \"Average Battery Life (in hours)\"] = 8760\n",
    "# new_processor.loc[new_processor[\"Average Battery Life (in hours)\"]== \"8 \\tyears\", \"Average Battery Life (in hours)\"] = 35040\n",
    "# new_processor.loc[new_processor[\"Average Battery Life (in hours)\"]== \"7 days\", \"Average Battery Life (in hours)\"] = 168\n",
    "# new_processor.loc[new_processor[\"Average Battery Life (in hours)\"]== \"1 days\", \"Average Battery Life (in hours)\"] = 24\n",
    "# new_processor.loc[new_processor[\"Average Battery Life (in hours)\"]== \"2 days\", \"Average Battery Life (in hours)\"] = 48\n",
    "# new_processor.loc[new_processor[\"Average Battery Life (in hours)\"]== \"36 \\tmonths\", \"Average Battery Life (in hours)\"] = 26280\n",
    "# new_processor.loc[new_processor[\"Average Battery Life (in hours)\"]== \"4 \\tyears\", \"Average Battery Life (in hours)\"] = 35040\n",
    "# new_processor.loc[new_processor[\"Average Battery Life (in hours)\"]== \"6.00, 6.00, 6.00 Hours\", \"Average Battery Life (in hours)\"] = 6\n",
    "# new_processor[\"Average Battery Life (in hours)\"].unique()"
   ]
  },
  {
   "cell_type": "code",
   "execution_count": 260,
   "metadata": {},
   "outputs": [],
   "source": [
    "# new_processor[\"Average Battery Life (in hours)\"] = new_processor[\"Average Battery Life (in hours)\"].str.split(\" \").str[0]\n",
    "# new_processor[\"Average Battery Life (in hours)\"] = new_processor[\"Average Battery Life (in hours)\"].astype('float')"
   ]
  },
  {
   "cell_type": "code",
   "execution_count": 261,
   "metadata": {},
   "outputs": [
    {
     "output_type": "execute_result",
     "data": {
      "text/plain": [
       "array([nan, '3600 MHz', '2666 MHz', '3700 MHz', '2800 MHz', '2900 MHz',\n",
       "       '3.4 GHz', '2.8 GHz', '1866 MHz', '2400 MHz', '2133 GHz',\n",
       "       '3200 MHz', '1.8 GHz', '3.6 GHz', '2.6 GHz', '1 GHz', '4266 MHz',\n",
       "       '1.6 GHz', '1600 MHz', '2133 MHz', '3300 MHz', '2.2 GHz',\n",
       "       '1.5 GHz', '3100 MHz', '2933 MHz', '2.5 GHz', '3.1 GHz', '2.7 GHz',\n",
       "       '', '2.3 GHz', '3.9 GHz', '1.3 GHz', '1.92 GHz', '2 GHz',\n",
       "       '3.5 GHz', '1.1 GHz', '1200 MHz', '750 MHz', '3000 MHz',\n",
       "       '3733 MHz', '4400 MHz', '4.1 GHz', '2.9 GHz', '4.5 GHz',\n",
       "       '1333 MHz', '2.48 GHz', '2666 GHz', '2.4 GHz', '2300 MHz',\n",
       "       '4.6 GHz', '4200 MHz', '2.16 GHz', '667 MHz', '1600 GHz',\n",
       "       '3.2 GHz', '1.44 GHz', '1392 MHz', '4600 MHz', '4800 MHz',\n",
       "       '14 GHz', '5000 MHz', '1866 GHz', '5200 MHz', '2035 MHz',\n",
       "       '7008 MHz', '4700 MHz', '8 GHz', '1518 MHz', '700 MHz', '3.8 GHz',\n",
       "       '4266.00', '128 MHz', '6008 MHz', '1.7 GHz', '7200 GHz', '2',\n",
       "       '1530 MHz', '1.9 GHz', '4500 MHz', '1635 MHz', '2.1 GHz',\n",
       "       '300 MHz', '1.76 GHz', '2667 MHz', '1845 MHz', '2.24 GHz',\n",
       "       '1400 MHz', '8000 MHz', '1.83 GHz', '7000 MHz', '732 MHz',\n",
       "       '12000 MHz'], dtype=object)"
      ]
     },
     "metadata": {},
     "execution_count": 261
    }
   ],
   "source": [
    "new_pocessor[\"Memory Speed\"].unique()"
   ]
  },
  {
   "cell_type": "code",
   "execution_count": 262,
   "metadata": {},
   "outputs": [],
   "source": [
    "a = new_processor[\"Memory Speed\"].str.split(expand=True)\n",
    "a.columns=[\"a\",\"b\"]\n",
    "a.a = a['a'].astype(float)\n",
    "a['a'] = np.where(a['b'] == 'MHz',a['a'] * 0.001 ,a['a'])\n",
    "new_processor[\"Memory Speed\"] = a['a'].round(2)\n",
    "new_processor = new_processor.rename(columns={\"Memory Speed\":\"Memory_Speed_(GHz)\"}) "
   ]
  },
  {
   "cell_type": "code",
   "execution_count": 263,
   "metadata": {},
   "outputs": [
    {
     "output_type": "execute_result",
     "data": {
      "text/plain": [
       "            ASIN                                     Batteries  \\\n",
       "0     B07STGGQ18                                           NaN   \n",
       "1     B07B41WS48                                           NaN   \n",
       "2     B089J731BX                                           NaN   \n",
       "3     B07HHN6KBZ                                           NaN   \n",
       "4     B08BKRZB4Z                                           NaN   \n",
       "...          ...                                           ...   \n",
       "5884  B08GC6VFF2                                                 \n",
       "5885  B07BMV9WJ4                                           NaN   \n",
       "5886  B08L6HXX2R  1 Lithium ion batteries required. (included)   \n",
       "5887  B081R359ZM                                           NaN   \n",
       "5888  B07FKTSWNG                                           NaN   \n",
       "\n",
       "                                      Best Sellers Rank     Brand  \\\n",
       "0                         #1 in Computer CPU Processors       AMD   \n",
       "1                        #17 in Computer CPU Processors       AMD   \n",
       "2                        #13 in Computer CPU Processors     Intel   \n",
       "3                         #7 in Computer CPU Processors     Intel   \n",
       "4     #290,502 in Computers & Accessories ( See Top ...     Intel   \n",
       "...                                                 ...       ...   \n",
       "5884                     #62 in Internal USB Port Cards       NaN   \n",
       "5885                    #2,254 in Computer Motherboards    ASRock   \n",
       "5886  #67,794 in Computers & Accessories ( See Top 1...       N&n   \n",
       "5887                    #687 in Computer Graphics Cards  Gigabyte   \n",
       "5888                      #248 in Computer Motherboards      ASUS   \n",
       "\n",
       "     Card Description Chipset Brand Color Computer Memory Type  \\\n",
       "0                 NaN           NaN   NaN                  NaN   \n",
       "1                 NaN           NaN   NaN           DDR4 SDRAM   \n",
       "2                 NaN           NaN   NaN                  NaN   \n",
       "3                 NaN           NaN   NaN           DDR4 SDRAM   \n",
       "4                 NaN         Intel   NaN               SODIMM   \n",
       "...               ...           ...   ...                  ...   \n",
       "5884              NaN           NaN   NaN                  NaN   \n",
       "5885              NaN           NaN   NaN           DDR4 SDRAM   \n",
       "5886       Integrated         Intel   NaN     DDR3L-1600 SDRAM   \n",
       "5887       Integrated        NVIDIA   NaN                  NaN   \n",
       "5888              NaN           NaN   NaN           DDR4 SDRAM   \n",
       "\n",
       "                                       Customer Reviews Date First Available  \\\n",
       "0     /*\\n* Fix for UDP-1061. Average customer revie...         July 1, 2019   \n",
       "1     /*\\n* Fix for UDP-1061. Average customer revie...       April 13, 2018   \n",
       "2     /*\\n* Fix for UDP-1061. Average customer revie...         June 1, 2020   \n",
       "3     /*\\n* Fix for UDP-1061. Average customer revie...      October 8, 2018   \n",
       "4     /*\\n* Fix for UDP-1061. Average customer revie...        June 26, 2020   \n",
       "...                                                 ...                  ...   \n",
       "5884  /*\\n* Fix for UDP-1061. Average customer revie...      August 20, 2020   \n",
       "5885  /*\\n* Fix for UDP-1061. Average customer revie...       April 10, 2018   \n",
       "5886                                                NaN   September 16, 2020   \n",
       "5887  /*\\n* Fix for UDP-1061. Average customer revie...    November 22, 2019   \n",
       "5888  /*\\n* Fix for UDP-1061. Average customer revie...        July 27, 2018   \n",
       "\n",
       "      ... Operating System Power Source Processor Count  \\\n",
       "0     ...              NaN          NaN               6   \n",
       "1     ...              NaN          NaN               6   \n",
       "2     ...              NaN          NaN               1   \n",
       "3     ...              NaN          NaN               8   \n",
       "4     ...       Windows 10           DC               6   \n",
       "...   ...              ...          ...             ...   \n",
       "5884  ...              NaN          NaN            <NA>   \n",
       "5885  ...              NaN          NaN               1   \n",
       "5886  ...          Windows          NaN               2   \n",
       "5887  ...              NaN          NaN            <NA>   \n",
       "5888  ...              NaN          NaN            <NA>   \n",
       "\n",
       "     Product_Dimensions_(inches)                   Series  \\\n",
       "0            1.57 x 1.57 x 0.24                   Ryzen 5   \n",
       "1               1.6 x 1.6 x 0.3                       NaN   \n",
       "2            6.3 x 10.24 x 3.15                       NaN   \n",
       "3            4.57 x 3.98 x 2.76                       NaN   \n",
       "4                   8 x 8 x 1.9            LITESHIELD 2.0   \n",
       "...                          ...                      ...   \n",
       "5884                         NaN                      NaN   \n",
       "5885                         NaN                      NaN   \n",
       "5886                         NaN                     T460   \n",
       "5887                         NaN                      NaN   \n",
       "5888                         NaN  ROG Strix B450-I Gaming   \n",
       "\n",
       "     Standing screen display size                Wireless Type  \\\n",
       "0                             NaN                          NaN   \n",
       "1                             NaN                      802.11a   \n",
       "2                             NaN                          NaN   \n",
       "3                             NaN                          NaN   \n",
       "4                             NaN                          NaN   \n",
       "...                           ...                          ...   \n",
       "5884                          NaN                          NaN   \n",
       "5885                          NaN                    Bluetooth   \n",
       "5886                  14.1 Inches                     802.11ac   \n",
       "5887                          NaN                          NaN   \n",
       "5888                          NaN  802.11a/b/g/n/ac, Bluetooth   \n",
       "\n",
       "                                                   name  \\\n",
       "0     AMD Ryzen 5 3600 6-Core, 12-Thread Unlocked De...   \n",
       "1     AMD Ryzen 5 2600 Processor with Wraith Stealth...   \n",
       "2     Intel Core i9-9900K Desktop Processor 8 Cores ...   \n",
       "3     Intel Core i7-9700K Desktop Processor 8 Cores ...   \n",
       "4     Industrial Rugged Fanless Silent Mini PC Compu...   \n",
       "...                                                 ...   \n",
       "5884  YEELIYA PCIe USB 3.0 Card Type C USB Card Supe...   \n",
       "5885  ASRock B360 Gaming K4 LGA1151/Intel B360/DDR4/...   \n",
       "5886  Used Like New Notebook Thinkpad T460 Ultrabook...   \n",
       "5887  Gigabyte Gv-N165SWF2OC-4GD GeForce GTX 1650 Su...   \n",
       "5888  ASUS ROG Strix B450-I Gaming AMD AM4 (3rd/2nd ...   \n",
       "\n",
       "                     seller                                        seller_link  \n",
       "0                      None                                               None  \n",
       "1                      None                                               None  \n",
       "2                 DealsPro1  https://www.amazon.com/gp/help/seller/at-a-gla...  \n",
       "3                      None                                               None  \n",
       "4     Critical Products LLC  https://www.amazon.com/gp/help/seller/at-a-gla...  \n",
       "...                     ...                                                ...  \n",
       "5884                Yeeliya  https://www.amazon.com/gp/help/seller/at-a-gla...  \n",
       "5885                   None                                               None  \n",
       "5886                   None                                               None  \n",
       "5887                   None                                               None  \n",
       "5888              DIO Japan  https://www.amazon.com/gp/help/seller/at-a-gla...  \n",
       "\n",
       "[5777 rows x 32 columns]"
      ],
      "text/html": "<div>\n<style scoped>\n    .dataframe tbody tr th:only-of-type {\n        vertical-align: middle;\n    }\n\n    .dataframe tbody tr th {\n        vertical-align: top;\n    }\n\n    .dataframe thead th {\n        text-align: right;\n    }\n</style>\n<table border=\"1\" class=\"dataframe\">\n  <thead>\n    <tr style=\"text-align: right;\">\n      <th></th>\n      <th>ASIN</th>\n      <th>Batteries</th>\n      <th>Best Sellers Rank</th>\n      <th>Brand</th>\n      <th>Card Description</th>\n      <th>Chipset Brand</th>\n      <th>Color</th>\n      <th>Computer Memory Type</th>\n      <th>Customer Reviews</th>\n      <th>Date First Available</th>\n      <th>...</th>\n      <th>Operating System</th>\n      <th>Power Source</th>\n      <th>Processor Count</th>\n      <th>Product_Dimensions_(inches)</th>\n      <th>Series</th>\n      <th>Standing screen display size</th>\n      <th>Wireless Type</th>\n      <th>name</th>\n      <th>seller</th>\n      <th>seller_link</th>\n    </tr>\n  </thead>\n  <tbody>\n    <tr>\n      <th>0</th>\n      <td>B07STGGQ18</td>\n      <td>NaN</td>\n      <td>#1 in Computer CPU Processors</td>\n      <td>AMD</td>\n      <td>NaN</td>\n      <td>NaN</td>\n      <td>NaN</td>\n      <td>NaN</td>\n      <td>/*\\n* Fix for UDP-1061. Average customer revie...</td>\n      <td>July 1, 2019</td>\n      <td>...</td>\n      <td>NaN</td>\n      <td>NaN</td>\n      <td>6</td>\n      <td>1.57 x 1.57 x 0.24</td>\n      <td>Ryzen 5</td>\n      <td>NaN</td>\n      <td>NaN</td>\n      <td>AMD Ryzen 5 3600 6-Core, 12-Thread Unlocked De...</td>\n      <td>None</td>\n      <td>None</td>\n    </tr>\n    <tr>\n      <th>1</th>\n      <td>B07B41WS48</td>\n      <td>NaN</td>\n      <td>#17 in Computer CPU Processors</td>\n      <td>AMD</td>\n      <td>NaN</td>\n      <td>NaN</td>\n      <td>NaN</td>\n      <td>DDR4 SDRAM</td>\n      <td>/*\\n* Fix for UDP-1061. Average customer revie...</td>\n      <td>April 13, 2018</td>\n      <td>...</td>\n      <td>NaN</td>\n      <td>NaN</td>\n      <td>6</td>\n      <td>1.6 x 1.6 x 0.3</td>\n      <td>NaN</td>\n      <td>NaN</td>\n      <td>802.11a</td>\n      <td>AMD Ryzen 5 2600 Processor with Wraith Stealth...</td>\n      <td>None</td>\n      <td>None</td>\n    </tr>\n    <tr>\n      <th>2</th>\n      <td>B089J731BX</td>\n      <td>NaN</td>\n      <td>#13 in Computer CPU Processors</td>\n      <td>Intel</td>\n      <td>NaN</td>\n      <td>NaN</td>\n      <td>NaN</td>\n      <td>NaN</td>\n      <td>/*\\n* Fix for UDP-1061. Average customer revie...</td>\n      <td>June 1, 2020</td>\n      <td>...</td>\n      <td>NaN</td>\n      <td>NaN</td>\n      <td>1</td>\n      <td>6.3 x 10.24 x 3.15</td>\n      <td>NaN</td>\n      <td>NaN</td>\n      <td>NaN</td>\n      <td>Intel Core i9-9900K Desktop Processor 8 Cores ...</td>\n      <td>DealsPro1</td>\n      <td>https://www.amazon.com/gp/help/seller/at-a-gla...</td>\n    </tr>\n    <tr>\n      <th>3</th>\n      <td>B07HHN6KBZ</td>\n      <td>NaN</td>\n      <td>#7 in Computer CPU Processors</td>\n      <td>Intel</td>\n      <td>NaN</td>\n      <td>NaN</td>\n      <td>NaN</td>\n      <td>DDR4 SDRAM</td>\n      <td>/*\\n* Fix for UDP-1061. Average customer revie...</td>\n      <td>October 8, 2018</td>\n      <td>...</td>\n      <td>NaN</td>\n      <td>NaN</td>\n      <td>8</td>\n      <td>4.57 x 3.98 x 2.76</td>\n      <td>NaN</td>\n      <td>NaN</td>\n      <td>NaN</td>\n      <td>Intel Core i7-9700K Desktop Processor 8 Cores ...</td>\n      <td>None</td>\n      <td>None</td>\n    </tr>\n    <tr>\n      <th>4</th>\n      <td>B08BKRZB4Z</td>\n      <td>NaN</td>\n      <td>#290,502 in Computers &amp; Accessories ( See Top ...</td>\n      <td>Intel</td>\n      <td>NaN</td>\n      <td>Intel</td>\n      <td>NaN</td>\n      <td>SODIMM</td>\n      <td>/*\\n* Fix for UDP-1061. Average customer revie...</td>\n      <td>June 26, 2020</td>\n      <td>...</td>\n      <td>Windows 10</td>\n      <td>DC</td>\n      <td>6</td>\n      <td>8 x 8 x 1.9</td>\n      <td>LITESHIELD 2.0</td>\n      <td>NaN</td>\n      <td>NaN</td>\n      <td>Industrial Rugged Fanless Silent Mini PC Compu...</td>\n      <td>Critical Products LLC</td>\n      <td>https://www.amazon.com/gp/help/seller/at-a-gla...</td>\n    </tr>\n    <tr>\n      <th>...</th>\n      <td>...</td>\n      <td>...</td>\n      <td>...</td>\n      <td>...</td>\n      <td>...</td>\n      <td>...</td>\n      <td>...</td>\n      <td>...</td>\n      <td>...</td>\n      <td>...</td>\n      <td>...</td>\n      <td>...</td>\n      <td>...</td>\n      <td>...</td>\n      <td>...</td>\n      <td>...</td>\n      <td>...</td>\n      <td>...</td>\n      <td>...</td>\n      <td>...</td>\n      <td>...</td>\n    </tr>\n    <tr>\n      <th>5884</th>\n      <td>B08GC6VFF2</td>\n      <td></td>\n      <td>#62 in Internal USB Port Cards</td>\n      <td>NaN</td>\n      <td>NaN</td>\n      <td>NaN</td>\n      <td>NaN</td>\n      <td>NaN</td>\n      <td>/*\\n* Fix for UDP-1061. Average customer revie...</td>\n      <td>August 20, 2020</td>\n      <td>...</td>\n      <td>NaN</td>\n      <td>NaN</td>\n      <td>&lt;NA&gt;</td>\n      <td>NaN</td>\n      <td>NaN</td>\n      <td>NaN</td>\n      <td>NaN</td>\n      <td>YEELIYA PCIe USB 3.0 Card Type C USB Card Supe...</td>\n      <td>Yeeliya</td>\n      <td>https://www.amazon.com/gp/help/seller/at-a-gla...</td>\n    </tr>\n    <tr>\n      <th>5885</th>\n      <td>B07BMV9WJ4</td>\n      <td>NaN</td>\n      <td>#2,254 in Computer Motherboards</td>\n      <td>ASRock</td>\n      <td>NaN</td>\n      <td>NaN</td>\n      <td>NaN</td>\n      <td>DDR4 SDRAM</td>\n      <td>/*\\n* Fix for UDP-1061. Average customer revie...</td>\n      <td>April 10, 2018</td>\n      <td>...</td>\n      <td>NaN</td>\n      <td>NaN</td>\n      <td>1</td>\n      <td>NaN</td>\n      <td>NaN</td>\n      <td>NaN</td>\n      <td>Bluetooth</td>\n      <td>ASRock B360 Gaming K4 LGA1151/Intel B360/DDR4/...</td>\n      <td>None</td>\n      <td>None</td>\n    </tr>\n    <tr>\n      <th>5886</th>\n      <td>B08L6HXX2R</td>\n      <td>1 Lithium ion batteries required. (included)</td>\n      <td>#67,794 in Computers &amp; Accessories ( See Top 1...</td>\n      <td>N&amp;n</td>\n      <td>Integrated</td>\n      <td>Intel</td>\n      <td>NaN</td>\n      <td>DDR3L-1600 SDRAM</td>\n      <td>NaN</td>\n      <td>September 16, 2020</td>\n      <td>...</td>\n      <td>Windows</td>\n      <td>NaN</td>\n      <td>2</td>\n      <td>NaN</td>\n      <td>T460</td>\n      <td>14.1 Inches</td>\n      <td>802.11ac</td>\n      <td>Used Like New Notebook Thinkpad T460 Ultrabook...</td>\n      <td>None</td>\n      <td>None</td>\n    </tr>\n    <tr>\n      <th>5887</th>\n      <td>B081R359ZM</td>\n      <td>NaN</td>\n      <td>#687 in Computer Graphics Cards</td>\n      <td>Gigabyte</td>\n      <td>Integrated</td>\n      <td>NVIDIA</td>\n      <td>NaN</td>\n      <td>NaN</td>\n      <td>/*\\n* Fix for UDP-1061. Average customer revie...</td>\n      <td>November 22, 2019</td>\n      <td>...</td>\n      <td>NaN</td>\n      <td>NaN</td>\n      <td>&lt;NA&gt;</td>\n      <td>NaN</td>\n      <td>NaN</td>\n      <td>NaN</td>\n      <td>NaN</td>\n      <td>Gigabyte Gv-N165SWF2OC-4GD GeForce GTX 1650 Su...</td>\n      <td>None</td>\n      <td>None</td>\n    </tr>\n    <tr>\n      <th>5888</th>\n      <td>B07FKTSWNG</td>\n      <td>NaN</td>\n      <td>#248 in Computer Motherboards</td>\n      <td>ASUS</td>\n      <td>NaN</td>\n      <td>NaN</td>\n      <td>NaN</td>\n      <td>DDR4 SDRAM</td>\n      <td>/*\\n* Fix for UDP-1061. Average customer revie...</td>\n      <td>July 27, 2018</td>\n      <td>...</td>\n      <td>NaN</td>\n      <td>NaN</td>\n      <td>&lt;NA&gt;</td>\n      <td>NaN</td>\n      <td>ROG Strix B450-I Gaming</td>\n      <td>NaN</td>\n      <td>802.11a/b/g/n/ac, Bluetooth</td>\n      <td>ASUS ROG Strix B450-I Gaming AMD AM4 (3rd/2nd ...</td>\n      <td>DIO Japan</td>\n      <td>https://www.amazon.com/gp/help/seller/at-a-gla...</td>\n    </tr>\n  </tbody>\n</table>\n<p>5777 rows × 32 columns</p>\n</div>"
     },
     "metadata": {},
     "execution_count": 263
    }
   ],
   "source": [
    "new_processor.rename(columns={\"Memory Speed\":\"Memory_Speed_(GHz)\"}) "
   ]
  },
  {
   "cell_type": "code",
   "execution_count": 264,
   "metadata": {},
   "outputs": [],
   "source": [
    "new_processor=new_processor[['ASIN',\n",
    "'name',\n",
    " 'Batteries',\n",
    " 'Best Sellers Rank',\n",
    " 'Brand',\n",
    " 'Card Description',\n",
    " 'Chipset Brand',\n",
    " 'Color',\n",
    " 'Computer Memory Type',\n",
    " 'Customer Reviews',\n",
    " 'Date First Available',\n",
    " 'Flash Memory Size',\n",
    " 'Graphics Coprocessor',\n",
    " 'Hard Drive Interface',\n",
    " 'Hardware Platform',\n",
    " 'Is Discontinued By Manufacturer',\n",
    " 'Item Dimensions  LxWxH',\n",
    " 'Item Weight',\n",
    " 'Item model number',\n",
    " 'Manufacturer',\n",
    " 'Max Screen Resolution',\n",
    " 'Memory_Speed_(GHz)',\n",
    " 'Number of USB 2.0 Ports',\n",
    " 'Operating System',\n",
    " 'Power Source',\n",
    " 'Processor Count',\n",
    " 'Product_Dimensions_(inches)',\n",
    " 'Series',\n",
    " 'Standing screen display size',\n",
    " 'Wireless Type',\n",
    " 'seller',\n",
    " 'seller_link']]"
   ]
  },
  {
   "cell_type": "code",
   "execution_count": 276,
   "metadata": {},
   "outputs": [],
   "source": [
    "new_processor.columns=['ASIN',\n",
    "'title',\n",
    " 'Batteries',\n",
    " 'Best_Sellers_Rank',\n",
    " 'Brand',\n",
    " 'Card_Description',\n",
    " 'Chipset_Brand',\n",
    " 'Color',\n",
    " 'Computer_Memory_Type',\n",
    " 'Customer_Reviews',\n",
    " 'Date_First_Available',\n",
    " 'Flash_Memory_Size',\n",
    " 'Graphics_Coprocessor',\n",
    " 'Hard_Drive_Interface',\n",
    " 'Hardware_Platform',\n",
    " 'Is_Discontinued_By_Manufacturer',\n",
    " 'Item_Dimensions_LxWxH',\n",
    " 'Item_Weight',\n",
    " 'Item_model_number',\n",
    " 'Manufacturer',\n",
    " 'Max_Screen_Resolution',\n",
    " 'Memory_Speed_(GHz)',\n",
    " 'Number_of_USB_2.0_Ports',\n",
    " 'Operating_System',\n",
    " 'Power_Source',\n",
    " 'Processor_Count',\n",
    " 'Product_Dimensions_(inches)',\n",
    " 'Series',\n",
    " 'Standing_screen_display_size',\n",
    " 'Wireless_Type',\n",
    " 'seller',\n",
    " 'seller_link']"
   ]
  },
  {
   "cell_type": "code",
   "execution_count": 277,
   "metadata": {},
   "outputs": [
    {
     "output_type": "execute_result",
     "data": {
      "text/plain": [
       "            ASIN                                              title  \\\n",
       "0     B07STGGQ18  AMD Ryzen 5 3600 6-Core, 12-Thread Unlocked De...   \n",
       "1     B07B41WS48  AMD Ryzen 5 2600 Processor with Wraith Stealth...   \n",
       "2     B089J731BX  Intel Core i9-9900K Desktop Processor 8 Cores ...   \n",
       "3     B07HHN6KBZ  Intel Core i7-9700K Desktop Processor 8 Cores ...   \n",
       "4     B08BKRZB4Z  Industrial Rugged Fanless Silent Mini PC Compu...   \n",
       "...          ...                                                ...   \n",
       "5884  B08GC6VFF2  YEELIYA PCIe USB 3.0 Card Type C USB Card Supe...   \n",
       "5885  B07BMV9WJ4  ASRock B360 Gaming K4 LGA1151/Intel B360/DDR4/...   \n",
       "5886  B08L6HXX2R  Used Like New Notebook Thinkpad T460 Ultrabook...   \n",
       "5887  B081R359ZM  Gigabyte Gv-N165SWF2OC-4GD GeForce GTX 1650 Su...   \n",
       "5888  B07FKTSWNG  ASUS ROG Strix B450-I Gaming AMD AM4 (3rd/2nd ...   \n",
       "\n",
       "                                         Batteries  \\\n",
       "0                                              NaN   \n",
       "1                                              NaN   \n",
       "2                                              NaN   \n",
       "3                                              NaN   \n",
       "4                                              NaN   \n",
       "...                                            ...   \n",
       "5884                                                 \n",
       "5885                                           NaN   \n",
       "5886  1 Lithium ion batteries required. (included)   \n",
       "5887                                           NaN   \n",
       "5888                                           NaN   \n",
       "\n",
       "                                      Best_Sellers_Rank     Brand  \\\n",
       "0                         #1 in Computer CPU Processors       AMD   \n",
       "1                        #17 in Computer CPU Processors       AMD   \n",
       "2                        #13 in Computer CPU Processors     Intel   \n",
       "3                         #7 in Computer CPU Processors     Intel   \n",
       "4     #290,502 in Computers & Accessories ( See Top ...     Intel   \n",
       "...                                                 ...       ...   \n",
       "5884                     #62 in Internal USB Port Cards       NaN   \n",
       "5885                    #2,254 in Computer Motherboards    ASRock   \n",
       "5886  #67,794 in Computers & Accessories ( See Top 1...       N&n   \n",
       "5887                    #687 in Computer Graphics Cards  Gigabyte   \n",
       "5888                      #248 in Computer Motherboards      ASUS   \n",
       "\n",
       "     Card_Description Chipset_Brand Color Computer_Memory_Type  \\\n",
       "0                 NaN           NaN   NaN                  NaN   \n",
       "1                 NaN           NaN   NaN           DDR4 SDRAM   \n",
       "2                 NaN           NaN   NaN                  NaN   \n",
       "3                 NaN           NaN   NaN           DDR4 SDRAM   \n",
       "4                 NaN         Intel   NaN               SODIMM   \n",
       "...               ...           ...   ...                  ...   \n",
       "5884              NaN           NaN   NaN                  NaN   \n",
       "5885              NaN           NaN   NaN           DDR4 SDRAM   \n",
       "5886       Integrated         Intel   NaN     DDR3L-1600 SDRAM   \n",
       "5887       Integrated        NVIDIA   NaN                  NaN   \n",
       "5888              NaN           NaN   NaN           DDR4 SDRAM   \n",
       "\n",
       "                                       Customer_Reviews  ...  \\\n",
       "0     /*\\n* Fix for UDP-1061. Average customer revie...  ...   \n",
       "1     /*\\n* Fix for UDP-1061. Average customer revie...  ...   \n",
       "2     /*\\n* Fix for UDP-1061. Average customer revie...  ...   \n",
       "3     /*\\n* Fix for UDP-1061. Average customer revie...  ...   \n",
       "4     /*\\n* Fix for UDP-1061. Average customer revie...  ...   \n",
       "...                                                 ...  ...   \n",
       "5884  /*\\n* Fix for UDP-1061. Average customer revie...  ...   \n",
       "5885  /*\\n* Fix for UDP-1061. Average customer revie...  ...   \n",
       "5886                                                NaN  ...   \n",
       "5887  /*\\n* Fix for UDP-1061. Average customer revie...  ...   \n",
       "5888  /*\\n* Fix for UDP-1061. Average customer revie...  ...   \n",
       "\n",
       "     Number_of_USB_2.0_Ports Operating_System Power_Source Processor_Count  \\\n",
       "0                       <NA>              NaN          NaN               6   \n",
       "1                       <NA>              NaN          NaN               6   \n",
       "2                       <NA>              NaN          NaN               1   \n",
       "3                          1              NaN          NaN               8   \n",
       "4                          6       Windows 10           DC               6   \n",
       "...                      ...              ...          ...             ...   \n",
       "5884                    <NA>              NaN          NaN            <NA>   \n",
       "5885                       2              NaN          NaN               1   \n",
       "5886                    <NA>          Windows          NaN               2   \n",
       "5887                    <NA>              NaN          NaN            <NA>   \n",
       "5888                       1              NaN          NaN            <NA>   \n",
       "\n",
       "     Product_Dimensions_(inches)                   Series  \\\n",
       "0            1.57 x 1.57 x 0.24                   Ryzen 5   \n",
       "1               1.6 x 1.6 x 0.3                       NaN   \n",
       "2            6.3 x 10.24 x 3.15                       NaN   \n",
       "3            4.57 x 3.98 x 2.76                       NaN   \n",
       "4                   8 x 8 x 1.9            LITESHIELD 2.0   \n",
       "...                          ...                      ...   \n",
       "5884                         NaN                      NaN   \n",
       "5885                         NaN                      NaN   \n",
       "5886                         NaN                     T460   \n",
       "5887                         NaN                      NaN   \n",
       "5888                         NaN  ROG Strix B450-I Gaming   \n",
       "\n",
       "     Standing_screen_display_size                Wireless_Type  \\\n",
       "0                             NaN                          NaN   \n",
       "1                             NaN                      802.11a   \n",
       "2                             NaN                          NaN   \n",
       "3                             NaN                          NaN   \n",
       "4                             NaN                          NaN   \n",
       "...                           ...                          ...   \n",
       "5884                          NaN                          NaN   \n",
       "5885                          NaN                    Bluetooth   \n",
       "5886                  14.1 Inches                     802.11ac   \n",
       "5887                          NaN                          NaN   \n",
       "5888                          NaN  802.11a/b/g/n/ac, Bluetooth   \n",
       "\n",
       "                     seller                                        seller_link  \n",
       "0                      None                                               None  \n",
       "1                      None                                               None  \n",
       "2                 DealsPro1  https://www.amazon.com/gp/help/seller/at-a-gla...  \n",
       "3                      None                                               None  \n",
       "4     Critical Products LLC  https://www.amazon.com/gp/help/seller/at-a-gla...  \n",
       "...                     ...                                                ...  \n",
       "5884                Yeeliya  https://www.amazon.com/gp/help/seller/at-a-gla...  \n",
       "5885                   None                                               None  \n",
       "5886                   None                                               None  \n",
       "5887                   None                                               None  \n",
       "5888              DIO Japan  https://www.amazon.com/gp/help/seller/at-a-gla...  \n",
       "\n",
       "[5777 rows x 32 columns]"
      ],
      "text/html": "<div>\n<style scoped>\n    .dataframe tbody tr th:only-of-type {\n        vertical-align: middle;\n    }\n\n    .dataframe tbody tr th {\n        vertical-align: top;\n    }\n\n    .dataframe thead th {\n        text-align: right;\n    }\n</style>\n<table border=\"1\" class=\"dataframe\">\n  <thead>\n    <tr style=\"text-align: right;\">\n      <th></th>\n      <th>ASIN</th>\n      <th>title</th>\n      <th>Batteries</th>\n      <th>Best_Sellers_Rank</th>\n      <th>Brand</th>\n      <th>Card_Description</th>\n      <th>Chipset_Brand</th>\n      <th>Color</th>\n      <th>Computer_Memory_Type</th>\n      <th>Customer_Reviews</th>\n      <th>...</th>\n      <th>Number_of_USB_2.0_Ports</th>\n      <th>Operating_System</th>\n      <th>Power_Source</th>\n      <th>Processor_Count</th>\n      <th>Product_Dimensions_(inches)</th>\n      <th>Series</th>\n      <th>Standing_screen_display_size</th>\n      <th>Wireless_Type</th>\n      <th>seller</th>\n      <th>seller_link</th>\n    </tr>\n  </thead>\n  <tbody>\n    <tr>\n      <th>0</th>\n      <td>B07STGGQ18</td>\n      <td>AMD Ryzen 5 3600 6-Core, 12-Thread Unlocked De...</td>\n      <td>NaN</td>\n      <td>#1 in Computer CPU Processors</td>\n      <td>AMD</td>\n      <td>NaN</td>\n      <td>NaN</td>\n      <td>NaN</td>\n      <td>NaN</td>\n      <td>/*\\n* Fix for UDP-1061. Average customer revie...</td>\n      <td>...</td>\n      <td>&lt;NA&gt;</td>\n      <td>NaN</td>\n      <td>NaN</td>\n      <td>6</td>\n      <td>1.57 x 1.57 x 0.24</td>\n      <td>Ryzen 5</td>\n      <td>NaN</td>\n      <td>NaN</td>\n      <td>None</td>\n      <td>None</td>\n    </tr>\n    <tr>\n      <th>1</th>\n      <td>B07B41WS48</td>\n      <td>AMD Ryzen 5 2600 Processor with Wraith Stealth...</td>\n      <td>NaN</td>\n      <td>#17 in Computer CPU Processors</td>\n      <td>AMD</td>\n      <td>NaN</td>\n      <td>NaN</td>\n      <td>NaN</td>\n      <td>DDR4 SDRAM</td>\n      <td>/*\\n* Fix for UDP-1061. Average customer revie...</td>\n      <td>...</td>\n      <td>&lt;NA&gt;</td>\n      <td>NaN</td>\n      <td>NaN</td>\n      <td>6</td>\n      <td>1.6 x 1.6 x 0.3</td>\n      <td>NaN</td>\n      <td>NaN</td>\n      <td>802.11a</td>\n      <td>None</td>\n      <td>None</td>\n    </tr>\n    <tr>\n      <th>2</th>\n      <td>B089J731BX</td>\n      <td>Intel Core i9-9900K Desktop Processor 8 Cores ...</td>\n      <td>NaN</td>\n      <td>#13 in Computer CPU Processors</td>\n      <td>Intel</td>\n      <td>NaN</td>\n      <td>NaN</td>\n      <td>NaN</td>\n      <td>NaN</td>\n      <td>/*\\n* Fix for UDP-1061. Average customer revie...</td>\n      <td>...</td>\n      <td>&lt;NA&gt;</td>\n      <td>NaN</td>\n      <td>NaN</td>\n      <td>1</td>\n      <td>6.3 x 10.24 x 3.15</td>\n      <td>NaN</td>\n      <td>NaN</td>\n      <td>NaN</td>\n      <td>DealsPro1</td>\n      <td>https://www.amazon.com/gp/help/seller/at-a-gla...</td>\n    </tr>\n    <tr>\n      <th>3</th>\n      <td>B07HHN6KBZ</td>\n      <td>Intel Core i7-9700K Desktop Processor 8 Cores ...</td>\n      <td>NaN</td>\n      <td>#7 in Computer CPU Processors</td>\n      <td>Intel</td>\n      <td>NaN</td>\n      <td>NaN</td>\n      <td>NaN</td>\n      <td>DDR4 SDRAM</td>\n      <td>/*\\n* Fix for UDP-1061. Average customer revie...</td>\n      <td>...</td>\n      <td>1</td>\n      <td>NaN</td>\n      <td>NaN</td>\n      <td>8</td>\n      <td>4.57 x 3.98 x 2.76</td>\n      <td>NaN</td>\n      <td>NaN</td>\n      <td>NaN</td>\n      <td>None</td>\n      <td>None</td>\n    </tr>\n    <tr>\n      <th>4</th>\n      <td>B08BKRZB4Z</td>\n      <td>Industrial Rugged Fanless Silent Mini PC Compu...</td>\n      <td>NaN</td>\n      <td>#290,502 in Computers &amp; Accessories ( See Top ...</td>\n      <td>Intel</td>\n      <td>NaN</td>\n      <td>Intel</td>\n      <td>NaN</td>\n      <td>SODIMM</td>\n      <td>/*\\n* Fix for UDP-1061. Average customer revie...</td>\n      <td>...</td>\n      <td>6</td>\n      <td>Windows 10</td>\n      <td>DC</td>\n      <td>6</td>\n      <td>8 x 8 x 1.9</td>\n      <td>LITESHIELD 2.0</td>\n      <td>NaN</td>\n      <td>NaN</td>\n      <td>Critical Products LLC</td>\n      <td>https://www.amazon.com/gp/help/seller/at-a-gla...</td>\n    </tr>\n    <tr>\n      <th>...</th>\n      <td>...</td>\n      <td>...</td>\n      <td>...</td>\n      <td>...</td>\n      <td>...</td>\n      <td>...</td>\n      <td>...</td>\n      <td>...</td>\n      <td>...</td>\n      <td>...</td>\n      <td>...</td>\n      <td>...</td>\n      <td>...</td>\n      <td>...</td>\n      <td>...</td>\n      <td>...</td>\n      <td>...</td>\n      <td>...</td>\n      <td>...</td>\n      <td>...</td>\n      <td>...</td>\n    </tr>\n    <tr>\n      <th>5884</th>\n      <td>B08GC6VFF2</td>\n      <td>YEELIYA PCIe USB 3.0 Card Type C USB Card Supe...</td>\n      <td></td>\n      <td>#62 in Internal USB Port Cards</td>\n      <td>NaN</td>\n      <td>NaN</td>\n      <td>NaN</td>\n      <td>NaN</td>\n      <td>NaN</td>\n      <td>/*\\n* Fix for UDP-1061. Average customer revie...</td>\n      <td>...</td>\n      <td>&lt;NA&gt;</td>\n      <td>NaN</td>\n      <td>NaN</td>\n      <td>&lt;NA&gt;</td>\n      <td>NaN</td>\n      <td>NaN</td>\n      <td>NaN</td>\n      <td>NaN</td>\n      <td>Yeeliya</td>\n      <td>https://www.amazon.com/gp/help/seller/at-a-gla...</td>\n    </tr>\n    <tr>\n      <th>5885</th>\n      <td>B07BMV9WJ4</td>\n      <td>ASRock B360 Gaming K4 LGA1151/Intel B360/DDR4/...</td>\n      <td>NaN</td>\n      <td>#2,254 in Computer Motherboards</td>\n      <td>ASRock</td>\n      <td>NaN</td>\n      <td>NaN</td>\n      <td>NaN</td>\n      <td>DDR4 SDRAM</td>\n      <td>/*\\n* Fix for UDP-1061. Average customer revie...</td>\n      <td>...</td>\n      <td>2</td>\n      <td>NaN</td>\n      <td>NaN</td>\n      <td>1</td>\n      <td>NaN</td>\n      <td>NaN</td>\n      <td>NaN</td>\n      <td>Bluetooth</td>\n      <td>None</td>\n      <td>None</td>\n    </tr>\n    <tr>\n      <th>5886</th>\n      <td>B08L6HXX2R</td>\n      <td>Used Like New Notebook Thinkpad T460 Ultrabook...</td>\n      <td>1 Lithium ion batteries required. (included)</td>\n      <td>#67,794 in Computers &amp; Accessories ( See Top 1...</td>\n      <td>N&amp;n</td>\n      <td>Integrated</td>\n      <td>Intel</td>\n      <td>NaN</td>\n      <td>DDR3L-1600 SDRAM</td>\n      <td>NaN</td>\n      <td>...</td>\n      <td>&lt;NA&gt;</td>\n      <td>Windows</td>\n      <td>NaN</td>\n      <td>2</td>\n      <td>NaN</td>\n      <td>T460</td>\n      <td>14.1 Inches</td>\n      <td>802.11ac</td>\n      <td>None</td>\n      <td>None</td>\n    </tr>\n    <tr>\n      <th>5887</th>\n      <td>B081R359ZM</td>\n      <td>Gigabyte Gv-N165SWF2OC-4GD GeForce GTX 1650 Su...</td>\n      <td>NaN</td>\n      <td>#687 in Computer Graphics Cards</td>\n      <td>Gigabyte</td>\n      <td>Integrated</td>\n      <td>NVIDIA</td>\n      <td>NaN</td>\n      <td>NaN</td>\n      <td>/*\\n* Fix for UDP-1061. Average customer revie...</td>\n      <td>...</td>\n      <td>&lt;NA&gt;</td>\n      <td>NaN</td>\n      <td>NaN</td>\n      <td>&lt;NA&gt;</td>\n      <td>NaN</td>\n      <td>NaN</td>\n      <td>NaN</td>\n      <td>NaN</td>\n      <td>None</td>\n      <td>None</td>\n    </tr>\n    <tr>\n      <th>5888</th>\n      <td>B07FKTSWNG</td>\n      <td>ASUS ROG Strix B450-I Gaming AMD AM4 (3rd/2nd ...</td>\n      <td>NaN</td>\n      <td>#248 in Computer Motherboards</td>\n      <td>ASUS</td>\n      <td>NaN</td>\n      <td>NaN</td>\n      <td>NaN</td>\n      <td>DDR4 SDRAM</td>\n      <td>/*\\n* Fix for UDP-1061. Average customer revie...</td>\n      <td>...</td>\n      <td>1</td>\n      <td>NaN</td>\n      <td>NaN</td>\n      <td>&lt;NA&gt;</td>\n      <td>NaN</td>\n      <td>ROG Strix B450-I Gaming</td>\n      <td>NaN</td>\n      <td>802.11a/b/g/n/ac, Bluetooth</td>\n      <td>DIO Japan</td>\n      <td>https://www.amazon.com/gp/help/seller/at-a-gla...</td>\n    </tr>\n  </tbody>\n</table>\n<p>5777 rows × 32 columns</p>\n</div>"
     },
     "metadata": {},
     "execution_count": 277
    }
   ],
   "source": [
    "new_processor"
   ]
  },
  {
   "cell_type": "code",
   "execution_count": 267,
   "metadata": {},
   "outputs": [],
   "source": [
    "a = new_processor['Best_Sellers_Rank'].str.split(expand=True)\n",
    "a.columns=['c1', 'c2', 'c3', 'c4','c5','c6','c7', 'c8', 'c9', 'c41','c51','c61','c12', 'c22', 'c32', 'c42','c52','c62','c13', 'c23', 'c33', 'c43','c53','c63','c14', 'c24', 'c34', 'c44','c54']\n",
    "a[\"c1\"]  = a[\"c1\"] .str.replace('#', '').str.replace(',', '')"
   ]
  },
  {
   "cell_type": "code",
   "execution_count": 268,
   "metadata": {},
   "outputs": [
    {
     "output_type": "execute_result",
     "data": {
      "text/plain": [
       "     Seller_rank\n",
       "0              1\n",
       "1             17\n",
       "2             13\n",
       "3              7\n",
       "4         290502\n",
       "...          ...\n",
       "5884          62\n",
       "5885        2254\n",
       "5886       67794\n",
       "5887         687\n",
       "5888         248\n",
       "\n",
       "[5777 rows x 1 columns]"
      ],
      "text/html": "<div>\n<style scoped>\n    .dataframe tbody tr th:only-of-type {\n        vertical-align: middle;\n    }\n\n    .dataframe tbody tr th {\n        vertical-align: top;\n    }\n\n    .dataframe thead th {\n        text-align: right;\n    }\n</style>\n<table border=\"1\" class=\"dataframe\">\n  <thead>\n    <tr style=\"text-align: right;\">\n      <th></th>\n      <th>Seller_rank</th>\n    </tr>\n  </thead>\n  <tbody>\n    <tr>\n      <th>0</th>\n      <td>1</td>\n    </tr>\n    <tr>\n      <th>1</th>\n      <td>17</td>\n    </tr>\n    <tr>\n      <th>2</th>\n      <td>13</td>\n    </tr>\n    <tr>\n      <th>3</th>\n      <td>7</td>\n    </tr>\n    <tr>\n      <th>4</th>\n      <td>290502</td>\n    </tr>\n    <tr>\n      <th>...</th>\n      <td>...</td>\n    </tr>\n    <tr>\n      <th>5884</th>\n      <td>62</td>\n    </tr>\n    <tr>\n      <th>5885</th>\n      <td>2254</td>\n    </tr>\n    <tr>\n      <th>5886</th>\n      <td>67794</td>\n    </tr>\n    <tr>\n      <th>5887</th>\n      <td>687</td>\n    </tr>\n    <tr>\n      <th>5888</th>\n      <td>248</td>\n    </tr>\n  </tbody>\n</table>\n<p>5777 rows × 1 columns</p>\n</div>"
     },
     "metadata": {},
     "execution_count": 268
    }
   ],
   "source": [
    "a=a.rename(columns={\"c1\":\"Seller_rank\"})\n",
    "x= pd.DataFrame(a.Seller_rank)\n",
    "x"
   ]
  },
  {
   "cell_type": "code",
   "execution_count": 269,
   "metadata": {},
   "outputs": [
    {
     "output_type": "execute_result",
     "data": {
      "text/plain": [
       "           Seller_category\n",
       "0              ComputerCPU\n",
       "1              ComputerCPU\n",
       "2              ComputerCPU\n",
       "3              ComputerCPU\n",
       "4               Computers&\n",
       "...                    ...\n",
       "5884           InternalUSB\n",
       "5885  ComputerMotherboards\n",
       "5886            Computers&\n",
       "5887      ComputerGraphics\n",
       "5888  ComputerMotherboards\n",
       "\n",
       "[5777 rows x 1 columns]"
      ],
      "text/html": "<div>\n<style scoped>\n    .dataframe tbody tr th:only-of-type {\n        vertical-align: middle;\n    }\n\n    .dataframe tbody tr th {\n        vertical-align: top;\n    }\n\n    .dataframe thead th {\n        text-align: right;\n    }\n</style>\n<table border=\"1\" class=\"dataframe\">\n  <thead>\n    <tr style=\"text-align: right;\">\n      <th></th>\n      <th>Seller_category</th>\n    </tr>\n  </thead>\n  <tbody>\n    <tr>\n      <th>0</th>\n      <td>ComputerCPU</td>\n    </tr>\n    <tr>\n      <th>1</th>\n      <td>ComputerCPU</td>\n    </tr>\n    <tr>\n      <th>2</th>\n      <td>ComputerCPU</td>\n    </tr>\n    <tr>\n      <th>3</th>\n      <td>ComputerCPU</td>\n    </tr>\n    <tr>\n      <th>4</th>\n      <td>Computers&amp;</td>\n    </tr>\n    <tr>\n      <th>...</th>\n      <td>...</td>\n    </tr>\n    <tr>\n      <th>5884</th>\n      <td>InternalUSB</td>\n    </tr>\n    <tr>\n      <th>5885</th>\n      <td>ComputerMotherboards</td>\n    </tr>\n    <tr>\n      <th>5886</th>\n      <td>Computers&amp;</td>\n    </tr>\n    <tr>\n      <th>5887</th>\n      <td>ComputerGraphics</td>\n    </tr>\n    <tr>\n      <th>5888</th>\n      <td>ComputerMotherboards</td>\n    </tr>\n  </tbody>\n</table>\n<p>5777 rows × 1 columns</p>\n</div>"
     },
     "metadata": {},
     "execution_count": 269
    }
   ],
   "source": [
    "Seller_category = a.c3 + a.c4\n",
    "y = pd.DataFrame(Seller_category)\n",
    "y.columns = [\"Seller_category\"]\n",
    "y"
   ]
  },
  {
   "cell_type": "code",
   "execution_count": 270,
   "metadata": {},
   "outputs": [],
   "source": [
    "processor = pd.concat([new_processor, x, y],axis=1)\n",
    "processor.drop(columns=\"Best_Sellers_Rank\",inplace=True)"
   ]
  },
  {
   "cell_type": "code",
   "execution_count": 271,
   "metadata": {},
   "outputs": [
    {
     "output_type": "execute_result",
     "data": {
      "text/plain": [
       "            ASIN                                              title  \\\n",
       "0     B07STGGQ18  AMD Ryzen 5 3600 6-Core, 12-Thread Unlocked De...   \n",
       "1     B07B41WS48  AMD Ryzen 5 2600 Processor with Wraith Stealth...   \n",
       "2     B089J731BX  Intel Core i9-9900K Desktop Processor 8 Cores ...   \n",
       "3     B07HHN6KBZ  Intel Core i7-9700K Desktop Processor 8 Cores ...   \n",
       "4     B08BKRZB4Z  Industrial Rugged Fanless Silent Mini PC Compu...   \n",
       "...          ...                                                ...   \n",
       "5884  B08GC6VFF2  YEELIYA PCIe USB 3.0 Card Type C USB Card Supe...   \n",
       "5885  B07BMV9WJ4  ASRock B360 Gaming K4 LGA1151/Intel B360/DDR4/...   \n",
       "5886  B08L6HXX2R  Used Like New Notebook Thinkpad T460 Ultrabook...   \n",
       "5887  B081R359ZM  Gigabyte Gv-N165SWF2OC-4GD GeForce GTX 1650 Su...   \n",
       "5888  B07FKTSWNG  ASUS ROG Strix B450-I Gaming AMD AM4 (3rd/2nd ...   \n",
       "\n",
       "                                         Batteries     Brand Card_Description  \\\n",
       "0                                              NaN       AMD              NaN   \n",
       "1                                              NaN       AMD              NaN   \n",
       "2                                              NaN     Intel              NaN   \n",
       "3                                              NaN     Intel              NaN   \n",
       "4                                              NaN     Intel              NaN   \n",
       "...                                            ...       ...              ...   \n",
       "5884                                                     NaN              NaN   \n",
       "5885                                           NaN    ASRock              NaN   \n",
       "5886  1 Lithium ion batteries required. (included)       N&n       Integrated   \n",
       "5887                                           NaN  Gigabyte       Integrated   \n",
       "5888                                           NaN      ASUS              NaN   \n",
       "\n",
       "     Chipset_Brand Color Computer_Memory_Type  \\\n",
       "0              NaN   NaN                  NaN   \n",
       "1              NaN   NaN           DDR4 SDRAM   \n",
       "2              NaN   NaN                  NaN   \n",
       "3              NaN   NaN           DDR4 SDRAM   \n",
       "4            Intel   NaN               SODIMM   \n",
       "...            ...   ...                  ...   \n",
       "5884           NaN   NaN                  NaN   \n",
       "5885           NaN   NaN           DDR4 SDRAM   \n",
       "5886         Intel   NaN     DDR3L-1600 SDRAM   \n",
       "5887        NVIDIA   NaN                  NaN   \n",
       "5888           NaN   NaN           DDR4 SDRAM   \n",
       "\n",
       "                                       Customer_Reviews Date_First_Available  \\\n",
       "0     /*\\n* Fix for UDP-1061. Average customer revie...         July 1, 2019   \n",
       "1     /*\\n* Fix for UDP-1061. Average customer revie...       April 13, 2018   \n",
       "2     /*\\n* Fix for UDP-1061. Average customer revie...         June 1, 2020   \n",
       "3     /*\\n* Fix for UDP-1061. Average customer revie...      October 8, 2018   \n",
       "4     /*\\n* Fix for UDP-1061. Average customer revie...        June 26, 2020   \n",
       "...                                                 ...                  ...   \n",
       "5884  /*\\n* Fix for UDP-1061. Average customer revie...      August 20, 2020   \n",
       "5885  /*\\n* Fix for UDP-1061. Average customer revie...       April 10, 2018   \n",
       "5886                                                NaN   September 16, 2020   \n",
       "5887  /*\\n* Fix for UDP-1061. Average customer revie...    November 22, 2019   \n",
       "5888  /*\\n* Fix for UDP-1061. Average customer revie...        July 27, 2018   \n",
       "\n",
       "      ... Power_Source Processor_Count Product_Dimensions_(inches)  \\\n",
       "0     ...          NaN               6         1.57 x 1.57 x 0.24    \n",
       "1     ...          NaN               6            1.6 x 1.6 x 0.3    \n",
       "2     ...          NaN               1         6.3 x 10.24 x 3.15    \n",
       "3     ...          NaN               8         4.57 x 3.98 x 2.76    \n",
       "4     ...           DC               6                8 x 8 x 1.9    \n",
       "...   ...          ...             ...                         ...   \n",
       "5884  ...          NaN            <NA>                         NaN   \n",
       "5885  ...          NaN               1                         NaN   \n",
       "5886  ...          NaN               2                         NaN   \n",
       "5887  ...          NaN            <NA>                         NaN   \n",
       "5888  ...          NaN            <NA>                         NaN   \n",
       "\n",
       "                       Series Standing_screen_display_size  \\\n",
       "0                     Ryzen 5                          NaN   \n",
       "1                         NaN                          NaN   \n",
       "2                         NaN                          NaN   \n",
       "3                         NaN                          NaN   \n",
       "4              LITESHIELD 2.0                          NaN   \n",
       "...                       ...                          ...   \n",
       "5884                      NaN                          NaN   \n",
       "5885                      NaN                          NaN   \n",
       "5886                     T460                  14.1 Inches   \n",
       "5887                      NaN                          NaN   \n",
       "5888  ROG Strix B450-I Gaming                          NaN   \n",
       "\n",
       "                    Wireless_Type                 seller  \\\n",
       "0                             NaN                   None   \n",
       "1                         802.11a                   None   \n",
       "2                             NaN              DealsPro1   \n",
       "3                             NaN                   None   \n",
       "4                             NaN  Critical Products LLC   \n",
       "...                           ...                    ...   \n",
       "5884                          NaN                Yeeliya   \n",
       "5885                    Bluetooth                   None   \n",
       "5886                     802.11ac                   None   \n",
       "5887                          NaN                   None   \n",
       "5888  802.11a/b/g/n/ac, Bluetooth              DIO Japan   \n",
       "\n",
       "                                            seller_link Seller_rank  \\\n",
       "0                                                  None           1   \n",
       "1                                                  None          17   \n",
       "2     https://www.amazon.com/gp/help/seller/at-a-gla...          13   \n",
       "3                                                  None           7   \n",
       "4     https://www.amazon.com/gp/help/seller/at-a-gla...      290502   \n",
       "...                                                 ...         ...   \n",
       "5884  https://www.amazon.com/gp/help/seller/at-a-gla...          62   \n",
       "5885                                               None        2254   \n",
       "5886                                               None       67794   \n",
       "5887                                               None         687   \n",
       "5888  https://www.amazon.com/gp/help/seller/at-a-gla...         248   \n",
       "\n",
       "           Seller_category  \n",
       "0              ComputerCPU  \n",
       "1              ComputerCPU  \n",
       "2              ComputerCPU  \n",
       "3              ComputerCPU  \n",
       "4                Computers  \n",
       "...                    ...  \n",
       "5884           InternalUSB  \n",
       "5885  ComputerMotherboards  \n",
       "5886             Computers  \n",
       "5887      ComputerGraphics  \n",
       "5888  ComputerMotherboards  \n",
       "\n",
       "[5777 rows x 33 columns]"
      ],
      "text/html": "<div>\n<style scoped>\n    .dataframe tbody tr th:only-of-type {\n        vertical-align: middle;\n    }\n\n    .dataframe tbody tr th {\n        vertical-align: top;\n    }\n\n    .dataframe thead th {\n        text-align: right;\n    }\n</style>\n<table border=\"1\" class=\"dataframe\">\n  <thead>\n    <tr style=\"text-align: right;\">\n      <th></th>\n      <th>ASIN</th>\n      <th>title</th>\n      <th>Batteries</th>\n      <th>Brand</th>\n      <th>Card_Description</th>\n      <th>Chipset_Brand</th>\n      <th>Color</th>\n      <th>Computer_Memory_Type</th>\n      <th>Customer_Reviews</th>\n      <th>Date_First_Available</th>\n      <th>...</th>\n      <th>Power_Source</th>\n      <th>Processor_Count</th>\n      <th>Product_Dimensions_(inches)</th>\n      <th>Series</th>\n      <th>Standing_screen_display_size</th>\n      <th>Wireless_Type</th>\n      <th>seller</th>\n      <th>seller_link</th>\n      <th>Seller_rank</th>\n      <th>Seller_category</th>\n    </tr>\n  </thead>\n  <tbody>\n    <tr>\n      <th>0</th>\n      <td>B07STGGQ18</td>\n      <td>AMD Ryzen 5 3600 6-Core, 12-Thread Unlocked De...</td>\n      <td>NaN</td>\n      <td>AMD</td>\n      <td>NaN</td>\n      <td>NaN</td>\n      <td>NaN</td>\n      <td>NaN</td>\n      <td>/*\\n* Fix for UDP-1061. Average customer revie...</td>\n      <td>July 1, 2019</td>\n      <td>...</td>\n      <td>NaN</td>\n      <td>6</td>\n      <td>1.57 x 1.57 x 0.24</td>\n      <td>Ryzen 5</td>\n      <td>NaN</td>\n      <td>NaN</td>\n      <td>None</td>\n      <td>None</td>\n      <td>1</td>\n      <td>ComputerCPU</td>\n    </tr>\n    <tr>\n      <th>1</th>\n      <td>B07B41WS48</td>\n      <td>AMD Ryzen 5 2600 Processor with Wraith Stealth...</td>\n      <td>NaN</td>\n      <td>AMD</td>\n      <td>NaN</td>\n      <td>NaN</td>\n      <td>NaN</td>\n      <td>DDR4 SDRAM</td>\n      <td>/*\\n* Fix for UDP-1061. Average customer revie...</td>\n      <td>April 13, 2018</td>\n      <td>...</td>\n      <td>NaN</td>\n      <td>6</td>\n      <td>1.6 x 1.6 x 0.3</td>\n      <td>NaN</td>\n      <td>NaN</td>\n      <td>802.11a</td>\n      <td>None</td>\n      <td>None</td>\n      <td>17</td>\n      <td>ComputerCPU</td>\n    </tr>\n    <tr>\n      <th>2</th>\n      <td>B089J731BX</td>\n      <td>Intel Core i9-9900K Desktop Processor 8 Cores ...</td>\n      <td>NaN</td>\n      <td>Intel</td>\n      <td>NaN</td>\n      <td>NaN</td>\n      <td>NaN</td>\n      <td>NaN</td>\n      <td>/*\\n* Fix for UDP-1061. Average customer revie...</td>\n      <td>June 1, 2020</td>\n      <td>...</td>\n      <td>NaN</td>\n      <td>1</td>\n      <td>6.3 x 10.24 x 3.15</td>\n      <td>NaN</td>\n      <td>NaN</td>\n      <td>NaN</td>\n      <td>DealsPro1</td>\n      <td>https://www.amazon.com/gp/help/seller/at-a-gla...</td>\n      <td>13</td>\n      <td>ComputerCPU</td>\n    </tr>\n    <tr>\n      <th>3</th>\n      <td>B07HHN6KBZ</td>\n      <td>Intel Core i7-9700K Desktop Processor 8 Cores ...</td>\n      <td>NaN</td>\n      <td>Intel</td>\n      <td>NaN</td>\n      <td>NaN</td>\n      <td>NaN</td>\n      <td>DDR4 SDRAM</td>\n      <td>/*\\n* Fix for UDP-1061. Average customer revie...</td>\n      <td>October 8, 2018</td>\n      <td>...</td>\n      <td>NaN</td>\n      <td>8</td>\n      <td>4.57 x 3.98 x 2.76</td>\n      <td>NaN</td>\n      <td>NaN</td>\n      <td>NaN</td>\n      <td>None</td>\n      <td>None</td>\n      <td>7</td>\n      <td>ComputerCPU</td>\n    </tr>\n    <tr>\n      <th>4</th>\n      <td>B08BKRZB4Z</td>\n      <td>Industrial Rugged Fanless Silent Mini PC Compu...</td>\n      <td>NaN</td>\n      <td>Intel</td>\n      <td>NaN</td>\n      <td>Intel</td>\n      <td>NaN</td>\n      <td>SODIMM</td>\n      <td>/*\\n* Fix for UDP-1061. Average customer revie...</td>\n      <td>June 26, 2020</td>\n      <td>...</td>\n      <td>DC</td>\n      <td>6</td>\n      <td>8 x 8 x 1.9</td>\n      <td>LITESHIELD 2.0</td>\n      <td>NaN</td>\n      <td>NaN</td>\n      <td>Critical Products LLC</td>\n      <td>https://www.amazon.com/gp/help/seller/at-a-gla...</td>\n      <td>290502</td>\n      <td>Computers</td>\n    </tr>\n    <tr>\n      <th>...</th>\n      <td>...</td>\n      <td>...</td>\n      <td>...</td>\n      <td>...</td>\n      <td>...</td>\n      <td>...</td>\n      <td>...</td>\n      <td>...</td>\n      <td>...</td>\n      <td>...</td>\n      <td>...</td>\n      <td>...</td>\n      <td>...</td>\n      <td>...</td>\n      <td>...</td>\n      <td>...</td>\n      <td>...</td>\n      <td>...</td>\n      <td>...</td>\n      <td>...</td>\n      <td>...</td>\n    </tr>\n    <tr>\n      <th>5884</th>\n      <td>B08GC6VFF2</td>\n      <td>YEELIYA PCIe USB 3.0 Card Type C USB Card Supe...</td>\n      <td></td>\n      <td>NaN</td>\n      <td>NaN</td>\n      <td>NaN</td>\n      <td>NaN</td>\n      <td>NaN</td>\n      <td>/*\\n* Fix for UDP-1061. Average customer revie...</td>\n      <td>August 20, 2020</td>\n      <td>...</td>\n      <td>NaN</td>\n      <td>&lt;NA&gt;</td>\n      <td>NaN</td>\n      <td>NaN</td>\n      <td>NaN</td>\n      <td>NaN</td>\n      <td>Yeeliya</td>\n      <td>https://www.amazon.com/gp/help/seller/at-a-gla...</td>\n      <td>62</td>\n      <td>InternalUSB</td>\n    </tr>\n    <tr>\n      <th>5885</th>\n      <td>B07BMV9WJ4</td>\n      <td>ASRock B360 Gaming K4 LGA1151/Intel B360/DDR4/...</td>\n      <td>NaN</td>\n      <td>ASRock</td>\n      <td>NaN</td>\n      <td>NaN</td>\n      <td>NaN</td>\n      <td>DDR4 SDRAM</td>\n      <td>/*\\n* Fix for UDP-1061. Average customer revie...</td>\n      <td>April 10, 2018</td>\n      <td>...</td>\n      <td>NaN</td>\n      <td>1</td>\n      <td>NaN</td>\n      <td>NaN</td>\n      <td>NaN</td>\n      <td>Bluetooth</td>\n      <td>None</td>\n      <td>None</td>\n      <td>2254</td>\n      <td>ComputerMotherboards</td>\n    </tr>\n    <tr>\n      <th>5886</th>\n      <td>B08L6HXX2R</td>\n      <td>Used Like New Notebook Thinkpad T460 Ultrabook...</td>\n      <td>1 Lithium ion batteries required. (included)</td>\n      <td>N&amp;n</td>\n      <td>Integrated</td>\n      <td>Intel</td>\n      <td>NaN</td>\n      <td>DDR3L-1600 SDRAM</td>\n      <td>NaN</td>\n      <td>September 16, 2020</td>\n      <td>...</td>\n      <td>NaN</td>\n      <td>2</td>\n      <td>NaN</td>\n      <td>T460</td>\n      <td>14.1 Inches</td>\n      <td>802.11ac</td>\n      <td>None</td>\n      <td>None</td>\n      <td>67794</td>\n      <td>Computers</td>\n    </tr>\n    <tr>\n      <th>5887</th>\n      <td>B081R359ZM</td>\n      <td>Gigabyte Gv-N165SWF2OC-4GD GeForce GTX 1650 Su...</td>\n      <td>NaN</td>\n      <td>Gigabyte</td>\n      <td>Integrated</td>\n      <td>NVIDIA</td>\n      <td>NaN</td>\n      <td>NaN</td>\n      <td>/*\\n* Fix for UDP-1061. Average customer revie...</td>\n      <td>November 22, 2019</td>\n      <td>...</td>\n      <td>NaN</td>\n      <td>&lt;NA&gt;</td>\n      <td>NaN</td>\n      <td>NaN</td>\n      <td>NaN</td>\n      <td>NaN</td>\n      <td>None</td>\n      <td>None</td>\n      <td>687</td>\n      <td>ComputerGraphics</td>\n    </tr>\n    <tr>\n      <th>5888</th>\n      <td>B07FKTSWNG</td>\n      <td>ASUS ROG Strix B450-I Gaming AMD AM4 (3rd/2nd ...</td>\n      <td>NaN</td>\n      <td>ASUS</td>\n      <td>NaN</td>\n      <td>NaN</td>\n      <td>NaN</td>\n      <td>DDR4 SDRAM</td>\n      <td>/*\\n* Fix for UDP-1061. Average customer revie...</td>\n      <td>July 27, 2018</td>\n      <td>...</td>\n      <td>NaN</td>\n      <td>&lt;NA&gt;</td>\n      <td>NaN</td>\n      <td>ROG Strix B450-I Gaming</td>\n      <td>NaN</td>\n      <td>802.11a/b/g/n/ac, Bluetooth</td>\n      <td>DIO Japan</td>\n      <td>https://www.amazon.com/gp/help/seller/at-a-gla...</td>\n      <td>248</td>\n      <td>ComputerMotherboards</td>\n    </tr>\n  </tbody>\n</table>\n<p>5777 rows × 33 columns</p>\n</div>"
     },
     "metadata": {},
     "execution_count": 271
    }
   ],
   "source": [
    "processor.Seller_category = processor.Seller_category.str.replace(\"&\",\"\")\n",
    "processor"
   ]
  },
  {
   "cell_type": "code",
   "execution_count": 272,
   "metadata": {},
   "outputs": [],
   "source": [
    "a = processor[\"Flash_Memory_Size\"].str.split(expand=True)\n",
    "a.columns=[\"a\",\"b\"]\n",
    "a.a = a['a'].astype(float)\n",
    "a['a'] = np.where(a['b'] == 'TB',a['a'] * 1000 ,a['a'])\n",
    "a['a'] = np.where(a['b'] == 'MB',a['a'] / 1000 ,a['a'])\n",
    "processor[\"Flash_Memory_Size\"] = a['a'].round(2)\n",
    "processor = processor.rename(columns={\"Flash_Memory_Size\":\"Memory_Speed_(GB)\"}) "
   ]
  },
  {
   "cell_type": "code",
   "execution_count": 274,
   "metadata": {},
   "outputs": [],
   "source": [
    "processor.drop(columns=[\"Standing_screen_display_size\"], inplace=True)"
   ]
  },
  {
   "cell_type": "code",
   "execution_count": 278,
   "metadata": {},
   "outputs": [],
   "source": [
    "processor = processor.rename(columns={\"Item_Weight\":\"Item_Weight_(pounds)\"}) "
   ]
  },
  {
   "cell_type": "code",
   "execution_count": 286,
   "metadata": {},
   "outputs": [],
   "source": [
    "processor[\"Product_Dimensions_(inches)\"] = processor[\"Product_Dimensions_(inches)\"].fillna(processor[\"Item_Dimensions_LxWxH\"])\n",
    "processor.drop(columns=\"Item_Dimensions_LxWxH\", inplace=True)"
   ]
  },
  {
   "cell_type": "code",
   "execution_count": 289,
   "metadata": {},
   "outputs": [
    {
     "output_type": "execute_result",
     "data": {
      "text/plain": [
       "            ASIN                                              title  \\\n",
       "0     B07STGGQ18  AMD Ryzen 5 3600 6-Core, 12-Thread Unlocked De...   \n",
       "1     B07B41WS48  AMD Ryzen 5 2600 Processor with Wraith Stealth...   \n",
       "2     B089J731BX  Intel Core i9-9900K Desktop Processor 8 Cores ...   \n",
       "3     B07HHN6KBZ  Intel Core i7-9700K Desktop Processor 8 Cores ...   \n",
       "4     B08BKRZB4Z  Industrial Rugged Fanless Silent Mini PC Compu...   \n",
       "...          ...                                                ...   \n",
       "5884  B08GC6VFF2  YEELIYA PCIe USB 3.0 Card Type C USB Card Supe...   \n",
       "5885  B07BMV9WJ4  ASRock B360 Gaming K4 LGA1151/Intel B360/DDR4/...   \n",
       "5886  B08L6HXX2R  Used Like New Notebook Thinkpad T460 Ultrabook...   \n",
       "5887  B081R359ZM  Gigabyte Gv-N165SWF2OC-4GD GeForce GTX 1650 Su...   \n",
       "5888  B07FKTSWNG  ASUS ROG Strix B450-I Gaming AMD AM4 (3rd/2nd ...   \n",
       "\n",
       "                                         Batteries     Brand Card_Description  \\\n",
       "0                                              NaN       AMD              NaN   \n",
       "1                                              NaN       AMD              NaN   \n",
       "2                                              NaN     Intel              NaN   \n",
       "3                                              NaN     Intel              NaN   \n",
       "4                                              NaN     Intel              NaN   \n",
       "...                                            ...       ...              ...   \n",
       "5884                                                     NaN              NaN   \n",
       "5885                                           NaN    ASRock              NaN   \n",
       "5886  1 Lithium ion batteries required. (included)       N&n       Integrated   \n",
       "5887                                           NaN  Gigabyte       Integrated   \n",
       "5888                                           NaN      ASUS              NaN   \n",
       "\n",
       "     Chipset_Brand Color Computer_Memory_Type  \\\n",
       "0              NaN   NaN                  NaN   \n",
       "1              NaN   NaN           DDR4 SDRAM   \n",
       "2              NaN   NaN                  NaN   \n",
       "3              NaN   NaN           DDR4 SDRAM   \n",
       "4            Intel   NaN               SODIMM   \n",
       "...            ...   ...                  ...   \n",
       "5884           NaN   NaN                  NaN   \n",
       "5885           NaN   NaN           DDR4 SDRAM   \n",
       "5886         Intel   NaN     DDR3L-1600 SDRAM   \n",
       "5887        NVIDIA   NaN                  NaN   \n",
       "5888           NaN   NaN           DDR4 SDRAM   \n",
       "\n",
       "                                       Customer_Reviews Date_First_Available  \\\n",
       "0     /*\\n* Fix for UDP-1061. Average customer revie...         July 1, 2019   \n",
       "1     /*\\n* Fix for UDP-1061. Average customer revie...       April 13, 2018   \n",
       "2     /*\\n* Fix for UDP-1061. Average customer revie...         June 1, 2020   \n",
       "3     /*\\n* Fix for UDP-1061. Average customer revie...      October 8, 2018   \n",
       "4     /*\\n* Fix for UDP-1061. Average customer revie...        June 26, 2020   \n",
       "...                                                 ...                  ...   \n",
       "5884  /*\\n* Fix for UDP-1061. Average customer revie...      August 20, 2020   \n",
       "5885  /*\\n* Fix for UDP-1061. Average customer revie...       April 10, 2018   \n",
       "5886                                                NaN   September 16, 2020   \n",
       "5887  /*\\n* Fix for UDP-1061. Average customer revie...    November 22, 2019   \n",
       "5888  /*\\n* Fix for UDP-1061. Average customer revie...        July 27, 2018   \n",
       "\n",
       "      ...  Operating_System Power_Source Processor_Count  \\\n",
       "0     ...               NaN          NaN               6   \n",
       "1     ...               NaN          NaN               6   \n",
       "2     ...               NaN          NaN               1   \n",
       "3     ...               NaN          NaN               8   \n",
       "4     ...        Windows 10           DC               6   \n",
       "...   ...               ...          ...             ...   \n",
       "5884  ...               NaN          NaN            <NA>   \n",
       "5885  ...               NaN          NaN               1   \n",
       "5886  ...           Windows          NaN               2   \n",
       "5887  ...               NaN          NaN            <NA>   \n",
       "5888  ...               NaN          NaN            <NA>   \n",
       "\n",
       "     Product_Dimensions_(inches)                   Series  \\\n",
       "0            1.57 x 1.57 x 0.24                   Ryzen 5   \n",
       "1               1.6 x 1.6 x 0.3                       NaN   \n",
       "2            6.3 x 10.24 x 3.15                       NaN   \n",
       "3            4.57 x 3.98 x 2.76                       NaN   \n",
       "4                   8 x 8 x 1.9            LITESHIELD 2.0   \n",
       "...                          ...                      ...   \n",
       "5884                         NaN                      NaN   \n",
       "5885          12 x 13 x 3 inches                      NaN   \n",
       "5886                         NaN                     T460   \n",
       "5887   8.86 x 4.69 x 1.57 inches                      NaN   \n",
       "5888      8.9 x 7.3 x 3.7 inches  ROG Strix B450-I Gaming   \n",
       "\n",
       "                    Wireless_Type                 seller  \\\n",
       "0                             NaN                   None   \n",
       "1                         802.11a                   None   \n",
       "2                             NaN              DealsPro1   \n",
       "3                             NaN                   None   \n",
       "4                             NaN  Critical Products LLC   \n",
       "...                           ...                    ...   \n",
       "5884                          NaN                Yeeliya   \n",
       "5885                    Bluetooth                   None   \n",
       "5886                     802.11ac                   None   \n",
       "5887                          NaN                   None   \n",
       "5888  802.11a/b/g/n/ac, Bluetooth              DIO Japan   \n",
       "\n",
       "                                            seller_link Seller_rank  \\\n",
       "0                                                  None           1   \n",
       "1                                                  None          17   \n",
       "2     https://www.amazon.com/gp/help/seller/at-a-gla...          13   \n",
       "3                                                  None           7   \n",
       "4     https://www.amazon.com/gp/help/seller/at-a-gla...      290502   \n",
       "...                                                 ...         ...   \n",
       "5884  https://www.amazon.com/gp/help/seller/at-a-gla...          62   \n",
       "5885                                               None        2254   \n",
       "5886                                               None       67794   \n",
       "5887                                               None         687   \n",
       "5888  https://www.amazon.com/gp/help/seller/at-a-gla...         248   \n",
       "\n",
       "           Seller_category  \n",
       "0              ComputerCPU  \n",
       "1              ComputerCPU  \n",
       "2              ComputerCPU  \n",
       "3              ComputerCPU  \n",
       "4                Computers  \n",
       "...                    ...  \n",
       "5884           InternalUSB  \n",
       "5885  ComputerMotherboards  \n",
       "5886             Computers  \n",
       "5887      ComputerGraphics  \n",
       "5888  ComputerMotherboards  \n",
       "\n",
       "[5777 rows x 31 columns]"
      ],
      "text/html": "<div>\n<style scoped>\n    .dataframe tbody tr th:only-of-type {\n        vertical-align: middle;\n    }\n\n    .dataframe tbody tr th {\n        vertical-align: top;\n    }\n\n    .dataframe thead th {\n        text-align: right;\n    }\n</style>\n<table border=\"1\" class=\"dataframe\">\n  <thead>\n    <tr style=\"text-align: right;\">\n      <th></th>\n      <th>ASIN</th>\n      <th>title</th>\n      <th>Batteries</th>\n      <th>Brand</th>\n      <th>Card_Description</th>\n      <th>Chipset_Brand</th>\n      <th>Color</th>\n      <th>Computer_Memory_Type</th>\n      <th>Customer_Reviews</th>\n      <th>Date_First_Available</th>\n      <th>...</th>\n      <th>Operating_System</th>\n      <th>Power_Source</th>\n      <th>Processor_Count</th>\n      <th>Product_Dimensions_(inches)</th>\n      <th>Series</th>\n      <th>Wireless_Type</th>\n      <th>seller</th>\n      <th>seller_link</th>\n      <th>Seller_rank</th>\n      <th>Seller_category</th>\n    </tr>\n  </thead>\n  <tbody>\n    <tr>\n      <th>0</th>\n      <td>B07STGGQ18</td>\n      <td>AMD Ryzen 5 3600 6-Core, 12-Thread Unlocked De...</td>\n      <td>NaN</td>\n      <td>AMD</td>\n      <td>NaN</td>\n      <td>NaN</td>\n      <td>NaN</td>\n      <td>NaN</td>\n      <td>/*\\n* Fix for UDP-1061. Average customer revie...</td>\n      <td>July 1, 2019</td>\n      <td>...</td>\n      <td>NaN</td>\n      <td>NaN</td>\n      <td>6</td>\n      <td>1.57 x 1.57 x 0.24</td>\n      <td>Ryzen 5</td>\n      <td>NaN</td>\n      <td>None</td>\n      <td>None</td>\n      <td>1</td>\n      <td>ComputerCPU</td>\n    </tr>\n    <tr>\n      <th>1</th>\n      <td>B07B41WS48</td>\n      <td>AMD Ryzen 5 2600 Processor with Wraith Stealth...</td>\n      <td>NaN</td>\n      <td>AMD</td>\n      <td>NaN</td>\n      <td>NaN</td>\n      <td>NaN</td>\n      <td>DDR4 SDRAM</td>\n      <td>/*\\n* Fix for UDP-1061. Average customer revie...</td>\n      <td>April 13, 2018</td>\n      <td>...</td>\n      <td>NaN</td>\n      <td>NaN</td>\n      <td>6</td>\n      <td>1.6 x 1.6 x 0.3</td>\n      <td>NaN</td>\n      <td>802.11a</td>\n      <td>None</td>\n      <td>None</td>\n      <td>17</td>\n      <td>ComputerCPU</td>\n    </tr>\n    <tr>\n      <th>2</th>\n      <td>B089J731BX</td>\n      <td>Intel Core i9-9900K Desktop Processor 8 Cores ...</td>\n      <td>NaN</td>\n      <td>Intel</td>\n      <td>NaN</td>\n      <td>NaN</td>\n      <td>NaN</td>\n      <td>NaN</td>\n      <td>/*\\n* Fix for UDP-1061. Average customer revie...</td>\n      <td>June 1, 2020</td>\n      <td>...</td>\n      <td>NaN</td>\n      <td>NaN</td>\n      <td>1</td>\n      <td>6.3 x 10.24 x 3.15</td>\n      <td>NaN</td>\n      <td>NaN</td>\n      <td>DealsPro1</td>\n      <td>https://www.amazon.com/gp/help/seller/at-a-gla...</td>\n      <td>13</td>\n      <td>ComputerCPU</td>\n    </tr>\n    <tr>\n      <th>3</th>\n      <td>B07HHN6KBZ</td>\n      <td>Intel Core i7-9700K Desktop Processor 8 Cores ...</td>\n      <td>NaN</td>\n      <td>Intel</td>\n      <td>NaN</td>\n      <td>NaN</td>\n      <td>NaN</td>\n      <td>DDR4 SDRAM</td>\n      <td>/*\\n* Fix for UDP-1061. Average customer revie...</td>\n      <td>October 8, 2018</td>\n      <td>...</td>\n      <td>NaN</td>\n      <td>NaN</td>\n      <td>8</td>\n      <td>4.57 x 3.98 x 2.76</td>\n      <td>NaN</td>\n      <td>NaN</td>\n      <td>None</td>\n      <td>None</td>\n      <td>7</td>\n      <td>ComputerCPU</td>\n    </tr>\n    <tr>\n      <th>4</th>\n      <td>B08BKRZB4Z</td>\n      <td>Industrial Rugged Fanless Silent Mini PC Compu...</td>\n      <td>NaN</td>\n      <td>Intel</td>\n      <td>NaN</td>\n      <td>Intel</td>\n      <td>NaN</td>\n      <td>SODIMM</td>\n      <td>/*\\n* Fix for UDP-1061. Average customer revie...</td>\n      <td>June 26, 2020</td>\n      <td>...</td>\n      <td>Windows 10</td>\n      <td>DC</td>\n      <td>6</td>\n      <td>8 x 8 x 1.9</td>\n      <td>LITESHIELD 2.0</td>\n      <td>NaN</td>\n      <td>Critical Products LLC</td>\n      <td>https://www.amazon.com/gp/help/seller/at-a-gla...</td>\n      <td>290502</td>\n      <td>Computers</td>\n    </tr>\n    <tr>\n      <th>...</th>\n      <td>...</td>\n      <td>...</td>\n      <td>...</td>\n      <td>...</td>\n      <td>...</td>\n      <td>...</td>\n      <td>...</td>\n      <td>...</td>\n      <td>...</td>\n      <td>...</td>\n      <td>...</td>\n      <td>...</td>\n      <td>...</td>\n      <td>...</td>\n      <td>...</td>\n      <td>...</td>\n      <td>...</td>\n      <td>...</td>\n      <td>...</td>\n      <td>...</td>\n      <td>...</td>\n    </tr>\n    <tr>\n      <th>5884</th>\n      <td>B08GC6VFF2</td>\n      <td>YEELIYA PCIe USB 3.0 Card Type C USB Card Supe...</td>\n      <td></td>\n      <td>NaN</td>\n      <td>NaN</td>\n      <td>NaN</td>\n      <td>NaN</td>\n      <td>NaN</td>\n      <td>/*\\n* Fix for UDP-1061. Average customer revie...</td>\n      <td>August 20, 2020</td>\n      <td>...</td>\n      <td>NaN</td>\n      <td>NaN</td>\n      <td>&lt;NA&gt;</td>\n      <td>NaN</td>\n      <td>NaN</td>\n      <td>NaN</td>\n      <td>Yeeliya</td>\n      <td>https://www.amazon.com/gp/help/seller/at-a-gla...</td>\n      <td>62</td>\n      <td>InternalUSB</td>\n    </tr>\n    <tr>\n      <th>5885</th>\n      <td>B07BMV9WJ4</td>\n      <td>ASRock B360 Gaming K4 LGA1151/Intel B360/DDR4/...</td>\n      <td>NaN</td>\n      <td>ASRock</td>\n      <td>NaN</td>\n      <td>NaN</td>\n      <td>NaN</td>\n      <td>DDR4 SDRAM</td>\n      <td>/*\\n* Fix for UDP-1061. Average customer revie...</td>\n      <td>April 10, 2018</td>\n      <td>...</td>\n      <td>NaN</td>\n      <td>NaN</td>\n      <td>1</td>\n      <td>12 x 13 x 3 inches</td>\n      <td>NaN</td>\n      <td>Bluetooth</td>\n      <td>None</td>\n      <td>None</td>\n      <td>2254</td>\n      <td>ComputerMotherboards</td>\n    </tr>\n    <tr>\n      <th>5886</th>\n      <td>B08L6HXX2R</td>\n      <td>Used Like New Notebook Thinkpad T460 Ultrabook...</td>\n      <td>1 Lithium ion batteries required. (included)</td>\n      <td>N&amp;n</td>\n      <td>Integrated</td>\n      <td>Intel</td>\n      <td>NaN</td>\n      <td>DDR3L-1600 SDRAM</td>\n      <td>NaN</td>\n      <td>September 16, 2020</td>\n      <td>...</td>\n      <td>Windows</td>\n      <td>NaN</td>\n      <td>2</td>\n      <td>NaN</td>\n      <td>T460</td>\n      <td>802.11ac</td>\n      <td>None</td>\n      <td>None</td>\n      <td>67794</td>\n      <td>Computers</td>\n    </tr>\n    <tr>\n      <th>5887</th>\n      <td>B081R359ZM</td>\n      <td>Gigabyte Gv-N165SWF2OC-4GD GeForce GTX 1650 Su...</td>\n      <td>NaN</td>\n      <td>Gigabyte</td>\n      <td>Integrated</td>\n      <td>NVIDIA</td>\n      <td>NaN</td>\n      <td>NaN</td>\n      <td>/*\\n* Fix for UDP-1061. Average customer revie...</td>\n      <td>November 22, 2019</td>\n      <td>...</td>\n      <td>NaN</td>\n      <td>NaN</td>\n      <td>&lt;NA&gt;</td>\n      <td>8.86 x 4.69 x 1.57 inches</td>\n      <td>NaN</td>\n      <td>NaN</td>\n      <td>None</td>\n      <td>None</td>\n      <td>687</td>\n      <td>ComputerGraphics</td>\n    </tr>\n    <tr>\n      <th>5888</th>\n      <td>B07FKTSWNG</td>\n      <td>ASUS ROG Strix B450-I Gaming AMD AM4 (3rd/2nd ...</td>\n      <td>NaN</td>\n      <td>ASUS</td>\n      <td>NaN</td>\n      <td>NaN</td>\n      <td>NaN</td>\n      <td>DDR4 SDRAM</td>\n      <td>/*\\n* Fix for UDP-1061. Average customer revie...</td>\n      <td>July 27, 2018</td>\n      <td>...</td>\n      <td>NaN</td>\n      <td>NaN</td>\n      <td>&lt;NA&gt;</td>\n      <td>8.9 x 7.3 x 3.7 inches</td>\n      <td>ROG Strix B450-I Gaming</td>\n      <td>802.11a/b/g/n/ac, Bluetooth</td>\n      <td>DIO Japan</td>\n      <td>https://www.amazon.com/gp/help/seller/at-a-gla...</td>\n      <td>248</td>\n      <td>ComputerMotherboards</td>\n    </tr>\n  </tbody>\n</table>\n<p>5777 rows × 31 columns</p>\n</div>"
     },
     "metadata": {},
     "execution_count": 289
    }
   ],
   "source": [
    "processor"
   ]
  },
  {
   "cell_type": "code",
   "execution_count": 294,
   "metadata": {},
   "outputs": [
    {
     "output_type": "execute_result",
     "data": {
      "text/plain": [
       "(3501, 31)"
      ]
     },
     "metadata": {},
     "execution_count": 294
    }
   ],
   "source": [
    "processor.drop_duplicates(subset=\"ASIN\", inplace=True)\n",
    "processor = processor.reset_index(drop=True)\n",
    "processor.shape"
   ]
  },
  {
   "cell_type": "code",
   "execution_count": 296,
   "metadata": {},
   "outputs": [],
   "source": [
    "processor.to_csv(r\"C:\\Users\\Davide Della Valle\\Desktop\\CAB\\Project 3\\CAB-Processors\\product_processor.csv\", index=False)"
   ]
  },
  {
   "cell_type": "code",
   "execution_count": null,
   "metadata": {},
   "outputs": [],
   "source": []
  }
 ]
}