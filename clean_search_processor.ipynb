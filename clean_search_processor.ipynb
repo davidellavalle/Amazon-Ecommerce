{
 "metadata": {
  "language_info": {
   "codemirror_mode": {
    "name": "ipython",
    "version": 3
   },
   "file_extension": ".py",
   "mimetype": "text/x-python",
   "name": "python",
   "nbconvert_exporter": "python",
   "pygments_lexer": "ipython3",
   "version": "3.8.5-final"
  },
  "orig_nbformat": 2,
  "kernelspec": {
   "name": "python3",
   "display_name": "Python 3",
   "language": "python"
  }
 },
 "nbformat": 4,
 "nbformat_minor": 2,
 "cells": [
  {
   "cell_type": "code",
   "execution_count": 1,
   "metadata": {},
   "outputs": [],
   "source": [
    "import pandas as pd\n",
    "import numpy as np"
   ]
  },
  {
   "cell_type": "code",
   "execution_count": 2,
   "metadata": {},
   "outputs": [],
   "source": [
    "# create df from json file, after uploading json file in the related folder\n",
    "# In the previous step I had to validate the json file (jsonlint) and save it as .json \n",
    "\n",
    "df_pro= pd.read_json(r\"Scrape-Processors\\search_output_processor.json\")"
   ]
  },
  {
   "cell_type": "code",
   "execution_count": 3,
   "metadata": {},
   "outputs": [
    {
     "output_type": "execute_result",
     "data": {
      "text/plain": [
       "                                               title  \\\n",
       "0  AMD Ryzen 5 3600 6-Core, 12-Thread Unlocked De...   \n",
       "1  AMD Ryzen 5 2600 Processor with Wraith Stealth...   \n",
       "2  Intel Core i9-9900K Desktop Processor 8 Cores ...   \n",
       "3  Intel Core i7-9700K Desktop Processor 8 Cores ...   \n",
       "4  Industrial Rugged Fanless Silent Mini PC Compu...   \n",
       "\n",
       "                                                 url              rating  \\\n",
       "0  https://www.amazon.com/AMD-Ryzen-3600-12-Threa...  4.9 out of 5 stars   \n",
       "1  https://www.amazon.com/AMD-Processor-Wraith-St...  4.8 out of 5 stars   \n",
       "2  https://www.amazon.com/Intel-i9-9900K-Processo...  4.8 out of 5 stars   \n",
       "3  https://www.amazon.com/Intel-i7-9700K-Desktop-...  4.8 out of 5 stars   \n",
       "4  https://www.amazon.com/gp/slredirect/picassoRe...  4.5 out of 5 stars   \n",
       "\n",
       "  review_count    price  \n",
       "0       24,478  $199.99  \n",
       "1       17,603     None  \n",
       "2          397  $364.95  \n",
       "3        6,344  $319.90  \n",
       "4            2  $799.99  "
      ],
      "text/html": "<div>\n<style scoped>\n    .dataframe tbody tr th:only-of-type {\n        vertical-align: middle;\n    }\n\n    .dataframe tbody tr th {\n        vertical-align: top;\n    }\n\n    .dataframe thead th {\n        text-align: right;\n    }\n</style>\n<table border=\"1\" class=\"dataframe\">\n  <thead>\n    <tr style=\"text-align: right;\">\n      <th></th>\n      <th>title</th>\n      <th>url</th>\n      <th>rating</th>\n      <th>review_count</th>\n      <th>price</th>\n    </tr>\n  </thead>\n  <tbody>\n    <tr>\n      <th>0</th>\n      <td>AMD Ryzen 5 3600 6-Core, 12-Thread Unlocked De...</td>\n      <td>https://www.amazon.com/AMD-Ryzen-3600-12-Threa...</td>\n      <td>4.9 out of 5 stars</td>\n      <td>24,478</td>\n      <td>$199.99</td>\n    </tr>\n    <tr>\n      <th>1</th>\n      <td>AMD Ryzen 5 2600 Processor with Wraith Stealth...</td>\n      <td>https://www.amazon.com/AMD-Processor-Wraith-St...</td>\n      <td>4.8 out of 5 stars</td>\n      <td>17,603</td>\n      <td>None</td>\n    </tr>\n    <tr>\n      <th>2</th>\n      <td>Intel Core i9-9900K Desktop Processor 8 Cores ...</td>\n      <td>https://www.amazon.com/Intel-i9-9900K-Processo...</td>\n      <td>4.8 out of 5 stars</td>\n      <td>397</td>\n      <td>$364.95</td>\n    </tr>\n    <tr>\n      <th>3</th>\n      <td>Intel Core i7-9700K Desktop Processor 8 Cores ...</td>\n      <td>https://www.amazon.com/Intel-i7-9700K-Desktop-...</td>\n      <td>4.8 out of 5 stars</td>\n      <td>6,344</td>\n      <td>$319.90</td>\n    </tr>\n    <tr>\n      <th>4</th>\n      <td>Industrial Rugged Fanless Silent Mini PC Compu...</td>\n      <td>https://www.amazon.com/gp/slredirect/picassoRe...</td>\n      <td>4.5 out of 5 stars</td>\n      <td>2</td>\n      <td>$799.99</td>\n    </tr>\n  </tbody>\n</table>\n</div>"
     },
     "metadata": {},
     "execution_count": 3
    }
   ],
   "source": [
    "df_pro.head()"
   ]
  },
  {
   "cell_type": "code",
   "execution_count": 4,
   "metadata": {},
   "outputs": [
    {
     "output_type": "execute_result",
     "data": {
      "text/plain": [
       "title           object\n",
       "url             object\n",
       "rating          object\n",
       "review_count    object\n",
       "price           object\n",
       "dtype: object"
      ]
     },
     "metadata": {},
     "execution_count": 4
    }
   ],
   "source": [
    "# check the data type \n",
    "# I will need to modify these types to what they actually are: eg. after extracting the rating from the string I will then apply astype(float)\n",
    "\n",
    "df_pro.dtypes"
   ]
  },
  {
   "cell_type": "code",
   "execution_count": 7,
   "metadata": {},
   "outputs": [
    {
     "output_type": "execute_result",
     "data": {
      "text/plain": [
       "(5894, 5)"
      ]
     },
     "metadata": {},
     "execution_count": 7
    }
   ],
   "source": [
    "df_pro.shape"
   ]
  },
  {
   "cell_type": "code",
   "execution_count": 8,
   "metadata": {},
   "outputs": [
    {
     "output_type": "execute_result",
     "data": {
      "text/plain": [
       "title             0\n",
       "url               0\n",
       "rating          689\n",
       "review_count    689\n",
       "price           602\n",
       "dtype: int64"
      ]
     },
     "metadata": {},
     "execution_count": 8
    }
   ],
   "source": [
    "# for the moment I will just get rid of null (around 15% ot total values) data since my database is big enough...\n",
    "\n",
    "df_pro.isnull().sum()"
   ]
  },
  {
   "cell_type": "code",
   "execution_count": 9,
   "metadata": {},
   "outputs": [],
   "source": [
    "df_pro.dropna(inplace=True)"
   ]
  },
  {
   "cell_type": "code",
   "execution_count": 13,
   "metadata": {},
   "outputs": [],
   "source": [
    "# resetting index\n",
    "\n",
    "df_pro = df_pro.reset_index(drop=True)"
   ]
  },
  {
   "cell_type": "code",
   "execution_count": 14,
   "metadata": {},
   "outputs": [
    {
     "output_type": "execute_result",
     "data": {
      "text/plain": [
       "(4630, 5)"
      ]
     },
     "metadata": {},
     "execution_count": 14
    }
   ],
   "source": [
    "df_pro.shape"
   ]
  },
  {
   "cell_type": "code",
   "execution_count": 15,
   "metadata": {},
   "outputs": [
    {
     "output_type": "execute_result",
     "data": {
      "text/plain": [
       "0    4.9 out of 5 stars\n",
       "1    4.8 out of 5 stars\n",
       "2    4.8 out of 5 stars\n",
       "3    4.5 out of 5 stars\n",
       "4    4.6 out of 5 stars\n",
       "Name: rating, dtype: object"
      ]
     },
     "metadata": {},
     "execution_count": 15
    }
   ],
   "source": [
    "# keep just first element of column rating\n",
    "\n",
    "df_pro.rating.head()"
   ]
  },
  {
   "cell_type": "code",
   "execution_count": 16,
   "metadata": {},
   "outputs": [
    {
     "output_type": "execute_result",
     "data": {
      "text/plain": [
       "['4.9', 'out', 'of', '5', 'stars']"
      ]
     },
     "metadata": {},
     "execution_count": 16
    }
   ],
   "source": [
    "# all values in df_pro.rating are separated by a space\n",
    "\n",
    "df_pro.rating[0].split(\" \")"
   ]
  },
  {
   "cell_type": "code",
   "execution_count": 17,
   "metadata": {},
   "outputs": [
    {
     "output_type": "execute_result",
     "data": {
      "text/plain": [
       "'4.9'"
      ]
     },
     "metadata": {},
     "execution_count": 17
    }
   ],
   "source": [
    "# I am interested in keeping just the first one\n",
    "\n",
    "df_pro.rating[0].split(\" \")[0]"
   ]
  },
  {
   "cell_type": "code",
   "execution_count": 18,
   "metadata": {},
   "outputs": [
    {
     "output_type": "execute_result",
     "data": {
      "text/plain": [
       "                                               title  \\\n",
       "0  AMD Ryzen 5 3600 6-Core, 12-Thread Unlocked De...   \n",
       "1  Intel Core i9-9900K Desktop Processor 8 Cores ...   \n",
       "2  Intel Core i7-9700K Desktop Processor 8 Cores ...   \n",
       "3  Industrial Rugged Fanless Silent Mini PC Compu...   \n",
       "4  Intel BX80684I99900KF Intel Core i9-9900KF Des...   \n",
       "\n",
       "                                                 url rating review_count  \\\n",
       "0  https://www.amazon.com/AMD-Ryzen-3600-12-Threa...    4.9       24,478   \n",
       "1  https://www.amazon.com/Intel-i9-9900K-Processo...    4.8          397   \n",
       "2  https://www.amazon.com/Intel-i7-9700K-Desktop-...    4.8        6,344   \n",
       "3  https://www.amazon.com/gp/slredirect/picassoRe...    4.5            2   \n",
       "4  https://www.amazon.com/Intel-BX80684I99900KF-i...    4.6        1,165   \n",
       "\n",
       "     price  \n",
       "0  $199.99  \n",
       "1  $364.95  \n",
       "2  $319.90  \n",
       "3  $799.99  \n",
       "4  $379.99  "
      ],
      "text/html": "<div>\n<style scoped>\n    .dataframe tbody tr th:only-of-type {\n        vertical-align: middle;\n    }\n\n    .dataframe tbody tr th {\n        vertical-align: top;\n    }\n\n    .dataframe thead th {\n        text-align: right;\n    }\n</style>\n<table border=\"1\" class=\"dataframe\">\n  <thead>\n    <tr style=\"text-align: right;\">\n      <th></th>\n      <th>title</th>\n      <th>url</th>\n      <th>rating</th>\n      <th>review_count</th>\n      <th>price</th>\n    </tr>\n  </thead>\n  <tbody>\n    <tr>\n      <th>0</th>\n      <td>AMD Ryzen 5 3600 6-Core, 12-Thread Unlocked De...</td>\n      <td>https://www.amazon.com/AMD-Ryzen-3600-12-Threa...</td>\n      <td>4.9</td>\n      <td>24,478</td>\n      <td>$199.99</td>\n    </tr>\n    <tr>\n      <th>1</th>\n      <td>Intel Core i9-9900K Desktop Processor 8 Cores ...</td>\n      <td>https://www.amazon.com/Intel-i9-9900K-Processo...</td>\n      <td>4.8</td>\n      <td>397</td>\n      <td>$364.95</td>\n    </tr>\n    <tr>\n      <th>2</th>\n      <td>Intel Core i7-9700K Desktop Processor 8 Cores ...</td>\n      <td>https://www.amazon.com/Intel-i7-9700K-Desktop-...</td>\n      <td>4.8</td>\n      <td>6,344</td>\n      <td>$319.90</td>\n    </tr>\n    <tr>\n      <th>3</th>\n      <td>Industrial Rugged Fanless Silent Mini PC Compu...</td>\n      <td>https://www.amazon.com/gp/slredirect/picassoRe...</td>\n      <td>4.5</td>\n      <td>2</td>\n      <td>$799.99</td>\n    </tr>\n    <tr>\n      <th>4</th>\n      <td>Intel BX80684I99900KF Intel Core i9-9900KF Des...</td>\n      <td>https://www.amazon.com/Intel-BX80684I99900KF-i...</td>\n      <td>4.6</td>\n      <td>1,165</td>\n      <td>$379.99</td>\n    </tr>\n  </tbody>\n</table>\n</div>"
     },
     "metadata": {},
     "execution_count": 18
    }
   ],
   "source": [
    "# with the help of a lambda function and map I can substitute all values in df.rating\n",
    "\n",
    "df_pro.rating = df_pro.rating.map(lambda x: x.split(' ')[0])\n",
    "df_pro.head(5)"
   ]
  },
  {
   "cell_type": "code",
   "execution_count": 19,
   "metadata": {},
   "outputs": [],
   "source": [
    "# change data type\n",
    "\n",
    "df_pro.rating = df_pro.rating.astype(\"float\")"
   ]
  },
  {
   "cell_type": "code",
   "execution_count": 20,
   "metadata": {},
   "outputs": [
    {
     "output_type": "execute_result",
     "data": {
      "text/plain": [
       "'199.99'"
      ]
     },
     "metadata": {},
     "execution_count": 20
    }
   ],
   "source": [
    "# now it is the turn to clean the price column, I will just keep the number value\n",
    "\n",
    "df_pro.price[0].split(\"$\")[1]"
   ]
  },
  {
   "cell_type": "code",
   "execution_count": 21,
   "metadata": {},
   "outputs": [
    {
     "output_type": "execute_result",
     "data": {
      "text/plain": [
       "                                               title  \\\n",
       "0  AMD Ryzen 5 3600 6-Core, 12-Thread Unlocked De...   \n",
       "1  Intel Core i9-9900K Desktop Processor 8 Cores ...   \n",
       "2  Intel Core i7-9700K Desktop Processor 8 Cores ...   \n",
       "3  Industrial Rugged Fanless Silent Mini PC Compu...   \n",
       "4  Intel BX80684I99900KF Intel Core i9-9900KF Des...   \n",
       "\n",
       "                                                 url  rating review_count  \\\n",
       "0  https://www.amazon.com/AMD-Ryzen-3600-12-Threa...     4.9       24,478   \n",
       "1  https://www.amazon.com/Intel-i9-9900K-Processo...     4.8          397   \n",
       "2  https://www.amazon.com/Intel-i7-9700K-Desktop-...     4.8        6,344   \n",
       "3  https://www.amazon.com/gp/slredirect/picassoRe...     4.5            2   \n",
       "4  https://www.amazon.com/Intel-BX80684I99900KF-i...     4.6        1,165   \n",
       "\n",
       "    price  \n",
       "0  199.99  \n",
       "1  364.95  \n",
       "2  319.90  \n",
       "3  799.99  \n",
       "4  379.99  "
      ],
      "text/html": "<div>\n<style scoped>\n    .dataframe tbody tr th:only-of-type {\n        vertical-align: middle;\n    }\n\n    .dataframe tbody tr th {\n        vertical-align: top;\n    }\n\n    .dataframe thead th {\n        text-align: right;\n    }\n</style>\n<table border=\"1\" class=\"dataframe\">\n  <thead>\n    <tr style=\"text-align: right;\">\n      <th></th>\n      <th>title</th>\n      <th>url</th>\n      <th>rating</th>\n      <th>review_count</th>\n      <th>price</th>\n    </tr>\n  </thead>\n  <tbody>\n    <tr>\n      <th>0</th>\n      <td>AMD Ryzen 5 3600 6-Core, 12-Thread Unlocked De...</td>\n      <td>https://www.amazon.com/AMD-Ryzen-3600-12-Threa...</td>\n      <td>4.9</td>\n      <td>24,478</td>\n      <td>199.99</td>\n    </tr>\n    <tr>\n      <th>1</th>\n      <td>Intel Core i9-9900K Desktop Processor 8 Cores ...</td>\n      <td>https://www.amazon.com/Intel-i9-9900K-Processo...</td>\n      <td>4.8</td>\n      <td>397</td>\n      <td>364.95</td>\n    </tr>\n    <tr>\n      <th>2</th>\n      <td>Intel Core i7-9700K Desktop Processor 8 Cores ...</td>\n      <td>https://www.amazon.com/Intel-i7-9700K-Desktop-...</td>\n      <td>4.8</td>\n      <td>6,344</td>\n      <td>319.90</td>\n    </tr>\n    <tr>\n      <th>3</th>\n      <td>Industrial Rugged Fanless Silent Mini PC Compu...</td>\n      <td>https://www.amazon.com/gp/slredirect/picassoRe...</td>\n      <td>4.5</td>\n      <td>2</td>\n      <td>799.99</td>\n    </tr>\n    <tr>\n      <th>4</th>\n      <td>Intel BX80684I99900KF Intel Core i9-9900KF Des...</td>\n      <td>https://www.amazon.com/Intel-BX80684I99900KF-i...</td>\n      <td>4.6</td>\n      <td>1,165</td>\n      <td>379.99</td>\n    </tr>\n  </tbody>\n</table>\n</div>"
     },
     "metadata": {},
     "execution_count": 21
    }
   ],
   "source": [
    "df_pro.price = df_pro.price.map(lambda x : x.split(\"$\")[1])\n",
    "df_pro.head()"
   ]
  },
  {
   "cell_type": "code",
   "execution_count": 28,
   "metadata": {},
   "outputs": [
    {
     "output_type": "execute_result",
     "data": {
      "text/plain": [
       "                                                  title  \\\n",
       "3850  Samsung Galaxy Note 10+ Plus Factory Unlocked ...   \n",
       "3544  Samsung Galaxy Note 10+ Plus Factory Unlocked ...   \n",
       "3584  GPD Win Max [512GB SSD Storage] Mini Handheld ...   \n",
       "3810  Lenovo ThinkPad T495 20NJ0007US 14\" Touchscree...   \n",
       "1798  Microsoft Surface Book 2 13.5\"(Intel Core i5, ...   \n",
       "\n",
       "                                                    url  rating review_count  \\\n",
       "3850  https://www.amazon.com/Samsung-Galaxy-Factory-...     4.6          380   \n",
       "3544  https://www.amazon.com/Samsung-Galaxy-Factory-...     4.6          380   \n",
       "3584  https://www.amazon.com/Storage-Handheld-Gamepl...     4.4           37   \n",
       "3810  https://www.amazon.com/Lenovo-ThinkPad-20NJ000...     4.3            5   \n",
       "1798  https://www.amazon.com/Microsoft-Surface-HMW-0...     4.2          906   \n",
       "\n",
       "         price  \n",
       "3850  1,019.35  \n",
       "3544  1,019.35  \n",
       "3584  1,019.99  \n",
       "3810  1,029.99  \n",
       "1798  1,029.99  "
      ],
      "text/html": "<div>\n<style scoped>\n    .dataframe tbody tr th:only-of-type {\n        vertical-align: middle;\n    }\n\n    .dataframe tbody tr th {\n        vertical-align: top;\n    }\n\n    .dataframe thead th {\n        text-align: right;\n    }\n</style>\n<table border=\"1\" class=\"dataframe\">\n  <thead>\n    <tr style=\"text-align: right;\">\n      <th></th>\n      <th>title</th>\n      <th>url</th>\n      <th>rating</th>\n      <th>review_count</th>\n      <th>price</th>\n    </tr>\n  </thead>\n  <tbody>\n    <tr>\n      <th>3850</th>\n      <td>Samsung Galaxy Note 10+ Plus Factory Unlocked ...</td>\n      <td>https://www.amazon.com/Samsung-Galaxy-Factory-...</td>\n      <td>4.6</td>\n      <td>380</td>\n      <td>1,019.35</td>\n    </tr>\n    <tr>\n      <th>3544</th>\n      <td>Samsung Galaxy Note 10+ Plus Factory Unlocked ...</td>\n      <td>https://www.amazon.com/Samsung-Galaxy-Factory-...</td>\n      <td>4.6</td>\n      <td>380</td>\n      <td>1,019.35</td>\n    </tr>\n    <tr>\n      <th>3584</th>\n      <td>GPD Win Max [512GB SSD Storage] Mini Handheld ...</td>\n      <td>https://www.amazon.com/Storage-Handheld-Gamepl...</td>\n      <td>4.4</td>\n      <td>37</td>\n      <td>1,019.99</td>\n    </tr>\n    <tr>\n      <th>3810</th>\n      <td>Lenovo ThinkPad T495 20NJ0007US 14\" Touchscree...</td>\n      <td>https://www.amazon.com/Lenovo-ThinkPad-20NJ000...</td>\n      <td>4.3</td>\n      <td>5</td>\n      <td>1,029.99</td>\n    </tr>\n    <tr>\n      <th>1798</th>\n      <td>Microsoft Surface Book 2 13.5\"(Intel Core i5, ...</td>\n      <td>https://www.amazon.com/Microsoft-Surface-HMW-0...</td>\n      <td>4.2</td>\n      <td>906</td>\n      <td>1,029.99</td>\n    </tr>\n  </tbody>\n</table>\n</div>"
     },
     "metadata": {},
     "execution_count": 28
    }
   ],
   "source": [
    "# sorting values by price and noting that thousands are represented by a comma, it needs to be removed\n",
    "\n",
    "df_pro.sort_values(by=[\"price\"]).head()"
   ]
  },
  {
   "cell_type": "code",
   "execution_count": 29,
   "metadata": {},
   "outputs": [],
   "source": [
    "# removing commas from price column\n",
    "\n",
    "df_pro.price = df_pro.price.str.replace(\",\",\"\")"
   ]
  },
  {
   "cell_type": "code",
   "execution_count": 30,
   "metadata": {},
   "outputs": [
    {
     "output_type": "execute_result",
     "data": {
      "text/plain": [
       "                                                  title  \\\n",
       "0     AMD Ryzen 5 3600 6-Core, 12-Thread Unlocked De...   \n",
       "1     Intel Core i9-9900K Desktop Processor 8 Cores ...   \n",
       "2     Intel Core i7-9700K Desktop Processor 8 Cores ...   \n",
       "3     Industrial Rugged Fanless Silent Mini PC Compu...   \n",
       "4     Intel BX80684I99900KF Intel Core i9-9900KF Des...   \n",
       "...                                                 ...   \n",
       "4625  KEYESTUDIO 5V DCAC 4-Channel Relay Shield Modu...   \n",
       "4626  uxcell Antistatic Shield Shielding Bag, Flat O...   \n",
       "4627  Razer Blade 15 Studio Edition Laptop 2020: Int...   \n",
       "4628  YEELIYA PCIe USB 3.0 Card Type C USB Card Supe...   \n",
       "4629  ASUS ROG Strix B450-I Gaming AMD AM4 (3rd/2nd ...   \n",
       "\n",
       "                                                    url  rating review_count  \\\n",
       "0     https://www.amazon.com/AMD-Ryzen-3600-12-Threa...     4.9       24,478   \n",
       "1     https://www.amazon.com/Intel-i9-9900K-Processo...     4.8          397   \n",
       "2     https://www.amazon.com/Intel-i7-9700K-Desktop-...     4.8        6,344   \n",
       "3     https://www.amazon.com/gp/slredirect/picassoRe...     4.5            2   \n",
       "4     https://www.amazon.com/Intel-BX80684I99900KF-i...     4.6        1,165   \n",
       "...                                                 ...     ...          ...   \n",
       "4625  https://www.amazon.com/KEYESTUDIO-4-Channel-Sh...     4.4           88   \n",
       "4626  https://www.amazon.com/uxcell-Antistatic-Shiel...     5.0            1   \n",
       "4627  https://www.amazon.com/Razer-Blade-Studio-Lapt...     4.5           13   \n",
       "4628  https://www.amazon.com/YEELIYA-PCIe-Superspeed...     4.0           22   \n",
       "4629  https://www.amazon.com/ROG-Strix-B450-I-Gaming...     4.6          560   \n",
       "\n",
       "        price  \n",
       "0      199.99  \n",
       "1      364.95  \n",
       "2      319.90  \n",
       "3      799.99  \n",
       "4      379.99  \n",
       "...       ...  \n",
       "4625     8.99  \n",
       "4626    11.99  \n",
       "4627  3799.99  \n",
       "4628    27.99  \n",
       "4629   271.00  \n",
       "\n",
       "[4630 rows x 5 columns]"
      ],
      "text/html": "<div>\n<style scoped>\n    .dataframe tbody tr th:only-of-type {\n        vertical-align: middle;\n    }\n\n    .dataframe tbody tr th {\n        vertical-align: top;\n    }\n\n    .dataframe thead th {\n        text-align: right;\n    }\n</style>\n<table border=\"1\" class=\"dataframe\">\n  <thead>\n    <tr style=\"text-align: right;\">\n      <th></th>\n      <th>title</th>\n      <th>url</th>\n      <th>rating</th>\n      <th>review_count</th>\n      <th>price</th>\n    </tr>\n  </thead>\n  <tbody>\n    <tr>\n      <th>0</th>\n      <td>AMD Ryzen 5 3600 6-Core, 12-Thread Unlocked De...</td>\n      <td>https://www.amazon.com/AMD-Ryzen-3600-12-Threa...</td>\n      <td>4.9</td>\n      <td>24,478</td>\n      <td>199.99</td>\n    </tr>\n    <tr>\n      <th>1</th>\n      <td>Intel Core i9-9900K Desktop Processor 8 Cores ...</td>\n      <td>https://www.amazon.com/Intel-i9-9900K-Processo...</td>\n      <td>4.8</td>\n      <td>397</td>\n      <td>364.95</td>\n    </tr>\n    <tr>\n      <th>2</th>\n      <td>Intel Core i7-9700K Desktop Processor 8 Cores ...</td>\n      <td>https://www.amazon.com/Intel-i7-9700K-Desktop-...</td>\n      <td>4.8</td>\n      <td>6,344</td>\n      <td>319.90</td>\n    </tr>\n    <tr>\n      <th>3</th>\n      <td>Industrial Rugged Fanless Silent Mini PC Compu...</td>\n      <td>https://www.amazon.com/gp/slredirect/picassoRe...</td>\n      <td>4.5</td>\n      <td>2</td>\n      <td>799.99</td>\n    </tr>\n    <tr>\n      <th>4</th>\n      <td>Intel BX80684I99900KF Intel Core i9-9900KF Des...</td>\n      <td>https://www.amazon.com/Intel-BX80684I99900KF-i...</td>\n      <td>4.6</td>\n      <td>1,165</td>\n      <td>379.99</td>\n    </tr>\n    <tr>\n      <th>...</th>\n      <td>...</td>\n      <td>...</td>\n      <td>...</td>\n      <td>...</td>\n      <td>...</td>\n    </tr>\n    <tr>\n      <th>4625</th>\n      <td>KEYESTUDIO 5V DCAC 4-Channel Relay Shield Modu...</td>\n      <td>https://www.amazon.com/KEYESTUDIO-4-Channel-Sh...</td>\n      <td>4.4</td>\n      <td>88</td>\n      <td>8.99</td>\n    </tr>\n    <tr>\n      <th>4626</th>\n      <td>uxcell Antistatic Shield Shielding Bag, Flat O...</td>\n      <td>https://www.amazon.com/uxcell-Antistatic-Shiel...</td>\n      <td>5.0</td>\n      <td>1</td>\n      <td>11.99</td>\n    </tr>\n    <tr>\n      <th>4627</th>\n      <td>Razer Blade 15 Studio Edition Laptop 2020: Int...</td>\n      <td>https://www.amazon.com/Razer-Blade-Studio-Lapt...</td>\n      <td>4.5</td>\n      <td>13</td>\n      <td>3799.99</td>\n    </tr>\n    <tr>\n      <th>4628</th>\n      <td>YEELIYA PCIe USB 3.0 Card Type C USB Card Supe...</td>\n      <td>https://www.amazon.com/YEELIYA-PCIe-Superspeed...</td>\n      <td>4.0</td>\n      <td>22</td>\n      <td>27.99</td>\n    </tr>\n    <tr>\n      <th>4629</th>\n      <td>ASUS ROG Strix B450-I Gaming AMD AM4 (3rd/2nd ...</td>\n      <td>https://www.amazon.com/ROG-Strix-B450-I-Gaming...</td>\n      <td>4.6</td>\n      <td>560</td>\n      <td>271.00</td>\n    </tr>\n  </tbody>\n</table>\n<p>4630 rows × 5 columns</p>\n</div>"
     },
     "metadata": {},
     "execution_count": 30
    }
   ],
   "source": [
    "df_pro"
   ]
  },
  {
   "cell_type": "code",
   "execution_count": 31,
   "metadata": {},
   "outputs": [],
   "source": [
    "# removing commas from review_count as well\n",
    "\n",
    "df_pro.review_count=df_pro.review_count.str.replace(\",\",\"\")"
   ]
  },
  {
   "cell_type": "code",
   "execution_count": 21,
   "metadata": {},
   "outputs": [
    {
     "output_type": "execute_result",
     "data": {
      "text/plain": [
       "                                                  title  \\\n",
       "0     AMD Ryzen 5 3600 6-Core, 12-Thread Unlocked De...   \n",
       "1     Intel Core i9-9900K Desktop Processor 8 Cores ...   \n",
       "2     Intel Core i7-9700K Desktop Processor 8 Cores ...   \n",
       "3     Industrial Rugged Fanless Silent Mini PC Compu...   \n",
       "4     Intel BX80684I99900KF Intel Core i9-9900KF Des...   \n",
       "...                                                 ...   \n",
       "4625  KEYESTUDIO 5V DCAC 4-Channel Relay Shield Modu...   \n",
       "4626  uxcell Antistatic Shield Shielding Bag, Flat O...   \n",
       "4627  Razer Blade 15 Studio Edition Laptop 2020: Int...   \n",
       "4628  YEELIYA PCIe USB 3.0 Card Type C USB Card Supe...   \n",
       "4629  ASUS ROG Strix B450-I Gaming AMD AM4 (3rd/2nd ...   \n",
       "\n",
       "                                                    url  rating  review_count  \\\n",
       "0     https://www.amazon.com/AMD-Ryzen-3600-12-Threa...     4.9         24478   \n",
       "1     https://www.amazon.com/Intel-i9-9900K-Processo...     4.8           397   \n",
       "2     https://www.amazon.com/Intel-i7-9700K-Desktop-...     4.8          6344   \n",
       "3     https://www.amazon.com/gp/slredirect/picassoRe...     4.5             2   \n",
       "4     https://www.amazon.com/Intel-BX80684I99900KF-i...     4.6          1165   \n",
       "...                                                 ...     ...           ...   \n",
       "4625  https://www.amazon.com/KEYESTUDIO-4-Channel-Sh...     4.4            88   \n",
       "4626  https://www.amazon.com/uxcell-Antistatic-Shiel...     5.0             1   \n",
       "4627  https://www.amazon.com/Razer-Blade-Studio-Lapt...     4.5            13   \n",
       "4628  https://www.amazon.com/YEELIYA-PCIe-Superspeed...     4.0            22   \n",
       "4629  https://www.amazon.com/ROG-Strix-B450-I-Gaming...     4.6           560   \n",
       "\n",
       "        price  \n",
       "0      199.99  \n",
       "1      364.95  \n",
       "2      319.90  \n",
       "3      799.99  \n",
       "4      379.99  \n",
       "...       ...  \n",
       "4625     8.99  \n",
       "4626    11.99  \n",
       "4627  3799.99  \n",
       "4628    27.99  \n",
       "4629   271.00  \n",
       "\n",
       "[4630 rows x 5 columns]"
      ],
      "text/html": "<div>\n<style scoped>\n    .dataframe tbody tr th:only-of-type {\n        vertical-align: middle;\n    }\n\n    .dataframe tbody tr th {\n        vertical-align: top;\n    }\n\n    .dataframe thead th {\n        text-align: right;\n    }\n</style>\n<table border=\"1\" class=\"dataframe\">\n  <thead>\n    <tr style=\"text-align: right;\">\n      <th></th>\n      <th>title</th>\n      <th>url</th>\n      <th>rating</th>\n      <th>review_count</th>\n      <th>price</th>\n    </tr>\n  </thead>\n  <tbody>\n    <tr>\n      <th>0</th>\n      <td>AMD Ryzen 5 3600 6-Core, 12-Thread Unlocked De...</td>\n      <td>https://www.amazon.com/AMD-Ryzen-3600-12-Threa...</td>\n      <td>4.9</td>\n      <td>24478</td>\n      <td>199.99</td>\n    </tr>\n    <tr>\n      <th>1</th>\n      <td>Intel Core i9-9900K Desktop Processor 8 Cores ...</td>\n      <td>https://www.amazon.com/Intel-i9-9900K-Processo...</td>\n      <td>4.8</td>\n      <td>397</td>\n      <td>364.95</td>\n    </tr>\n    <tr>\n      <th>2</th>\n      <td>Intel Core i7-9700K Desktop Processor 8 Cores ...</td>\n      <td>https://www.amazon.com/Intel-i7-9700K-Desktop-...</td>\n      <td>4.8</td>\n      <td>6344</td>\n      <td>319.90</td>\n    </tr>\n    <tr>\n      <th>3</th>\n      <td>Industrial Rugged Fanless Silent Mini PC Compu...</td>\n      <td>https://www.amazon.com/gp/slredirect/picassoRe...</td>\n      <td>4.5</td>\n      <td>2</td>\n      <td>799.99</td>\n    </tr>\n    <tr>\n      <th>4</th>\n      <td>Intel BX80684I99900KF Intel Core i9-9900KF Des...</td>\n      <td>https://www.amazon.com/Intel-BX80684I99900KF-i...</td>\n      <td>4.6</td>\n      <td>1165</td>\n      <td>379.99</td>\n    </tr>\n    <tr>\n      <th>...</th>\n      <td>...</td>\n      <td>...</td>\n      <td>...</td>\n      <td>...</td>\n      <td>...</td>\n    </tr>\n    <tr>\n      <th>4625</th>\n      <td>KEYESTUDIO 5V DCAC 4-Channel Relay Shield Modu...</td>\n      <td>https://www.amazon.com/KEYESTUDIO-4-Channel-Sh...</td>\n      <td>4.4</td>\n      <td>88</td>\n      <td>8.99</td>\n    </tr>\n    <tr>\n      <th>4626</th>\n      <td>uxcell Antistatic Shield Shielding Bag, Flat O...</td>\n      <td>https://www.amazon.com/uxcell-Antistatic-Shiel...</td>\n      <td>5.0</td>\n      <td>1</td>\n      <td>11.99</td>\n    </tr>\n    <tr>\n      <th>4627</th>\n      <td>Razer Blade 15 Studio Edition Laptop 2020: Int...</td>\n      <td>https://www.amazon.com/Razer-Blade-Studio-Lapt...</td>\n      <td>4.5</td>\n      <td>13</td>\n      <td>3799.99</td>\n    </tr>\n    <tr>\n      <th>4628</th>\n      <td>YEELIYA PCIe USB 3.0 Card Type C USB Card Supe...</td>\n      <td>https://www.amazon.com/YEELIYA-PCIe-Superspeed...</td>\n      <td>4.0</td>\n      <td>22</td>\n      <td>27.99</td>\n    </tr>\n    <tr>\n      <th>4629</th>\n      <td>ASUS ROG Strix B450-I Gaming AMD AM4 (3rd/2nd ...</td>\n      <td>https://www.amazon.com/ROG-Strix-B450-I-Gaming...</td>\n      <td>4.6</td>\n      <td>560</td>\n      <td>271.00</td>\n    </tr>\n  </tbody>\n</table>\n<p>4630 rows × 5 columns</p>\n</div>"
     },
     "metadata": {},
     "execution_count": 21
    }
   ],
   "source": [
    "# changing data type\n",
    "\n",
    "df_pro.review_count=df_pro.review_count.astype(\"int\")\n",
    "df_pro.price=df_pro.price.astype(\"float\")"
   ]
  },
  {
   "cell_type": "code",
   "execution_count": 22,
   "metadata": {},
   "outputs": [
    {
     "output_type": "execute_result",
     "data": {
      "text/plain": [
       "title            object\n",
       "url              object\n",
       "rating          float64\n",
       "review_count      int32\n",
       "price           float64\n",
       "dtype: object"
      ]
     },
     "metadata": {},
     "execution_count": 22
    }
   ],
   "source": [
    "df_pro.dtypes"
   ]
  },
  {
   "cell_type": "code",
   "execution_count": 43,
   "metadata": {},
   "outputs": [],
   "source": [
    "df_pro = df_pro.rename(columns={\"title\":\"name\"})"
   ]
  },
  {
   "cell_type": "code",
   "execution_count": 24,
   "metadata": {},
   "outputs": [],
   "source": [
    "# Adding column with product type to make sure all processors are easy to recognize when merging this df with the others referring to the other 7 product types\n",
    "\n",
    "df_pro[\"product_type\"] = \"processor\""
   ]
  },
  {
   "cell_type": "code",
   "execution_count": 32,
   "metadata": {},
   "outputs": [
    {
     "output_type": "execute_result",
     "data": {
      "text/plain": [
       "'https://www.amazon.com/AMD-Ryzen-3600-12-Thread-Processor/dp/B07STGGQ18/ref=sr_1_1?dchild=1&keywords=processor&qid=1611487411&s=electronics&sr=1-1'"
      ]
     },
     "metadata": {},
     "execution_count": 32
    }
   ],
   "source": [
    "# A part of the url is the Asin - here B07ST....\n",
    "\n",
    "urls = df_pro['url']\n",
    "urls[0]"
   ]
  },
  {
   "cell_type": "code",
   "execution_count": 34,
   "metadata": {},
   "outputs": [
    {
     "output_type": "execute_result",
     "data": {
      "text/plain": [
       "       c1              c2                                                 c3  \\\n",
       "0  https:  www.amazon.com                 AMD-Ryzen-3600-12-Thread-Processor   \n",
       "1  https:  www.amazon.com     Intel-i9-9900K-Processor-Unlocked-BX806849900K   \n",
       "2  https:  www.amazon.com          Intel-i7-9700K-Desktop-Processor-Unlocked   \n",
       "3  https:  www.amazon.com                                                 gp   \n",
       "4  https:  www.amazon.com  Intel-BX80684I99900KF-i9-9900KF-Processor-Unlo...   \n",
       "\n",
       "           c4                    c5  \\\n",
       "0          dp            B07STGGQ18   \n",
       "1          dp            B089J731BX   \n",
       "2          dp            B07HHN6KBZ   \n",
       "3  slredirect  picassoRedirect.html   \n",
       "4          dp            B07MGBZWDZ   \n",
       "\n",
       "                                                  c6  \n",
       "0  ref=sr_1_1?dchild=1&keywords=processor&qid=161...  \n",
       "1  ref=sr_1_3?dchild=1&keywords=processor&qid=161...  \n",
       "2  ref=sr_1_4?dchild=1&keywords=processor&qid=161...  \n",
       "3  ref=pa_sp_mtf_electronics-intl-ship_sr_pg1_1?i...  \n",
       "4  ref=sr_1_8?dchild=1&keywords=processor&qid=161...  "
      ],
      "text/html": "<div>\n<style scoped>\n    .dataframe tbody tr th:only-of-type {\n        vertical-align: middle;\n    }\n\n    .dataframe tbody tr th {\n        vertical-align: top;\n    }\n\n    .dataframe thead th {\n        text-align: right;\n    }\n</style>\n<table border=\"1\" class=\"dataframe\">\n  <thead>\n    <tr style=\"text-align: right;\">\n      <th></th>\n      <th>c1</th>\n      <th>c2</th>\n      <th>c3</th>\n      <th>c4</th>\n      <th>c5</th>\n      <th>c6</th>\n    </tr>\n  </thead>\n  <tbody>\n    <tr>\n      <th>0</th>\n      <td>https:</td>\n      <td>www.amazon.com</td>\n      <td>AMD-Ryzen-3600-12-Thread-Processor</td>\n      <td>dp</td>\n      <td>B07STGGQ18</td>\n      <td>ref=sr_1_1?dchild=1&amp;keywords=processor&amp;qid=161...</td>\n    </tr>\n    <tr>\n      <th>1</th>\n      <td>https:</td>\n      <td>www.amazon.com</td>\n      <td>Intel-i9-9900K-Processor-Unlocked-BX806849900K</td>\n      <td>dp</td>\n      <td>B089J731BX</td>\n      <td>ref=sr_1_3?dchild=1&amp;keywords=processor&amp;qid=161...</td>\n    </tr>\n    <tr>\n      <th>2</th>\n      <td>https:</td>\n      <td>www.amazon.com</td>\n      <td>Intel-i7-9700K-Desktop-Processor-Unlocked</td>\n      <td>dp</td>\n      <td>B07HHN6KBZ</td>\n      <td>ref=sr_1_4?dchild=1&amp;keywords=processor&amp;qid=161...</td>\n    </tr>\n    <tr>\n      <th>3</th>\n      <td>https:</td>\n      <td>www.amazon.com</td>\n      <td>gp</td>\n      <td>slredirect</td>\n      <td>picassoRedirect.html</td>\n      <td>ref=pa_sp_mtf_electronics-intl-ship_sr_pg1_1?i...</td>\n    </tr>\n    <tr>\n      <th>4</th>\n      <td>https:</td>\n      <td>www.amazon.com</td>\n      <td>Intel-BX80684I99900KF-i9-9900KF-Processor-Unlo...</td>\n      <td>dp</td>\n      <td>B07MGBZWDZ</td>\n      <td>ref=sr_1_8?dchild=1&amp;keywords=processor&amp;qid=161...</td>\n    </tr>\n  </tbody>\n</table>\n</div>"
     },
     "metadata": {},
     "execution_count": 34
    }
   ],
   "source": [
    "# At first split the urls after the slash and create a new df with al values, C5 is the value that I am interested on. But are all Asins to be found there? At index 3 is already to be noticed that the vaue is not representing the Asin\n",
    "\n",
    "cols = ['c1', 'c2', 'c3', 'c4','c5','c6']\n",
    "make_me = []\n",
    "for url in urls:\n",
    "    lst = url.split(\"/\")\n",
    "    make_me.append([x for x in lst if not x.isdigit() and not x == \"\"])\n",
    "    \n",
    "\n",
    "df8 = pd.DataFrame(make_me, columns=cols)\n",
    "df8.head()"
   ]
  },
  {
   "cell_type": "code",
   "execution_count": 35,
   "metadata": {},
   "outputs": [
    {
     "output_type": "execute_result",
     "data": {
      "text/plain": [
       "0                 B07STGGQ18\n",
       "1                 B089J731BX\n",
       "2                 B07HHN6KBZ\n",
       "3       picassoRedirect.html\n",
       "4                 B07MGBZWDZ\n",
       "                ...         \n",
       "4625              B072XGF4Z3\n",
       "4626              B07PWW1853\n",
       "4627              B086MP21NF\n",
       "4628              B08GC6VFF2\n",
       "4629              B07FKTSWNG\n",
       "Name: c5, Length: 4630, dtype: object"
      ]
     },
     "metadata": {},
     "execution_count": 35
    }
   ],
   "source": [
    "abc = df8['c5']\n",
    "abc"
   ]
  },
  {
   "cell_type": "code",
   "execution_count": 36,
   "metadata": {},
   "outputs": [
    {
     "output_type": "execute_result",
     "data": {
      "text/plain": [
       "'ref=pa_sp_mtf_electronics-intl-ship_sr_pg1_1?ie=UTF8&adId=A087283228KAX2P8HWE7E&url=%2FIndustrial-Fanless-Computer-Threads-i5-8500T%2Fdp%2FB08BKRZB4Z%2Fref%3Dsr_1_5_sspa%3Fdchild%3D1%26keywords%3Dprocessor%26qid%3D1611487411%26s%3Delectronics%26sr%3D1-5-spons%26psc%3D1&qualifier=1611487411&id=5533003305133859&widgetName=sp_mtf'"
      ]
     },
     "metadata": {},
     "execution_count": 36
    }
   ],
   "source": [
    "# Check on index 3, ASin wasn'T to be found in first 5 columns but it appears in the C6. It comes after \"%2\"\n",
    "\n",
    "df8['c6'][3]"
   ]
  },
  {
   "cell_type": "code",
   "execution_count": 44,
   "metadata": {},
   "outputs": [
    {
     "output_type": "execute_result",
     "data": {
      "text/plain": [
       "                                                     c1  \\\n",
       "0     https://www.amazon.com/AMD-Ryzen-3600-12-Threa...   \n",
       "1     https://www.amazon.com/Intel-i9-9900K-Processo...   \n",
       "2     https://www.amazon.com/Intel-i7-9700K-Desktop-...   \n",
       "3     https://www.amazon.com/gp/slredirect/picassoRe...   \n",
       "4     https://www.amazon.com/Intel-BX80684I99900KF-i...   \n",
       "...                                                 ...   \n",
       "4625  https://www.amazon.com/KEYESTUDIO-4-Channel-Sh...   \n",
       "4626  https://www.amazon.com/uxcell-Antistatic-Shiel...   \n",
       "4627  https://www.amazon.com/Razer-Blade-Studio-Lapt...   \n",
       "4628  https://www.amazon.com/YEELIYA-PCIe-Superspeed...   \n",
       "4629  https://www.amazon.com/ROG-Strix-B450-I-Gaming...   \n",
       "\n",
       "                                                 c2    c3           d4  \\\n",
       "0                                              None  None         None   \n",
       "1                                              None  None         None   \n",
       "2                                              None  None         None   \n",
       "3     FIndustrial-Fanless-Computer-Threads-i5-8500T   Fdp  FB08BKRZB4Z   \n",
       "4                                              None  None         None   \n",
       "...                                             ...   ...          ...   \n",
       "4625                                           None  None         None   \n",
       "4626                                           None  None         None   \n",
       "4627                                           None  None         None   \n",
       "4628                                           None  None         None   \n",
       "4629                                           None  None         None   \n",
       "\n",
       "                                   c5                     c6  \\\n",
       "0                                None                   None   \n",
       "1                                None                   None   \n",
       "2                                None                   None   \n",
       "3     Fref%3Dsr_1_5_sspa%3Fdchild%3D1  6keywords%3Dprocessor   \n",
       "4                                None                   None   \n",
       "...                               ...                    ...   \n",
       "4625                             None                   None   \n",
       "4626                             None                   None   \n",
       "4627                             None                   None   \n",
       "4628                             None                   None   \n",
       "4629                             None                   None   \n",
       "\n",
       "                     c7                c8               c9  \\\n",
       "0                  None              None             None   \n",
       "1                  None              None             None   \n",
       "2                  None              None             None   \n",
       "3     6qid%3D1611487411  6s%3Delectronics  6sr%3D1-5-spons   \n",
       "4                  None              None             None   \n",
       "...                 ...               ...              ...   \n",
       "4625               None              None             None   \n",
       "4626               None              None             None   \n",
       "4627               None              None             None   \n",
       "4628               None              None             None   \n",
       "4629               None              None             None   \n",
       "\n",
       "                                                    c10   c11  \n",
       "0                                                  None  None  \n",
       "1                                                  None  None  \n",
       "2                                                  None  None  \n",
       "3     6psc%3D1&qualifier=1611487411&id=5533003305133...  None  \n",
       "4                                                  None  None  \n",
       "...                                                 ...   ...  \n",
       "4625                                               None  None  \n",
       "4626                                               None  None  \n",
       "4627                                               None  None  \n",
       "4628                                               None  None  \n",
       "4629                                               None  None  \n",
       "\n",
       "[4630 rows x 11 columns]"
      ],
      "text/html": "<div>\n<style scoped>\n    .dataframe tbody tr th:only-of-type {\n        vertical-align: middle;\n    }\n\n    .dataframe tbody tr th {\n        vertical-align: top;\n    }\n\n    .dataframe thead th {\n        text-align: right;\n    }\n</style>\n<table border=\"1\" class=\"dataframe\">\n  <thead>\n    <tr style=\"text-align: right;\">\n      <th></th>\n      <th>c1</th>\n      <th>c2</th>\n      <th>c3</th>\n      <th>d4</th>\n      <th>c5</th>\n      <th>c6</th>\n      <th>c7</th>\n      <th>c8</th>\n      <th>c9</th>\n      <th>c10</th>\n      <th>c11</th>\n    </tr>\n  </thead>\n  <tbody>\n    <tr>\n      <th>0</th>\n      <td>https://www.amazon.com/AMD-Ryzen-3600-12-Threa...</td>\n      <td>None</td>\n      <td>None</td>\n      <td>None</td>\n      <td>None</td>\n      <td>None</td>\n      <td>None</td>\n      <td>None</td>\n      <td>None</td>\n      <td>None</td>\n      <td>None</td>\n    </tr>\n    <tr>\n      <th>1</th>\n      <td>https://www.amazon.com/Intel-i9-9900K-Processo...</td>\n      <td>None</td>\n      <td>None</td>\n      <td>None</td>\n      <td>None</td>\n      <td>None</td>\n      <td>None</td>\n      <td>None</td>\n      <td>None</td>\n      <td>None</td>\n      <td>None</td>\n    </tr>\n    <tr>\n      <th>2</th>\n      <td>https://www.amazon.com/Intel-i7-9700K-Desktop-...</td>\n      <td>None</td>\n      <td>None</td>\n      <td>None</td>\n      <td>None</td>\n      <td>None</td>\n      <td>None</td>\n      <td>None</td>\n      <td>None</td>\n      <td>None</td>\n      <td>None</td>\n    </tr>\n    <tr>\n      <th>3</th>\n      <td>https://www.amazon.com/gp/slredirect/picassoRe...</td>\n      <td>FIndustrial-Fanless-Computer-Threads-i5-8500T</td>\n      <td>Fdp</td>\n      <td>FB08BKRZB4Z</td>\n      <td>Fref%3Dsr_1_5_sspa%3Fdchild%3D1</td>\n      <td>6keywords%3Dprocessor</td>\n      <td>6qid%3D1611487411</td>\n      <td>6s%3Delectronics</td>\n      <td>6sr%3D1-5-spons</td>\n      <td>6psc%3D1&amp;qualifier=1611487411&amp;id=5533003305133...</td>\n      <td>None</td>\n    </tr>\n    <tr>\n      <th>4</th>\n      <td>https://www.amazon.com/Intel-BX80684I99900KF-i...</td>\n      <td>None</td>\n      <td>None</td>\n      <td>None</td>\n      <td>None</td>\n      <td>None</td>\n      <td>None</td>\n      <td>None</td>\n      <td>None</td>\n      <td>None</td>\n      <td>None</td>\n    </tr>\n    <tr>\n      <th>...</th>\n      <td>...</td>\n      <td>...</td>\n      <td>...</td>\n      <td>...</td>\n      <td>...</td>\n      <td>...</td>\n      <td>...</td>\n      <td>...</td>\n      <td>...</td>\n      <td>...</td>\n      <td>...</td>\n    </tr>\n    <tr>\n      <th>4625</th>\n      <td>https://www.amazon.com/KEYESTUDIO-4-Channel-Sh...</td>\n      <td>None</td>\n      <td>None</td>\n      <td>None</td>\n      <td>None</td>\n      <td>None</td>\n      <td>None</td>\n      <td>None</td>\n      <td>None</td>\n      <td>None</td>\n      <td>None</td>\n    </tr>\n    <tr>\n      <th>4626</th>\n      <td>https://www.amazon.com/uxcell-Antistatic-Shiel...</td>\n      <td>None</td>\n      <td>None</td>\n      <td>None</td>\n      <td>None</td>\n      <td>None</td>\n      <td>None</td>\n      <td>None</td>\n      <td>None</td>\n      <td>None</td>\n      <td>None</td>\n    </tr>\n    <tr>\n      <th>4627</th>\n      <td>https://www.amazon.com/Razer-Blade-Studio-Lapt...</td>\n      <td>None</td>\n      <td>None</td>\n      <td>None</td>\n      <td>None</td>\n      <td>None</td>\n      <td>None</td>\n      <td>None</td>\n      <td>None</td>\n      <td>None</td>\n      <td>None</td>\n    </tr>\n    <tr>\n      <th>4628</th>\n      <td>https://www.amazon.com/YEELIYA-PCIe-Superspeed...</td>\n      <td>None</td>\n      <td>None</td>\n      <td>None</td>\n      <td>None</td>\n      <td>None</td>\n      <td>None</td>\n      <td>None</td>\n      <td>None</td>\n      <td>None</td>\n      <td>None</td>\n    </tr>\n    <tr>\n      <th>4629</th>\n      <td>https://www.amazon.com/ROG-Strix-B450-I-Gaming...</td>\n      <td>None</td>\n      <td>None</td>\n      <td>None</td>\n      <td>None</td>\n      <td>None</td>\n      <td>None</td>\n      <td>None</td>\n      <td>None</td>\n      <td>None</td>\n      <td>None</td>\n    </tr>\n  </tbody>\n</table>\n<p>4630 rows × 11 columns</p>\n</div>"
     },
     "metadata": {},
     "execution_count": 44
    }
   ],
   "source": [
    "# getting all values after %2\n",
    "\n",
    "cols = ['c1','c2','c3','d4','c5','c6','c7','c8','c9','c10','c11']\n",
    "make_me = []\n",
    "for url in urls:\n",
    "    lst = url.split(\"%2\")\n",
    "    make_me.append([x for x in lst if not x.isdigit() and not x == \"\"])\n",
    "    \n",
    "\n",
    "df4 = pd.DataFrame(make_me, columns=cols)\n",
    "df4"
   ]
  },
  {
   "cell_type": "code",
   "execution_count": 46,
   "metadata": {},
   "outputs": [
    {
     "output_type": "execute_result",
     "data": {
      "text/plain": [
       "FB08K4H1DT3    389\n",
       "FB07CG2PGY6    227\n",
       "FB08BKRZB4Z    115\n",
       "FB086C1PK2Y     83\n",
       "FB08BKRQHWQ     76\n",
       "FB08JLJFFRL      3\n",
       "Name: d4, dtype: int64"
      ]
     },
     "metadata": {},
     "execution_count": 46
    }
   ],
   "source": [
    "# The Asin is to be found in C4 this time, it seems that just 5 unique values are there. From a further anaylisis online  it seems that this products are repeated several times in the scraped urls as the products are sponsored.(the publisher must pay some kind of fee to have its products repeated over and over on top of all pages) \n",
    "\n",
    "abcd = df4['d4']\n",
    "abcd.value_counts()"
   ]
  },
  {
   "cell_type": "code",
   "execution_count": 47,
   "metadata": {},
   "outputs": [
    {
     "output_type": "execute_result",
     "data": {
      "text/plain": [
       "               d4\n",
       "0            None\n",
       "1            None\n",
       "2            None\n",
       "3     FB08BKRZB4Z\n",
       "4            None\n",
       "...           ...\n",
       "4625         None\n",
       "4626         None\n",
       "4627         None\n",
       "4628         None\n",
       "4629         None\n",
       "\n",
       "[4630 rows x 1 columns]"
      ],
      "text/html": "<div>\n<style scoped>\n    .dataframe tbody tr th:only-of-type {\n        vertical-align: middle;\n    }\n\n    .dataframe tbody tr th {\n        vertical-align: top;\n    }\n\n    .dataframe thead th {\n        text-align: right;\n    }\n</style>\n<table border=\"1\" class=\"dataframe\">\n  <thead>\n    <tr style=\"text-align: right;\">\n      <th></th>\n      <th>d4</th>\n    </tr>\n  </thead>\n  <tbody>\n    <tr>\n      <th>0</th>\n      <td>None</td>\n    </tr>\n    <tr>\n      <th>1</th>\n      <td>None</td>\n    </tr>\n    <tr>\n      <th>2</th>\n      <td>None</td>\n    </tr>\n    <tr>\n      <th>3</th>\n      <td>FB08BKRZB4Z</td>\n    </tr>\n    <tr>\n      <th>4</th>\n      <td>None</td>\n    </tr>\n    <tr>\n      <th>...</th>\n      <td>...</td>\n    </tr>\n    <tr>\n      <th>4625</th>\n      <td>None</td>\n    </tr>\n    <tr>\n      <th>4626</th>\n      <td>None</td>\n    </tr>\n    <tr>\n      <th>4627</th>\n      <td>None</td>\n    </tr>\n    <tr>\n      <th>4628</th>\n      <td>None</td>\n    </tr>\n    <tr>\n      <th>4629</th>\n      <td>None</td>\n    </tr>\n  </tbody>\n</table>\n<p>4630 rows × 1 columns</p>\n</div>"
     },
     "metadata": {},
     "execution_count": 47
    }
   ],
   "source": [
    "# Createing df from column of interest\n",
    "\n",
    "pd.DataFrame(abcd)"
   ]
  },
  {
   "cell_type": "code",
   "execution_count": 48,
   "metadata": {},
   "outputs": [
    {
     "output_type": "execute_result",
     "data": {
      "text/plain": [
       "                        c5          d4\n",
       "0               B07STGGQ18        None\n",
       "1               B089J731BX        None\n",
       "2               B07HHN6KBZ        None\n",
       "3     picassoRedirect.html  B08BKRZB4Z\n",
       "4               B07MGBZWDZ        None\n",
       "...                    ...         ...\n",
       "4625            B072XGF4Z3        None\n",
       "4626            B07PWW1853        None\n",
       "4627            B086MP21NF        None\n",
       "4628            B08GC6VFF2        None\n",
       "4629            B07FKTSWNG        None\n",
       "\n",
       "[4630 rows x 2 columns]"
      ],
      "text/html": "<div>\n<style scoped>\n    .dataframe tbody tr th:only-of-type {\n        vertical-align: middle;\n    }\n\n    .dataframe tbody tr th {\n        vertical-align: top;\n    }\n\n    .dataframe thead th {\n        text-align: right;\n    }\n</style>\n<table border=\"1\" class=\"dataframe\">\n  <thead>\n    <tr style=\"text-align: right;\">\n      <th></th>\n      <th>c5</th>\n      <th>d4</th>\n    </tr>\n  </thead>\n  <tbody>\n    <tr>\n      <th>0</th>\n      <td>B07STGGQ18</td>\n      <td>None</td>\n    </tr>\n    <tr>\n      <th>1</th>\n      <td>B089J731BX</td>\n      <td>None</td>\n    </tr>\n    <tr>\n      <th>2</th>\n      <td>B07HHN6KBZ</td>\n      <td>None</td>\n    </tr>\n    <tr>\n      <th>3</th>\n      <td>picassoRedirect.html</td>\n      <td>B08BKRZB4Z</td>\n    </tr>\n    <tr>\n      <th>4</th>\n      <td>B07MGBZWDZ</td>\n      <td>None</td>\n    </tr>\n    <tr>\n      <th>...</th>\n      <td>...</td>\n      <td>...</td>\n    </tr>\n    <tr>\n      <th>4625</th>\n      <td>B072XGF4Z3</td>\n      <td>None</td>\n    </tr>\n    <tr>\n      <th>4626</th>\n      <td>B07PWW1853</td>\n      <td>None</td>\n    </tr>\n    <tr>\n      <th>4627</th>\n      <td>B086MP21NF</td>\n      <td>None</td>\n    </tr>\n    <tr>\n      <th>4628</th>\n      <td>B08GC6VFF2</td>\n      <td>None</td>\n    </tr>\n    <tr>\n      <th>4629</th>\n      <td>B07FKTSWNG</td>\n      <td>None</td>\n    </tr>\n  </tbody>\n</table>\n<p>4630 rows × 2 columns</p>\n</div>"
     },
     "metadata": {},
     "execution_count": 48
    }
   ],
   "source": [
    "# The dfs containing the Asin are being concatenated \n",
    "# I have noticed that Asins all start with a B therefore I am removing the F\n",
    "\n",
    "abcde = pd.concat([abc, abcd], axis=1)\n",
    "abcde['d4'] = abcde['d4'].str[1:]\n",
    "abcde"
   ]
  },
  {
   "cell_type": "code",
   "execution_count": 34,
   "metadata": {},
   "outputs": [
    {
     "output_type": "execute_result",
     "data": {
      "text/plain": [
       "              c5          d4\n",
       "0     B07STGGQ18        None\n",
       "1     B089J731BX        None\n",
       "2     B07HHN6KBZ        None\n",
       "3     B08BKRZB4Z  B08BKRZB4Z\n",
       "4     B07MGBZWDZ        None\n",
       "...          ...         ...\n",
       "4625  B072XGF4Z3        None\n",
       "4626  B07PWW1853        None\n",
       "4627  B086MP21NF        None\n",
       "4628  B08GC6VFF2        None\n",
       "4629  B07FKTSWNG        None\n",
       "\n",
       "[4630 rows x 2 columns]"
      ],
      "text/html": "<div>\n<style scoped>\n    .dataframe tbody tr th:only-of-type {\n        vertical-align: middle;\n    }\n\n    .dataframe tbody tr th {\n        vertical-align: top;\n    }\n\n    .dataframe thead th {\n        text-align: right;\n    }\n</style>\n<table border=\"1\" class=\"dataframe\">\n  <thead>\n    <tr style=\"text-align: right;\">\n      <th></th>\n      <th>c5</th>\n      <th>d4</th>\n    </tr>\n  </thead>\n  <tbody>\n    <tr>\n      <th>0</th>\n      <td>B07STGGQ18</td>\n      <td>None</td>\n    </tr>\n    <tr>\n      <th>1</th>\n      <td>B089J731BX</td>\n      <td>None</td>\n    </tr>\n    <tr>\n      <th>2</th>\n      <td>B07HHN6KBZ</td>\n      <td>None</td>\n    </tr>\n    <tr>\n      <th>3</th>\n      <td>B08BKRZB4Z</td>\n      <td>B08BKRZB4Z</td>\n    </tr>\n    <tr>\n      <th>4</th>\n      <td>B07MGBZWDZ</td>\n      <td>None</td>\n    </tr>\n    <tr>\n      <th>...</th>\n      <td>...</td>\n      <td>...</td>\n    </tr>\n    <tr>\n      <th>4625</th>\n      <td>B072XGF4Z3</td>\n      <td>None</td>\n    </tr>\n    <tr>\n      <th>4626</th>\n      <td>B07PWW1853</td>\n      <td>None</td>\n    </tr>\n    <tr>\n      <th>4627</th>\n      <td>B086MP21NF</td>\n      <td>None</td>\n    </tr>\n    <tr>\n      <th>4628</th>\n      <td>B08GC6VFF2</td>\n      <td>None</td>\n    </tr>\n    <tr>\n      <th>4629</th>\n      <td>B07FKTSWNG</td>\n      <td>None</td>\n    </tr>\n  </tbody>\n</table>\n<p>4630 rows × 2 columns</p>\n</div>"
     },
     "metadata": {},
     "execution_count": 34
    }
   ],
   "source": [
    "# Replace data in C5 to have all Asins in one column\n",
    "\n",
    "abcde['c5'] = np.where(abcde['c5'] == 'picassoRedirect.html', abcde['d4'], abcde['c5'])\n",
    "abcde"
   ]
  },
  {
   "cell_type": "code",
   "execution_count": 35,
   "metadata": {},
   "outputs": [
    {
     "output_type": "execute_result",
     "data": {
      "text/plain": [
       "              c5\n",
       "0     B07STGGQ18\n",
       "1     B089J731BX\n",
       "2     B07HHN6KBZ\n",
       "3     B08BKRZB4Z\n",
       "4     B07MGBZWDZ\n",
       "...          ...\n",
       "4625  B072XGF4Z3\n",
       "4626  B07PWW1853\n",
       "4627  B086MP21NF\n",
       "4628  B08GC6VFF2\n",
       "4629  B07FKTSWNG\n",
       "\n",
       "[4630 rows x 1 columns]"
      ],
      "text/html": "<div>\n<style scoped>\n    .dataframe tbody tr th:only-of-type {\n        vertical-align: middle;\n    }\n\n    .dataframe tbody tr th {\n        vertical-align: top;\n    }\n\n    .dataframe thead th {\n        text-align: right;\n    }\n</style>\n<table border=\"1\" class=\"dataframe\">\n  <thead>\n    <tr style=\"text-align: right;\">\n      <th></th>\n      <th>c5</th>\n    </tr>\n  </thead>\n  <tbody>\n    <tr>\n      <th>0</th>\n      <td>B07STGGQ18</td>\n    </tr>\n    <tr>\n      <th>1</th>\n      <td>B089J731BX</td>\n    </tr>\n    <tr>\n      <th>2</th>\n      <td>B07HHN6KBZ</td>\n    </tr>\n    <tr>\n      <th>3</th>\n      <td>B08BKRZB4Z</td>\n    </tr>\n    <tr>\n      <th>4</th>\n      <td>B07MGBZWDZ</td>\n    </tr>\n    <tr>\n      <th>...</th>\n      <td>...</td>\n    </tr>\n    <tr>\n      <th>4625</th>\n      <td>B072XGF4Z3</td>\n    </tr>\n    <tr>\n      <th>4626</th>\n      <td>B07PWW1853</td>\n    </tr>\n    <tr>\n      <th>4627</th>\n      <td>B086MP21NF</td>\n    </tr>\n    <tr>\n      <th>4628</th>\n      <td>B08GC6VFF2</td>\n    </tr>\n    <tr>\n      <th>4629</th>\n      <td>B07FKTSWNG</td>\n    </tr>\n  </tbody>\n</table>\n<p>4630 rows × 1 columns</p>\n</div>"
     },
     "metadata": {},
     "execution_count": 35
    }
   ],
   "source": [
    "# drop the column that I won't be using\n",
    "\n",
    "search = abcde.drop(['d4'],axis=1)"
   ]
  },
  {
   "cell_type": "code",
   "execution_count": 36,
   "metadata": {},
   "outputs": [
    {
     "output_type": "execute_result",
     "data": {
      "text/plain": [
       "                                                   name  \\\n",
       "0     AMD Ryzen 5 3600 6-Core, 12-Thread Unlocked De...   \n",
       "1     Intel Core i9-9900K Desktop Processor 8 Cores ...   \n",
       "2     Intel Core i7-9700K Desktop Processor 8 Cores ...   \n",
       "3     Industrial Rugged Fanless Silent Mini PC Compu...   \n",
       "4     Intel BX80684I99900KF Intel Core i9-9900KF Des...   \n",
       "...                                                 ...   \n",
       "4625  KEYESTUDIO 5V DCAC 4-Channel Relay Shield Modu...   \n",
       "4626  uxcell Antistatic Shield Shielding Bag, Flat O...   \n",
       "4627  Razer Blade 15 Studio Edition Laptop 2020: Int...   \n",
       "4628  YEELIYA PCIe USB 3.0 Card Type C USB Card Supe...   \n",
       "4629  ASUS ROG Strix B450-I Gaming AMD AM4 (3rd/2nd ...   \n",
       "\n",
       "                                                    url  rating  review_count  \\\n",
       "0     https://www.amazon.com/AMD-Ryzen-3600-12-Threa...     4.9         24478   \n",
       "1     https://www.amazon.com/Intel-i9-9900K-Processo...     4.8           397   \n",
       "2     https://www.amazon.com/Intel-i7-9700K-Desktop-...     4.8          6344   \n",
       "3     https://www.amazon.com/gp/slredirect/picassoRe...     4.5             2   \n",
       "4     https://www.amazon.com/Intel-BX80684I99900KF-i...     4.6          1165   \n",
       "...                                                 ...     ...           ...   \n",
       "4625  https://www.amazon.com/KEYESTUDIO-4-Channel-Sh...     4.4            88   \n",
       "4626  https://www.amazon.com/uxcell-Antistatic-Shiel...     5.0             1   \n",
       "4627  https://www.amazon.com/Razer-Blade-Studio-Lapt...     4.5            13   \n",
       "4628  https://www.amazon.com/YEELIYA-PCIe-Superspeed...     4.0            22   \n",
       "4629  https://www.amazon.com/ROG-Strix-B450-I-Gaming...     4.6           560   \n",
       "\n",
       "        price product_type          c5  \n",
       "0      199.99    processor  B07STGGQ18  \n",
       "1      364.95    processor  B089J731BX  \n",
       "2      319.90    processor  B07HHN6KBZ  \n",
       "3      799.99    processor  B08BKRZB4Z  \n",
       "4      379.99    processor  B07MGBZWDZ  \n",
       "...       ...          ...         ...  \n",
       "4625     8.99    processor  B072XGF4Z3  \n",
       "4626    11.99    processor  B07PWW1853  \n",
       "4627  3799.99    processor  B086MP21NF  \n",
       "4628    27.99    processor  B08GC6VFF2  \n",
       "4629   271.00    processor  B07FKTSWNG  \n",
       "\n",
       "[4630 rows x 7 columns]"
      ],
      "text/html": "<div>\n<style scoped>\n    .dataframe tbody tr th:only-of-type {\n        vertical-align: middle;\n    }\n\n    .dataframe tbody tr th {\n        vertical-align: top;\n    }\n\n    .dataframe thead th {\n        text-align: right;\n    }\n</style>\n<table border=\"1\" class=\"dataframe\">\n  <thead>\n    <tr style=\"text-align: right;\">\n      <th></th>\n      <th>name</th>\n      <th>url</th>\n      <th>rating</th>\n      <th>review_count</th>\n      <th>price</th>\n      <th>product_type</th>\n      <th>c5</th>\n    </tr>\n  </thead>\n  <tbody>\n    <tr>\n      <th>0</th>\n      <td>AMD Ryzen 5 3600 6-Core, 12-Thread Unlocked De...</td>\n      <td>https://www.amazon.com/AMD-Ryzen-3600-12-Threa...</td>\n      <td>4.9</td>\n      <td>24478</td>\n      <td>199.99</td>\n      <td>processor</td>\n      <td>B07STGGQ18</td>\n    </tr>\n    <tr>\n      <th>1</th>\n      <td>Intel Core i9-9900K Desktop Processor 8 Cores ...</td>\n      <td>https://www.amazon.com/Intel-i9-9900K-Processo...</td>\n      <td>4.8</td>\n      <td>397</td>\n      <td>364.95</td>\n      <td>processor</td>\n      <td>B089J731BX</td>\n    </tr>\n    <tr>\n      <th>2</th>\n      <td>Intel Core i7-9700K Desktop Processor 8 Cores ...</td>\n      <td>https://www.amazon.com/Intel-i7-9700K-Desktop-...</td>\n      <td>4.8</td>\n      <td>6344</td>\n      <td>319.90</td>\n      <td>processor</td>\n      <td>B07HHN6KBZ</td>\n    </tr>\n    <tr>\n      <th>3</th>\n      <td>Industrial Rugged Fanless Silent Mini PC Compu...</td>\n      <td>https://www.amazon.com/gp/slredirect/picassoRe...</td>\n      <td>4.5</td>\n      <td>2</td>\n      <td>799.99</td>\n      <td>processor</td>\n      <td>B08BKRZB4Z</td>\n    </tr>\n    <tr>\n      <th>4</th>\n      <td>Intel BX80684I99900KF Intel Core i9-9900KF Des...</td>\n      <td>https://www.amazon.com/Intel-BX80684I99900KF-i...</td>\n      <td>4.6</td>\n      <td>1165</td>\n      <td>379.99</td>\n      <td>processor</td>\n      <td>B07MGBZWDZ</td>\n    </tr>\n    <tr>\n      <th>...</th>\n      <td>...</td>\n      <td>...</td>\n      <td>...</td>\n      <td>...</td>\n      <td>...</td>\n      <td>...</td>\n      <td>...</td>\n    </tr>\n    <tr>\n      <th>4625</th>\n      <td>KEYESTUDIO 5V DCAC 4-Channel Relay Shield Modu...</td>\n      <td>https://www.amazon.com/KEYESTUDIO-4-Channel-Sh...</td>\n      <td>4.4</td>\n      <td>88</td>\n      <td>8.99</td>\n      <td>processor</td>\n      <td>B072XGF4Z3</td>\n    </tr>\n    <tr>\n      <th>4626</th>\n      <td>uxcell Antistatic Shield Shielding Bag, Flat O...</td>\n      <td>https://www.amazon.com/uxcell-Antistatic-Shiel...</td>\n      <td>5.0</td>\n      <td>1</td>\n      <td>11.99</td>\n      <td>processor</td>\n      <td>B07PWW1853</td>\n    </tr>\n    <tr>\n      <th>4627</th>\n      <td>Razer Blade 15 Studio Edition Laptop 2020: Int...</td>\n      <td>https://www.amazon.com/Razer-Blade-Studio-Lapt...</td>\n      <td>4.5</td>\n      <td>13</td>\n      <td>3799.99</td>\n      <td>processor</td>\n      <td>B086MP21NF</td>\n    </tr>\n    <tr>\n      <th>4628</th>\n      <td>YEELIYA PCIe USB 3.0 Card Type C USB Card Supe...</td>\n      <td>https://www.amazon.com/YEELIYA-PCIe-Superspeed...</td>\n      <td>4.0</td>\n      <td>22</td>\n      <td>27.99</td>\n      <td>processor</td>\n      <td>B08GC6VFF2</td>\n    </tr>\n    <tr>\n      <th>4629</th>\n      <td>ASUS ROG Strix B450-I Gaming AMD AM4 (3rd/2nd ...</td>\n      <td>https://www.amazon.com/ROG-Strix-B450-I-Gaming...</td>\n      <td>4.6</td>\n      <td>560</td>\n      <td>271.00</td>\n      <td>processor</td>\n      <td>B07FKTSWNG</td>\n    </tr>\n  </tbody>\n</table>\n<p>4630 rows × 7 columns</p>\n</div>"
     },
     "metadata": {},
     "execution_count": 36
    }
   ],
   "source": [
    "# concatenate data to have all info in same df and change name to c5 column to Asin\n",
    "\n",
    "processor = pd.concat([df_pro, search], axis=1)\n",
    "processor"
   ]
  },
  {
   "cell_type": "code",
   "execution_count": 37,
   "metadata": {},
   "outputs": [
    {
     "output_type": "execute_result",
     "data": {
      "text/plain": [
       "                                                   name  \\\n",
       "0     AMD Ryzen 5 3600 6-Core, 12-Thread Unlocked De...   \n",
       "1     Intel Core i9-9900K Desktop Processor 8 Cores ...   \n",
       "2     Intel Core i7-9700K Desktop Processor 8 Cores ...   \n",
       "3     Industrial Rugged Fanless Silent Mini PC Compu...   \n",
       "4     Intel BX80684I99900KF Intel Core i9-9900KF Des...   \n",
       "...                                                 ...   \n",
       "4625  KEYESTUDIO 5V DCAC 4-Channel Relay Shield Modu...   \n",
       "4626  uxcell Antistatic Shield Shielding Bag, Flat O...   \n",
       "4627  Razer Blade 15 Studio Edition Laptop 2020: Int...   \n",
       "4628  YEELIYA PCIe USB 3.0 Card Type C USB Card Supe...   \n",
       "4629  ASUS ROG Strix B450-I Gaming AMD AM4 (3rd/2nd ...   \n",
       "\n",
       "                                                    url  rating  review_count  \\\n",
       "0     https://www.amazon.com/AMD-Ryzen-3600-12-Threa...     4.9         24478   \n",
       "1     https://www.amazon.com/Intel-i9-9900K-Processo...     4.8           397   \n",
       "2     https://www.amazon.com/Intel-i7-9700K-Desktop-...     4.8          6344   \n",
       "3     https://www.amazon.com/gp/slredirect/picassoRe...     4.5             2   \n",
       "4     https://www.amazon.com/Intel-BX80684I99900KF-i...     4.6          1165   \n",
       "...                                                 ...     ...           ...   \n",
       "4625  https://www.amazon.com/KEYESTUDIO-4-Channel-Sh...     4.4            88   \n",
       "4626  https://www.amazon.com/uxcell-Antistatic-Shiel...     5.0             1   \n",
       "4627  https://www.amazon.com/Razer-Blade-Studio-Lapt...     4.5            13   \n",
       "4628  https://www.amazon.com/YEELIYA-PCIe-Superspeed...     4.0            22   \n",
       "4629  https://www.amazon.com/ROG-Strix-B450-I-Gaming...     4.6           560   \n",
       "\n",
       "        price product_type        ASIN  \n",
       "0      199.99    processor  B07STGGQ18  \n",
       "1      364.95    processor  B089J731BX  \n",
       "2      319.90    processor  B07HHN6KBZ  \n",
       "3      799.99    processor  B08BKRZB4Z  \n",
       "4      379.99    processor  B07MGBZWDZ  \n",
       "...       ...          ...         ...  \n",
       "4625     8.99    processor  B072XGF4Z3  \n",
       "4626    11.99    processor  B07PWW1853  \n",
       "4627  3799.99    processor  B086MP21NF  \n",
       "4628    27.99    processor  B08GC6VFF2  \n",
       "4629   271.00    processor  B07FKTSWNG  \n",
       "\n",
       "[4630 rows x 7 columns]"
      ],
      "text/html": "<div>\n<style scoped>\n    .dataframe tbody tr th:only-of-type {\n        vertical-align: middle;\n    }\n\n    .dataframe tbody tr th {\n        vertical-align: top;\n    }\n\n    .dataframe thead th {\n        text-align: right;\n    }\n</style>\n<table border=\"1\" class=\"dataframe\">\n  <thead>\n    <tr style=\"text-align: right;\">\n      <th></th>\n      <th>name</th>\n      <th>url</th>\n      <th>rating</th>\n      <th>review_count</th>\n      <th>price</th>\n      <th>product_type</th>\n      <th>ASIN</th>\n    </tr>\n  </thead>\n  <tbody>\n    <tr>\n      <th>0</th>\n      <td>AMD Ryzen 5 3600 6-Core, 12-Thread Unlocked De...</td>\n      <td>https://www.amazon.com/AMD-Ryzen-3600-12-Threa...</td>\n      <td>4.9</td>\n      <td>24478</td>\n      <td>199.99</td>\n      <td>processor</td>\n      <td>B07STGGQ18</td>\n    </tr>\n    <tr>\n      <th>1</th>\n      <td>Intel Core i9-9900K Desktop Processor 8 Cores ...</td>\n      <td>https://www.amazon.com/Intel-i9-9900K-Processo...</td>\n      <td>4.8</td>\n      <td>397</td>\n      <td>364.95</td>\n      <td>processor</td>\n      <td>B089J731BX</td>\n    </tr>\n    <tr>\n      <th>2</th>\n      <td>Intel Core i7-9700K Desktop Processor 8 Cores ...</td>\n      <td>https://www.amazon.com/Intel-i7-9700K-Desktop-...</td>\n      <td>4.8</td>\n      <td>6344</td>\n      <td>319.90</td>\n      <td>processor</td>\n      <td>B07HHN6KBZ</td>\n    </tr>\n    <tr>\n      <th>3</th>\n      <td>Industrial Rugged Fanless Silent Mini PC Compu...</td>\n      <td>https://www.amazon.com/gp/slredirect/picassoRe...</td>\n      <td>4.5</td>\n      <td>2</td>\n      <td>799.99</td>\n      <td>processor</td>\n      <td>B08BKRZB4Z</td>\n    </tr>\n    <tr>\n      <th>4</th>\n      <td>Intel BX80684I99900KF Intel Core i9-9900KF Des...</td>\n      <td>https://www.amazon.com/Intel-BX80684I99900KF-i...</td>\n      <td>4.6</td>\n      <td>1165</td>\n      <td>379.99</td>\n      <td>processor</td>\n      <td>B07MGBZWDZ</td>\n    </tr>\n    <tr>\n      <th>...</th>\n      <td>...</td>\n      <td>...</td>\n      <td>...</td>\n      <td>...</td>\n      <td>...</td>\n      <td>...</td>\n      <td>...</td>\n    </tr>\n    <tr>\n      <th>4625</th>\n      <td>KEYESTUDIO 5V DCAC 4-Channel Relay Shield Modu...</td>\n      <td>https://www.amazon.com/KEYESTUDIO-4-Channel-Sh...</td>\n      <td>4.4</td>\n      <td>88</td>\n      <td>8.99</td>\n      <td>processor</td>\n      <td>B072XGF4Z3</td>\n    </tr>\n    <tr>\n      <th>4626</th>\n      <td>uxcell Antistatic Shield Shielding Bag, Flat O...</td>\n      <td>https://www.amazon.com/uxcell-Antistatic-Shiel...</td>\n      <td>5.0</td>\n      <td>1</td>\n      <td>11.99</td>\n      <td>processor</td>\n      <td>B07PWW1853</td>\n    </tr>\n    <tr>\n      <th>4627</th>\n      <td>Razer Blade 15 Studio Edition Laptop 2020: Int...</td>\n      <td>https://www.amazon.com/Razer-Blade-Studio-Lapt...</td>\n      <td>4.5</td>\n      <td>13</td>\n      <td>3799.99</td>\n      <td>processor</td>\n      <td>B086MP21NF</td>\n    </tr>\n    <tr>\n      <th>4628</th>\n      <td>YEELIYA PCIe USB 3.0 Card Type C USB Card Supe...</td>\n      <td>https://www.amazon.com/YEELIYA-PCIe-Superspeed...</td>\n      <td>4.0</td>\n      <td>22</td>\n      <td>27.99</td>\n      <td>processor</td>\n      <td>B08GC6VFF2</td>\n    </tr>\n    <tr>\n      <th>4629</th>\n      <td>ASUS ROG Strix B450-I Gaming AMD AM4 (3rd/2nd ...</td>\n      <td>https://www.amazon.com/ROG-Strix-B450-I-Gaming...</td>\n      <td>4.6</td>\n      <td>560</td>\n      <td>271.00</td>\n      <td>processor</td>\n      <td>B07FKTSWNG</td>\n    </tr>\n  </tbody>\n</table>\n<p>4630 rows × 7 columns</p>\n</div>"
     },
     "metadata": {},
     "execution_count": 37
    }
   ],
   "source": [
    "processor = processor.rename(columns={\"c5\":\"ASIN\"})"
   ]
  },
  {
   "cell_type": "code",
   "execution_count": 38,
   "metadata": {},
   "outputs": [
    {
     "output_type": "execute_result",
     "data": {
      "text/plain": [
       "name            0\n",
       "url             0\n",
       "rating          0\n",
       "review_count    0\n",
       "price           0\n",
       "product_type    0\n",
       "ASIN            0\n",
       "dtype: int64"
      ]
     },
     "metadata": {},
     "execution_count": 38
    }
   ],
   "source": [
    "# Final check on null data\n",
    "\n",
    "processor.isnull().sum()"
   ]
  },
  {
   "cell_type": "code",
   "execution_count": 39,
   "metadata": {},
   "outputs": [
    {
     "output_type": "execute_result",
     "data": {
      "text/plain": [
       "            ASIN                                               name  rating  \\\n",
       "0     B07STGGQ18  AMD Ryzen 5 3600 6-Core, 12-Thread Unlocked De...     4.9   \n",
       "1     B089J731BX  Intel Core i9-9900K Desktop Processor 8 Cores ...     4.8   \n",
       "2     B07HHN6KBZ  Intel Core i7-9700K Desktop Processor 8 Cores ...     4.8   \n",
       "3     B08BKRZB4Z  Industrial Rugged Fanless Silent Mini PC Compu...     4.5   \n",
       "4     B07MGBZWDZ  Intel BX80684I99900KF Intel Core i9-9900KF Des...     4.6   \n",
       "...          ...                                                ...     ...   \n",
       "4625  B072XGF4Z3  KEYESTUDIO 5V DCAC 4-Channel Relay Shield Modu...     4.4   \n",
       "4626  B07PWW1853  uxcell Antistatic Shield Shielding Bag, Flat O...     5.0   \n",
       "4627  B086MP21NF  Razer Blade 15 Studio Edition Laptop 2020: Int...     4.5   \n",
       "4628  B08GC6VFF2  YEELIYA PCIe USB 3.0 Card Type C USB Card Supe...     4.0   \n",
       "4629  B07FKTSWNG  ASUS ROG Strix B450-I Gaming AMD AM4 (3rd/2nd ...     4.6   \n",
       "\n",
       "      review_count    price product_type  \n",
       "0            24478   199.99    processor  \n",
       "1              397   364.95    processor  \n",
       "2             6344   319.90    processor  \n",
       "3                2   799.99    processor  \n",
       "4             1165   379.99    processor  \n",
       "...            ...      ...          ...  \n",
       "4625            88     8.99    processor  \n",
       "4626             1    11.99    processor  \n",
       "4627            13  3799.99    processor  \n",
       "4628            22    27.99    processor  \n",
       "4629           560   271.00    processor  \n",
       "\n",
       "[4630 rows x 6 columns]"
      ],
      "text/html": "<div>\n<style scoped>\n    .dataframe tbody tr th:only-of-type {\n        vertical-align: middle;\n    }\n\n    .dataframe tbody tr th {\n        vertical-align: top;\n    }\n\n    .dataframe thead th {\n        text-align: right;\n    }\n</style>\n<table border=\"1\" class=\"dataframe\">\n  <thead>\n    <tr style=\"text-align: right;\">\n      <th></th>\n      <th>ASIN</th>\n      <th>name</th>\n      <th>rating</th>\n      <th>review_count</th>\n      <th>price</th>\n      <th>product_type</th>\n    </tr>\n  </thead>\n  <tbody>\n    <tr>\n      <th>0</th>\n      <td>B07STGGQ18</td>\n      <td>AMD Ryzen 5 3600 6-Core, 12-Thread Unlocked De...</td>\n      <td>4.9</td>\n      <td>24478</td>\n      <td>199.99</td>\n      <td>processor</td>\n    </tr>\n    <tr>\n      <th>1</th>\n      <td>B089J731BX</td>\n      <td>Intel Core i9-9900K Desktop Processor 8 Cores ...</td>\n      <td>4.8</td>\n      <td>397</td>\n      <td>364.95</td>\n      <td>processor</td>\n    </tr>\n    <tr>\n      <th>2</th>\n      <td>B07HHN6KBZ</td>\n      <td>Intel Core i7-9700K Desktop Processor 8 Cores ...</td>\n      <td>4.8</td>\n      <td>6344</td>\n      <td>319.90</td>\n      <td>processor</td>\n    </tr>\n    <tr>\n      <th>3</th>\n      <td>B08BKRZB4Z</td>\n      <td>Industrial Rugged Fanless Silent Mini PC Compu...</td>\n      <td>4.5</td>\n      <td>2</td>\n      <td>799.99</td>\n      <td>processor</td>\n    </tr>\n    <tr>\n      <th>4</th>\n      <td>B07MGBZWDZ</td>\n      <td>Intel BX80684I99900KF Intel Core i9-9900KF Des...</td>\n      <td>4.6</td>\n      <td>1165</td>\n      <td>379.99</td>\n      <td>processor</td>\n    </tr>\n    <tr>\n      <th>...</th>\n      <td>...</td>\n      <td>...</td>\n      <td>...</td>\n      <td>...</td>\n      <td>...</td>\n      <td>...</td>\n    </tr>\n    <tr>\n      <th>4625</th>\n      <td>B072XGF4Z3</td>\n      <td>KEYESTUDIO 5V DCAC 4-Channel Relay Shield Modu...</td>\n      <td>4.4</td>\n      <td>88</td>\n      <td>8.99</td>\n      <td>processor</td>\n    </tr>\n    <tr>\n      <th>4626</th>\n      <td>B07PWW1853</td>\n      <td>uxcell Antistatic Shield Shielding Bag, Flat O...</td>\n      <td>5.0</td>\n      <td>1</td>\n      <td>11.99</td>\n      <td>processor</td>\n    </tr>\n    <tr>\n      <th>4627</th>\n      <td>B086MP21NF</td>\n      <td>Razer Blade 15 Studio Edition Laptop 2020: Int...</td>\n      <td>4.5</td>\n      <td>13</td>\n      <td>3799.99</td>\n      <td>processor</td>\n    </tr>\n    <tr>\n      <th>4628</th>\n      <td>B08GC6VFF2</td>\n      <td>YEELIYA PCIe USB 3.0 Card Type C USB Card Supe...</td>\n      <td>4.0</td>\n      <td>22</td>\n      <td>27.99</td>\n      <td>processor</td>\n    </tr>\n    <tr>\n      <th>4629</th>\n      <td>B07FKTSWNG</td>\n      <td>ASUS ROG Strix B450-I Gaming AMD AM4 (3rd/2nd ...</td>\n      <td>4.6</td>\n      <td>560</td>\n      <td>271.00</td>\n      <td>processor</td>\n    </tr>\n  </tbody>\n</table>\n<p>4630 rows × 6 columns</p>\n</div>"
     },
     "metadata": {},
     "execution_count": 39
    }
   ],
   "source": [
    "# Reorder column to Asin as first feature\n",
    "\n",
    "processor= processor[['ASIN', 'name', 'rating', 'review_count', 'price', 'product_type']]\n",
    "processor"
   ]
  },
  {
   "cell_type": "code",
   "execution_count": 40,
   "metadata": {},
   "outputs": [],
   "source": [
    "# Finally drop all Asin that are duplicated\n",
    "\n",
    "processor.drop_duplicates(subset=\"ASIN\", inplace=True)"
   ]
  },
  {
   "cell_type": "code",
   "execution_count": 42,
   "metadata": {},
   "outputs": [],
   "source": [
    "processor.to_csv(r\"C:\\Users\\Davide Della Valle\\Desktop\\CAB\\Project 3\\CAB-headphones\\processor.csv\", index=False)"
   ]
  },
  {
   "cell_type": "code",
   "execution_count": null,
   "metadata": {},
   "outputs": [],
   "source": []
  }
 ]
}